{
  "nbformat": 4,
  "nbformat_minor": 0,
  "metadata": {
    "colab": {
      "provenance": [],
      "authorship_tag": "ABX9TyNhc+Fw3DMcZy1iSbHV8UmV",
      "include_colab_link": true
    },
    "kernelspec": {
      "name": "python3",
      "display_name": "Python 3"
    },
    "language_info": {
      "name": "python"
    }
  },
  "cells": [
    {
      "cell_type": "markdown",
      "metadata": {
        "id": "view-in-github",
        "colab_type": "text"
      },
      "source": [
        "<a href=\"https://colab.research.google.com/github/dgromann/Programmieren_fuer_Translator_innen_2024S/blob/main/notebooks/LV3_Zweite_Praktische_%C3%9Cbung.ipynb\" target=\"_parent\"><img src=\"https://colab.research.google.com/assets/colab-badge.svg\" alt=\"Open In Colab\"/></a>"
      ]
    },
    {
      "cell_type": "markdown",
      "source": [
        "# **2024S: Einführung ins Programmieren für Translator:innen, Übung (UE), 340273-1**"
      ],
      "metadata": {
        "id": "6zdA0ilhmmAU"
      }
    },
    {
      "cell_type": "markdown",
      "source": [
        "## **2. Praktische Übung: Einige Beispiele für Python**\n",
        "\n",
        "Dieses Notebook stellt die zweite praktische Übung vor, die dazu dient einige einfache Aufgaben in Python zu lösen.\n"
      ],
      "metadata": {
        "id": "uL84K4wIpWbM"
      }
    },
    {
      "cell_type": "markdown",
      "source": [
        "👋 ⚒ **Aufgabe** 👋 ⚒ <br>\n",
        "Berechnen Sie wieviele Eier insgesamt für die geplante Anzahl von Kuchen benötigt werden, wenn jeder Kuchen drei Eier benötigt, und geben Sie das Ergebnis aus (print)."
      ],
      "metadata": {
        "id": "mlS1YoJfrELl"
      }
    },
    {
      "cell_type": "code",
      "source": [
        "eggs_per_cake = 3\n",
        "number_of_cakes = 10\n",
        "# Fügen Sie hier Ihren Code ein"
      ],
      "metadata": {
        "id": "9EDyAJ-krqxY"
      },
      "execution_count": null,
      "outputs": []
    },
    {
      "cell_type": "markdown",
      "source": [
        "👋 ⚒ **Aufgabe** 👋 ⚒ <br>\n",
        "Erstellen Sie eine Variable mit Ihrem Vornamen, kombinieren Sie diese mit der Variable `word1` und geben Sie die Kombination als Ergebnis aus."
      ],
      "metadata": {
        "id": "I2mXruJnqf0A"
      }
    },
    {
      "cell_type": "code",
      "execution_count": null,
      "metadata": {
        "id": "LwrowOhomcgO"
      },
      "outputs": [],
      "source": [
        "word1 = \"Mein Name ist\"\n",
        "# Fügen Sie hier Ihren Code ein"
      ]
    },
    {
      "cell_type": "markdown",
      "source": [
        "👋 ⚒ **Aufgabe** 👋 ⚒ <br>\n",
        "Überprüfen Sie automatisch ob die Schwester älter oder jünger als der Bruder ist. Dafür benötigen Sie bereits eine `if`-Anweisung. Geben Sie das Ergebnis der Übrprüfung aus, indem Sie sagen \"Ja die Schwester ist älter als der Bruder\" oder \"Nein die Schwester ist jünger als der Bruder\"."
      ],
      "metadata": {
        "id": "g9VEphoVsUOo"
      }
    },
    {
      "cell_type": "code",
      "source": [
        "sister = 15\n",
        "brother = 18\n",
        "# Fügen Sie hier Ihren Code ein"
      ],
      "metadata": {
        "id": "NYmYEabKsW0o"
      },
      "execution_count": null,
      "outputs": []
    },
    {
      "cell_type": "markdown",
      "source": [
        "👋 ⚒ **Aufgabe** 👋 ⚒ <br>\n",
        "Wie müßten Sie den Code der vorherigen Aufgabe anpassen, um zu überprüfen ob beide Geschwister gleich alt sind?"
      ],
      "metadata": {
        "id": "wz4fwq-UtAcc"
      }
    },
    {
      "cell_type": "code",
      "source": [
        "sister1 = 15\n",
        "brother2 = 15\n",
        "# Fügen Sie hier Ihren Code ein"
      ],
      "metadata": {
        "id": "jMk9mNvctkC6"
      },
      "execution_count": null,
      "outputs": []
    },
    {
      "cell_type": "markdown",
      "source": [
        "👋 ⚒ **Aufgabe** 👋 ⚒ <br>\n",
        "Wie muss der folgende Code angepasst werden, um zu überprüfen ob die Raumtemperatur angenehm über 20 aber unter 35 Grad Celsius liegt?\n",
        "\n",
        "Wenn die Temperatur über 20 und unter 25 Grad liegt, sollte ausgegeben werden, dass die Temperatur angenehme ist."
      ],
      "metadata": {
        "id": "PU5tgGXmtsAb"
      }
    },
    {
      "cell_type": "code",
      "source": [
        "temperature = 25\n",
        "if temperature > 26 and temperature < 27:\n",
        "  print(\"Die Raumtemperatur mit\", temperature, \"Grad Celsius ist angenehm.\")\n",
        "else:\n",
        "  print(\"Die Raumtemperatur mit\", temperature, \"Grad Celsius muss angepasst werden.\")"
      ],
      "metadata": {
        "id": "rYEu5WlVuD8_"
      },
      "execution_count": null,
      "outputs": []
    },
    {
      "cell_type": "markdown",
      "source": [
        "👋 ⚒ **Aufgabe** 👋 ⚒ <br>\n",
        "Überprüfen Sie automatisch ob \"Sandra\" in der Liste der Schüler*innen `pupils` enthalten ist und geben Sie eine entsprechende Benachrichtigung aus."
      ],
      "metadata": {
        "id": "j7frMEHguvCQ"
      }
    },
    {
      "cell_type": "code",
      "source": [
        "new_name = [\"Sandra\"]\n",
        "pupils = [\"Harry\", \"Ron\", \"Hermine\", \"Lavender\", \"Seamus\",  \"Neville\", \"Parvati\", \"Dean\"]\n",
        "# Fügen Sie hier Ihren Code ein"
      ],
      "metadata": {
        "id": "JGYt6uauuuiB"
      },
      "execution_count": null,
      "outputs": []
    },
    {
      "cell_type": "markdown",
      "source": [
        "👋 ⚒ **Aufgabe** 👋 ⚒ <br>\n",
        "Wenn \"Sandra\" nicht in der Liste `pupils` ist, fügen Sie Sandra der Liste hinzu."
      ],
      "metadata": {
        "id": "SFZBz2Lc1vcj"
      }
    },
    {
      "cell_type": "code",
      "source": [
        "# Fügen Sie hier Ihren Code ein"
      ],
      "metadata": {
        "id": "iIdS8L051uh5"
      },
      "execution_count": null,
      "outputs": []
    },
    {
      "cell_type": "markdown",
      "source": [
        "👋 ⚒ **Aufgabe** 👋 ⚒ <br>\n",
        "Begrüßen Sie alle Schüler*innen in der Liste `pupils` mit `Hallo`+ Vorname und geben Sie die Begrüßung für jede Person auf einer Zeile aus (`for`-Schleife).\n",
        "\n",
        "Die Ausgabe sollte wie folgend sein:\n",
        "```\n",
        "Hallo Harry\n",
        "Hallo Ron\n",
        "Hallo Hermine\n",
        "...\n",
        "```\n",
        "\n"
      ],
      "metadata": {
        "id": "nGECuVVeydNE"
      }
    },
    {
      "cell_type": "code",
      "source": [
        "# Fügen Sie hier Ihren Code ein"
      ],
      "metadata": {
        "id": "SsWYL8mxyxvd"
      },
      "execution_count": null,
      "outputs": []
    },
    {
      "cell_type": "markdown",
      "source": [
        "👋 ⚒ **Aufgabe** 👋 ⚒ <br>\n",
        "Geben Sie alle Namen der Liste `pupils`aus, die mit einem `H` beginnen.\n"
      ],
      "metadata": {
        "id": "KsHeSL1Uz5MF"
      }
    },
    {
      "cell_type": "code",
      "source": [
        "# Fügen Sie hier Ihren Code ein"
      ],
      "metadata": {
        "id": "v8anBrtrz3-h"
      },
      "execution_count": null,
      "outputs": []
    },
    {
      "cell_type": "markdown",
      "source": [
        "👋 ⚒ **Aufgabe** 👋 ⚒ <br>\n",
        "Im folgenden Dictionary `harrys_data` mit den Keys \"name\", \"surname\", \"age\", \"house\" haben sich zwei Fehler eingeschlichen: \"surname\" sollte den Wert \"Potter\" haben und \"age\" sollte 14 und nicht 11 sein.\n",
        "\n",
        "Verbessern Sie diese beiden Fehler im Dictionary `harrys_data`. Anstelle von Zahlen als Index, kann bei einem Dictionary der Name des Keys direct verwendet werden, z. B. `print(harrys_data[”name\"])` gibt den Namen \"Harry\" aus.\n"
      ],
      "metadata": {
        "id": "wz0O7clx0JYj"
      }
    },
    {
      "cell_type": "code",
      "source": [
        "harrys_data = {\n",
        "  \"name\" : \"Harry\",\n",
        "  \"surname\": \"Poter\",\n",
        "  \"age\": 11,\n",
        "  \"house\": \"Gryffindors\",\n",
        "  }\n",
        "\n",
        "# Fügen Sie hier Ihren Code ein\n",
        "\n",
        "print(harrys_data)"
      ],
      "metadata": {
        "id": "2sjp_VV70e4S"
      },
      "execution_count": null,
      "outputs": []
    },
    {
      "cell_type": "markdown",
      "source": [
        "👋 ⚒ **Aufgabe** 👋 ⚒ <br>\n",
        "Verstollständigen Sie die Funktion `longest_word`, welche die Länge aller Wörter im Satz `sentence` (split()) überprüft und das längste Wort zurück gibt.\n",
        "\n"
      ],
      "metadata": {
        "id": "JGfDxUNPxmso"
      }
    },
    {
      "cell_type": "code",
      "source": [
        "def find_longest_word(sentence):\n",
        "  # Das ist eine derzeit leere String-Variable\n",
        "  longest_word = \"\"\n",
        "  # Verwenden Sie split() um die einzelnen Wörter im Satz sentence zu finden\n",
        "  words_in_sentence =\n",
        "  max_length = 0\n",
        "\n",
        "  # Schreiben Sie hier eine for-Schleife für die Liste words_in_sentence\n",
        "  # Überprüfen Sie ob die Länge des Wortes länger als max_length ist\n",
        "  # Da max_length zu Beginn 0 ist, ist die Länge von \"Das\" länger\n",
        "  # Damit muss die neue max_length auf die Länge von \"Das\" angepasst werden\n",
        "  # Dann sollte noch \"Das\" als Wert von \"longest_word\" gespeichert werden, da es\n",
        "  # das derzeit längste Wort ist\n",
        "  # Der Vorgang sollte für jedes Wort, dass länger ist wiederholt werden\n",
        "\n",
        "  return longest_word\n",
        "\n",
        "sentence = \"Das ist nur ein einfaches Beispiel.\"\n",
        "\n",
        "find_longest_word(sentence)"
      ],
      "metadata": {
        "id": "g5Z8X2lIxm2B"
      },
      "execution_count": null,
      "outputs": []
    }
  ]
}