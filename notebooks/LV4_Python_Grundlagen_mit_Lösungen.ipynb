{
  "nbformat": 4,
  "nbformat_minor": 0,
  "metadata": {
    "colab": {
      "provenance": [],
      "authorship_tag": "ABX9TyOgLYetDEasGA+sbz5+iMCQ",
      "include_colab_link": true
    },
    "kernelspec": {
      "name": "python3",
      "display_name": "Python 3"
    },
    "language_info": {
      "name": "python"
    }
  },
  "cells": [
    {
      "cell_type": "markdown",
      "metadata": {
        "id": "view-in-github",
        "colab_type": "text"
      },
      "source": [
        "<a href=\"https://colab.research.google.com/github/dgromann/Programmieren_fuer_Translator_innen_2024S/blob/main/notebooks/LV4_Python_Grundlagen_mit_L%C3%B6sungen.ipynb\" target=\"_parent\"><img src=\"https://colab.research.google.com/assets/colab-badge.svg\" alt=\"Open In Colab\"/></a>"
      ]
    },
    {
      "cell_type": "markdown",
      "source": [
        "# **2024S: Einführung ins Programmieren für Translator:innen, Übung (UE), 340273-1**\n",
        "\n",
        "### **Speichern Sie dieses Notebook**\n",
        "\n",
        "Dieses Notebook können Sie jederzeit und in jedem Browser erneut von GitHub (bzw. dem direkten Link in Moodle) öffnen. Um jedoch Ihre eigenen Lösungen und Ihren Code zu speichern, wählen Sie bitte **Datei** bzw. **File** und eine der Speicheroptionen. Die einfachste Speicheroption ist in Google Drive, da dadurch Änderungen im Notebook automatisch im Hintergrund gespeichert werden.\n",
        "\n",
        "Für die Abgabe der praktischen Übungen müssen Sie jedoch das Jupyter-Notebook als .ipynb Datei herunterladen. Dazu klicken Sie auf **Datei** oder **File** und **Herunterladen** oder **Download** und wählen das Format .ipynb aus."
      ],
      "metadata": {
        "id": "dKCEAFZV7zSy"
      }
    },
    {
      "cell_type": "markdown",
      "source": [
        "### **Notation des Notebooks**\n",
        "\n",
        "Fragen und praktische Aufgaben werden hier als ❓**Frage**❓ bzw. 👋 ⚒ **Aufgabe** 👋 ⚒ gekennzeichnet. ❓**Fragen**❓ fordern Sie dazu auf Überlegungen anzustellen bevor Sie etwas praktisch testen. 👋 ⚒ **Aufgaben** 👋 ⚒ erfordern das aktive Schreiben von Code in der grauen Code-Zelle nach der Beschreibung der Aufgabe.\n"
      ],
      "metadata": {
        "id": "T75MPoqc7-cC"
      }
    },
    {
      "cell_type": "markdown",
      "source": [
        "-----------\n",
        "## **Lektion 8: Python üben**\n",
        "\n",
        "In dieser Lektion üben wir nochmals die `for`-Schleife, `if`-Anweisungen und Funktionen sowie den Datentyp Liste und Dictionary."
      ],
      "metadata": {
        "id": "-oWMvBJ3766f"
      }
    },
    {
      "cell_type": "markdown",
      "source": [
        "👋 ⚒ **Aufgaben** 👋 ⚒ <br>\n",
        "Erstellen Sie eine `for`-Schleife die jedes Wort aus der nachstehenden Liste ausgibt, dass exakt fünf Buchstaben hat, und alle anderen Wörter nicht ausgibt."
      ],
      "metadata": {
        "id": "IHxqTafgJ_Sc"
      }
    },
    {
      "cell_type": "code",
      "source": [
        "fruits = [\"apple\", \"banana\", \"grape\", \"kiwi\", \"mango\", \"orange\", \"lemon\"]\n",
        "# Fügen Sie hier Ihren Code hier ein"
      ],
      "metadata": {
        "id": "FxAbMeK-LKfL"
      },
      "execution_count": 1,
      "outputs": []
    },
    {
      "cell_type": "markdown",
      "source": [
        "Eine `for`-Schleife kann an einem bestimmten Punkt unterbrochen werden. Hier zum Beispiel brechen wir das Durchlaufen der Liste ab, sobald das Listenelement \"kiwi\" erreicht wurde."
      ],
      "metadata": {
        "id": "ZrTFhb6NO-40"
      }
    },
    {
      "cell_type": "code",
      "source": [
        "for fruit in fruits:\n",
        "  print(fruit)\n",
        "  if fruit == \"kiwi\":\n",
        "    break"
      ],
      "metadata": {
        "id": "s2kV6xwcPC2f",
        "colab": {
          "base_uri": "https://localhost:8080/"
        },
        "outputId": "dd8a5076-e2de-42d8-db85-a819977a9b60"
      },
      "execution_count": 2,
      "outputs": [
        {
          "output_type": "stream",
          "name": "stdout",
          "text": [
            "apple\n",
            "banana\n",
            "grape\n",
            "kiwi\n"
          ]
        }
      ]
    },
    {
      "cell_type": "markdown",
      "source": [
        "❓**Frage**❓<br>\n",
        "Wie ändert sich die Ausgabe wenn die Zeile mit der `print`-Ausgabe innerhalb der `if`-Anweisung steht?"
      ],
      "metadata": {
        "id": "thMKh3B_QTig"
      }
    },
    {
      "cell_type": "code",
      "source": [
        "for fruit in fruits:\n",
        "  if fruit == \"kiwi\":\n",
        "    print(fruit)\n",
        "    break"
      ],
      "metadata": {
        "id": "dyoYKTOrQhqk",
        "colab": {
          "base_uri": "https://localhost:8080/"
        },
        "outputId": "9e30730f-1165-4a28-be2e-d37591001eb6"
      },
      "execution_count": 3,
      "outputs": [
        {
          "output_type": "stream",
          "name": "stdout",
          "text": [
            "kiwi\n"
          ]
        }
      ]
    },
    {
      "cell_type": "markdown",
      "source": [
        "Eine Programmbibliothek, die es erlaubt zufällige Zahlen zu generieren, heißt `random`. Wir können mit `random.randint(1,6)` Zahlen zwischen 1 und 6 generieren und damit beispielsweise den Wurf eines Würfels simulieren.\n",
        "\n",
        "Damit wir die Funktionen von `random` nutzen können, müssen wir erst die Programmbibliothek importieren. Jedes Mal wenn Sie die nachstehende Code-Zelle ausführen, erhalten Sie eine Zahl zwischen 1 und 6."
      ],
      "metadata": {
        "id": "YEgnHv7oJqcO"
      }
    },
    {
      "cell_type": "code",
      "source": [
        "import random\n",
        "\n",
        "throw = random.randint(1,6)\n",
        "print(throw)"
      ],
      "metadata": {
        "id": "X_6kpNozKLib",
        "colab": {
          "base_uri": "https://localhost:8080/"
        },
        "outputId": "e7338885-32a9-451d-cb40-2bc5d64625e8"
      },
      "execution_count": 4,
      "outputs": [
        {
          "output_type": "stream",
          "name": "stdout",
          "text": [
            "1\n"
          ]
        }
      ]
    },
    {
      "cell_type": "markdown",
      "source": [
        "👋 ⚒ **Aufgaben** 👋 ⚒ <br>\n",
        "Erstellen Sie eine `for`-Schleife, die maximal 12 mal den Würfel wirft (`range(12)`) und wenn die Augenzahl 6 erreicht wird stoppt. Verwenden Sie dazu den Code aus der vorherigen Code-Zelle.\n",
        "\n",
        "Zählen Sie dabei mit, wie oft der Würfel geworfen werden mußte, bis die Augenzahl 6 geworfen wurde."
      ],
      "metadata": {
        "id": "Enr1xnqJHmKn"
      }
    },
    {
      "cell_type": "code",
      "source": [
        "# Fügen Sie hier Ihren Code hier ein\n",
        "for turn in range(12):\n",
        "   throw = random.randint(1,6)\n",
        "   print(\"Der Würfel wird zum\",turn+1, \"Mal geworfen mit der Zahl\", throw)\n",
        "   if throw == 6:\n",
        "    print(\"Insgesamt weden\", turn+1, \"Versuche benötigt um eine 6 zu würfeln.\")\n",
        "    break"
      ],
      "metadata": {
        "id": "e2U8tf8PHmkl",
        "outputId": "7cd9ecf3-046e-4792-8f77-deb7927a0af9",
        "colab": {
          "base_uri": "https://localhost:8080/"
        }
      },
      "execution_count": 21,
      "outputs": [
        {
          "output_type": "stream",
          "name": "stdout",
          "text": [
            "Der Würfel wird zum 1 Mal geworfen mit der Zahl 3\n",
            "Der Würfel wird zum 2 Mal geworfen mit der Zahl 4\n",
            "Der Würfel wird zum 3 Mal geworfen mit der Zahl 1\n",
            "Der Würfel wird zum 4 Mal geworfen mit der Zahl 5\n",
            "Der Würfel wird zum 5 Mal geworfen mit der Zahl 3\n",
            "Der Würfel wird zum 6 Mal geworfen mit der Zahl 4\n",
            "Der Würfel wird zum 7 Mal geworfen mit der Zahl 6\n",
            "Insgesamt weden 7 Versuche benötigt um eine 6 zu würfeln.\n"
          ]
        }
      ]
    },
    {
      "cell_type": "markdown",
      "source": [
        "Mithilfe der `for`-Schleife und der Funktion `enumerate` können wir uns auch die Position des Elements in der Liste ausgeben lassen. In der nachstehenden Schleife wird der Index (die Position in der Liste) sowie das Element selbst zurückgegeben."
      ],
      "metadata": {
        "id": "YCuoe1orN0a3"
      }
    },
    {
      "cell_type": "code",
      "source": [
        "for index, fruit in enumerate(fruits):\n",
        "  print(\"Index: \",index, \"fruit:\", fruit)"
      ],
      "metadata": {
        "id": "0xWqHCdzOWZ7",
        "outputId": "116decb6-f452-44de-fe5c-39066dd27e8c",
        "colab": {
          "base_uri": "https://localhost:8080/"
        }
      },
      "execution_count": 22,
      "outputs": [
        {
          "output_type": "stream",
          "name": "stdout",
          "text": [
            "Index:  0 fruit: apple\n",
            "Index:  1 fruit: banana\n",
            "Index:  2 fruit: grape\n",
            "Index:  3 fruit: kiwi\n",
            "Index:  4 fruit: mango\n",
            "Index:  5 fruit: orange\n",
            "Index:  6 fruit: lemon\n"
          ]
        }
      ]
    },
    {
      "cell_type": "markdown",
      "source": [
        "Funktionen sind zur Erinnerung wie folgt aufgebaut.\n",
        "\n",
        "```\n",
        "def function_name (paramter):\n",
        "  lines of code here\n",
        "  return result\n",
        "```\n",
        "\n",
        "Die Verwendung von `return` gibt den jeweiligen Wert zurück und beendet die Funktion. Im folgenden Beispiel gibt es zwei `return`-Anweisungen, einmal wenn das Element \"kiwi\" in der Liste ist und ein zweites Mal nach Beendigung der Schleife, sollte das Element \"kiwi\" nicht in der Liste gefunden werden."
      ],
      "metadata": {
        "id": "94nHIj1MQwFY"
      }
    },
    {
      "cell_type": "code",
      "source": [
        "def finding_the_kiwi(list1):\n",
        "  for elem in list1:\n",
        "    if elem == \"kiwi\":\n",
        "      return \"In dieser Liste gibt es eine kiwi\"\n",
        "  return \"In dieser Liste gibt es keine kiwi\"\n",
        "\n",
        "result = finding_the_kiwi(fruits)\n",
        "print(result)"
      ],
      "metadata": {
        "id": "xfzxLQvuYLC3",
        "colab": {
          "base_uri": "https://localhost:8080/"
        },
        "outputId": "ad20d6e6-8eaa-4419-c371-d95737ab8cab"
      },
      "execution_count": 23,
      "outputs": [
        {
          "output_type": "stream",
          "name": "stdout",
          "text": [
            "In dieser Liste gibt es eine kiwi\n"
          ]
        }
      ]
    },
    {
      "cell_type": "markdown",
      "source": [
        "Wenn alle Elemente der Liste durchlaufen wurden und die Bedingung `if elem == \"kiwi\"` nie erfüllt wurde, dann gibt die Funktion \"In dieser Liste gibt es keine kiwi\" zurück:"
      ],
      "metadata": {
        "id": "nrggidPSY63h"
      }
    },
    {
      "cell_type": "code",
      "source": [
        "result1 = finding_the_kiwi([\"apple\", \"orange\", \"mango\"])\n",
        "print(result1)"
      ],
      "metadata": {
        "id": "pSooF6w1ZJ8Y",
        "colab": {
          "base_uri": "https://localhost:8080/"
        },
        "outputId": "28df951c-9b99-42b0-944b-06c2c5f7adf6"
      },
      "execution_count": 24,
      "outputs": [
        {
          "output_type": "stream",
          "name": "stdout",
          "text": [
            "In dieser Liste gibt es keine kiwi\n"
          ]
        }
      ]
    },
    {
      "cell_type": "markdown",
      "source": [
        "👋 ⚒ **Aufgaben** 👋 ⚒ <br>\n",
        "Schreiben Sie die Funktion `finding_the_kiwi`so um, dass nicht nur zurückgegeben wird ob die Liste das Element \"kiwi\" enthält, sondern auch an welcher Position \"kiwi\" in der Liste steht."
      ],
      "metadata": {
        "id": "-lgL6RADZjt6"
      }
    },
    {
      "cell_type": "code",
      "source": [
        "def finding_the_kiwi2(list1):\n",
        "  for idx, element in enumerate(list1):\n",
        "    if element == \"kiwi\":\n",
        "      return \"In dieser Liste gibt es eine kiwi an Position Nr. \"+str(idx)\n",
        "  return \"In dieser Liste gibt es keine kiwi\"\n",
        "\n",
        "result = finding_the_kiwi2(fruits)\n",
        "print(result)"
      ],
      "metadata": {
        "id": "9EC85_ZVLrlh",
        "outputId": "16238be4-c8f1-4723-971a-87583295a0c2",
        "colab": {
          "base_uri": "https://localhost:8080/"
        }
      },
      "execution_count": 25,
      "outputs": [
        {
          "output_type": "stream",
          "name": "stdout",
          "text": [
            "In dieser Liste gibt es eine kiwi an Position Nr. 3\n"
          ]
        }
      ]
    },
    {
      "cell_type": "markdown",
      "source": [
        "Führen Sie die folgende Code-Zelle aus, damit wir die Daten des Dictionarys `capitals`für die weitere Bearbeitung zur Verfügung haben.  "
      ],
      "metadata": {
        "id": "WYGUPR0UJ-GH"
      }
    },
    {
      "cell_type": "code",
      "execution_count": 26,
      "metadata": {
        "id": "OFEs4qJD7tEj"
      },
      "outputs": [],
      "source": [
        "capitals = {\n",
        "    \"Albanien\": \"Tirana\",\n",
        "    \"Belgien\":\"Brüssel\",\n",
        "    \"Bulgarien\": \"Sofia\",\n",
        "    \"Dänemark\": \"Kopenhagen\",\n",
        "    \"Deutschland\": \"Berlin\",\n",
        "    \"Finnland\": \"Helsinki\",\n",
        "    \"Frankreich\": \"Paris\",\n",
        "    \"Griechenland\": \"Athen\",\n",
        "    \"Island\": \"Reykjavík\",\n",
        "    \"Italien\": \"Rom\",\n",
        "    \"Niederlande\": \"Amsterdam\",\n",
        "    \"Norwegen\": \"Oslo\",\n",
        "    \"Österreich\": \"Wien\",\n",
        "    \"Polen\": \"Warschau\",\n",
        "    \"Portugal\": \"Lissabon\",\n",
        "    \"Spanien\": \"Madrid\",\n",
        "    \"Schweden\": \"Stockholm\",\n",
        "    \"Schweiz\": \"Bern\",\n",
        "    \"Vereinigtes Königreich\": \"London\"\n",
        "    }"
      ]
    },
    {
      "cell_type": "markdown",
      "source": [
        "Um die einzelnen Werte eines Dictionarys durchlaufen zu können, gibt es die Funktion `items()`. Einzelne Werte im Dictionary können aber direkt mit dem \"key\" angesprochen werden, wenn uns der \"key\" bekannt ist."
      ],
      "metadata": {
        "id": "UcC4x1tNTK8z"
      }
    },
    {
      "cell_type": "code",
      "source": [
        "for key, value in capitals.items():\n",
        "  print(key, value)"
      ],
      "metadata": {
        "id": "nNgQa78cTKbe",
        "colab": {
          "base_uri": "https://localhost:8080/"
        },
        "outputId": "f2d32041-1dbd-4de4-eaec-7fef08b999af"
      },
      "execution_count": 27,
      "outputs": [
        {
          "output_type": "stream",
          "name": "stdout",
          "text": [
            "Albanien Tirana\n",
            "Belgien Brüssel\n",
            "Bulgarien Sofia\n",
            "Dänemark Kopenhagen\n",
            "Deutschland Berlin\n",
            "Finnland Helsinki\n",
            "Frankreich Paris\n",
            "Griechenland Athen\n",
            "Island Reykjavík\n",
            "Italien Rom\n",
            "Niederlande Amsterdam\n",
            "Norwegen Oslo\n",
            "Österreich Wien\n",
            "Polen Warschau\n",
            "Portugal Lissabon\n",
            "Spanien Madrid\n",
            "Schweden Stockholm\n",
            "Schweiz Bern\n",
            "Vereinigtes Königreich London\n"
          ]
        }
      ]
    },
    {
      "cell_type": "markdown",
      "source": [
        "Die \"keys\" und \"values\" eines Dictionarys können direkt als Listen abgefragt werden."
      ],
      "metadata": {
        "id": "bWlasEBrTc2o"
      }
    },
    {
      "cell_type": "code",
      "source": [
        "print(capitals.keys())\n",
        "print(capitals.values())"
      ],
      "metadata": {
        "id": "u-9Az7H6Ti1W",
        "colab": {
          "base_uri": "https://localhost:8080/"
        },
        "outputId": "67b62a2d-c2f6-4514-a42a-d9af6765277c"
      },
      "execution_count": 28,
      "outputs": [
        {
          "output_type": "stream",
          "name": "stdout",
          "text": [
            "dict_keys(['Albanien', 'Belgien', 'Bulgarien', 'Dänemark', 'Deutschland', 'Finnland', 'Frankreich', 'Griechenland', 'Island', 'Italien', 'Niederlande', 'Norwegen', 'Österreich', 'Polen', 'Portugal', 'Spanien', 'Schweden', 'Schweiz', 'Vereinigtes Königreich'])\n",
            "dict_values(['Tirana', 'Brüssel', 'Sofia', 'Kopenhagen', 'Berlin', 'Helsinki', 'Paris', 'Athen', 'Reykjavík', 'Rom', 'Amsterdam', 'Oslo', 'Wien', 'Warschau', 'Lissabon', 'Madrid', 'Stockholm', 'Bern', 'London'])\n"
          ]
        }
      ]
    },
    {
      "cell_type": "markdown",
      "source": [
        "Dadurch können wir dann überprüfen, ob ein bestimmter \"key\" in unserem Dictionary vorhanden ist. Sollte der \"key\" vorhanden sein, kann der im \"key\" hinterlegte \"value\" zurückgegeben werden."
      ],
      "metadata": {
        "id": "lp5yBSbbTtyi"
      }
    },
    {
      "cell_type": "code",
      "source": [
        "if \"Griechenland\" in capitals.keys():\n",
        "  print(capitals[\"Griechenland\"])"
      ],
      "metadata": {
        "id": "DejjlTzATxQO",
        "colab": {
          "base_uri": "https://localhost:8080/"
        },
        "outputId": "6c3e4c05-3377-4546-a09e-7939029fb93a"
      },
      "execution_count": 29,
      "outputs": [
        {
          "output_type": "stream",
          "name": "stdout",
          "text": [
            "Athen\n"
          ]
        }
      ]
    },
    {
      "cell_type": "markdown",
      "source": [
        "👋 ⚒ **Aufgaben** 👋 ⚒ <br>\n",
        "Warum wird bei der folgenden Code-Zelle nichts ausgegeben und wie muss der angegebene \"key\" geändert werden, damit wir einen Wert aus dem Dictionary `capitals` bekommen?"
      ],
      "metadata": {
        "id": "N53ZulvnUTYG"
      }
    },
    {
      "cell_type": "code",
      "source": [
        "key = \"Australien\"\n",
        "if key in capitals.keys():\n",
        "  print(capitals[key])"
      ],
      "metadata": {
        "id": "fBmmL3lrUT1E"
      },
      "execution_count": 30,
      "outputs": []
    },
    {
      "cell_type": "markdown",
      "source": [
        "Erforderliche Änderung besteht darin, dass ein Land gewählt wird, dass im Dictionary ist, z. B. \"Finnland\""
      ],
      "metadata": {
        "id": "Tc6gao0M_Hm_"
      }
    },
    {
      "cell_type": "code",
      "source": [
        "key = \"Finnland\"\n",
        "if key in capitals.keys():\n",
        "  print(capitals[key])"
      ],
      "metadata": {
        "colab": {
          "base_uri": "https://localhost:8080/"
        },
        "id": "84NT5nXU_F9D",
        "outputId": "0b861801-6fc6-4ff5-9f99-5fcea740ee5d"
      },
      "execution_count": 31,
      "outputs": [
        {
          "output_type": "stream",
          "name": "stdout",
          "text": [
            "Helsinki\n"
          ]
        }
      ]
    },
    {
      "cell_type": "markdown",
      "source": [
        "👋 ⚒ **Aufgaben** 👋 ⚒ <br>\n",
        "Schreiben Sie eine Funktion welcher ein Land übergeben wird und wenn dieses Land im Dictionary `capitals` enthalten ist, die entsprechende Hauptstadt zurückgibt. Wenn das Land nicht enthalten ist, sollte die Funktion eine entsprechende Rückmeldung zurückgeben."
      ],
      "metadata": {
        "id": "fgSnu4LHM-4j"
      }
    },
    {
      "cell_type": "code",
      "source": [
        "def finding_the_capital(country):\n",
        "  # Fügen Sie hier Ihren Code hier ein\n",
        "  if country in capitals.keys():\n",
        "    return capitals[country]\n",
        "  else:\n",
        "    return \"The country \"+country+ \" is unfortunately not in the list of countries.\"\n",
        "\n",
        "print(finding_the_capital(\"Österreich\"))\n",
        "print(finding_the_capital(\"Australien\"))"
      ],
      "metadata": {
        "id": "bwh6R-xfNK9h",
        "colab": {
          "base_uri": "https://localhost:8080/"
        },
        "outputId": "93bd9518-54c1-4524-eb31-fd1f363a81d3"
      },
      "execution_count": 35,
      "outputs": [
        {
          "output_type": "stream",
          "name": "stdout",
          "text": [
            "Wien\n",
            "The country Australien is unfortunately not in the list of countries.\n"
          ]
        }
      ]
    },
    {
      "cell_type": "markdown",
      "source": [
        "Nun schreiben wir eine einfache erste Funktion, die den Benutzer*innen ein europäisches Land zeigt und nach der Eingabe der entsprechenden Hauptstadt fragt.\n",
        "\n",
        "Die Eingabe von Benutzer*innen wird durch die vordefinierte Funktion `input` ermöglicht. Dadurch kann  die Antwort aus der Benutzeroberfläche direkt in Python weiterverarbeitet werden."
      ],
      "metadata": {
        "id": "EEChuh8A9Hzh"
      }
    },
    {
      "cell_type": "code",
      "source": [
        "import random\n",
        "\n",
        "def capitals_quiz(total, capitals):\n",
        "  states = capitals.keys()\n",
        "  print(\"Kennen Sie alle %d Hauptstädte?\" % total)\n",
        "  correct = 0\n",
        "  for i in range(total):\n",
        "    state = random.sample(list(states), total)\n",
        "    capital = capitals[state[i]]\n",
        "    guess = input(\"Wie heißt die Hauptstadt von \"+state[i]+\"? \")\n",
        "\n",
        "    if guess == capital:\n",
        "      print(\"Richtig!\")\n",
        "      correct += 1\n",
        "    else:\n",
        "      print(\"Falsch. Die Hauptstadt von \"+state[i]+\" heißt \"+capital+\".\")\n",
        "  return correct\n",
        "\n",
        "total = 5\n",
        "correct = capitals_quiz(total, capitals)\n",
        "print(\"Von %d Ländern haben Sie %d Hauptstädte richtig!\" % (total, correct))\n"
      ],
      "metadata": {
        "id": "AWv0CH2j9OH4",
        "outputId": "3cf17d9f-9efa-4a7a-af4a-292319fad7f9",
        "colab": {
          "base_uri": "https://localhost:8080/"
        }
      },
      "execution_count": 39,
      "outputs": [
        {
          "output_type": "stream",
          "name": "stdout",
          "text": [
            "Kennen Sie alle 5 Hauptstädte?\n",
            "Wie heißt die Hauptstadt von Schweden? Stockholm\n",
            "Richtig!\n",
            "Wie heißt die Hauptstadt von Griechenland? Athen\n",
            "Richtig!\n",
            "Wie heißt die Hauptstadt von Niederlande? Amsterdam\n",
            "Richtig!\n",
            "Wie heißt die Hauptstadt von Bulgarien? Sofia\n",
            "Richtig!\n",
            "Wie heißt die Hauptstadt von Bulgarien? Sofia\n",
            "Richtig!\n",
            "Von 5 Ländern haben Sie 5 Hauptstädte richtig!\n"
          ]
        }
      ]
    },
    {
      "cell_type": "markdown",
      "source": [
        "## **Zusätzliche Übung** <br>\n",
        "Alle die schnell mit diesem Notebook fertig sind, können die folgende herausfordernde Aufgabe versuchen.\n",
        "\n",
        "👋 ⚒ **Aufgaben** 👋 ⚒ <br>\n",
        "Erstellen Sie ein kleines mathematisches Multiplikationsquiz. Erstellen Sie dazu eine Funktion der eine Gesamtanzahl an versuchen übergeben wird z. B. `total`. Die Funktion soll dann zwei Zahlen zufällig erzeugen und die Benutzer*innen nach dem Multiplikationsergebnis der beiden Zahlen fragen.\n",
        "\n",
        "Übrprüfen Sie dann, ob das eingegebene Ergebnis richtig ist und wie viele von x (x können Sie hier selbst festlegen) Versuchen richtig eingegeben wurden.\n",
        "\n",
        "Wie groß die zu multiplizierenden Zahlen sind, bleibt ganz Ihnen überlassen. Definiert werden die Zahlen durch die Werte in den Klammern von `random.randint()`."
      ],
      "metadata": {
        "id": "rzuUgLQfROcP"
      }
    },
    {
      "cell_type": "code",
      "source": [
        "# Fügen Sie hier Ihren Code hier ein\n",
        "def practicing_multiplication(total):\n",
        "  for number in range(total):\n",
        "    num1 = random.randint(0,10)\n",
        "    num2 = random.randint(0,10)\n",
        "    guess = input(\"Wie lautet das Multiplikationsergebnis der Zahlen \"+str(num1)+\" und \"+str(num2)+\"? \")\n",
        "    if int(guess) == num1*num2:\n",
        "      print(\"Richtig!\")\n",
        "    else:\n",
        "      print(\"Nein, das Ergebnis der Multiplikation lautet \"+str(num1*num2))\n",
        "\n",
        "\n",
        "practicing_multiplication(5)"
      ],
      "metadata": {
        "id": "TiJSJ0YJRNzN",
        "colab": {
          "base_uri": "https://localhost:8080/"
        },
        "outputId": "fd37c42a-f7be-4c42-e617-83a42fb98736"
      },
      "execution_count": 50,
      "outputs": [
        {
          "output_type": "stream",
          "name": "stdout",
          "text": [
            "Wie lautet das Multiplikationsergebnis der Zahlen 10 und 5? 50\n",
            "Richtig!\n",
            "Wie lautet das Multiplikationsergebnis der Zahlen 8 und 6? 68\n",
            "Nein, das Ergebnis der Multiplikation lautet 48\n",
            "Wie lautet das Multiplikationsergebnis der Zahlen 6 und 10? 60\n",
            "Richtig!\n",
            "Wie lautet das Multiplikationsergebnis der Zahlen 3 und 5? 15\n",
            "Richtig!\n",
            "Wie lautet das Multiplikationsergebnis der Zahlen 1 und 4? 4\n",
            "Richtig!\n"
          ]
        }
      ]
    }
  ]
}