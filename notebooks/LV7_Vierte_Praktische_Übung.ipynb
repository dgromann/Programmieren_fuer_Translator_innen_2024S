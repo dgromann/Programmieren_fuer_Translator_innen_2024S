{
  "nbformat": 4,
  "nbformat_minor": 0,
  "metadata": {
    "colab": {
      "provenance": [],
      "authorship_tag": "ABX9TyNfskiH5Ec/OGTyOar4oPct",
      "include_colab_link": true
    },
    "kernelspec": {
      "name": "python3",
      "display_name": "Python 3"
    },
    "language_info": {
      "name": "python"
    }
  },
  "cells": [
    {
      "cell_type": "markdown",
      "metadata": {
        "id": "view-in-github",
        "colab_type": "text"
      },
      "source": [
        "<a href=\"https://colab.research.google.com/github/dgromann/Programmieren_fuer_Translator_innen_2024S/blob/main/notebooks/LV7_Vierte_Praktische_%C3%9Cbung.ipynb\" target=\"_parent\"><img src=\"https://colab.research.google.com/assets/colab-badge.svg\" alt=\"Open In Colab\"/></a>"
      ]
    },
    {
      "cell_type": "markdown",
      "source": [
        "# **2024S: Einführung ins Programmieren für Translator:innen, Übung (UE), 340273-1**\n",
        "\n",
        "Verwenden Sie für diese Übung die Textdateien `Text2.txt` und `Text3.txt` welche Sie auf [GitHub](https://github.com/dgromann/Programmieren_fuer_Translator_innen_2024S/tree/main) finden.\n",
        "\n",
        "Laden Sie sich die Datei erst lokal herunter (Download im Menu auf GitHub welches Sie unter den drei Punkten oben rechts finden) und laden Sie dann die Datei in diesem Notebook."
      ],
      "metadata": {
        "id": "9xh55eqYKZ0T"
      }
    },
    {
      "cell_type": "markdown",
      "source": [
        "👋 ⚒ **Aufgabe** 👋 ⚒ <br>\n",
        "Laden Sie den Text der Dateien `Text2.txt` und `Text3.txt`in Python in eine entsprechende Variable text2 und text3, damit diese dann in der Liste `corpus` gespeichert werden können.\n"
      ],
      "metadata": {
        "id": "Oj2Kuy9xL8hm"
      }
    },
    {
      "cell_type": "code",
      "execution_count": null,
      "metadata": {
        "id": "VvjoNzoFKORg"
      },
      "outputs": [],
      "source": [
        "# Fügen Sie hier Ihren Code hier ein\n",
        "\n",
        "corpus = [text2, text3]"
      ]
    },
    {
      "cell_type": "markdown",
      "source": [
        "In dieser Aufgabe verwenden wir **Term Frequency-Inverse Document Frequency (TF-IDF)**, eine Methode zur Extraktion von Termini aus Texten.\n",
        "\n",
        "**Term Frequency** misst wie häufig ein Wort in einem Dokument vorkommt. Statt der absoluten Häufigkeit des Wortes, wird die relative Häufigkeit verwendet, d. h. Anzahl des Vorkommens des Wortes dividiert durch die Gesamtanzahl der Wörter im Dokument.\n",
        "\n",
        "**Inverse Document Frequency (IDF)** misst wie spezifisch oder fachlich ein Wort ist, also wie häufig oder selten ein Wort vorkommt. IDF wird gemessen, indem die Gesamtanzahl der Dokumente durch die Anzahl der Dokumente, in welchen das Wort vorkommt, dividiert wird. Zusätzlich wird ein Logarithmus angewendet, um den Wertebereich zu skalieren, also sicherzustellen, dass Zusammenhänge von kleinen Werten besser überschaubar sind. Wenn beispielsweise die Gesamtanzahl der Dokumente 5 ist und das Wort in jedem Dokument vorkomment, dann ergibt der IDF-Wert 0, weil log(1) = 0.\n",
        "\n",
        "Die Multiplikation von TF und IDF ergibt den TF-IDF-Wert, wobei davon ausgegangen wird, dass fachlichere und seltenere Wörter bessere Termkandidaten ergeben und somit einen höheren TF-IDF-Wert erhalten. Wörter die in jedem Dokument vorkommen, ergeben nach dieser Formel immer 0, weil der IDF-Wert bereits 0 ist.  \n",
        "\n"
      ],
      "metadata": {
        "id": "i5gkKULEL_GP"
      }
    },
    {
      "cell_type": "markdown",
      "source": [
        "Eine Programmbibliothek für klassisches, statistisches maschinelles Lernen heißt [scikit-learn](https://scikit-learn.org/stable/index.html) und bietet bereits viele vordefinierte Funktionen, so wie TF-IDF. Wir verwenden erst diese Bibliothek um die TF-IDF Werte für die Wörter und Dokumente in unserem Beispielkorpus `corpus`zu berechnen."
      ],
      "metadata": {
        "id": "Fax5z-CVoa1j"
      }
    },
    {
      "cell_type": "markdown",
      "source": [
        "👋 ⚒ **Aufgabe** 👋 ⚒ <br>\n",
        "Laden Sie den Text der Dateien `Text2.txt` und `Text3.txt`in Python in eine entsprechende Variable text2 und text3, damit diese dann in der Liste `corpus` gespeichert werden können."
      ],
      "metadata": {
        "id": "eJqg87-LoQVE"
      }
    },
    {
      "cell_type": "code",
      "source": [
        "from sklearn.feature_extraction.text import TfidfVectorizer\n",
        "\n",
        "def tf_idf_sklearn(corpus):\n",
        "\n",
        "  # Erst wird ein Objekt dieser Klasse erzeugt\n",
        "  vectorizer = TfidfVectorizer()\n",
        "\n",
        "  # Mit der Funktion fit_transform werden die TF-IDF-Werte für den Korpus berechnet\n",
        "  tf_idf_scores = vectorizer.fit_transform(corpus)\n",
        "\n",
        "  # Mit dieser Funktion können die Termini und deren Index abgerufen werden\n",
        "  terms = vectorizer.get_feature_names_out()\n",
        "\n",
        "  tf_idf_dict = {}\n",
        "  for term in terms:\n",
        "    # In diesem Dictionary werden die TF-IDF-Werte mit den dazugehörigen Termini gespeichert\n",
        "    tf_idf_dict[term] = tf_idf_scores[0, vectorizer.vocabulary_[term]]\n",
        "\n",
        "  return tf_idf_dict\n",
        "\n",
        "# Fügen Sie hier Ihren Code hier ein\n"
      ],
      "metadata": {
        "id": "AN_GU0KyKZbG"
      },
      "execution_count": null,
      "outputs": []
    },
    {
      "cell_type": "markdown",
      "source": [
        "👋 ⚒ **Aufgabe** 👋 ⚒ <br>\n",
        "Speichern Sie nur die Termkandidaten mit TF-IDF-Werten über 0 in eine Datei."
      ],
      "metadata": {
        "id": "hu33at0cqFWD"
      }
    },
    {
      "cell_type": "code",
      "source": [
        "# Fügen Sie hier Ihren Code hier ein"
      ],
      "metadata": {
        "id": "8JOA3klnqRiy"
      },
      "execution_count": null,
      "outputs": []
    },
    {
      "cell_type": "markdown",
      "source": [
        "👋 ⚒ **Aufgabe** 👋 ⚒ <br>\n",
        "Führen Sie nun die folgenden Vorerarbeitungsschritte auf unseren Beispielkorpus `corpus` aus und berechnen Sie die TF-IDF-Werte auf den vorverarbeiteten Korpus.\n",
        "\n",
        "1. Tokenisierung\n",
        "2. POS-Tagging und Enfernen der angegebenen POS-Tags\n",
        "3. Lemmatisierung\n",
        "\n",
        "Dafür können Sie spaCy nutzen, allerdings verwenden wir dieses Mal ein größeres Modell für die Deutsche Sprache. Eine Übersicht über alle Modelle pro Sprache finden Sie [hier](https://spacy.io/models/de).\n",
        "\n",
        "Beachten Sie bitte, dass die Dokumente als solche noch erkennbar sein müssen, also nicht alle Tokens beider Dokumente als eine Liste übergeben werden sollen, sondern zwei Listen (eine pro Dokument) in einer Gesamtliste `corpus_preprocessed` gespeichert werden soll.\n",
        "\n",
        "Auszug:\n",
        "\n",
        "`\n",
        "[['Mögliche', 'Hinweise', 'auf', ..., 'im', 'Meer', 'produziert'], ['Grüne', 'Grenze', .. 'viel', 'zu', 'hören', 'sein']]\n",
        "`"
      ],
      "metadata": {
        "id": "lQjTLw_UqSzT"
      }
    },
    {
      "cell_type": "code",
      "source": [
        "# Laden des spaCy-Modells\n",
        "!python -m spacy download de_core_news_lg"
      ],
      "metadata": {
        "id": "kAOpVGlcqg53"
      },
      "execution_count": null,
      "outputs": []
    },
    {
      "cell_type": "code",
      "source": [
        "import spacy\n",
        "nlp = spacy.load(\"de_core_news_lg\")\n",
        "\n",
        "def preprocess(document):\n",
        "  # Die POS-Tags für den zweiten Schritt\n",
        "  pos_to_be_removed = ['ADV', 'PRON', 'CCONJ', 'PUNCT', 'PART', 'DET', 'ADP', 'SPACE']\n",
        "\n",
        "  # Fügen Sie hier Ihren Code hier ein"
      ],
      "metadata": {
        "id": "d4Hir0c0q9WO"
      },
      "execution_count": null,
      "outputs": []
    },
    {
      "cell_type": "markdown",
      "source": [
        "👋 ⚒ **Aufgabe** 👋 ⚒ <br>\n",
        "Berechnen Sie nun die TF-IDF-Werte auf den vorbearbeiteten Korpus und speichern Sie wiederum das Ergebnis in eine Datei, wobei Sie nur Werte größer 0 speichern.\n",
        "\n",
        "Der TfidfVectorizer erwartet zusammenhängenden Text als Eingabe und nicht Listen von Tokens. Daher verwenden wir `preprocessor=' '.join`, eine Funktion die automatisch die Wörter wieder zu setzen Text zusammenfügt in der Zeile `  vectorizer = TfidfVectorizer(preprocessor=' '.join)`. Daher verwenden Sie bitte die nachstehende Funktion.   "
      ],
      "metadata": {
        "id": "tgJ91eiArQ_c"
      }
    },
    {
      "cell_type": "code",
      "source": [
        "# Fügen Sie hier Ihren Code hier ein\n",
        "from sklearn.feature_extraction.text import TfidfVectorizer\n",
        "\n",
        "def tf_idf_sklearn_for_tokens(corpus):\n",
        "\n",
        "  # Erst wird ein Objekt dieser Klasse erzeugt\n",
        "  vectorizer = TfidfVectorizer(preprocessor=' '.join)\n",
        "\n",
        "  # Mit der Funktion fit_transform werden die TF-IDF-Werte für den Korpus berechnet\n",
        "  tf_idf_scores = vectorizer.fit_transform(corpus)\n",
        "\n",
        "  # Mit dieser Funktion können die Termini und deren Index abgerufen werden\n",
        "  terms = vectorizer.get_feature_names_out()\n",
        "\n",
        "  tf_idf_dict = {}\n",
        "  for term in terms:\n",
        "    # In diesem Dictionary werden die TF-IDF-Werte mit den dazugehörigen Termini gespeichert\n",
        "    tf_idf_dict[term] = tf_idf_scores[0, vectorizer.vocabulary_[term]]\n",
        "\n",
        "  return tf_idf_dict"
      ],
      "metadata": {
        "id": "pQFTmbHgrdyW"
      },
      "execution_count": null,
      "outputs": []
    },
    {
      "cell_type": "markdown",
      "source": [
        "👋 ⚒ **Analyse** 👋 ⚒ <br>\n",
        "Welche Unterschiede lassen sich zwischen der Bechnung ohne und mit Vorverarbeitung erkennen? Fügen Sie hier oder in der nächsten Textzelle Ihre Analyse ein."
      ],
      "metadata": {
        "id": "9y9t2kgwrfyD"
      }
    },
    {
      "cell_type": "markdown",
      "source": [
        "👋 ⚒ **Aufgabe** 👋 ⚒ <br>\n",
        "Geben Sie nun nur die Eigennamen also Named Entities des Beispielkorpus und deren TF-IDF-Werte aus. Dazu müssen Sie zuerst die Named Entities identifizieren und dann die TF-IDF-Werten im Ergebnisdictionary finden. Wie fachspezifisch sind die Named Enties laut dieser Analyse? Stimmen Sie zu? Bedenken Sie: ein höherer TF-IDF-Wert bedeutet einen höheren Grad der Spezifizität und Fachlichkeit."
      ],
      "metadata": {
        "id": "UL6k2rfLrwoK"
      }
    },
    {
      "cell_type": "code",
      "source": [
        "# Fügen Sie hier Ihren Code hier ein"
      ],
      "metadata": {
        "id": "2wGstxYUrvND"
      },
      "execution_count": null,
      "outputs": []
    }
  ]
}