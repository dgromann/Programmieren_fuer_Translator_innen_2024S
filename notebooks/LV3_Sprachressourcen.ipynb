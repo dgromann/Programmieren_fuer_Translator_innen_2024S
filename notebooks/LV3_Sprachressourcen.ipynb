{
  "nbformat": 4,
  "nbformat_minor": 0,
  "metadata": {
    "colab": {
      "provenance": [],
      "authorship_tag": "ABX9TyO1zs0SbSmtnzIHFGOPCCaW",
      "include_colab_link": true
    },
    "kernelspec": {
      "name": "python3",
      "display_name": "Python 3"
    },
    "language_info": {
      "name": "python"
    }
  },
  "cells": [
    {
      "cell_type": "markdown",
      "metadata": {
        "id": "view-in-github",
        "colab_type": "text"
      },
      "source": [
        "<a href=\"https://colab.research.google.com/github/dgromann/Programmieren_fuer_Translator_innen_2024S/blob/main/notebooks/LV3_Sprachressourcen.ipynb\" target=\"_parent\"><img src=\"https://colab.research.google.com/assets/colab-badge.svg\" alt=\"Open In Colab\"/></a>"
      ]
    },
    {
      "cell_type": "markdown",
      "source": [
        "# **2024S: Einführung ins Programmieren für Translator:innen, Übung (UE), 340273-1**\n",
        "\n"
      ],
      "metadata": {
        "id": "ZFnaUInsMcfD"
      }
    },
    {
      "cell_type": "markdown",
      "source": [
        "### **Speichern Sie dieses Notebook**\n",
        "\n",
        "Dieses Notebook können Sie jederzeit und in jedem Browser erneut von GitHub (bzw. dem direkten Link in Moodle) öffnen. Um jedoch Ihre eigenen Lösungen und Ihren Code zu speichern, wählen Sie bitte **Datei** bzw. **File** und eine der Speicheroptionen. Die einfachste Speicheroption ist in Google Drive, da dadurch Änderungen im Notebook automatisch im Hintergrund gespeichert werden.\n",
        "\n",
        "Für die Abgabe der praktischen Übungen müssen Sie jedoch das Jupyter-Notebook als .ipynb Datei herunterladen. Dazu klicken Sie auf **Datei** oder **File** und **Herunterladen** oder **Download** und wählen das Format .ipynb aus."
      ],
      "metadata": {
        "id": "4V4rO3rAMl5E"
      }
    },
    {
      "cell_type": "markdown",
      "source": [
        "### **Notation des Notebooks**\n",
        "\n",
        "Fragen und praktische Aufgaben werden hier als ❓**Frage**❓ bzw. 👋 ⚒ **Aufgabe** 👋 ⚒ gekennzeichnet. ❓**Fragen**❓ fordern Sie dazu auf Überlegungen anzustellen bevor Sie etwas praktisch testen. 👋 ⚒ **Aufgaben** 👋 ⚒ erfordern das aktive Schreiben von Code in der grauen Code-Zelle nach der Beschreibung der Aufgabe.\n"
      ],
      "metadata": {
        "id": "3oFTRxflMmWR"
      }
    },
    {
      "cell_type": "markdown",
      "source": [
        "-----------\n",
        "## **Lektion 6: Wiktionary einbinden**\n",
        "\n",
        "In der ersten Einheit und der ersten praktischen Übung haben wir bereits die Sprachressource WordNet in Python verwendet. Heute beschäftigen wir uns mit Wiktionary.\n",
        "\n",
        "Wiktionary ist ein umfangreiches mehrsprachiges Online-Wörterbuch, dass viele Informationen über Wörter, wie etwa deren Definitionen, Herkunft, Aussprache, Beispiele usw., bereitstellt."
      ],
      "metadata": {
        "id": "YBv3B7FwmE1y"
      }
    },
    {
      "cell_type": "markdown",
      "source": [
        "👋 ⚒ **Aufgaben** 👋 ⚒ <br>\n",
        "Gehen Sie auf die Seite [Wiktionary](https://www.wiktionary.org/), wählen Sie Deutsch als Sprache aus und suchen Sie nach dem Begriff *Capybara*.\n",
        "\n",
        "Was können Sie über den Begriff auf Wiktionary alles lernen?\n",
        "\n"
      ],
      "metadata": {
        "id": "yiic5fdpoJ5p"
      }
    },
    {
      "cell_type": "markdown",
      "source": [
        "Um die Daten der Website direkt in Python verfügbar zu machen, verwenden wir die vordefinierte Bibliothek [`wiktionaryparser`](https://pypi.org/project/wiktionaryparser/). Diese muss erst in unserer Programmierumgebung installiert werden."
      ],
      "metadata": {
        "id": "FuYV2qC3p1qK"
      }
    },
    {
      "cell_type": "code",
      "source": [
        "# Installieren der wiktionaryparser Bibliothek\n",
        "!pip install wiktionaryparser"
      ],
      "metadata": {
        "id": "JBS4H6EgmNwU"
      },
      "execution_count": null,
      "outputs": []
    },
    {
      "cell_type": "markdown",
      "source": [
        "Danach müssen wir diese Bibliothek importieren, um alle vordefinierten Funktionen nutzen zu können. Die Funktionen dieser Bibliothek sind in der Klasse WitkionaryParser() enthalten. Eine Klasse muss erst initialisiert werden, d. h., eine Instanz davon muss erstellt werden wie in:\n",
        "\n",
        "\n",
        "```\n",
        "parser = WiktionaryParser()\n",
        "```\n",
        "\n",
        "\n",
        "\n",
        "Klassen dienen in Python als Container von Funktionen.\n",
        "\n",
        "\n",
        "```\n",
        "class WiktionaryParser(object):\n",
        "  \n",
        "  def fetch(self, word, language=None, old_id=None):\n",
        "    ...\n",
        "  \n",
        "  def parse_related_words(self, word_contents):\n",
        "    ...\n",
        "```\n",
        "\n",
        "Falls es Sie interessiert, finden Sie [hier](https://github.com/suyashb95/WiktionaryParser/blob/master/wiktionaryparser/core.py) den gesamten Quellcode dieser Programmbibliothek."
      ],
      "metadata": {
        "id": "1V9IIzkQsilv"
      }
    },
    {
      "cell_type": "markdown",
      "source": [
        "Die erste Funktion, die wir verwenden, heißt `fetch()` und sie gibt alle Daten zu einem eingegebenen Wort zurück.\n",
        "\n",
        "👋 ⚒ **Aufgaben** 👋 ⚒ <br>\n",
        "Wie können Sie automatisch ausgeben lassen welcher Datentyp durch diese Funktion zurückgegeben wird?"
      ],
      "metadata": {
        "id": "eTaybKDJ0AGv"
      }
    },
    {
      "cell_type": "code",
      "source": [
        "from wiktionaryparser import WiktionaryParser\n",
        "\n",
        "# Initialisieren der Klasse WitkionaryParser()\n",
        "parser = WiktionaryParser()\n",
        "\n",
        "word = \"python\"\n",
        "word_data_python = parser.fetch(word)\n",
        "print(word_data_python)"
      ],
      "metadata": {
        "id": "wNCtbPJ6t1qf"
      },
      "execution_count": null,
      "outputs": []
    },
    {
      "cell_type": "markdown",
      "source": [
        "Was uns diese Funktion zurückgibt ist prinzipiell wie folgt aufgebaut:\n",
        "\n",
        "\n",
        "\n",
        "```\n",
        "[{\n",
        "    \"pronunciations\": {\n",
        "        \"text\": [\"pronunciation text\"],\n",
        "        \"audio\": [\"pronunciation audio\"]\n",
        "    },\n",
        "    \"definitions\": [{\n",
        "        \"relatedWords\": [{\n",
        "            \"relationshipType\": \"word relationship type\",\n",
        "            \"words\": [\"list of related words\"]\n",
        "        }],\n",
        "        \"text\": [\"list of definitions\"],\n",
        "        \"partOfSpeech\": \"part of speech\",\n",
        "        \"examples\": [\"list of examples\"]\n",
        "    }],\n",
        "    \"etymology\": \"etymology text\",\n",
        "}]\n",
        "```\n",
        "\n",
        "Es handelt sich also um eine Liste, die ein Dictionary enthält, das wiederum weitere Dictionaries enthält.\n"
      ],
      "metadata": {
        "id": "e2socHKr0vpv"
      }
    },
    {
      "cell_type": "markdown",
      "source": [
        "Um die Keys und Values eines Dictionaries ausgeben zu können, gibt es die Funktion `items()`, welche alle Keys und Values zurückgibt. Da der äußerste Datentype eine Liste ist, müssen wir das erste Element der Liste ansprechen um das Dictionary darin bearbeiten zu können."
      ],
      "metadata": {
        "id": "7PbXge7M1cXy"
      }
    },
    {
      "cell_type": "code",
      "source": [
        "for keys, values in word_data_python[0].items():\n",
        "  print(keys)\n",
        "  print(values)"
      ],
      "metadata": {
        "id": "1XZjD1vb1pR7"
      },
      "execution_count": null,
      "outputs": []
    },
    {
      "cell_type": "markdown",
      "source": [
        "Wenn der Key bekannt ist, können die damit verbundenen Werte (Values) auch direkt per Key angesprochen werden:"
      ],
      "metadata": {
        "id": "9y_93dhcY7JB"
      }
    },
    {
      "cell_type": "code",
      "source": [
        "word_data_python[0][\"etymology\"]"
      ],
      "metadata": {
        "id": "8wa-GRtpY-7O"
      },
      "execution_count": null,
      "outputs": []
    },
    {
      "cell_type": "markdown",
      "source": [
        "👋 ⚒ **Aufgaben** 👋 ⚒ <br>\n",
        "Wie können `for`-Schleifen und `if`-Anweisungen kombiniert werden, um mir den Text der \"pronunciation\" ausgeben zu lassen?"
      ],
      "metadata": {
        "id": "Fq8IT0N52KiJ"
      }
    },
    {
      "cell_type": "code",
      "source": [
        "# Fügen Sie hier Ihren Code hier ein"
      ],
      "metadata": {
        "id": "_N3pWrER4wV9"
      },
      "execution_count": null,
      "outputs": []
    },
    {
      "cell_type": "markdown",
      "source": [
        "👋 ⚒ **Aufgaben** 👋 ⚒ <br>\n",
        "Und wie kann ich nur die Wortklasse (part-of-speech) ausgeben? Die Ausgabe für das Wort \"python\" sollte \"noun\" lauten."
      ],
      "metadata": {
        "id": "woLgehwV5eQG"
      }
    },
    {
      "cell_type": "code",
      "source": [
        "# Fügen Sie hier Ihren Code hier ein"
      ],
      "metadata": {
        "id": "PaZlGk8A5ilh"
      },
      "execution_count": null,
      "outputs": []
    },
    {
      "cell_type": "markdown",
      "source": [
        "Die Bibliothek bietet auch Optionen um die Suche auf bestimmte Sprachen einzustellen, Wortklassen zu bestimmen und Beziehungen zu berücksichtigen.\n",
        "\n",
        "Wie jedoch anhand des nachstehenden Beispiels ersichtlich wird funktioniert die Bibliothek nicht sehr gut für Deutsch."
      ],
      "metadata": {
        "id": "Ivcja7W15jfn"
      }
    },
    {
      "cell_type": "code",
      "source": [
        "\n",
        "parser = WiktionaryParser()\n",
        "\n",
        "parser.set_default_language('german')\n",
        "word_info1 = parser.fetch('Capybara')\n",
        "\n",
        "# Alternative kann die Sprache auch gleich bei \"fetch\" inkludiert werden\n",
        "word_info2 = parser.fetch('Capybara', \"german\")\n",
        "\n",
        "parser.exclude_part_of_speech('noun')\n",
        "parser.include_relation('alternative forms')\n",
        "\n",
        "print(word_info1)\n",
        "print(word_info2)"
      ],
      "metadata": {
        "id": "cBAU9xU2wUJp"
      },
      "execution_count": null,
      "outputs": []
    },
    {
      "cell_type": "markdown",
      "source": [
        "Alternativ zur Verwendung einer existierenden Bibliothek um Informationen aus Wiktionary-Seiten zu laden, kann eine allgemeine Bibliothek zum Abrufen von HTTP-Seiten in Python names `requests` verwenden.\n",
        "\n",
        "Das Hypertext Transfer Protocol (HTTP) ist ein Protokoll zur Übertragung von Daten über ein Rechnernetz hinweg, wie etwa dem Internet. Dadurch können Websites in einem Webbrowser geladen werden, aber auch in Python.\n",
        "\n",
        "Erst muss wieder sichergestellt werden, dass die Bibliothek installiert ist."
      ],
      "metadata": {
        "id": "vqeQaxNWWkii"
      }
    },
    {
      "cell_type": "code",
      "source": [
        "# Installieren der Bibliotheken\n",
        "!pip install requests"
      ],
      "metadata": {
        "id": "Dbv7fJN37vwh"
      },
      "execution_count": null,
      "outputs": []
    },
    {
      "cell_type": "markdown",
      "source": [
        "Und hier ein Beispielcode für die Verwendung von requests. Um diese Informationen passend speichern zu können, müßten wir den Text jetzt noch bearbeiten, damit wir ein Format \"Sprache: Wort\" haben, z. B.: \"Spanisch: carpincho\".\n",
        "\n",
        "Hierfür nutzen wir eine verfügbare [API von Wiktionary](https://de.wiktionary.org/w/api.php). Application Programming Interface (API) oder Programmierschnittstelle ermöglicht externen Programmen eine direkte Anbindung an ein Softwaresystem - hier Wiktionary."
      ],
      "metadata": {
        "id": "ZZtEXWEIW1l1"
      }
    },
    {
      "cell_type": "code",
      "source": [
        "import requests\n",
        "\n",
        "word = 'Capybara'\n",
        "language = 'de'\n",
        "\n",
        "url = f'https://{language}.wiktionary.org/w/api.php'\n",
        "\n",
        "\n",
        "params = {\n",
        "    'action': 'parse',\n",
        "    'format': 'json',\n",
        "    'page': word,\n",
        "    'prop': 'wikitext',\n",
        "    'section' : 3,\n",
        "    'disabletoc': True\n",
        "}\n",
        "\n",
        "response = requests.get(url, params=params)\n",
        "word_info = response.json()[\"parse\"][\"wikitext\"][\"*\"]\n",
        "print(word_info)"
      ],
      "metadata": {
        "id": "6k9xgJb8HCVQ"
      },
      "execution_count": null,
      "outputs": []
    },
    {
      "cell_type": "markdown",
      "source": [
        "\n",
        "## **Lektion 6: Pandas**\n",
        "\n"
      ],
      "metadata": {
        "id": "JBPdQ1ewzdHc"
      }
    },
    {
      "cell_type": "markdown",
      "source": [
        "[Pandas](https://pandas.pydata.org/) ist eine Programmbibliothek in Python für Analyse, Darstellung und Verarbeitung von Daten. Um die Bibliothek zu verwenden, muss Sie wieder mit `import` importiert werden. Für unsere ersten Schritte in Pandas verwenden wir die Beispieldateien in Google Colab.\n",
        "\n",
        "Klicken Sie das Ordnersymbol in der rechten Leiste des Browsers und öffnen Sie durch einen Klick den Ordner \"sample_data\". Wir laden als Beispiel die Datei `california_housing_train.csv` mithilfe von Pandas. Dazu muss für die Datei der richtige Pfad angegeben werden, also die genaue Information auf welchem Laufwerk, in welchem Ordner und Unterordner sich die Datei befindet. Wenn Sie die Datei rechts markieren und auf die drei Punkte klicken, finden Sie die Option \"Copy path\"."
      ],
      "metadata": {
        "id": "Ng8EnZKazokT"
      }
    },
    {
      "cell_type": "code",
      "source": [
        "import pandas as pd\n",
        "\n",
        "file = \"/content/sample_data/california_housing_train.csv\"\n",
        "\n",
        "dataframe = pd.read_csv(file)"
      ],
      "metadata": {
        "id": "-UCRWV6dzmNr"
      },
      "execution_count": 358,
      "outputs": []
    },
    {
      "cell_type": "markdown",
      "source": [
        "Pandas besteht ähnlich einer Tabelle aus Spalten und Indizes."
      ],
      "metadata": {
        "id": "2IryMgJ62bD8"
      }
    },
    {
      "cell_type": "code",
      "source": [
        "print(dataframe.columns)\n",
        "\n",
        "for column in dataframe.columns:\n",
        "  print(column)\n",
        "\n",
        "print(dataframe.index)"
      ],
      "metadata": {
        "id": "wvv__kkX2hHm"
      },
      "execution_count": null,
      "outputs": []
    },
    {
      "cell_type": "markdown",
      "source": [
        "Pandas verfügt über Funktionen nur die obersten oder untersten Reihen auszugeben, was besonders für sehr große Dateien hilfreich ist."
      ],
      "metadata": {
        "id": "ITc-yR3m3hOJ"
      }
    },
    {
      "cell_type": "code",
      "source": [
        "print(\"Die obersten fünf Reihen\")\n",
        "print(dataframe.head())\n",
        "print()\n",
        "\n",
        "print(\"Die untersten zehn Reihen\")\n",
        "print(dataframe.tail(10))"
      ],
      "metadata": {
        "id": "c0kVFm5M36Xb"
      },
      "execution_count": null,
      "outputs": []
    },
    {
      "cell_type": "markdown",
      "source": [
        "Mithilfe der Funktion `loc` kann direkt eine bestimmter Index angesprochen werden."
      ],
      "metadata": {
        "id": "NRb5o402-e0i"
      }
    },
    {
      "cell_type": "code",
      "source": [
        "print(dataframe.loc[0])"
      ],
      "metadata": {
        "id": "HEugX1Di98Wn"
      },
      "execution_count": null,
      "outputs": []
    },
    {
      "cell_type": "markdown",
      "source": [
        "Pandas bietet auch eine Funktion um einen raschen statistischen Überblick über numerische Tabellen zu ermöglichen."
      ],
      "metadata": {
        "id": "k1C7K0u08WSu"
      }
    },
    {
      "cell_type": "code",
      "source": [
        "print(dataframe.describe())"
      ],
      "metadata": {
        "id": "F521h_qS8SMf"
      },
      "execution_count": null,
      "outputs": []
    },
    {
      "cell_type": "markdown",
      "source": [
        "Es kann auch ein existierendens Dictionary als Pandas Dataframe formatiert werden und direkt als CSV exportiert werden."
      ],
      "metadata": {
        "id": "mN6sqRM54sgm"
      }
    },
    {
      "cell_type": "code",
      "source": [
        "data = data = {'name': ['nick', 'david', 'joe', 'ross'],\n",
        "        'age': ['5', '10', '7', '6']}\n",
        "df1 = pd.DataFrame.from_dict(data)\n",
        "df1"
      ],
      "metadata": {
        "id": "adiBHBvF42BO"
      },
      "execution_count": null,
      "outputs": []
    },
    {
      "cell_type": "code",
      "source": [
        "df1.to_csv(\"data.csv\")"
      ],
      "metadata": {
        "id": "ni7EjUGv7FD5"
      },
      "execution_count": 256,
      "outputs": []
    },
    {
      "cell_type": "markdown",
      "source": [
        "👋 ⚒ **Aufgabe** 👋 ⚒ <br>\n",
        "Schreiben Sie die von Wiktionary erhaltenen Informationen zu \"python\" in ein Pandas DataFrame (die Variable `word_data_python` können Sie direkt wiederverwenden) und speichern Sie das Pandas DataFrame als Datei ab. Wenn Sie möchten, können Sie das Dictionary `word_data_python` besser formattieren, also `definitions` und `pronunciations` besser auflösen."
      ],
      "metadata": {
        "id": "E-uaBI1c42wG"
      }
    },
    {
      "cell_type": "code",
      "source": [
        "# Fügen Sie hier Ihren Code hier ein"
      ],
      "metadata": {
        "id": "xyBauHhR-Zgr"
      },
      "execution_count": null,
      "outputs": []
    },
    {
      "cell_type": "markdown",
      "source": [
        "-----------\n",
        "\n",
        "## **2. Praktische Übung: Arbeiten mit Wiktionary**\n",
        "\n",
        "Für diese praktische Übung haben Sie zwei verschiedene Möglichkeiten zur Auswahl:\n",
        "\n",
        "**A)** Erstellen Sie ein **Mini-Wörterbuch** für Tennisbegriffe indem Sie die Wortklasse und Definitionen für die folgende Wortlise in Wiktionary abfragen, in einem Dictionary speichern und zuletzt mithilfe von Pandas als CSV-Datei abspeichern.\n",
        "\n",
        "**B)** Rufen Sie mithilfe von `requests` alle **Übersetzungen** der nachstehenden Tennisbegriffe auf Witkionary ab. Sie erhalten einen String als Antwort, aus welchem Sie erst die mehrsprachigen Entsprechungen filtern müssen. Auch hier sollte das Ergebnis mithilfe von Pandas als CSV-Datei abgespeichert werden.\n",
        "\n",
        "Nur eine der beiden Aufgabenstellung sollte fertiggestellt und abgegeben werden. Freiwillig steht es Ihnen selbstverständlich frei beide Aufgabenstellungen zur Übung abzugeben.\n"
      ],
      "metadata": {
        "id": "sisEGZsrMzv4"
      }
    },
    {
      "cell_type": "markdown",
      "source": [
        "👋 ⚒ **Aufgabe A** 👋 ⚒ <br>\n",
        "Der folgende Code ist für Aufgabenstellung A) vorgesehen."
      ],
      "metadata": {
        "id": "0XvhfYEPVq2n"
      }
    },
    {
      "cell_type": "code",
      "source": [
        "from wiktionaryparser import WiktionaryParser\n",
        "\n",
        "word_list = [\"tennis\", \"backhand\", \"forehand\", \"racket\", \"player\"]\n",
        "\n",
        "# Initialisieren der Klasse WitkionaryParser()\n",
        "parser = WiktionaryParser()\n",
        "\n",
        "parser.set_default_language('english')\n",
        "\n",
        "# Fügen Sie hier Ihren Code hier ein\n",
        "# Ändern Sie die folgende Zeile, damit für alle Wörter aus der Liste die Definition und Wortklasse abgerufen wird\n",
        "#word_info = parser.fetch(word)\n"
      ],
      "metadata": {
        "id": "5xhU3_DU8RNr"
      },
      "execution_count": null,
      "outputs": []
    },
    {
      "cell_type": "markdown",
      "source": [
        "👋 ⚒ **Aufgabe B** 👋 ⚒ <br>\n",
        "Der folgende Code ist für Aufgabenstellung B) vorgesehen. Für das Auffinden der Entsprechungen in verschiedenen Sprachen kann am einfachsten die Funktion `split()` verwendet werden. Sie können einen String nicht nur auf Basis von Leerzeichen teilen, sondern auch auf Basis von bestimmten zeichen, wie z. B. `split(\"{\")` und auch `split(\"|\")`. Bessere Lösungen werden wir im weiteren Verlauf der Übung kennenlernen."
      ],
      "metadata": {
        "id": "5URUN9W1YpZN"
      }
    },
    {
      "cell_type": "code",
      "source": [
        "import requests\n",
        "\n",
        "url = f'https://en.wiktionary.org/w/api.php'\n",
        "\n",
        "word_list = [\"tennis\", \"backhand\", \"forehand\", \"racket\", \"player\"]\n",
        "\n",
        "params = {\n",
        "    'action': 'parse',\n",
        "    'format': 'json',\n",
        "    'page': word,\n",
        "    'prop': 'wikitext',\n",
        "    'section' : 7,\n",
        "    'disabletoc': True\n",
        "}\n",
        "\n",
        "response = requests.get(url, params=params)\n",
        "word_info = response.json()[\"parse\"][\"wikitext\"][\"*\"]\n",
        "print(word_info)"
      ],
      "metadata": {
        "id": "K8-Wo4Us_ZcT"
      },
      "execution_count": null,
      "outputs": []
    }
  ]
}