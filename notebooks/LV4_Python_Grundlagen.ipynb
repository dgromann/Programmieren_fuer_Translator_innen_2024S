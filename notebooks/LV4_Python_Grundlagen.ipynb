{
  "nbformat": 4,
  "nbformat_minor": 0,
  "metadata": {
    "colab": {
      "provenance": [],
      "authorship_tag": "ABX9TyMA+5zTp+BIrx8eVquSeO6z",
      "include_colab_link": true
    },
    "kernelspec": {
      "name": "python3",
      "display_name": "Python 3"
    },
    "language_info": {
      "name": "python"
    }
  },
  "cells": [
    {
      "cell_type": "markdown",
      "metadata": {
        "id": "view-in-github",
        "colab_type": "text"
      },
      "source": [
        "<a href=\"https://colab.research.google.com/github/dgromann/Programmieren_fuer_Translator_innen_2024S/blob/main/notebooks/LV4_Python_Grundlagen.ipynb\" target=\"_parent\"><img src=\"https://colab.research.google.com/assets/colab-badge.svg\" alt=\"Open In Colab\"/></a>"
      ]
    },
    {
      "cell_type": "markdown",
      "source": [
        "# **2024S: Einführung ins Programmieren für Translator:innen, Übung (UE), 340273-1**\n",
        "\n",
        "### **Speichern Sie dieses Notebook**\n",
        "\n",
        "Dieses Notebook können Sie jederzeit und in jedem Browser erneut von GitHub (bzw. dem direkten Link in Moodle) öffnen. Um jedoch Ihre eigenen Lösungen und Ihren Code zu speichern, wählen Sie bitte **Datei** bzw. **File** und eine der Speicheroptionen. Die einfachste Speicheroption ist in Google Drive, da dadurch Änderungen im Notebook automatisch im Hintergrund gespeichert werden.\n",
        "\n",
        "Für die Abgabe der praktischen Übungen müssen Sie jedoch das Jupyter-Notebook als .ipynb Datei herunterladen. Dazu klicken Sie auf **Datei** oder **File** und **Herunterladen** oder **Download** und wählen das Format .ipynb aus."
      ],
      "metadata": {
        "id": "dKCEAFZV7zSy"
      }
    },
    {
      "cell_type": "markdown",
      "source": [
        "### **Notation des Notebooks**\n",
        "\n",
        "Fragen und praktische Aufgaben werden hier als ❓**Frage**❓ bzw. 👋 ⚒ **Aufgabe** 👋 ⚒ gekennzeichnet. ❓**Fragen**❓ fordern Sie dazu auf Überlegungen anzustellen bevor Sie etwas praktisch testen. 👋 ⚒ **Aufgaben** 👋 ⚒ erfordern das aktive Schreiben von Code in der grauen Code-Zelle nach der Beschreibung der Aufgabe.\n"
      ],
      "metadata": {
        "id": "T75MPoqc7-cC"
      }
    },
    {
      "cell_type": "markdown",
      "source": [
        "-----------\n",
        "## **Lektion 8: Python üben**\n",
        "\n",
        "In dieser Lektion üben wir nochmals die `for`-Schleife, `if`-Anweisungen und Funktionen sowie den Datentyp Liste und Dictionary."
      ],
      "metadata": {
        "id": "-oWMvBJ3766f"
      }
    },
    {
      "cell_type": "markdown",
      "source": [
        "👋 ⚒ **Aufgaben** 👋 ⚒ <br>\n",
        "Erstellen Sie eine `for`-Schleife die jedes Wort aus der nachstehenden Liste ausgibt, dass exakt fünf Buchstaben hat, und alle anderen Wörter nicht ausgibt."
      ],
      "metadata": {
        "id": "IHxqTafgJ_Sc"
      }
    },
    {
      "cell_type": "code",
      "source": [
        "fruits = [\"apple\", \"banana\", \"grape\", \"kiwi\", \"mango\", \"orange\", \"lemon\"]\n",
        "# Fügen Sie hier Ihren Code hier ein"
      ],
      "metadata": {
        "id": "FxAbMeK-LKfL"
      },
      "execution_count": 29,
      "outputs": []
    },
    {
      "cell_type": "markdown",
      "source": [
        "Eine `for`-Schleife kann an einem bestimmten Punkt unterbrochen werden. Hier zum Beispiel brechen wir das Durchlaufen der Liste ab, sobald das Listenelement \"kiwi\" erreicht wurde."
      ],
      "metadata": {
        "id": "ZrTFhb6NO-40"
      }
    },
    {
      "cell_type": "code",
      "source": [
        "for fruit in fruits:\n",
        "  print(fruit)\n",
        "  if fruit == \"kiwi\":\n",
        "    break"
      ],
      "metadata": {
        "id": "s2kV6xwcPC2f"
      },
      "execution_count": null,
      "outputs": []
    },
    {
      "cell_type": "markdown",
      "source": [
        "❓**Frage**❓<br>\n",
        "Wie ändert sich die Ausgabe wenn die Zeile mit der `print`-Ausgabe innerhalb der `if`-Anweisung steht?"
      ],
      "metadata": {
        "id": "thMKh3B_QTig"
      }
    },
    {
      "cell_type": "code",
      "source": [
        "for fruit in fruits:\n",
        "  if fruit == \"kiwi\":\n",
        "    print(fruit)\n",
        "    break"
      ],
      "metadata": {
        "id": "dyoYKTOrQhqk"
      },
      "execution_count": null,
      "outputs": []
    },
    {
      "cell_type": "markdown",
      "source": [
        "Eine Programmbibliothek, die es erlaubt zufällige Zahlen zu generieren, heißt `random`. Wir können mit `random.randint(1,6)` Zahlen zwischen 1 und 6 generieren und damit beispielsweise den Wurf eines Würfels simulieren.\n",
        "\n",
        "Damit wir die Funktionen von `random` nutzen können, müssen wir erst die Programmbibliothek importieren. Jedes Mal wenn Sie die nachstehende Code-Zelle ausführen, erhalten Sie eine Zahl zwischen 1 und 6."
      ],
      "metadata": {
        "id": "YEgnHv7oJqcO"
      }
    },
    {
      "cell_type": "code",
      "source": [
        "import random\n",
        "\n",
        "throw = random.randint(1,6)\n",
        "print(throw)"
      ],
      "metadata": {
        "id": "X_6kpNozKLib"
      },
      "execution_count": null,
      "outputs": []
    },
    {
      "cell_type": "markdown",
      "source": [
        "👋 ⚒ **Aufgaben** 👋 ⚒ <br>\n",
        "Erstellen Sie eine `for`-Schleife, die maximal 12 mal den Würfel wirft (`range(12)`) und wenn die Augenzahl 6 erreicht wird stoppt. Verwenden Sie dazu den Code aus der vorherigen Code-Zelle.\n",
        "\n",
        "Zählen Sie dabei mit, wie oft der Würfel geworfen werden mußte, bis die Augenzahl 6 geworfen wurde."
      ],
      "metadata": {
        "id": "Enr1xnqJHmKn"
      }
    },
    {
      "cell_type": "code",
      "source": [
        "# Fügen Sie hier Ihren Code hier ein"
      ],
      "metadata": {
        "id": "e2U8tf8PHmkl"
      },
      "execution_count": null,
      "outputs": []
    },
    {
      "cell_type": "markdown",
      "source": [
        "Mithilfe der `for`-Schleife und der Funktion `enumerate` können wir uns auch die Position des Elements in der Liste ausgeben lassen. In der nachstehenden Schleife wird der Index (die Position in der Liste) sowie das Element selbst zurückgegeben."
      ],
      "metadata": {
        "id": "YCuoe1orN0a3"
      }
    },
    {
      "cell_type": "code",
      "source": [
        "for index, fruit in enumerate(fruits):\n",
        "  print(\"Index: \",index, \"fruit:\", fruit)"
      ],
      "metadata": {
        "id": "0xWqHCdzOWZ7"
      },
      "execution_count": null,
      "outputs": []
    },
    {
      "cell_type": "markdown",
      "source": [
        "Funktionen sind zur Erinnerung wie folgt aufgebaut.\n",
        "\n",
        "```\n",
        "def function_name (paramter):\n",
        "  lines of code here\n",
        "  return result\n",
        "```\n",
        "\n",
        "Die Verwendung von `return` gibt den jeweiligen Wert zurück und beendet die Funktion. Im folgenden Beispiel gibt es zwei `return`-Anweisungen, einmal wenn das Element \"kiwi\" in der Liste ist und ein zweites Mal nach Beendigung der Schleife, sollte das Element \"kiwi\" nicht in der Liste gefunden werden."
      ],
      "metadata": {
        "id": "94nHIj1MQwFY"
      }
    },
    {
      "cell_type": "code",
      "source": [
        "def finding_the_kiwi(list1):\n",
        "  for elem in list1:\n",
        "    if elem == \"kiwi\":\n",
        "      return \"In dieser Liste gibt es eine kiwi\"\n",
        "  return \"In dieser Liste gibt es keine kiwi\"\n",
        "\n",
        "result = finding_the_kiwi(fruits)\n",
        "print(result)"
      ],
      "metadata": {
        "id": "xfzxLQvuYLC3"
      },
      "execution_count": null,
      "outputs": []
    },
    {
      "cell_type": "markdown",
      "source": [
        "Wenn alle Elemente der Liste durchlaufen wurden und die Bedingung `if elem == \"kiwi\"` nie erfüllt wurde, dann gibt die Funktion \"In dieser Liste gibt es keine kiwi\" zurück:"
      ],
      "metadata": {
        "id": "nrggidPSY63h"
      }
    },
    {
      "cell_type": "code",
      "source": [
        "result1 = finding_the_kiwi([\"apple\", \"orange\", \"mango\"])\n",
        "print(result1)"
      ],
      "metadata": {
        "id": "pSooF6w1ZJ8Y"
      },
      "execution_count": null,
      "outputs": []
    },
    {
      "cell_type": "markdown",
      "source": [
        "👋 ⚒ **Aufgaben** 👋 ⚒ <br>\n",
        "Schreiben Sie die Funktion `finding_the_kiwi`so um, dass nicht nur zurückgegeben wird ob die Liste das Element \"kiwi\" enthält, sondern auch an welcher Position \"kiwi\" in der Liste steht."
      ],
      "metadata": {
        "id": "-lgL6RADZjt6"
      }
    },
    {
      "cell_type": "code",
      "source": [
        "# Fügen Sie hier Ihren Code hier ein"
      ],
      "metadata": {
        "id": "9EC85_ZVLrlh"
      },
      "execution_count": null,
      "outputs": []
    },
    {
      "cell_type": "markdown",
      "source": [
        "Führen Sie die folgende Code-Zelle aus, damit wir die Daten des Dictionarys `capitals`für die weitere Bearbeitung zur Verfügung haben.  "
      ],
      "metadata": {
        "id": "WYGUPR0UJ-GH"
      }
    },
    {
      "cell_type": "code",
      "execution_count": 87,
      "metadata": {
        "id": "OFEs4qJD7tEj"
      },
      "outputs": [],
      "source": [
        "capitals = {\n",
        "    \"Albanien\": \"Tirana\",\n",
        "    \"Belgien\":\"Brüssel\",\n",
        "    \"Bulgarien\": \"Sofia\",\n",
        "    \"Dänemark\": \"Kopenhagen\",\n",
        "    \"Deutschland\": \"Berlin\",\n",
        "    \"Finnland\": \"Helsinki\",\n",
        "    \"Frankreich\": \"Paris\",\n",
        "    \"Griechenland\": \"Athen\",\n",
        "    \"Island\": \"Reykjavík\",\n",
        "    \"Italien\": \"Rom\",\n",
        "    \"Niederlande\": \"Amsterdam\",\n",
        "    \"Norwegen\": \"Oslo\",\n",
        "    \"Österreich\": \"Wien\",\n",
        "    \"Polen\": \"Warschau\",\n",
        "    \"Portugal\": \"Lissabon\",\n",
        "    \"Spanien\": \"Madrid\",\n",
        "    \"Schweden\": \"Stockholm\",\n",
        "    \"Schweiz\": \"Bern\",\n",
        "    \"Vereinigtes Königreich\": \"London\"\n",
        "    }"
      ]
    },
    {
      "cell_type": "markdown",
      "source": [
        "Um die einzelnen Werte eines Dictionarys durchlaufen zu können, gibt es die Funktion `items()`. Einzelne Werte im Dictionary können aber direkt mit dem \"key\" angesprochen werden, wenn uns der \"key\" bekannt ist."
      ],
      "metadata": {
        "id": "UcC4x1tNTK8z"
      }
    },
    {
      "cell_type": "code",
      "source": [
        "for key, value in capitals.items():\n",
        "  print(key, value)"
      ],
      "metadata": {
        "id": "nNgQa78cTKbe"
      },
      "execution_count": null,
      "outputs": []
    },
    {
      "cell_type": "markdown",
      "source": [
        "Die \"keys\" und \"values\" eines Dictionarys können direkt als Listen abgefragt werden."
      ],
      "metadata": {
        "id": "bWlasEBrTc2o"
      }
    },
    {
      "cell_type": "code",
      "source": [
        "print(capitals.keys())\n",
        "print(capitals.values())"
      ],
      "metadata": {
        "id": "u-9Az7H6Ti1W"
      },
      "execution_count": null,
      "outputs": []
    },
    {
      "cell_type": "markdown",
      "source": [
        "Dadurch können wir dann überprüfen, ob ein bestimmter \"key\" in unserem Dictionary vorhanden ist. Sollte der \"key\" vorhanden sein, kann der im \"key\" hinterlegte \"value\" zurückgegeben werden."
      ],
      "metadata": {
        "id": "lp5yBSbbTtyi"
      }
    },
    {
      "cell_type": "code",
      "source": [
        "if \"Griechenland\" in capitals.keys():\n",
        "  print(capitals[\"Griechenland\"])"
      ],
      "metadata": {
        "id": "DejjlTzATxQO"
      },
      "execution_count": null,
      "outputs": []
    },
    {
      "cell_type": "markdown",
      "source": [
        "👋 ⚒ **Aufgaben** 👋 ⚒ <br>\n",
        "Warum wird bei der folgenden Code-Zelle nichts ausgegeben und wie muss der angegebene \"key\" geändert werden, damit wir einen Wert aus dem Dictionary `capitals` bekommen?"
      ],
      "metadata": {
        "id": "N53ZulvnUTYG"
      }
    },
    {
      "cell_type": "code",
      "source": [
        "key = \"Australien\"\n",
        "if key in capitals.keys():\n",
        "  print(capitals[key])"
      ],
      "metadata": {
        "id": "fBmmL3lrUT1E"
      },
      "execution_count": 78,
      "outputs": []
    },
    {
      "cell_type": "markdown",
      "source": [
        "👋 ⚒ **Aufgaben** 👋 ⚒ <br>\n",
        "Schreiben Sie eine Funktion welcher ein Land übergeben wird und wenn dieses Land im Dictionary `capitals` enthalten ist, die entsprechende Hauptstadt zurückgibt. Wenn das Land nicht enthalten ist, sollte die Funktion eine entsprechende Rückmeldung zurückgeben."
      ],
      "metadata": {
        "id": "fgSnu4LHM-4j"
      }
    },
    {
      "cell_type": "code",
      "source": [
        "def finding_the_capital(country):\n",
        "  # Fügen Sie hier Ihren Code hier ein\n",
        "\n",
        "finding_the_capital(\"Österreich\")\n",
        "finding_the_capital(\"Australien\")"
      ],
      "metadata": {
        "id": "bwh6R-xfNK9h"
      },
      "execution_count": null,
      "outputs": []
    },
    {
      "cell_type": "markdown",
      "source": [
        "Nun schreiben wir eine einfache erste Funktion, die den Benutzer*innen ein europäisches Land zeigt und nach der Eingabe der entsprechenden Hauptstadt fragt.\n",
        "\n",
        "Die Eingabe von Benutzer*innen wird durch die vordefinierte Funktion `input` ermöglicht. Dadurch kann  die Antwort aus der Benutzeroberfläche direkt in Python weiterverarbeitet werden."
      ],
      "metadata": {
        "id": "EEChuh8A9Hzh"
      }
    },
    {
      "cell_type": "code",
      "source": [
        "import random\n",
        "\n",
        "def capitals_quiz(total, capitals):\n",
        "  states = capitals.keys()\n",
        "  print(\"Kennen Sie alle %d Hauptstädte?\" % total)\n",
        "  correct = 0\n",
        "  for i in range(total):\n",
        "    state = random.sample(list(states), total)\n",
        "    capital = capitals[state[i]]\n",
        "    guess = input(\"Wie heißt die Hauptstadt von \"+state[i]+\"? \")\n",
        "\n",
        "    if guess == capital:\n",
        "      print(\"Richtig!\")\n",
        "      correct += 1\n",
        "    else:\n",
        "      print(\"Falsch. Die Hauptstadt von \"+state[i]+\" heißt \"+capital+\".\")\n",
        "  return correct\n",
        "\n",
        "total = 5\n",
        "correct = capitals_quiz(total, capitals)\n",
        "print(\"Von %d Ländern haben Sie %d Hauptstädte richtig!\" % (total, correct))\n"
      ],
      "metadata": {
        "id": "AWv0CH2j9OH4"
      },
      "execution_count": null,
      "outputs": []
    },
    {
      "cell_type": "markdown",
      "source": [
        "## **Zusätzliche Übung** <br>\n",
        "Alle die schnell mit diesem Notebook fertig sind, können die folgende herausfordernde Aufgabe versuchen.\n",
        "\n",
        "👋 ⚒ **Aufgaben** 👋 ⚒ <br>\n",
        "Erstellen Sie ein kleines mathematisches Multiplikationsquiz. Erstellen Sie dazu eine Funktion der eine Gesamtanzahl an versuchen übergeben wird z. B. `total`. Die Funktion soll dann zwei Zahlen zufällig erzeugen und die Benutzer*innen nach dem Multiplikationsergebnis der beiden Zahlen fragen.\n",
        "\n",
        "Übrprüfen Sie dann, ob das eingegebene Ergebnis richtig ist und wie viele von x (x können Sie hier selbst festlegen) Versuchen richtig eingegeben wurden.\n",
        "\n",
        "Wie groß die zu multiplizierenden Zahlen sind, bleibt ganz Ihnen überlassen. Definiert werden die Zahlen durch die Werte in den Klammern von `random.randint()`."
      ],
      "metadata": {
        "id": "rzuUgLQfROcP"
      }
    },
    {
      "cell_type": "code",
      "source": [
        "# Fügen Sie hier Ihren Code hier ein"
      ],
      "metadata": {
        "id": "TiJSJ0YJRNzN"
      },
      "execution_count": null,
      "outputs": []
    }
  ]
}