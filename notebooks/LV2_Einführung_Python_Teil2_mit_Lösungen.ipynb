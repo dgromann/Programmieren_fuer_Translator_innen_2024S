{
  "nbformat": 4,
  "nbformat_minor": 0,
  "metadata": {
    "colab": {
      "provenance": [],
      "authorship_tag": "ABX9TyN6Ax5pmZ/VicFFd7LsV1kv",
      "include_colab_link": true
    },
    "kernelspec": {
      "name": "python3",
      "display_name": "Python 3"
    },
    "language_info": {
      "name": "python"
    }
  },
  "cells": [
    {
      "cell_type": "markdown",
      "metadata": {
        "id": "view-in-github",
        "colab_type": "text"
      },
      "source": [
        "<a href=\"https://colab.research.google.com/github/dgromann/Programmieren_fuer_Translator_innen_2024S/blob/main/notebooks/LV2_Einf%C3%BChrung_Python_Teil2_mit_L%C3%B6sungen.ipynb\" target=\"_parent\"><img src=\"https://colab.research.google.com/assets/colab-badge.svg\" alt=\"Open In Colab\"/></a>"
      ]
    },
    {
      "cell_type": "markdown",
      "source": [
        "# **2024S: Einführung ins Programmieren für Translator:innen, Übung (UE), 340273-1**\n",
        "\n"
      ],
      "metadata": {
        "id": "ZFnaUInsMcfD"
      }
    },
    {
      "cell_type": "markdown",
      "source": [
        "### **Speichern Sie dieses Notebook**\n",
        "\n",
        "Dieses Notebook können Sie jederzeit und in jedem Browser erneut von GitHub (bzw. dem direkten Link in Moodle) öffnen. Um jedoch Ihre eigenen Lösungen und Ihren Code zu speichern, wählen Sie bitte **Datei** bzw. **File** und eine der Speicheroptionen. Die einfachste Speicheroption ist in Google Drive, da dadurch Änderungen im Notebook automatisch im Hintergrund gespeichert werden.\n",
        "\n",
        "Für die Abgabe der praktischen Übungen müssen Sie jedoch das Jupyter-Notebook als .ipynb Datei herunterladen. Dazu klicken Sie auf **Datei** oder **File** und **Herunterladen** oder **Download** und wählen das Format .ipynb aus."
      ],
      "metadata": {
        "id": "4V4rO3rAMl5E"
      }
    },
    {
      "cell_type": "markdown",
      "source": [
        "### **Notation des Notebooks**\n",
        "\n",
        "Fragen und praktische Aufgaben werden hier als ❓**Frage**❓ bzw. 👋 ⚒ **Aufgabe** 👋 ⚒ gekennzeichnet. ❓**Fragen**❓ fordern Sie dazu auf Überlegungen anzustellen bevor Sie etwas praktisch testen. 👋 ⚒ **Aufgaben** 👋 ⚒ erfordern das aktive Schreiben von Code in der grauen Code-Zelle nach der Beschreibung der Aufgabe.\n"
      ],
      "metadata": {
        "id": "3oFTRxflMmWR"
      }
    },
    {
      "cell_type": "markdown",
      "source": [
        "-----------\n",
        "\n",
        "## **Lektion 3: Bedingungen**\n",
        "\n",
        "Die sogenannte `if`-Anweisung überprüft ob eine Bedingung erfüllt wird. Die Bedingung steht in derselben Zeile nach dem `if`. Alle Zeilen die nach der Zeile mit dem `if` angeführt sind werden nur ausgegeben wenn die if-Bedingung erfüllt ist."
      ],
      "metadata": {
        "id": "PhoDJeplQU5L"
      }
    },
    {
      "cell_type": "code",
      "execution_count": 1,
      "metadata": {
        "id": "hNE5MU_PMT1K",
        "colab": {
          "base_uri": "https://localhost:8080/"
        },
        "outputId": "ad8818ce-f80e-4041-dd89-dd7a3829240e"
      },
      "outputs": [
        {
          "output_type": "stream",
          "name": "stdout",
          "text": [
            "Ja, 10 ist kleiner als 20.\n"
          ]
        }
      ],
      "source": [
        "if 10 < 20:\n",
        "  print(\"Ja, 10 ist kleiner als 20.\")"
      ]
    },
    {
      "cell_type": "markdown",
      "source": [
        "Die `if`-Anweisung kann auch mit Strings verwendet werden. Im folgenden Beispiel wird auch gezeigt wie Sie überprüfen ob ein String in einem anderen String enthalten ist und wie Sie Anführungszeichen tatsächlich als Bestandteil des Strings ausgeben können."
      ],
      "metadata": {
        "id": "_OhnCdA1SIOX"
      }
    },
    {
      "cell_type": "code",
      "source": [
        "if \"t\" in \"test\":\n",
        "  print(\"Ja, das Wort test enthält den Buchstaben \\\"t\\\".\")"
      ],
      "metadata": {
        "id": "PyVdPxPHSZjl",
        "colab": {
          "base_uri": "https://localhost:8080/"
        },
        "outputId": "9e59d30d-d2e9-48ea-925c-0261b62f0952"
      },
      "execution_count": 2,
      "outputs": [
        {
          "output_type": "stream",
          "name": "stdout",
          "text": [
            "Ja, das Wort test enthält den Buchstaben \"t\".\n"
          ]
        }
      ]
    },
    {
      "cell_type": "markdown",
      "source": [
        "Auf die gleiche Weise kann überprüft werden ob ein Element in einer Liste ist.\n",
        "\n",
        "❓**Frage**❓ <br>\n",
        "Welche der folgenden Zeilen wird ausgegeben und welche nicht?"
      ],
      "metadata": {
        "id": "FzbokoqNSxte"
      }
    },
    {
      "cell_type": "code",
      "source": [
        "if \"apple\" in [\"kiwi\", \"banana\", \"orange\", \"apple\"]:\n",
        "  print(\"Ja, die Liste enthält das Element \\\"apple\\\".\")\n",
        "\n",
        "if \"kiw\" in [\"kiwi\", \"banana\", \"orange\", \"apple\"]:\n",
        "  print(\"Ja, die Liste enthält das Element \\\"kiw\\\".\")\n",
        "\n",
        "if 1.1 in [1, 2.0, 3.4, 4, 5]:\n",
        "  print(\"Ja, die Liste enthält das Element 1.1\")\n",
        "\n",
        "if 1 in [1, 2.0, 3.4, 4, 5]:\n",
        "  print(\"Ja, die Liste enthält das Element 1\")\n",
        "\n",
        "print(\"Nicht alle Zeilen werden ausgegeben.\")"
      ],
      "metadata": {
        "id": "wlo7VamLS2v3",
        "colab": {
          "base_uri": "https://localhost:8080/"
        },
        "outputId": "19ac976d-75a8-42f1-8a72-9e0085516d50"
      },
      "execution_count": 3,
      "outputs": [
        {
          "output_type": "stream",
          "name": "stdout",
          "text": [
            "Ja, die Liste enthält das Element \"apple\".\n",
            "Ja, die Liste enthält das Element 1\n",
            "Nicht alle Zeilen werden ausgegeben.\n"
          ]
        }
      ]
    },
    {
      "cell_type": "markdown",
      "source": [
        "Bedingungen können mit `and` in einer Zeile kombiniert werden. Dann ist das Ergebnis nur wahr und der Code nach der `if`-Anweisung wird nur ausgeführt wenn beide Bedingungen rechts und links von `and` zutreffen."
      ],
      "metadata": {
        "id": "F2O4VgXpaDMk"
      }
    },
    {
      "cell_type": "code",
      "source": [
        "age = 22\n",
        "\n",
        "if age > 18 and age < 65:\n",
        "  discount = 5\n",
        "  print(\"Der Rabatt beträgt\", discount, \"Prozent\")"
      ],
      "metadata": {
        "id": "2kHSz48eaW8Y",
        "colab": {
          "base_uri": "https://localhost:8080/"
        },
        "outputId": "508cd0c0-9ffe-4ab9-c7f2-19abaec1ad12"
      },
      "execution_count": 4,
      "outputs": [
        {
          "output_type": "stream",
          "name": "stdout",
          "text": [
            "Der Rabatt beträgt 5 Prozent\n"
          ]
        }
      ]
    },
    {
      "cell_type": "markdown",
      "source": [
        "Es kann mit `or` in einer Zeile überprüft werden, ob eine von zwei Bedinungen zutrifft. Nur wenn eine der beiden Bedingungen zutrifft, wird der Code ausgeführt.\n"
      ],
      "metadata": {
        "id": "fk27UHzRaQC8"
      }
    },
    {
      "cell_type": "code",
      "source": [
        "age = 16\n",
        "\n",
        "if age < 18 or age > 65:\n",
        "  discount = 20\n",
        "  print(\"Der Rabatt beträgt\", discount, \"Prozent\")"
      ],
      "metadata": {
        "id": "U_xIbUgSfzY_",
        "colab": {
          "base_uri": "https://localhost:8080/"
        },
        "outputId": "00f7e2a8-819b-47d2-d90f-75a86e3006a4"
      },
      "execution_count": 5,
      "outputs": [
        {
          "output_type": "stream",
          "name": "stdout",
          "text": [
            "Der Rabatt beträgt 20 Prozent\n"
          ]
        }
      ]
    },
    {
      "cell_type": "markdown",
      "source": [
        "👋 ⚒ **Aufgabe** 👋 ⚒ <br>\n",
        "Überprüfen Sie mithilfe von einer Bedingung ob das folgende Wort die Buchstabenfolgen `un` und `lich` beinhalten."
      ],
      "metadata": {
        "id": "6vUV_c5Fgq5W"
      }
    },
    {
      "cell_type": "code",
      "source": [
        "my_word = \"unheimlich\"\n",
        "\n",
        "# Fügen Sie hier Ihren Code hier ein\n",
        "if \"un\" in my_word and \"lich\" in my_word:\n",
        "  print(\"Ja, das Wort enthält sowohl \\\"un\\\" als auch \\\"lich\\\".\")"
      ],
      "metadata": {
        "id": "AQUlGTCTgr_R",
        "colab": {
          "base_uri": "https://localhost:8080/"
        },
        "outputId": "acfc988c-a515-4121-8751-f929f708968d"
      },
      "execution_count": 7,
      "outputs": [
        {
          "output_type": "stream",
          "name": "stdout",
          "text": [
            "Ja, das Wort enthält sowohl \"un\" als auch \"lich\".\n"
          ]
        }
      ]
    },
    {
      "cell_type": "markdown",
      "source": [
        "Es können auch mehrere `if`-Anweisungen ineinander verschachtelt werden, indem die Zeilen eingerückt werden.\n",
        "\n",
        "❓**Frage**❓ <br>\n",
        "Wird in der folgenden Code-Zelle überhaupt ein Rabatt gewährt und wenn ja, wie hoch ist dieser?"
      ],
      "metadata": {
        "id": "LmuzbrofUDoh"
      }
    },
    {
      "cell_type": "code",
      "source": [
        "name = \"Max Mustermann\"\n",
        "age = 16\n",
        "customer_list = [\"Max Mustermann\", \"Hans Meier\", \"Tom Tester\", \"Susanne Schmidt\", \"Felix Faux\"]\n",
        "discount = 0\n",
        "\n",
        "if name in customer_list:\n",
        "  print(\"Es handelt sich um einen bestehenden Kunden.\")\n",
        "\n",
        "  if age > 18 and age < 65:\n",
        "    discount =  5\n",
        "\n",
        "  if age < 18 or age > 65:\n",
        "    discount = 20\n",
        "\n",
        "  print(\"Der Rabatt beträgt\", discount, \"Prozent\")\n"
      ],
      "metadata": {
        "id": "Wgolw3IbVDlu",
        "colab": {
          "base_uri": "https://localhost:8080/"
        },
        "outputId": "b5b2e72c-0e60-4912-980a-b7f3e04e298e"
      },
      "execution_count": 8,
      "outputs": [
        {
          "output_type": "stream",
          "name": "stdout",
          "text": [
            "Es handelt sich um einen bestehenden Kunden.\n",
            "Der Rabatt beträgt 20 Prozent\n"
          ]
        }
      ]
    },
    {
      "cell_type": "markdown",
      "source": [
        "👋 ⚒ **Aufgabe** 👋 ⚒ <br>\n",
        "Wie kann die Bedingung angepasst werden, um zu überprüfen ob der Wert der Variable genau einem Zielwert entspricht?  "
      ],
      "metadata": {
        "id": "XO8bLsFWivFm"
      }
    },
    {
      "cell_type": "code",
      "source": [
        "age = 16\n",
        "\n",
        "# Fügen Sie hier Ihren Code hier ein\n",
        "if age == 16:\n",
        "  print(\"Ja, das Alter ist exak 16.\")"
      ],
      "metadata": {
        "id": "iNDCr6O3jF2v",
        "colab": {
          "base_uri": "https://localhost:8080/"
        },
        "outputId": "91432f14-9273-4dc3-934e-fab135b817c9"
      },
      "execution_count": 9,
      "outputs": [
        {
          "output_type": "stream",
          "name": "stdout",
          "text": [
            "Ja, das Alter ist exak 16.\n"
          ]
        }
      ]
    },
    {
      "cell_type": "markdown",
      "source": [
        "Jetzt wissen Sie wie `if`-Anweisungen verwendet werden können. Manchmal wollen wir aber einem Pfad folgen, wenn die Bedingung erfüllt wird und einem anderen, wenn die Bedingung nicht erfüllt wird.\n",
        "\n",
        "❓**Frage**❓ <br>\n",
        "Wie muss die Variable `age` angepasst werden, damit der Code nach `else` ausgeführt wird?"
      ],
      "metadata": {
        "id": "GfQKp6b1jOYa"
      }
    },
    {
      "cell_type": "code",
      "source": [
        "# Anpassung müsste auf eine Zahl größer 16 erfolgen\n",
        "age = 15\n",
        "\n",
        "print(\"Das Alter ist\", age)\n",
        "if age < 16:\n",
        "  print(\"Die Person darf noch nicht wählen.\")\n",
        "else:\n",
        "  print(\"Die Person darf wählen.\")"
      ],
      "metadata": {
        "id": "STMrkHIGjwsE",
        "colab": {
          "base_uri": "https://localhost:8080/"
        },
        "outputId": "63ff7576-b90f-4758-9236-33f9fe967f81"
      },
      "execution_count": 10,
      "outputs": [
        {
          "output_type": "stream",
          "name": "stdout",
          "text": [
            "Das Alter ist 15\n",
            "Die Person darf noch nicht wählen.\n"
          ]
        }
      ]
    },
    {
      "cell_type": "markdown",
      "source": [
        "## **Lektion 4: `for`-Schleifen**\n",
        "\n",
        "\n",
        "Eine `for`-Schleife iteriert über jede Form der Folge von Zeichen, Listen, Sätzen bis zu komplexeren Datentypen. Zum Beispiel:\n"
      ],
      "metadata": {
        "id": "XHpBpKWjkzfx"
      }
    },
    {
      "cell_type": "code",
      "source": [
        "# Beispiel String\n",
        "my_string = \"banana\"\n",
        "for element in my_string:\n",
        "  print(element)"
      ],
      "metadata": {
        "id": "Ck2dcyp_mUCt",
        "colab": {
          "base_uri": "https://localhost:8080/"
        },
        "outputId": "5d3d388f-0f62-4b18-f7b1-800ad5cd674e"
      },
      "execution_count": 11,
      "outputs": [
        {
          "output_type": "stream",
          "name": "stdout",
          "text": [
            "b\n",
            "a\n",
            "n\n",
            "a\n",
            "n\n",
            "a\n"
          ]
        }
      ]
    },
    {
      "cell_type": "markdown",
      "source": [
        "❓**Frage**❓ <br>\n",
        "Was denken Sie passiert wenn Sie die Zeile `print(\"Jedes Listenelement einzeln\")` innerhalb der`for`-Schleife ausgeben?"
      ],
      "metadata": {
        "id": "v0krkc30myvU"
      }
    },
    {
      "cell_type": "code",
      "source": [
        "# Beispiel Liste\n",
        "my_list = [\"kiwi\", \"banana\", \"orange\", \"apple\"]\n",
        "print(\"Gesamte Liste\", my_list)\n",
        "print(\"Jedes Listenelement einzeln\")\n",
        "for element in my_list:\n",
        "  print(element)"
      ],
      "metadata": {
        "id": "mEI2iSsWmXaY",
        "colab": {
          "base_uri": "https://localhost:8080/"
        },
        "outputId": "0538d0e0-e3c6-4e71-fb88-e7a11e6bebd3"
      },
      "execution_count": 12,
      "outputs": [
        {
          "output_type": "stream",
          "name": "stdout",
          "text": [
            "Gesamte Liste ['kiwi', 'banana', 'orange', 'apple']\n",
            "Jedes Listenelement einzeln\n",
            "kiwi\n",
            "banana\n",
            "orange\n",
            "apple\n"
          ]
        }
      ]
    },
    {
      "cell_type": "markdown",
      "source": [
        "👋 ⚒ **Aufgabe** 👋 ⚒ <br>\n",
        "Wie kann jedes einzelne Wort im folgenden Satz extra ausgegeben werden?\n",
        "\n"
      ],
      "metadata": {
        "id": "vez5AT_hnoxJ"
      }
    },
    {
      "cell_type": "code",
      "source": [
        "my_sentence = \"I went to the bank to deposit my money\"\n",
        "\n",
        "# Fügen Sie hier Ihren Code hier ein\n",
        "for word in my_sentence.split():\n",
        "  print(word)"
      ],
      "metadata": {
        "id": "6ruHUd_nno-n",
        "colab": {
          "base_uri": "https://localhost:8080/"
        },
        "outputId": "21df799e-6cc5-435a-e5b8-b891dd4e02d0"
      },
      "execution_count": 13,
      "outputs": [
        {
          "output_type": "stream",
          "name": "stdout",
          "text": [
            "I\n",
            "went\n",
            "to\n",
            "the\n",
            "bank\n",
            "to\n",
            "deposit\n",
            "my\n",
            "money\n"
          ]
        }
      ]
    },
    {
      "cell_type": "markdown",
      "source": [
        "Schleifen können auch mit Bedingungen kombiniert werden können.\n",
        "\n",
        "👋 ⚒ **Aufgabe** 👋 ⚒ <br>\n",
        "Geben Sie nur Wörter aus dem folgenden Satz aus, die mit dem Buchstaben \"m\" beginnen.  "
      ],
      "metadata": {
        "id": "35apjCGRoSEA"
      }
    },
    {
      "cell_type": "code",
      "source": [
        "my_sentence = \"I went to the bank to deposit my money\"\n",
        "\n",
        "# Fügen Sie hier Ihren Code hier ein\n",
        "for word in my_sentence.split():\n",
        "  if word[0] == \"m\":\n",
        "    print(word)"
      ],
      "metadata": {
        "id": "bzV7I1-Box9R",
        "colab": {
          "base_uri": "https://localhost:8080/"
        },
        "outputId": "e6a71be9-2712-4845-910a-c1ac1d7989ae"
      },
      "execution_count": 15,
      "outputs": [
        {
          "output_type": "stream",
          "name": "stdout",
          "text": [
            "my\n",
            "money\n"
          ]
        }
      ]
    },
    {
      "cell_type": "markdown",
      "source": [
        "Wenn Sie einen Satz, der aus einem String besteht, in eine Liste konvertiert haben, können Sie mithilfe von `set()` alle doppelt enthaltenen Elemente entfernen (deduplizieren)."
      ],
      "metadata": {
        "id": "4M3FiX_ApAjT"
      }
    },
    {
      "cell_type": "code",
      "source": [
        "my_sentence = \"Fischers Fritz fischt frische Fische, frische Fische fischt Fischers Fritz\"\n",
        "print(\"Der Satz: \", my_sentence)\n",
        "\n",
        "my_sentence_as_list = my_sentence.split()\n",
        "print(\"Als Liste: \", my_sentence_as_list)\n",
        "\n",
        "my_sentence_as_set = set(my_sentence_as_list)\n",
        "print(\"Als Set:\", my_sentence_as_set)"
      ],
      "metadata": {
        "id": "egE8394dp2BK",
        "colab": {
          "base_uri": "https://localhost:8080/"
        },
        "outputId": "a84884b9-ce35-4e03-fb98-851eb24b1e00"
      },
      "execution_count": 16,
      "outputs": [
        {
          "output_type": "stream",
          "name": "stdout",
          "text": [
            "Der Satz:  Fischers Fritz fischt frische Fische, frische Fische fischt Fischers Fritz\n",
            "Als Liste:  ['Fischers', 'Fritz', 'fischt', 'frische', 'Fische,', 'frische', 'Fische', 'fischt', 'Fischers', 'Fritz']\n",
            "Als Set: {'fischt', 'Fische,', 'Fische', 'Fischers', 'Fritz', 'frische'}\n"
          ]
        }
      ]
    },
    {
      "cell_type": "markdown",
      "source": [
        "Wenn Sie überprüfen möchten wieviele Elemente in zwei Listen übereinstimmen, können Sie das mit zwei `for`-Schleifen und einer Bedingung überprüfen.  Alternativ kann dafür die Funktion `intersection` verwendet, welche jedoch nur für ein `set` verfügbar ist.  "
      ],
      "metadata": {
        "id": "0YD6MyE_ryzC"
      }
    },
    {
      "cell_type": "code",
      "source": [
        "sentence1 = \"I went to the bank to deposit my money\"\n",
        "sentence2 = \"a bank is a financial institution that accepts deposits and channels the money into lending activities\"\n",
        "\n",
        "list1 = sentence1.split()\n",
        "list2 = sentence2.split()\n",
        "\n",
        "# Variante mit Schleifen und Bedingung\n",
        "overlap = []\n",
        "for elements1 in list1:\n",
        "  for elements2 in list2:\n",
        "    if elements1 == elements2:\n",
        "      overlap.append(elements1)\n",
        "print(overlap)\n",
        "\n",
        "#Variante mit intersection\n",
        "faster_overlap = set(list1).intersection(list2)\n",
        "print(faster_overlap)"
      ],
      "metadata": {
        "id": "UZBs8MnqsJp8",
        "colab": {
          "base_uri": "https://localhost:8080/"
        },
        "outputId": "d263f983-a0b4-41e7-82ce-59c26da0f97a"
      },
      "execution_count": 17,
      "outputs": [
        {
          "output_type": "stream",
          "name": "stdout",
          "text": [
            "['the', 'bank', 'money']\n",
            "{'the', 'bank', 'money'}\n"
          ]
        }
      ]
    },
    {
      "cell_type": "markdown",
      "source": [
        "👋 ⚒ **Aufgabe** 👋 ⚒ <br>\n",
        "Kombinieren Sie die Wörter aus `sentence1` mit den Elementen aus `list1`und die Wörter aus `sentence2`mit den Elementen aus `list2` (mit `+` oder `extend()`) und überprüfen Sie ob die resultierenden Listen mehr als drei übereinstimmende Elemente haben.  "
      ],
      "metadata": {
        "id": "GRS_bybrvW9K"
      }
    },
    {
      "cell_type": "code",
      "source": [
        "sentence1 = \"I have worked as a plant, where the audience had no idea I was acting\"\n",
        "sentence2 = \"an actor situated in the audience whose acting is rehearsed but seems spontaneous to the audience\"\n",
        "\n",
        "list1 = [\"actor\", \"spontaneous\"]\n",
        "list2 = [\"plant\"]\n",
        "\n",
        "list1 = list1+sentence1.split()\n",
        "list2.extend(sentence2.split())\n",
        "print(list1)\n",
        "print(list2)\n",
        "overlap = set(list1).intersection(list2)\n",
        "print(overlap)\n",
        "\n",
        "print(\"Die Anzahl der übereinstimmenden Elemente beträgt\", len(overlap))"
      ],
      "metadata": {
        "id": "uzO4xSV0u2Lj",
        "colab": {
          "base_uri": "https://localhost:8080/"
        },
        "outputId": "fe7e07af-e89c-482a-a838-15851c826b17"
      },
      "execution_count": 34,
      "outputs": [
        {
          "output_type": "stream",
          "name": "stdout",
          "text": [
            "['actor', 'spontaneous', 'I', 'have', 'worked', 'as', 'a', 'plant,', 'where', 'the', 'audience', 'had', 'no', 'idea', 'I', 'was', 'acting']\n",
            "['plant', 'an', 'actor', 'situated', 'in', 'the', 'audience', 'whose', 'acting', 'is', 'rehearsed', 'but', 'seems', 'spontaneous', 'to', 'the', 'audience']\n",
            "{'the', 'acting', 'audience', 'spontaneous', 'actor'}\n",
            "Die Anzahl der übereinstimmenden Elemente beträgt 5\n"
          ]
        }
      ]
    },
    {
      "cell_type": "markdown",
      "source": [
        "## **Lektion 5: Funktionen**\n",
        "\n",
        "Eine Funktion umfasst einige Codezeilen, die in einer bestimmten Rückgabe enden. Beispielsweise ist es sinnvoll bestimmte Funktionalitäten, die öfter benötigt werden, in einer Funktion darzustellen.\n",
        "\n",
        "Funktionen sind durch das Keyword `def` klar erkennbar und folgen den nachstehenden Muster:\n",
        "\n",
        "```\n",
        "def function_name (paramter):\n",
        "  lines of code here\n",
        "  return result\n",
        "```\n",
        "\n",
        "Es wird ein einzigartiger Name (`function_name`) vergeben, der nicht schon für Programmfunktionen, Variablen oder anderes verwendet wurde. Dieser Name wird dann verwendet um die Funktion, nachdem sie definitiert wurde, wiederzuverwenden, wodurch der darin enthaltene Code nicht jedes Mal erneut geschrieben werden muss. Damit Code einer Funktion zugeordnet wird, muss die Zeile eingerückt sein (statt am Zeilenanfang zu beginnen).\n",
        "\n",
        "Die Parameter sind alle Variablen, die wir der Funktion übergeben möchten, damit sie innerhalb der Funktion verfügbar sind. Dann wird ein bestimmter Code ausgeführt und am Ende etwas zurückgegeben.  \n"
      ],
      "metadata": {
        "id": "Rh2xxvNfwR73"
      }
    },
    {
      "cell_type": "markdown",
      "source": [
        "Hier erstmal ein Beispiel ohne Parameter und ohne Rückgabe:"
      ],
      "metadata": {
        "id": "L_2DOV1UycMX"
      }
    },
    {
      "cell_type": "code",
      "source": [
        "def my_first_function():\n",
        "  print(\"This is my very first function\")\n",
        "\n",
        "my_first_function()"
      ],
      "metadata": {
        "id": "JaOa72LXy9W1",
        "colab": {
          "base_uri": "https://localhost:8080/"
        },
        "outputId": "fdc004c3-bef7-4daf-d1be-1927ff01ce0d"
      },
      "execution_count": 35,
      "outputs": [
        {
          "output_type": "stream",
          "name": "stdout",
          "text": [
            "This is my very first function\n"
          ]
        }
      ]
    },
    {
      "cell_type": "markdown",
      "source": [
        "Diese Funktion kann jetzt jederzeit wiederverwendet werden, ebenso wie vorab definierte Variablen."
      ],
      "metadata": {
        "id": "x1x3WFF9zc13"
      }
    },
    {
      "cell_type": "code",
      "source": [
        "my_first_function()"
      ],
      "metadata": {
        "id": "f8A2JJW3zia1",
        "colab": {
          "base_uri": "https://localhost:8080/"
        },
        "outputId": "dc3819d1-059d-4404-9f2b-07044753cf25"
      },
      "execution_count": 36,
      "outputs": [
        {
          "output_type": "stream",
          "name": "stdout",
          "text": [
            "This is my very first function\n"
          ]
        }
      ]
    },
    {
      "cell_type": "markdown",
      "source": [
        "Interessanter sind Funktionen, die Informationen erhalten, diese verarbeiten und etwas zurückgeben, wie etwa das nachstehende Beispiel:"
      ],
      "metadata": {
        "id": "t7lS57uTzhuj"
      }
    },
    {
      "cell_type": "code",
      "source": [
        "def my_second_function(first_name, last_name):\n",
        "  name = \"The first name is \"+first_name+\" and the last name is \"+last_name\n",
        "  return name\n",
        "\n",
        "my_second_function(\"Max\", \"Mustermann\")"
      ],
      "metadata": {
        "id": "QR1yogaOzsNw",
        "colab": {
          "base_uri": "https://localhost:8080/",
          "height": 36
        },
        "outputId": "238482c7-edd4-45d1-f493-bf4a2c80b52d"
      },
      "execution_count": 37,
      "outputs": [
        {
          "output_type": "execute_result",
          "data": {
            "text/plain": [
              "'The first name is Max and the last name is Mustermann'"
            ],
            "application/vnd.google.colaboratory.intrinsic+json": {
              "type": "string"
            }
          },
          "metadata": {},
          "execution_count": 37
        }
      ]
    },
    {
      "cell_type": "markdown",
      "source": [
        "Auch diese Funktion kann jederzeit wiederverwendet werden:"
      ],
      "metadata": {
        "id": "Wscl5IWp0N77"
      }
    },
    {
      "cell_type": "code",
      "source": [
        "my_second_function(\"Tina\", \"Testerin\")"
      ],
      "metadata": {
        "id": "i3SYiSJx0Qmx",
        "colab": {
          "base_uri": "https://localhost:8080/",
          "height": 36
        },
        "outputId": "62349f45-f776-4cc9-a34d-ce2e02bd98d6"
      },
      "execution_count": 38,
      "outputs": [
        {
          "output_type": "execute_result",
          "data": {
            "text/plain": [
              "'The first name is Tina and the last name is Testerin'"
            ],
            "application/vnd.google.colaboratory.intrinsic+json": {
              "type": "string"
            }
          },
          "metadata": {},
          "execution_count": 38
        }
      ]
    },
    {
      "cell_type": "markdown",
      "source": [
        "❓**Frage**❓ <br>\n",
        "Warum erzeugt der folgende Code eine Fehlermeldung und wie kann diese behoben werden?"
      ],
      "metadata": {
        "id": "Mmli1Vc50Xqs"
      }
    },
    {
      "cell_type": "code",
      "source": [
        "# Die Fehlermeldung wurde erzeugt, weil die Funktion zwei Strings als übergebene Parameter verlangt\n",
        "my_second_function(\"Name\", \"Surname\")"
      ],
      "metadata": {
        "id": "pj7jaCow0h5x",
        "colab": {
          "base_uri": "https://localhost:8080/",
          "height": 36
        },
        "outputId": "d265ec4e-0050-4e4c-f24a-5110b6365002"
      },
      "execution_count": 40,
      "outputs": [
        {
          "output_type": "execute_result",
          "data": {
            "text/plain": [
              "'The first name is Name and the last name is Surname'"
            ],
            "application/vnd.google.colaboratory.intrinsic+json": {
              "type": "string"
            }
          },
          "metadata": {},
          "execution_count": 40
        }
      ]
    },
    {
      "cell_type": "markdown",
      "source": [
        "👋 ⚒ **Aufgabe** 👋 ⚒ <br>\n",
        "Erstellen Sie eine Funktion die zwei Zahlen als Parameter erhält, diese miteinander multipliziert und das Ergebnis zurückgibt."
      ],
      "metadata": {
        "id": "UVYGRFRa0mMk"
      }
    },
    {
      "cell_type": "code",
      "source": [
        "# Fügen Sie hier Ihren Code hier ein\n",
        "def multiplication(number1, number2):\n",
        "  multiplied = number1 * number2\n",
        "  return multiplied\n",
        "\n",
        "multiplication(2, 3)"
      ],
      "metadata": {
        "id": "_wnTtvts0nEw",
        "colab": {
          "base_uri": "https://localhost:8080/"
        },
        "outputId": "09b442fd-604c-492e-c9ea-9e4f047f7e39"
      },
      "execution_count": 42,
      "outputs": [
        {
          "output_type": "execute_result",
          "data": {
            "text/plain": [
              "6"
            ]
          },
          "metadata": {},
          "execution_count": 42
        }
      ]
    }
  ]
}