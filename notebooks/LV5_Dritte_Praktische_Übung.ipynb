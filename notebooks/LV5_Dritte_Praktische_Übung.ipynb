{
  "nbformat": 4,
  "nbformat_minor": 0,
  "metadata": {
    "colab": {
      "provenance": [],
      "authorship_tag": "ABX9TyP70K05l1Xbcohc0SGuVO10",
      "include_colab_link": true
    },
    "kernelspec": {
      "name": "python3",
      "display_name": "Python 3"
    },
    "language_info": {
      "name": "python"
    }
  },
  "cells": [
    {
      "cell_type": "markdown",
      "metadata": {
        "id": "view-in-github",
        "colab_type": "text"
      },
      "source": [
        "<a href=\"https://colab.research.google.com/github/dgromann/Programmieren_fuer_Translator_innen_2024S/blob/main/notebooks/LV5_Dritte_Praktische_%C3%9Cbung.ipynb\" target=\"_parent\"><img src=\"https://colab.research.google.com/assets/colab-badge.svg\" alt=\"Open In Colab\"/></a>"
      ]
    },
    {
      "cell_type": "markdown",
      "source": [
        "# **2024S: Einführung ins Programmieren für Translator:innen, Übung (UE), 340273-1**\n",
        "\n",
        "Verwenden Sie für diese Übung die Textdatei `Text2.txt` welche Sie auf [GitHub](https://github.com/dgromann/Programmieren_fuer_Translator_innen_2024S/tree/main) finden.\n",
        "\n",
        "Laden Sie sich die Datei erst lokal herunter (Download im Menu auf GitHub welches Sie unter den drei Punkten oben rechts finden) und laden Sie dann die Datei in diesem Notebook."
      ],
      "metadata": {
        "id": "_BI46iIytc_V"
      }
    },
    {
      "cell_type": "markdown",
      "source": [
        "👋 ⚒ **Aufgaben** 👋 ⚒ <br>\n",
        "Laden Sie den Text der Datei `Text2.txt` in Python und geben Sie den Text der Datei aus."
      ],
      "metadata": {
        "id": "-iVgwdDmt3RX"
      }
    },
    {
      "cell_type": "code",
      "source": [
        "# Fügen Sie hier Ihren Code hier ein"
      ],
      "metadata": {
        "id": "Wn7ozye5uOSC"
      },
      "execution_count": null,
      "outputs": []
    },
    {
      "cell_type": "markdown",
      "source": [
        "👋 ⚒ **Aufgaben** 👋 ⚒ <br>\n",
        "Verwenden Sie die Funktion aus der LV5 um die Häufigkeiten der Wörter in dieser Datei zu zählen und auszugeben."
      ],
      "metadata": {
        "id": "H_abX9JKuFXD"
      }
    },
    {
      "cell_type": "code",
      "execution_count": null,
      "metadata": {
        "id": "qRCzm7intTVE"
      },
      "outputs": [],
      "source": [
        "# Fügen Sie hier Ihren Code hier ein"
      ]
    },
    {
      "cell_type": "markdown",
      "source": [
        "👋 ⚒ **Aufgaben** 👋 ⚒ <br>\n",
        "Schreiben Sie nun eine Funktion, welche die Anzahl der Eigennamen im Text zählt und ausgibt. Verwenden Sie dazu spaCy. Dazu muss erst das richtige Modell für spaCy geladen werden."
      ],
      "metadata": {
        "id": "eCP7VpmzuRKe"
      }
    },
    {
      "cell_type": "code",
      "source": [
        "!python -m spacy download de_core_news_sm"
      ],
      "metadata": {
        "id": "9fD8GG6vujH7"
      },
      "execution_count": 1,
      "outputs": []
    },
    {
      "cell_type": "markdown",
      "source": [
        "Danach muss wiederum die Bibliothek importiert werden."
      ],
      "metadata": {
        "id": "FiU2lnrNukf4"
      }
    },
    {
      "cell_type": "code",
      "source": [
        "import spacy\n",
        "nlp = spacy.load(\"de_core_news_sm\")\n",
        "\n",
        "# Fügen Sie hier Ihren Code hier ein"
      ],
      "metadata": {
        "id": "taMYxGSZuXb_"
      },
      "execution_count": null,
      "outputs": []
    },
    {
      "cell_type": "markdown",
      "source": [
        "👋 ⚒ **Aufgaben** 👋 ⚒ <br>\n",
        "Wurden alle Eigennamen in diesem Text richtig erkannt? Verwenden Sie zur Analyse eine graphische Darstellung der Eigennamen im Text."
      ],
      "metadata": {
        "id": "Yks0HQtZuX-N"
      }
    },
    {
      "cell_type": "code",
      "source": [
        "# Fügen Sie hier Ihren Code hier ein"
      ],
      "metadata": {
        "id": "UN8QVn34u8LU"
      },
      "execution_count": null,
      "outputs": []
    },
    {
      "cell_type": "markdown",
      "source": [
        "Geben Sie hier Ihr Ergebnis an, ob alle Eigennamen im Text Ihrer Meinung nach richtig erkannt wurden."
      ],
      "metadata": {
        "id": "hz9ooqk-u_AE"
      }
    }
  ]
}