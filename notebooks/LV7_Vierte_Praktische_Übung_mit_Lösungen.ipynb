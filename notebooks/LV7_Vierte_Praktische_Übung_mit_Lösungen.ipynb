{
  "nbformat": 4,
  "nbformat_minor": 0,
  "metadata": {
    "colab": {
      "provenance": [],
      "authorship_tag": "ABX9TyOAdFlU9x/rq1/pO9O50LVc",
      "include_colab_link": true
    },
    "kernelspec": {
      "name": "python3",
      "display_name": "Python 3"
    },
    "language_info": {
      "name": "python"
    }
  },
  "cells": [
    {
      "cell_type": "markdown",
      "metadata": {
        "id": "view-in-github",
        "colab_type": "text"
      },
      "source": [
        "<a href=\"https://colab.research.google.com/github/dgromann/Programmieren_fuer_Translator_innen_2024S/blob/main/notebooks/LV7_Vierte_Praktische_U%CC%88bung_mit_L%C3%B6sungen.ipynb\" target=\"_parent\"><img src=\"https://colab.research.google.com/assets/colab-badge.svg\" alt=\"Open In Colab\"/></a>"
      ]
    },
    {
      "cell_type": "markdown",
      "source": [
        "# **2024S: Einführung ins Programmieren für Translator:innen, Übung (UE), 340273-1**\n",
        "\n",
        "Verwenden Sie für diese Übung die Textdateien `Text2.txt` und `Text3.txt` welche Sie auf [GitHub](https://github.com/dgromann/Programmieren_fuer_Translator_innen_2024S/tree/main) finden.\n",
        "\n",
        "Laden Sie sich die Datei erst lokal herunter (Download im Menu auf GitHub welches Sie unter den drei Punkten oben rechts finden) und laden Sie dann die Datei in diesem Notebook."
      ],
      "metadata": {
        "id": "9xh55eqYKZ0T"
      }
    },
    {
      "cell_type": "markdown",
      "source": [
        "👋 ⚒ **Aufgabe** 👋 ⚒ <br>\n",
        "Laden Sie den Text der Dateien `Text2.txt` und `Text3.txt`in Python in eine entsprechende Variable text2 und text3, damit diese dann in der Liste `corpus` gespeichert werden können.\n"
      ],
      "metadata": {
        "id": "Oj2Kuy9xL8hm"
      }
    },
    {
      "cell_type": "code",
      "execution_count": 3,
      "metadata": {
        "id": "VvjoNzoFKORg",
        "colab": {
          "base_uri": "https://localhost:8080/"
        },
        "outputId": "85070cf7-22b9-4b56-fe0a-4f79f52eeb87"
      },
      "outputs": [
        {
          "output_type": "stream",
          "name": "stdout",
          "text": [
            "['Mögliche Hinweise auf Leben im All durch das Webb-Teleskop genauer untersucht\\n\\n\"I want to believe\" – \"Ich will glauben\": Das steht auf einem Plakat im Büro von FBI-Agent Mulder aus der Mysteryserie Akte X. Die Idee von außerirdischem Leben ist emotional aufgeladen wie kaum ein anderes wissenschaftliches Konzept, und mit dem James-Webb-Weltraumteleskop hat die Forschung das bisher vielversprechendste Instrument in der Hand, um in dieser Frage erstmals Klarheit zu schaffen. Webb liefert nicht nur wunderschöne Bilder aus dem All, sondern ist auch in der Lage, die chemische Zusammensetzung der Atmosphären von Planeten in anderen Sonnensystemen zu analysieren.\\n\\nDementsprechend groß ist das Interesse, wenn Webb neue Erkenntnisse zu Exoplaneten veröffentlicht, so auch im Herbst 2023 eine Untersuchung des Planeten K2-18b, dessen atmosphärische Zusammensetzung auf das Vorhandensein eines Ozeans hindeutet. Eine Information fand nur als Nebenbemerkung Aufnahme in die Aussendungen: Es hieß, die Daten zeigten schwache Hinweise auf die chemische Verbindung Dimethylsulfid. Dieses Molekül ließ Forschende und Interessierte aufhorchen, denn es ist in der irdischen Atmosphäre in großen Mengen vorhanden und sorgt für den typischen Duft des Meeres. Hier wird es allerdings von Mikroorganismen im Meer produziert.', 'Grüne Grenze: Was ist dran am neuen EU-Klimazoll?\\n\\nEs ist zweifellos ein großer Schritt für die Klimapolitik der EU: Bald müssen Unternehmen auf Waren, die sie von außerhalb der Union kaufen, einen Zoll bezahlen, der den Klimaschaden dieser Produkte ausgleichen soll. Wie wird sich das auswirken?\\n\\nBis zum Jahr 2030 soll die Emissionen um 55 Prozent sinken. Bis 2040 um 90 Prozent. Bis 2050 gar um hundert Prozent. Es ist eine steile Reduktionsvorgabe, die sich – jeweils im Vergleich zum Basisjahr 1990 – die EU verpasst hat. Unzählige Maßnahmen, gemeinhin unter dem Schlagwort \"Green Deal\" zusammengefasst, sollen zusammenwirken, damit dieses Vorhaben gelingt.\\n\\nEin wesentlicher Baustein trat im vergangenen Oktober in Kraft, zumindest in einer Vorform. Auch wenn er in der allgemeinen öffentlichen Wahrnehmung nicht stark aufgeschlagen ist, ist es ein durchaus epochaler Schritt: Die EU bricht ein Stück weit mit ihrem alten Credo, dass freier Handel über alle Grenzen hinweg stets Gutes bewirkt und anzustreben ist. Sie führt einen Zoll für klimaschädliche Produkte ein. Offiziell heißt er \"Climate Border Adjustment Mechanism\" (CBAM).\\n\\nWenn ein 450-Millionen-Einwohner-Wirtschaftsraum wie die EU eine solche Maßnahme einführt, wirkt sich das in aller Welt aus, auch in Österreich. Aber wie genau?\\n\\nAusgleichsmechanismus\\n\\nWenn jedenfalls klimaschädliche Produkte in die EU kommen, müssen die Importeure für den Schaden bezahlen. In den ersten beiden Jahren, seit Ende 2023 bis Anfang 2026, läuft noch eine Art Test, in dem der Emissionsgehalt bei Einfuhren an der EU-Außengrenze lediglich erhoben wird, ohne dass tatsächlich etwas zu bezahlen wäre. Ab Jänner 2026 wird der Zoll dann real fällig. Betroffen sind vorerst besonders klimaschädliche Waren, etwa Stahl, Aluminium, Zement, Düngemittel und chemische Produkte. Allein in Österreich sind bei den Unternehmen, die derartige Produkte verarbeiten – und demnach für den Klimazoll aufkommen müssen –, laut Wirtschaftskammer rund 195.000 Personen beschäftigt.\\n\\n\"Die Idee dahinter ist, Fairness zu schaffen\", sagt Claudia Kettner-Marx, Ökonomin mit Schwerpunkt Klimaschutz am Wiener Wifo. Denn die Industrie innerhalb Europas unterliegt dem Emissionshandelssystem (ETS): Sie muss für jede Tonne klimaschädliches CO2, die sie ausstößt, ein Zertifikat erwerben. Derzeit kostet jede emittierte Tonne etwas mehr als 70 Euro. In anderen Weltteilen hingegen gibt es solche Bepreisungssysteme meist nicht. Die EU-Unternehmen haben dadurch einen Nachteil auf dem Weltmarkt. Mithilfe des CBAM soll er ausgeglichen werden. Die Höhe des Zolls entspricht jener des ETS: Es handelt sich also um keinen feststehenden Betrag, sondern um einen wöchentlich schwankenden, je nach ETS-Kurs. Und: Sollte ein anderer Weltteil eine CO2-Bepreisung einführen, die dem europäischen ETS gleichkommt, dann wird der CBAM beim Export nach Europa entfallen.\\n\\nRechnung für arme Länder\\n\\nDie Folge liegt auf der Hand: Die Rechnung für all das werden wohl andere Wirtschaftsräume zahlen, die keine eigene CO2-Bepreisung einführen können oder wollen. Darunter finden sich ausgerechnet einige der ärmsten Länder der Welt. Eine aktuelle Erhebung der London School of Economics mit Blick auf Afrika prognostiziert etwa, dass die Exporte von Aluminium aus Afrika in die EU infolge des CBAM um 13,9 Prozent sinken werden, jene von Stahl um 8,2 Prozent und jene von Düngemitteln um 3,9 Prozent.\\n\\n\"Ja, es braucht es einen Schutz für die EU-Industrie – und CBAM ist ein erster Ansatz dazu\", sagt Wolfgang Brenner, der in der Bundessparte Industrie der Wirtschaftskammer für Energie- und Klimapolitik zuständig ist. \"Aber das ist nur eine Seite der Medaille.\" Denn: Auch Europas Industrien sind mit dem CBAM keineswegs uneingeschränkt glücklich. Wenn beispielsweise ein österreichischer Maschinenbauer den Stahl für seine Erzeugnisse aus Indonesien bezieht, muss auch er künftig bei der Einfuhr den CBAM entrichten. Die Produkte des Maschinenbauers werden dadurch teurer und weniger konkurrenzfähig. Das Kernproblem laut Industrie: Der CBAM verteuert solcherart die Produktion in der EU, ohne aber eine Entlastung vorzusehen, wenn anschließend die EU-Produkte in Regionen mit weniger Klimaschutz exportiert werden. \"Ohne diese Problematik wäre der CBAM zwar ein richtiger Ansatz für die klimafreundliche Transformation der Wirtschaft, aber dieser Aspekt stellt ein großes Problem dar\", sagt Brenner.\\n\"Unfassbares Berichtswesen\"\\n\\n\"Es wäre natürlich das Beste, wenn sich die ganze Welt zu einer CO2-Bepreisung entschließen würde\", antwortet Wifo-Ökonomin Kettner-Marx auf dieses Dilemma. Aber – darauf deutet nichts hin. Deshalb versucht die EU, als Pionierin vorzupreschen. Die Hoffnung ist, dass infolge des CBAM der EU bald in aller Welt CO2-Bepreisungssysteme sprießen. Aber wird das auch geschehen? Eher nicht – mächtige Akteure wie Indien etwa, ein besonders aufstrebendes Land, haben jedenfalls bereits abgewunken. Die Inder hätten bisher im Vergleich zu den Europäern kaum zum globalen Klimaschaden beigetragen, erklärte Industrieminister Piyush Goyal im Februar: Man werde keinesfalls mit einem CO2-Preis Indiens starkes Wirtschaftswachstum gefährden.\\n\\nNeben all dem gibt es eine andere wichtige Frage. Wie soll man überhaupt berechnen, wie viel klimaschädliches CO2 für die Produktion einer bestimmten Ware, die die EU-Grenze passiert, ausgestoßen wurde? Immerhin stecken hinter jeder Ware komplexe Lieferketten mit unzähligen Beteiligten. Vorgesehen ist, dass die EU-Importeure Daten von Herstellern in fernen Ländern einsammeln und Gutachter beauftragen sollen, die den CO2-Ausstoß der jeweiligen Einfuhr ermitteln. Ob dieser Plan brauchbare und zuverlässige Ergebnisse liefert, muss sich erst weisen. Jedenfalls führt er zu einem \"unfassbaren Berichtswesen\", klagt Wirtschaftskammer-Experte Brenner, das vor allem kleine und mittlere Unternehmen hart treffen würde. \"Wir appellieren eindringlich, dass die EU-Kommission Standardwerte akzeptiert, falls die Importeure keine genaueren Daten liefern können oder wollen.\" Bei der besagten Tonne Stahl aus Indonesien beispielsweise könnte die EU-Kommission einen CO2-Preis schlicht pauschal festlegen – statt dass das betroffene Unternehmen den echten Treibhausgasausstoß seiner konkreten Einfuhr ermitteln muss. Zwar sind Standardwerte in der Testphase derzeit noch zulässig, bald aber sollen sie es weitgehend nicht mehr sein.\\n\\nEines ist klar: Der CBAM zeigt, dass die EU den globalen Kampf gegen den Klimawandel ernst nimmt und entschlossen angeht. Doch die Auswirkungen – auf arme Länder ebenso wie auf jene in Europa – sind völlig offen. In den kommenden Jahren jedenfalls wird vom CBAM garantiert noch viel zu hören sein. (Joseph Gepp, 21.5.2024)']\n"
          ]
        }
      ],
      "source": [
        "# Fügen Sie hier Ihren Code hier ein\n",
        "text2 = open(\"Text2.txt\").read()\n",
        "text3 = open(\"Text3.txt\").read()\n",
        "\n",
        "corpus = [text2, text3]\n",
        "print(corpus)"
      ]
    },
    {
      "cell_type": "markdown",
      "source": [
        "In dieser Aufgabe verwenden wir **Term Frequency-Inverse Document Frequency (TF-IDF)**, eine Methode zur Extraktion von Termini aus Texten.\n",
        "\n",
        "**Term Frequency** misst wie häufig ein Wort in einem Dokument vorkommt. Statt der absoluten Häufigkeit des Wortes, wird die relative Häufigkeit verwendet, d. h. Anzahl des Vorkommens des Wortes dividiert durch die Gesamtanzahl der Wörter im Dokument.\n",
        "\n",
        "**Inverse Document Frequency (IDF)** misst wie spezifisch oder fachlich ein Wort ist, also wie häufig oder selten ein Wort vorkommt. IDF wird gemessen, indem die Gesamtanzahl der Dokumente durch die Anzahl der Dokumente, in welchen das Wort vorkommt, dividiert wird. Zusätzlich wird ein Logarithmus angewendet, um den Wertebereich zu skalieren, also sicherzustellen, dass Zusammenhänge von kleinen Werten besser überschaubar sind. Wenn beispielsweise die Gesamtanzahl der Dokumente 5 ist und das Wort in jedem Dokument vorkomment, dann ergibt der IDF-Wert 0, weil log(1) = 0.\n",
        "\n",
        "Die Multiplikation von TF und IDF ergibt den TF-IDF-Wert, wobei davon ausgegangen wird, dass fachlichere und seltenere Wörter bessere Termkandidaten ergeben und somit einen höheren TF-IDF-Wert erhalten. Wörter die in jedem Dokument vorkommen, ergeben nach dieser Formel immer 0, weil der IDF-Wert bereits 0 ist.  \n",
        "\n"
      ],
      "metadata": {
        "id": "i5gkKULEL_GP"
      }
    },
    {
      "cell_type": "markdown",
      "source": [
        "Eine Programmbibliothek für klassisches, statistisches maschinelles Lernen heißt [scikit-learn](https://scikit-learn.org/stable/index.html) und bietet bereits viele vordefinierte Funktionen, so wie TF-IDF. Wir verwenden erst diese Bibliothek um die TF-IDF Werte für die Wörter und Dokumente in unserem Beispielkorpus `corpus`zu berechnen."
      ],
      "metadata": {
        "id": "Fax5z-CVoa1j"
      }
    },
    {
      "cell_type": "markdown",
      "source": [
        "👋 ⚒ **Aufgabe** 👋 ⚒ <br>\n",
        "Laden Sie den Text der Dateien `Text2.txt` und `Text3.txt`in Python in eine entsprechende Variable text2 und text3, damit diese dann in der Liste `corpus` gespeichert werden können."
      ],
      "metadata": {
        "id": "eJqg87-LoQVE"
      }
    },
    {
      "cell_type": "code",
      "source": [
        "from sklearn.feature_extraction.text import TfidfVectorizer\n",
        "\n",
        "def tf_idf_sklearn(corpus):\n",
        "\n",
        "  # Erst wird ein Objekt dieser Klasse erzeugt\n",
        "  vectorizer = TfidfVectorizer()\n",
        "\n",
        "  # Mit der Funktion fit_transform werden die TF-IDF-Werte für den Korpus berechnet\n",
        "  tf_idf_scores = vectorizer.fit_transform(corpus)\n",
        "\n",
        "  # Mit dieser Funktion können die Termini und deren Index abgerufen werden\n",
        "  terms = vectorizer.get_feature_names_out()\n",
        "\n",
        "  tf_idf_dict = {}\n",
        "  for term in terms:\n",
        "    # In diesem Dictionary werden die TF-IDF-Werte mit den dazugehörigen Termini gespeichert\n",
        "    tf_idf_dict[term] = tf_idf_scores[0, vectorizer.vocabulary_[term]]\n",
        "\n",
        "  return tf_idf_dict\n",
        "\n",
        "# Fügen Sie hier Ihren Code hier ein\n",
        "result = tf_idf_sklearn(corpus)\n",
        "print(result)"
      ],
      "metadata": {
        "id": "AN_GU0KyKZbG",
        "colab": {
          "base_uri": "https://localhost:8080/"
        },
        "outputId": "557da1a3-0056-482d-aa1a-5606b2d7de4c"
      },
      "execution_count": 20,
      "outputs": [
        {
          "output_type": "stream",
          "name": "stdout",
          "text": [
            "{'000': 0.0, '13': 0.0, '18b': 0.06198405606429953, '195': 0.0, '1990': 0.0, '2023': 0.04410216639795034, '2024': 0.0, '2026': 0.0, '2030': 0.0, '2040': 0.0, '2050': 0.0, '21': 0.0, '450': 0.0, '55': 0.0, '70': 0.0, '90': 0.0, 'ab': 0.0, 'aber': 0.0, 'abgewunken': 0.0, 'adjustment': 0.0, 'afrika': 0.0, 'agent': 0.06198405606429953, 'akte': 0.06198405606429953, 'akteure': 0.0, 'aktuelle': 0.0, 'akzeptiert': 0.0, 'all': 0.08820433279590068, 'alle': 0.0, 'allein': 0.0, 'allem': 0.0, 'aller': 0.0, 'allerdings': 0.06198405606429953, 'allgemeinen': 0.0, 'als': 0.04410216639795034, 'also': 0.0, 'alten': 0.0, 'aluminium': 0.0, 'am': 0.0, 'an': 0.0, 'analysieren': 0.06198405606429953, 'andere': 0.0, 'anderen': 0.04410216639795034, 'anderer': 0.0, 'anderes': 0.06198405606429953, 'anfang': 0.0, 'angeht': 0.0, 'ansatz': 0.0, 'anschließend': 0.0, 'antwortet': 0.0, 'anzustreben': 0.0, 'appellieren': 0.0, 'arme': 0.0, 'art': 0.0, 'aspekt': 0.0, 'atmosphäre': 0.06198405606429953, 'atmosphären': 0.06198405606429953, 'atmosphärische': 0.06198405606429953, 'auch': 0.08820433279590068, 'auf': 0.17640866559180135, 'aufgeladen': 0.06198405606429953, 'aufgeschlagen': 0.0, 'aufhorchen': 0.06198405606429953, 'aufkommen': 0.0, 'aufnahme': 0.06198405606429953, 'aufstrebendes': 0.0, 'aus': 0.08820433279590068, 'ausgeglichen': 0.0, 'ausgerechnet': 0.0, 'ausgestoßen': 0.0, 'ausgleichen': 0.0, 'ausgleichsmechanismus': 0.0, 'aussendungen': 0.06198405606429953, 'ausstoß': 0.0, 'ausstößt': 0.0, 'auswirken': 0.0, 'auswirkungen': 0.0, 'außengrenze': 0.0, 'außerhalb': 0.0, 'außerirdischem': 0.06198405606429953, 'bald': 0.0, 'basisjahr': 0.0, 'baustein': 0.0, 'beauftragen': 0.0, 'bei': 0.0, 'beiden': 0.0, 'beigetragen': 0.0, 'beim': 0.0, 'beispielsweise': 0.0, 'believe': 0.06198405606429953, 'bepreisung': 0.0, 'bepreisungssysteme': 0.0, 'berechnen': 0.0, 'bereits': 0.0, 'berichtswesen': 0.0, 'besagten': 0.0, 'beschäftigt': 0.0, 'besonders': 0.0, 'beste': 0.0, 'bestimmten': 0.0, 'beteiligten': 0.0, 'betrag': 0.0, 'betroffen': 0.0, 'betroffene': 0.0, 'bewirkt': 0.0, 'bezahlen': 0.0, 'bezieht': 0.0, 'bilder': 0.06198405606429953, 'bis': 0.0, 'bisher': 0.04410216639795034, 'blick': 0.0, 'border': 0.0, 'brauchbare': 0.0, 'braucht': 0.0, 'brenner': 0.0, 'bricht': 0.0, 'bundessparte': 0.0, 'büro': 0.06198405606429953, 'cbam': 0.0, 'chemische': 0.08820433279590068, 'claudia': 0.0, 'climate': 0.0, 'co2': 0.0, 'credo': 0.0, 'dadurch': 0.0, 'dahinter': 0.0, 'damit': 0.0, 'dann': 0.0, 'dar': 0.0, 'darauf': 0.0, 'darunter': 0.0, 'das': 0.2205108319897517, 'dass': 0.0, 'daten': 0.04410216639795034, 'dazu': 0.0, 'deal': 0.0, 'dem': 0.08820433279590068, 'dementsprechend': 0.06198405606429953, 'demnach': 0.0, 'den': 0.04410216639795034, 'denn': 0.04410216639795034, 'der': 0.2205108319897517, 'derartige': 0.0, 'derzeit': 0.0, 'des': 0.08820433279590068, 'deshalb': 0.0, 'dessen': 0.06198405606429953, 'deutet': 0.0, 'die': 0.264612998387702, 'diese': 0.0, 'dieser': 0.04410216639795034, 'dieses': 0.04410216639795034, 'dilemma': 0.0, 'dimethylsulfid': 0.06198405606429953, 'doch': 0.0, 'dran': 0.0, 'duft': 0.06198405606429953, 'durch': 0.06198405606429953, 'durchaus': 0.0, 'düngemittel': 0.0, 'düngemitteln': 0.0, 'ebenso': 0.0, 'echten': 0.0, 'economics': 0.0, 'eher': 0.0, 'eigene': 0.0, 'ein': 0.04410216639795034, 'eindringlich': 0.0, 'eine': 0.08820433279590068, 'einem': 0.04410216639795034, 'einen': 0.0, 'einer': 0.0, 'eines': 0.04410216639795034, 'einfuhr': 0.0, 'einfuhren': 0.0, 'einführen': 0.0, 'einführt': 0.0, 'einige': 0.0, 'einsammeln': 0.0, 'einwohner': 0.0, 'emissionen': 0.0, 'emissionsgehalt': 0.0, 'emissionshandelssystem': 0.0, 'emittierte': 0.0, 'emotional': 0.06198405606429953, 'ende': 0.0, 'energie': 0.0, 'entfallen': 0.0, 'entlastung': 0.0, 'entrichten': 0.0, 'entschließen': 0.0, 'entschlossen': 0.0, 'entspricht': 0.0, 'epochaler': 0.0, 'er': 0.0, 'ergebnisse': 0.0, 'erhebung': 0.0, 'erhoben': 0.0, 'erkenntnisse': 0.06198405606429953, 'erklärte': 0.0, 'ermitteln': 0.0, 'ernst': 0.0, 'erst': 0.0, 'ersten': 0.0, 'erster': 0.0, 'erstmals': 0.06198405606429953, 'erwerben': 0.0, 'erzeugnisse': 0.0, 'es': 0.132306499193851, 'ets': 0.0, 'etwa': 0.0, 'etwas': 0.0, 'eu': 0.0, 'euro': 0.0, 'europa': 0.0, 'europas': 0.0, 'europäern': 0.0, 'europäischen': 0.0, 'exoplaneten': 0.06198405606429953, 'experte': 0.0, 'export': 0.0, 'exporte': 0.0, 'exportiert': 0.0, 'fairness': 0.0, 'falls': 0.0, 'fand': 0.06198405606429953, 'fbi': 0.06198405606429953, 'februar': 0.0, 'fernen': 0.0, 'festlegen': 0.0, 'feststehenden': 0.0, 'finden': 0.0, 'folge': 0.0, 'forschende': 0.06198405606429953, 'forschung': 0.06198405606429953, 'frage': 0.04410216639795034, 'freier': 0.0, 'fällig': 0.0, 'führt': 0.0, 'für': 0.04410216639795034, 'ganze': 0.0, 'gar': 0.0, 'garantiert': 0.0, 'gefährden': 0.0, 'gegen': 0.0, 'gelingt': 0.0, 'gemeinhin': 0.0, 'genau': 0.0, 'genauer': 0.06198405606429953, 'genaueren': 0.0, 'gepp': 0.0, 'geschehen': 0.0, 'gibt': 0.0, 'glauben': 0.06198405606429953, 'gleichkommt': 0.0, 'globalen': 0.0, 'glücklich': 0.0, 'goyal': 0.0, 'green': 0.0, 'grenze': 0.0, 'grenzen': 0.0, 'groß': 0.06198405606429953, 'großen': 0.06198405606429953, 'großer': 0.0, 'großes': 0.0, 'grüne': 0.0, 'gutachter': 0.0, 'gutes': 0.0, 'haben': 0.0, 'hand': 0.04410216639795034, 'handel': 0.0, 'handelt': 0.0, 'hart': 0.0, 'hat': 0.04410216639795034, 'heißt': 0.0, 'herbst': 0.06198405606429953, 'herstellern': 0.0, 'hier': 0.06198405606429953, 'hieß': 0.06198405606429953, 'hin': 0.0, 'hindeutet': 0.06198405606429953, 'hingegen': 0.0, 'hinter': 0.0, 'hinweg': 0.0, 'hinweise': 0.12396811212859905, 'hoffnung': 0.0, 'hundert': 0.0, 'hätten': 0.0, 'höhe': 0.0, 'hören': 0.0, 'ich': 0.06198405606429953, 'idee': 0.04410216639795034, 'ihrem': 0.0, 'im': 0.17640866559180135, 'immerhin': 0.0, 'importeure': 0.0, 'in': 0.30871516478565236, 'inder': 0.0, 'indien': 0.0, 'indiens': 0.0, 'indonesien': 0.0, 'industrie': 0.0, 'industrieminister': 0.0, 'industrien': 0.0, 'infolge': 0.0, 'information': 0.06198405606429953, 'innerhalb': 0.0, 'instrument': 0.06198405606429953, 'interesse': 0.06198405606429953, 'interessierte': 0.06198405606429953, 'irdischen': 0.06198405606429953, 'ist': 0.17640866559180135, 'ja': 0.0, 'jahr': 0.0, 'jahren': 0.0, 'james': 0.06198405606429953, 'je': 0.0, 'jede': 0.0, 'jedenfalls': 0.0, 'jeder': 0.0, 'jene': 0.0, 'jener': 0.0, 'jeweiligen': 0.0, 'jeweils': 0.0, 'joseph': 0.0, 'jänner': 0.0, 'k2': 0.06198405606429953, 'kampf': 0.0, 'kaufen': 0.0, 'kaum': 0.04410216639795034, 'keine': 0.0, 'keinen': 0.0, 'keinesfalls': 0.0, 'keineswegs': 0.0, 'kernproblem': 0.0, 'kettner': 0.0, 'klagt': 0.0, 'klar': 0.0, 'klarheit': 0.06198405606429953, 'kleine': 0.0, 'klimafreundliche': 0.0, 'klimapolitik': 0.0, 'klimaschaden': 0.0, 'klimaschutz': 0.0, 'klimaschädliche': 0.0, 'klimaschädliches': 0.0, 'klimawandel': 0.0, 'klimazoll': 0.0, 'kommen': 0.0, 'kommenden': 0.0, 'kommission': 0.0, 'komplexe': 0.0, 'konkreten': 0.0, 'konkurrenzfähig': 0.0, 'konzept': 0.06198405606429953, 'kostet': 0.0, 'kraft': 0.0, 'kurs': 0.0, 'können': 0.0, 'könnte': 0.0, 'künftig': 0.0, 'lage': 0.06198405606429953, 'land': 0.0, 'laut': 0.0, 'leben': 0.12396811212859905, 'lediglich': 0.0, 'lieferketten': 0.0, 'liefern': 0.0, 'liefert': 0.04410216639795034, 'liegt': 0.0, 'ließ': 0.06198405606429953, 'london': 0.0, 'länder': 0.0, 'ländern': 0.0, 'läuft': 0.0, 'man': 0.0, 'marx': 0.0, 'maschinenbauer': 0.0, 'maschinenbauers': 0.0, 'maßnahme': 0.0, 'maßnahmen': 0.0, 'mechanism': 0.0, 'medaille': 0.0, 'meer': 0.06198405606429953, 'meeres': 0.06198405606429953, 'mehr': 0.0, 'meist': 0.0, 'mengen': 0.06198405606429953, 'mikroorganismen': 0.06198405606429953, 'millionen': 0.0, 'mit': 0.04410216639795034, 'mithilfe': 0.0, 'mittlere': 0.0, 'molekül': 0.06198405606429953, 'mulder': 0.06198405606429953, 'muss': 0.0, 'mysteryserie': 0.06198405606429953, 'mächtige': 0.0, 'mögliche': 0.06198405606429953, 'müssen': 0.0, 'nach': 0.0, 'nachteil': 0.0, 'natürlich': 0.0, 'neben': 0.0, 'nebenbemerkung': 0.06198405606429953, 'neue': 0.06198405606429953, 'neuen': 0.0, 'nicht': 0.04410216639795034, 'nichts': 0.0, 'nimmt': 0.0, 'noch': 0.0, 'nur': 0.08820433279590068, 'ob': 0.0, 'oder': 0.0, 'of': 0.0, 'offen': 0.0, 'offiziell': 0.0, 'ohne': 0.0, 'oktober': 0.0, 'ozeans': 0.06198405606429953, 'passiert': 0.0, 'pauschal': 0.0, 'personen': 0.0, 'pionierin': 0.0, 'piyush': 0.0, 'plakat': 0.06198405606429953, 'plan': 0.0, 'planeten': 0.12396811212859905, 'preis': 0.0, 'problem': 0.0, 'problematik': 0.0, 'produkte': 0.0, 'produktion': 0.0, 'produziert': 0.06198405606429953, 'prognostiziert': 0.0, 'prozent': 0.0, 'real': 0.0, 'rechnung': 0.0, 'reduktionsvorgabe': 0.0, 'regionen': 0.0, 'richtiger': 0.0, 'rund': 0.0, 'sagt': 0.0, 'schaden': 0.0, 'schaffen': 0.04410216639795034, 'schlagwort': 0.0, 'schlicht': 0.0, 'school': 0.0, 'schritt': 0.0, 'schutz': 0.0, 'schwache': 0.06198405606429953, 'schwankenden': 0.0, 'schwerpunkt': 0.0, 'sein': 0.0, 'seine': 0.0, 'seiner': 0.0, 'seit': 0.0, 'seite': 0.0, 'sich': 0.0, 'sie': 0.0, 'sind': 0.0, 'sinken': 0.0, 'so': 0.06198405606429953, 'solche': 0.0, 'solcherart': 0.0, 'soll': 0.0, 'sollen': 0.0, 'sollte': 0.0, 'sondern': 0.04410216639795034, 'sonnensystemen': 0.06198405606429953, 'sorgt': 0.06198405606429953, 'sprießen': 0.0, 'stahl': 0.0, 'standardwerte': 0.0, 'stark': 0.0, 'starkes': 0.0, 'statt': 0.0, 'stecken': 0.0, 'steht': 0.06198405606429953, 'steile': 0.0, 'stellt': 0.0, 'stets': 0.0, 'stück': 0.0, 'tatsächlich': 0.0, 'teleskop': 0.06198405606429953, 'test': 0.0, 'testphase': 0.0, 'teurer': 0.0, 'to': 0.06198405606429953, 'tonne': 0.0, 'transformation': 0.0, 'trat': 0.0, 'treffen': 0.0, 'treibhausgasausstoß': 0.0, 'typischen': 0.06198405606429953, 'um': 0.04410216639795034, 'und': 0.132306499193851, 'uneingeschränkt': 0.0, 'unfassbaren': 0.0, 'unfassbares': 0.0, 'union': 0.0, 'unter': 0.0, 'unterliegt': 0.0, 'unternehmen': 0.0, 'untersucht': 0.06198405606429953, 'untersuchung': 0.06198405606429953, 'unzählige': 0.0, 'unzähligen': 0.0, 'verarbeiten': 0.0, 'verbindung': 0.06198405606429953, 'vergangenen': 0.0, 'vergleich': 0.0, 'verpasst': 0.0, 'versucht': 0.0, 'verteuert': 0.0, 'veröffentlicht': 0.06198405606429953, 'viel': 0.0, 'vielversprechendste': 0.06198405606429953, 'vom': 0.0, 'von': 0.17640866559180135, 'vor': 0.0, 'vorerst': 0.0, 'vorform': 0.0, 'vorgesehen': 0.0, 'vorhaben': 0.0, 'vorhanden': 0.06198405606429953, 'vorhandensein': 0.06198405606429953, 'vorzupreschen': 0.0, 'vorzusehen': 0.0, 'völlig': 0.0, 'wahrnehmung': 0.0, 'want': 0.06198405606429953, 'ware': 0.0, 'waren': 0.0, 'was': 0.0, 'webb': 0.2479362242571981, 'weisen': 0.0, 'weit': 0.0, 'weitgehend': 0.0, 'welt': 0.0, 'weltmarkt': 0.0, 'weltraumteleskop': 0.06198405606429953, 'weltteil': 0.0, 'weltteilen': 0.0, 'weniger': 0.0, 'wenn': 0.04410216639795034, 'werde': 0.0, 'werden': 0.0, 'wesentlicher': 0.0, 'wichtige': 0.0, 'wie': 0.04410216639795034, 'wiener': 0.0, 'wifo': 0.0, 'will': 0.06198405606429953, 'wir': 0.0, 'wird': 0.04410216639795034, 'wirkt': 0.0, 'wirtschaft': 0.0, 'wirtschaftskammer': 0.0, 'wirtschaftsraum': 0.0, 'wirtschaftsräume': 0.0, 'wirtschaftswachstum': 0.0, 'wissenschaftliches': 0.06198405606429953, 'wohl': 0.0, 'wolfgang': 0.0, 'wollen': 0.0, 'wunderschöne': 0.06198405606429953, 'wurde': 0.0, 'wäre': 0.0, 'wöchentlich': 0.0, 'würde': 0.0, 'zahlen': 0.0, 'zeigt': 0.0, 'zeigten': 0.06198405606429953, 'zement': 0.0, 'zertifikat': 0.0, 'zoll': 0.0, 'zolls': 0.0, 'zu': 0.132306499193851, 'zulässig': 0.0, 'zum': 0.0, 'zumindest': 0.0, 'zusammengefasst': 0.0, 'zusammensetzung': 0.12396811212859905, 'zusammenwirken': 0.0, 'zuständig': 0.0, 'zuverlässige': 0.0, 'zwar': 0.0, 'zweifellos': 0.0, 'ärmsten': 0.0, 'öffentlichen': 0.0, 'ökonomin': 0.0, 'österreich': 0.0, 'österreichischer': 0.0, 'über': 0.0, 'überhaupt': 0.0}\n"
          ]
        }
      ]
    },
    {
      "cell_type": "markdown",
      "source": [
        "👋 ⚒ **Aufgabe** 👋 ⚒ <br>\n",
        "Speichern Sie nur die Termkandidaten mit TF-IDF-Werten über 0 in eine Datei."
      ],
      "metadata": {
        "id": "hu33at0cqFWD"
      }
    },
    {
      "cell_type": "code",
      "source": [
        "# Fügen Sie hier Ihren Code hier ein\n",
        "result_file = open(\"TF_IDF_Results.txt\", \"w\")\n",
        "for key, value in result.items():\n",
        "  if value > 0:\n",
        "    result_file.write(f\"{key}: {value}\\n\")\n",
        "result_file.close()"
      ],
      "metadata": {
        "id": "8JOA3klnqRiy"
      },
      "execution_count": 11,
      "outputs": []
    },
    {
      "cell_type": "markdown",
      "source": [
        "👋 ⚒ **Aufgabe** 👋 ⚒ <br>\n",
        "Führen Sie nun die folgenden Vorerarbeitungsschritte auf unseren Beispielkorpus `corpus` aus und berechnen Sie die TF-IDF-Werte auf den vorverarbeiteten Korpus.\n",
        "\n",
        "1. Tokenisierung\n",
        "2. POS-Tagging und Enfernen der angegebenen POS-Tags\n",
        "3. Lemmatisierung\n",
        "\n",
        "Dafür können Sie spaCy nutzen, allerdings verwenden wir dieses Mal ein größeres Modell für die Deutsche Sprache. Eine Übersicht über alle Modelle pro Sprache finden Sie [hier](https://spacy.io/models/de).\n",
        "\n",
        "Beachten Sie bitte, dass die Dokumente als solche noch erkennbar sein müssen, also nicht alle Tokens beider Dokumente als eine Liste übergeben werden sollen, sondern zwei Listen (eine pro Dokument) in einer Gesamtliste `corpus_preprocessed` gespeichert werden soll.\n",
        "\n",
        "Auszug:\n",
        "\n",
        "`\n",
        "[['Mögliche', 'Hinweise', 'auf', ..., 'im', 'Meer', 'produziert'], ['Grüne', 'Grenze', .. 'viel', 'zu', 'hören', 'sein']]\n",
        "`"
      ],
      "metadata": {
        "id": "lQjTLw_UqSzT"
      }
    },
    {
      "cell_type": "code",
      "source": [
        "# Laden des spaCy-Modells\n",
        "!python -m spacy download de_core_news_lg"
      ],
      "metadata": {
        "id": "kAOpVGlcqg53",
        "colab": {
          "base_uri": "https://localhost:8080/"
        },
        "outputId": "650a8ed3-af9c-4f49-af11-9304be3ec170"
      },
      "execution_count": 13,
      "outputs": [
        {
          "output_type": "stream",
          "name": "stdout",
          "text": [
            "Collecting de-core-news-lg==3.7.0\n",
            "  Downloading https://github.com/explosion/spacy-models/releases/download/de_core_news_lg-3.7.0/de_core_news_lg-3.7.0-py3-none-any.whl (567.8 MB)\n",
            "\u001b[2K     \u001b[90m━━━━━━━━━━━━━━━━━━━━━━━━━━━━━━━━━━━━━━━━\u001b[0m \u001b[32m567.8/567.8 MB\u001b[0m \u001b[31m1.9 MB/s\u001b[0m eta \u001b[36m0:00:00\u001b[0m\n",
            "\u001b[?25hRequirement already satisfied: spacy<3.8.0,>=3.7.0 in /usr/local/lib/python3.10/dist-packages (from de-core-news-lg==3.7.0) (3.7.4)\n",
            "Requirement already satisfied: spacy-legacy<3.1.0,>=3.0.11 in /usr/local/lib/python3.10/dist-packages (from spacy<3.8.0,>=3.7.0->de-core-news-lg==3.7.0) (3.0.12)\n",
            "Requirement already satisfied: spacy-loggers<2.0.0,>=1.0.0 in /usr/local/lib/python3.10/dist-packages (from spacy<3.8.0,>=3.7.0->de-core-news-lg==3.7.0) (1.0.5)\n",
            "Requirement already satisfied: murmurhash<1.1.0,>=0.28.0 in /usr/local/lib/python3.10/dist-packages (from spacy<3.8.0,>=3.7.0->de-core-news-lg==3.7.0) (1.0.10)\n",
            "Requirement already satisfied: cymem<2.1.0,>=2.0.2 in /usr/local/lib/python3.10/dist-packages (from spacy<3.8.0,>=3.7.0->de-core-news-lg==3.7.0) (2.0.8)\n",
            "Requirement already satisfied: preshed<3.1.0,>=3.0.2 in /usr/local/lib/python3.10/dist-packages (from spacy<3.8.0,>=3.7.0->de-core-news-lg==3.7.0) (3.0.9)\n",
            "Requirement already satisfied: thinc<8.3.0,>=8.2.2 in /usr/local/lib/python3.10/dist-packages (from spacy<3.8.0,>=3.7.0->de-core-news-lg==3.7.0) (8.2.3)\n",
            "Requirement already satisfied: wasabi<1.2.0,>=0.9.1 in /usr/local/lib/python3.10/dist-packages (from spacy<3.8.0,>=3.7.0->de-core-news-lg==3.7.0) (1.1.3)\n",
            "Requirement already satisfied: srsly<3.0.0,>=2.4.3 in /usr/local/lib/python3.10/dist-packages (from spacy<3.8.0,>=3.7.0->de-core-news-lg==3.7.0) (2.4.8)\n",
            "Requirement already satisfied: catalogue<2.1.0,>=2.0.6 in /usr/local/lib/python3.10/dist-packages (from spacy<3.8.0,>=3.7.0->de-core-news-lg==3.7.0) (2.0.10)\n",
            "Requirement already satisfied: weasel<0.4.0,>=0.1.0 in /usr/local/lib/python3.10/dist-packages (from spacy<3.8.0,>=3.7.0->de-core-news-lg==3.7.0) (0.3.4)\n",
            "Requirement already satisfied: typer<0.10.0,>=0.3.0 in /usr/local/lib/python3.10/dist-packages (from spacy<3.8.0,>=3.7.0->de-core-news-lg==3.7.0) (0.9.4)\n",
            "Requirement already satisfied: smart-open<7.0.0,>=5.2.1 in /usr/local/lib/python3.10/dist-packages (from spacy<3.8.0,>=3.7.0->de-core-news-lg==3.7.0) (6.4.0)\n",
            "Requirement already satisfied: tqdm<5.0.0,>=4.38.0 in /usr/local/lib/python3.10/dist-packages (from spacy<3.8.0,>=3.7.0->de-core-news-lg==3.7.0) (4.66.4)\n",
            "Requirement already satisfied: requests<3.0.0,>=2.13.0 in /usr/local/lib/python3.10/dist-packages (from spacy<3.8.0,>=3.7.0->de-core-news-lg==3.7.0) (2.31.0)\n",
            "Requirement already satisfied: pydantic!=1.8,!=1.8.1,<3.0.0,>=1.7.4 in /usr/local/lib/python3.10/dist-packages (from spacy<3.8.0,>=3.7.0->de-core-news-lg==3.7.0) (2.7.3)\n",
            "Requirement already satisfied: jinja2 in /usr/local/lib/python3.10/dist-packages (from spacy<3.8.0,>=3.7.0->de-core-news-lg==3.7.0) (3.1.4)\n",
            "Requirement already satisfied: setuptools in /usr/local/lib/python3.10/dist-packages (from spacy<3.8.0,>=3.7.0->de-core-news-lg==3.7.0) (67.7.2)\n",
            "Requirement already satisfied: packaging>=20.0 in /usr/local/lib/python3.10/dist-packages (from spacy<3.8.0,>=3.7.0->de-core-news-lg==3.7.0) (24.0)\n",
            "Requirement already satisfied: langcodes<4.0.0,>=3.2.0 in /usr/local/lib/python3.10/dist-packages (from spacy<3.8.0,>=3.7.0->de-core-news-lg==3.7.0) (3.4.0)\n",
            "Requirement already satisfied: numpy>=1.19.0 in /usr/local/lib/python3.10/dist-packages (from spacy<3.8.0,>=3.7.0->de-core-news-lg==3.7.0) (1.25.2)\n",
            "Requirement already satisfied: language-data>=1.2 in /usr/local/lib/python3.10/dist-packages (from langcodes<4.0.0,>=3.2.0->spacy<3.8.0,>=3.7.0->de-core-news-lg==3.7.0) (1.2.0)\n",
            "Requirement already satisfied: annotated-types>=0.4.0 in /usr/local/lib/python3.10/dist-packages (from pydantic!=1.8,!=1.8.1,<3.0.0,>=1.7.4->spacy<3.8.0,>=3.7.0->de-core-news-lg==3.7.0) (0.7.0)\n",
            "Requirement already satisfied: pydantic-core==2.18.4 in /usr/local/lib/python3.10/dist-packages (from pydantic!=1.8,!=1.8.1,<3.0.0,>=1.7.4->spacy<3.8.0,>=3.7.0->de-core-news-lg==3.7.0) (2.18.4)\n",
            "Requirement already satisfied: typing-extensions>=4.6.1 in /usr/local/lib/python3.10/dist-packages (from pydantic!=1.8,!=1.8.1,<3.0.0,>=1.7.4->spacy<3.8.0,>=3.7.0->de-core-news-lg==3.7.0) (4.12.1)\n",
            "Requirement already satisfied: charset-normalizer<4,>=2 in /usr/local/lib/python3.10/dist-packages (from requests<3.0.0,>=2.13.0->spacy<3.8.0,>=3.7.0->de-core-news-lg==3.7.0) (3.3.2)\n",
            "Requirement already satisfied: idna<4,>=2.5 in /usr/local/lib/python3.10/dist-packages (from requests<3.0.0,>=2.13.0->spacy<3.8.0,>=3.7.0->de-core-news-lg==3.7.0) (3.7)\n",
            "Requirement already satisfied: urllib3<3,>=1.21.1 in /usr/local/lib/python3.10/dist-packages (from requests<3.0.0,>=2.13.0->spacy<3.8.0,>=3.7.0->de-core-news-lg==3.7.0) (2.0.7)\n",
            "Requirement already satisfied: certifi>=2017.4.17 in /usr/local/lib/python3.10/dist-packages (from requests<3.0.0,>=2.13.0->spacy<3.8.0,>=3.7.0->de-core-news-lg==3.7.0) (2024.6.2)\n",
            "Requirement already satisfied: blis<0.8.0,>=0.7.8 in /usr/local/lib/python3.10/dist-packages (from thinc<8.3.0,>=8.2.2->spacy<3.8.0,>=3.7.0->de-core-news-lg==3.7.0) (0.7.11)\n",
            "Requirement already satisfied: confection<1.0.0,>=0.0.1 in /usr/local/lib/python3.10/dist-packages (from thinc<8.3.0,>=8.2.2->spacy<3.8.0,>=3.7.0->de-core-news-lg==3.7.0) (0.1.5)\n",
            "Requirement already satisfied: click<9.0.0,>=7.1.1 in /usr/local/lib/python3.10/dist-packages (from typer<0.10.0,>=0.3.0->spacy<3.8.0,>=3.7.0->de-core-news-lg==3.7.0) (8.1.7)\n",
            "Requirement already satisfied: cloudpathlib<0.17.0,>=0.7.0 in /usr/local/lib/python3.10/dist-packages (from weasel<0.4.0,>=0.1.0->spacy<3.8.0,>=3.7.0->de-core-news-lg==3.7.0) (0.16.0)\n",
            "Requirement already satisfied: MarkupSafe>=2.0 in /usr/local/lib/python3.10/dist-packages (from jinja2->spacy<3.8.0,>=3.7.0->de-core-news-lg==3.7.0) (2.1.5)\n",
            "Requirement already satisfied: marisa-trie>=0.7.7 in /usr/local/lib/python3.10/dist-packages (from language-data>=1.2->langcodes<4.0.0,>=3.2.0->spacy<3.8.0,>=3.7.0->de-core-news-lg==3.7.0) (1.1.1)\n",
            "\u001b[38;5;2m✔ Download and installation successful\u001b[0m\n",
            "You can now load the package via spacy.load('de_core_news_lg')\n",
            "\u001b[38;5;3m⚠ Restart to reload dependencies\u001b[0m\n",
            "If you are in a Jupyter or Colab notebook, you may need to restart Python in\n",
            "order to load all the package's dependencies. You can do this by selecting the\n",
            "'Restart kernel' or 'Restart runtime' option.\n"
          ]
        }
      ]
    },
    {
      "cell_type": "code",
      "source": [
        "import spacy\n",
        "nlp = spacy.load(\"de_core_news_lg\")\n",
        "\n",
        "def preprocess(document):\n",
        "  # Die POS-Tags für den zweiten Schritt\n",
        "  pos_to_be_removed = ['ADV', 'PRON', 'CCONJ', 'PUNCT', 'PART', 'DET', 'ADP', 'SPACE']\n",
        "  # Fügen Sie hier Ihren Code hier ein\n",
        "  doc = nlp(document)\n",
        "  preprocessed = []\n",
        "  for token in doc:\n",
        "    if token.pos_ not in pos_to_be_removed:\n",
        "      preprocessed.append(token.lemma_)\n",
        "  return preprocessed\n",
        "\n",
        "preprocessed_corpus = []\n",
        "for text in corpus:\n",
        "  preprocessed_corpus.append(preprocess(text))\n",
        "print(preprocessed_corpus)"
      ],
      "metadata": {
        "id": "d4Hir0c0q9WO",
        "colab": {
          "base_uri": "https://localhost:8080/"
        },
        "outputId": "734278d0-0e8c-49df-a4fa-81e61aad5518"
      },
      "execution_count": 17,
      "outputs": [
        {
          "output_type": "stream",
          "name": "stdout",
          "text": [
            "['möglich', 'Hinweis', 'Leben', 'All', 'Webb-Teleskop', 'untersuchen', 'I', 'want', 'to', 'believe', 'wollen', 'glauben', 'stehen', 'Plakat', 'Büro', 'FBI-Agent', 'Mulder', 'Mysteryserie', 'Akte', 'X.', 'Idee', 'außerirdisch', 'Leben', 'sein', 'anderer', 'wissenschaftlich', 'Konzept', 'James-Webb-Weltraumteleskop', 'haben', 'Forschung', 'vielversprechend', 'Instrument', 'Hand', 'um', 'Frage', 'Klarheit', 'schaffen', 'Webb', 'liefern', 'wunderschön', 'Bild', 'All', 'sein', 'Lage', 'chemisch', 'Zusammensetzung', 'Atmosphäre', 'Planet', 'anderer', 'Sonnensystem', 'analysieren', 'sein', 'Interesse', 'wenn', 'Webb', 'neu', 'Erkenntnis', 'Exoplanet', 'veröffentlichen', 'Herbst', '2023', 'Untersuchung', 'Planet', 'K2', '18b', 'atmosphärisch', 'Zusammensetzung', 'Vorhandensein', 'Ozean', 'hindeuten', 'Information', 'finden', 'Nebenbemerkung', 'Aufnahme', 'Aussendung', 'heißen', 'Datum', 'zeigen', 'schwach', 'Hinweis', 'chemisch', 'Verbindung', 'Dimethylsulfid', 'Molekül', 'lassen', 'Forschend', 'interessierter', 'aufhorchen', 'sein', 'irdisch', 'Atmosphäre', 'groß', 'Menge', 'sorgen', 'typisch', 'Duft', 'Meer', 'werden', 'Mikroorganisme', 'Meer', 'produzieren']\n",
            "['grün', 'Grenze', 'sein', 'neu', 'EU-Klimazoll', 'sein', 'groß', 'Schritt', 'Klimapolitik', 'EU', 'müssen', 'Unternehmen', 'Ware', 'Union', 'kaufen', 'Zoll', 'bezahlen', 'Klimaschade', 'Produkt', 'ausgleichen', 'sollen', 'werden', 'auswirken', 'Jahr', '2030', 'sollen', 'Emission', '55', 'Prozent', 'sinken', '2040', '90', 'Prozent', '2050', 'hundert', 'Prozent', 'sein', 'steil', 'Reduktionsvorgabe', 'Vergleich', 'Basisjahr', '1990', 'EU', 'verpassen', 'haben', 'Unzählige', 'Maßnahme', 'Schlagwort', 'Green', 'Deal', 'zusammengefasst', 'sollen', 'zusammenwirken', 'damit', 'Vorhaben', 'gelingen', 'wesentlich', 'Baustein', 'treten', 'vergangen', 'Oktober', 'Kraft', 'Vorform', 'wenn', 'allgemein', 'öffentlich', 'Wahrnehmung', 'aufschlagen', 'sein', 'sein', 'epochal', 'Schritt', 'EU', 'brechen', 'Stück', 'alt', 'Credo', 'dass', 'frei', 'Handel', 'Grenze', 'gute', 'bewirken', 'anstreben', 'sein', 'führen', 'Zoll', 'klimaschädlich', 'Produkt', 'heißen', 'Climate', 'Border', 'Adjustment', 'Mechanism', 'CBAM', 'wenn', '450-Millionen-Einwohner-Wirtschaftsraum', 'EU', 'Maßnahme', 'einführen', 'wirken', 'Welt', 'Österreich', 'Ausgleichsmechanismus', 'wenn', 'klimaschädlich', 'Produkt', 'EU', 'kommen', 'müssen', 'Importeuer', 'Schaden', 'bezahlen', 'erster', 'Jahr', 'Ende', '2023', 'Anfang', '2026', 'laufen', 'Art', 'Test', 'Emissionsgehalt', 'Einfuhr', 'EU-Außengrenze', 'erheben', 'werden', 'dass', 'bezahlen', 'sein', 'Jänner', '2026', 'werden', 'Zoll', 'betreffen', 'sein', 'klimaschädlich', 'Ware', 'Stahl', 'Aluminium', 'Zement', 'Düngemittel', 'chemisch', 'Produkt', 'Österreich', 'sein', 'Unternehmen', 'derartig', 'Produkt', 'verarbeiten', 'Klimazoll', 'aufkommen', 'müssen', 'Wirtschaftskammer', '195.000', 'Person', 'beschäftigen', 'Idee', 'sein', 'Fairness', 'schaffen', 'sagen', 'Claudia', 'Kettner-Marx', 'Ökonomin', 'Schwerpunkt', 'Klimaschutz', 'Wiener', 'Wifo', 'Industrie', 'Europa', 'unterliegen', 'Emissionshandelssystem', 'ETS', 'muss', 'Tonne', 'klimaschädlich', 'CO2', 'ausstößt', 'Zertifikat', 'erwerben', 'kosten', 'emittiert', 'Tonne', '70', 'Euro', 'anderer', 'Weltteile', 'geben', 'Bepreisungssystem', 'EU-Unternehmen', 'haben', 'Nachteil', 'Weltmarkt', 'Mithilfe', 'CBAM', 'sollen', 'ausgleichen', 'werden', 'Höhe', 'Zoll', 'entsprechen', 'ETS', 'handeln', 'feststehend', 'Betrag', 'schwankend', 'ETS-Kurs', 'sollen', 'anderer', 'Weltteil', 'CO2-Bepreisung', 'einführen', 'europäisch', 'ETS', 'gleichkommen', 'werden', 'CBAM', 'Export', 'Europa', 'entfallen', 'Rechnung', 'arm', 'Land', 'Folge', 'liegen', 'Hand', 'Rechnung', 'werden', 'anderer', 'Wirtschaftsraum', 'zahlen', 'eigen', 'CO2-Bepreisung', 'einführen', 'können', 'wollen', 'finden', 'arm', 'Land', 'Welt', 'aktuell', 'Erhebung', 'London', 'School', 'of', 'Economics', 'Blick', 'Afrika', 'prognostizieren', 'dass', 'Export', 'Aluminium', 'Afrika', 'EU', 'CBAM', '13,9', 'Prozent', 'sinken', 'werden', 'Stahl', '8,2', 'Prozent', 'Düngemittel', '3,9', 'Prozent', 'brauchen', 'Schutz', 'EU-Industrie', 'CBAM', 'sein', 'erster', 'Ansatz', 'sagen', 'Wolfgang', 'Brenner', 'Bundessparte', 'Industrie', 'Wirtschaftskammer', 'Energie', 'Klimapolitik', 'sein', 'sein', 'Seite', 'Medaille', 'Europa', 'Industrie', 'sein', 'CBAM', 'wenn', 'österreichisch', 'Maschinenbauer', 'Stahl', 'Erzeugnis', 'Indonesien', 'beziehen', 'muss', 'Einfuhr', 'CBAM', 'entrichten', 'Produkt', 'Maschinenbauer', 'werden', 'Kernproblem', 'Industrie', 'CBAM', 'verteuern', 'Produktion', 'EU', 'ohne', 'Entlastung', 'vorzusehen', 'wenn', 'EU-Produkt', 'Region', 'Klimaschutz', 'exportieren', 'werden', 'Problematik', 'sein', 'CBAM', 'richtig', 'Ansatz', 'klimafreundlich', 'Transformation', 'Wirtschaft', 'Aspekt', 'stellen', 'groß', 'Problem', 'sagen', 'Brenner', 'Unfassbares', 'Berichtswesen', 'sein', 'gute', 'wenn', 'ganz', 'Welt', 'CO2-Bepreisung', 'entschließen', 'werden', 'antworten', 'Wifo-Ökonomin', 'Kettner-Marx', 'Dilemma', 'deuten', 'versuchen', 'EU', 'Pionierin', 'vorzupreschen', 'Hoffnung', 'sein', 'dass', 'CBAM', 'EU', 'Welt', 'CO2-Bepreisungssysteme', 'sprießen', 'werden', 'geschehen', 'mächtig', 'Akteur', 'Indien', 'aufstrebend', 'Land', 'haben', 'abwunken', 'Inder', 'haben', 'Vergleich', 'Europäer', 'global', 'Klimaschade', 'beitragen', 'erklären', 'Industrieminister', 'Piyush', 'Goyal', 'Februar', 'werden', 'CO2-Preis', 'Indien', 'stark', 'Wirtschaftswachstum', 'gefährden', 'geben', 'anderer', 'wichtig', 'Frage', 'sollen', 'berechnen', 'klimaschädlich', 'CO2', 'Produktion', 'bestimmt', 'Ware', 'EU-Grenze', 'passieren', 'ausstoßen', 'werden', 'stecken', 'Ware', 'komplex', 'Lieferkette', 'unzählig', 'beteiligter', 'vorsehen', 'sein', 'dass', 'EU-Importeur', 'Datum', 'Hersteller', 'fern', 'Land', 'einsammeln', 'Gutachter', 'beauftragen', 'sollen', 'CO2-Ausstoß', 'jeweilig', 'Einfuhr', 'ermitteln', 'ob', 'Plan', 'brauchbar', 'zuverlässig', 'Ergebnis', 'liefern', 'muss', 'weisen', 'führen', 'unfassbar', 'Berichtswesen', 'klagen', 'Wirtschaftskammer-Experte', 'Brenner', 'klein', 'mittlerer', 'Unternehmen', 'treffen', 'werden', 'appellieren', 'dass', 'EU-Kommission', 'Standardwert', 'akzeptieren', 'falls', 'Importeur', 'genau', 'Datum', 'liefern', 'können', 'wollen', 'besagt', 'Tonne', 'Stahl', 'Indonesien', 'können', 'EU-Kommission', 'CO2-Preis', 'festlegen', 'statt', 'dass', 'betroffen', 'Unternehmen', 'echt', 'Treibhausgasausstoß', 'konkret', 'Einfuhr', 'ermitteln', 'muss', 'sein', 'Standardwert', 'Testphase', 'sollen', 'sein', 'sein', 'CBAM', 'zeigen', 'dass', 'EU', 'global', 'Kampf', 'Klimawandel', 'nehmen', 'entschließen', 'angehen', 'Auswirkung', 'arm', 'Land', 'Europa', 'sein', 'kommend', 'Jahr', 'werden', 'CBAM', 'garantieren', 'hören', 'sein', 'Joseph', 'Gepp', '21.5.2024']\n"
          ]
        }
      ]
    },
    {
      "cell_type": "markdown",
      "source": [
        "👋 ⚒ **Aufgabe** 👋 ⚒ <br>\n",
        "Berechnen Sie nun die TF-IDF-Werte auf den vorbearbeiteten Korpus und speichern Sie wiederum das Ergebnis in eine Datei, wobei Sie nur Werte größer 0 speichern.\n",
        "\n",
        "Der TfidfVectorizer erwartet zusammenhängenden Text als Eingabe und nicht Listen von Tokens. Daher verwenden wir `preprocessor=' '.join`, eine Funktion die automatisch die Wörter wieder zu setzen Text zusammenfügt in der Zeile `  vectorizer = TfidfVectorizer(preprocessor=' '.join)`. Daher verwenden Sie bitte die nachstehende Funktion.   "
      ],
      "metadata": {
        "id": "tgJ91eiArQ_c"
      }
    },
    {
      "cell_type": "code",
      "source": [
        "# Fügen Sie hier Ihren Code hier ein\n",
        "from sklearn.feature_extraction.text import TfidfVectorizer\n",
        "\n",
        "def tf_idf_sklearn_for_tokens(corpus):\n",
        "\n",
        "  # Erst wird ein Objekt dieser Klasse erzeugt\n",
        "  vectorizer = TfidfVectorizer(preprocessor=' '.join)\n",
        "\n",
        "  # Mit der Funktion fit_transform werden die TF-IDF-Werte für den Korpus berechnet\n",
        "  tf_idf_scores = vectorizer.fit_transform(corpus)\n",
        "\n",
        "  # Mit dieser Funktion können die Termini und deren Index abgerufen werden\n",
        "  terms = vectorizer.get_feature_names_out()\n",
        "\n",
        "  tf_idf_dict = {}\n",
        "  for term in terms:\n",
        "    # In diesem Dictionary werden die TF-IDF-Werte mit den dazugehörigen Termini gespeichert\n",
        "    tf_idf_dict[term] = tf_idf_scores[0, vectorizer.vocabulary_[term]]\n",
        "\n",
        "  return tf_idf_dict\n",
        "\n",
        "preprocessed_result = tf_idf_sklearn_for_tokens(preprocessed_corpus)\n",
        "print(preprocessed_result)"
      ],
      "metadata": {
        "id": "pQFTmbHgrdyW",
        "colab": {
          "base_uri": "https://localhost:8080/"
        },
        "outputId": "8e8af283-6cf9-485d-be02-172c8c481608"
      },
      "execution_count": 19,
      "outputs": [
        {
          "output_type": "stream",
          "name": "stdout",
          "text": [
            "{'000': 0.0, '13': 0.0, '18b': 0.08935349635700093, '195': 0.0, '1990': 0.0, '2023': 0.06357574858423615, '2024': 0.0, '2026': 0.0, '2030': 0.0, '2040': 0.0, '2050': 0.0, '21': 0.0, '450': 0.0, '55': 0.0, '70': 0.0, '90': 0.0, 'Adjustment': 0.0, 'Afrika': 0.0, 'Agent': 0.08935349635700093, 'Akte': 0.08935349635700093, 'Akteur': 0.0, 'All': 0.17870699271400187, 'Aluminium': 0.0, 'Anfang': 0.0, 'Ansatz': 0.0, 'Art': 0.0, 'Aspekt': 0.0, 'Atmosphäre': 0.17870699271400187, 'Aufnahme': 0.08935349635700093, 'Ausgleichsmechanismus': 0.0, 'Aussendung': 0.08935349635700093, 'Ausstoß': 0.0, 'Auswirkung': 0.0, 'Außengrenze': 0.0, 'Basisjahr': 0.0, 'Baustein': 0.0, 'Bepreisung': 0.0, 'Bepreisungssystem': 0.0, 'Bepreisungssysteme': 0.0, 'Berichtswesen': 0.0, 'Betrag': 0.0, 'Bild': 0.08935349635700093, 'Blick': 0.0, 'Border': 0.0, 'Brenner': 0.0, 'Bundessparte': 0.0, 'Büro': 0.08935349635700093, 'CBAM': 0.0, 'CO2': 0.0, 'Claudia': 0.0, 'Climate': 0.0, 'Credo': 0.0, 'Datum': 0.06357574858423615, 'Deal': 0.0, 'Dilemma': 0.0, 'Dimethylsulfid': 0.08935349635700093, 'Duft': 0.08935349635700093, 'Düngemittel': 0.0, 'ETS': 0.0, 'EU': 0.0, 'Economics': 0.0, 'Einfuhr': 0.0, 'Einwohner': 0.0, 'Emission': 0.0, 'Emissionsgehalt': 0.0, 'Emissionshandelssystem': 0.0, 'Ende': 0.0, 'Energie': 0.0, 'Entlastung': 0.0, 'Ergebnis': 0.0, 'Erhebung': 0.0, 'Erkenntnis': 0.08935349635700093, 'Erzeugnis': 0.0, 'Euro': 0.0, 'Europa': 0.0, 'Europäer': 0.0, 'Exoplanet': 0.08935349635700093, 'Experte': 0.0, 'Export': 0.0, 'FBI': 0.08935349635700093, 'Fairness': 0.0, 'Februar': 0.0, 'Folge': 0.0, 'Forschend': 0.08935349635700093, 'Forschung': 0.08935349635700093, 'Frage': 0.06357574858423615, 'Gepp': 0.0, 'Goyal': 0.0, 'Green': 0.0, 'Grenze': 0.0, 'Gutachter': 0.0, 'Hand': 0.06357574858423615, 'Handel': 0.0, 'Herbst': 0.08935349635700093, 'Hersteller': 0.0, 'Hinweis': 0.17870699271400187, 'Hoffnung': 0.0, 'Höhe': 0.0, 'Idee': 0.06357574858423615, 'Importeuer': 0.0, 'Importeur': 0.0, 'Inder': 0.0, 'Indien': 0.0, 'Indonesien': 0.0, 'Industrie': 0.0, 'Industrieminister': 0.0, 'Information': 0.08935349635700093, 'Instrument': 0.08935349635700093, 'Interesse': 0.08935349635700093, 'Jahr': 0.0, 'James': 0.08935349635700093, 'Joseph': 0.0, 'Jänner': 0.0, 'K2': 0.08935349635700093, 'Kampf': 0.0, 'Kernproblem': 0.0, 'Kettner': 0.0, 'Klarheit': 0.08935349635700093, 'Klimapolitik': 0.0, 'Klimaschade': 0.0, 'Klimaschutz': 0.0, 'Klimawandel': 0.0, 'Klimazoll': 0.0, 'Kommission': 0.0, 'Konzept': 0.08935349635700093, 'Kraft': 0.0, 'Kurs': 0.0, 'Lage': 0.08935349635700093, 'Land': 0.0, 'Leben': 0.17870699271400187, 'Lieferkette': 0.0, 'London': 0.0, 'Marx': 0.0, 'Maschinenbauer': 0.0, 'Maßnahme': 0.0, 'Mechanism': 0.0, 'Medaille': 0.0, 'Meer': 0.17870699271400187, 'Menge': 0.08935349635700093, 'Mikroorganisme': 0.08935349635700093, 'Millionen': 0.0, 'Mithilfe': 0.0, 'Molekül': 0.08935349635700093, 'Mulder': 0.08935349635700093, 'Mysteryserie': 0.08935349635700093, 'Nachteil': 0.0, 'Nebenbemerkung': 0.08935349635700093, 'Oktober': 0.0, 'Ozean': 0.08935349635700093, 'Person': 0.0, 'Pionierin': 0.0, 'Piyush': 0.0, 'Plakat': 0.08935349635700093, 'Plan': 0.0, 'Planet': 0.17870699271400187, 'Preis': 0.0, 'Problem': 0.0, 'Problematik': 0.0, 'Produkt': 0.0, 'Produktion': 0.0, 'Prozent': 0.0, 'Rechnung': 0.0, 'Reduktionsvorgabe': 0.0, 'Region': 0.0, 'Schaden': 0.0, 'Schlagwort': 0.0, 'School': 0.0, 'Schritt': 0.0, 'Schutz': 0.0, 'Schwerpunkt': 0.0, 'Seite': 0.0, 'Sonnensystem': 0.08935349635700093, 'Stahl': 0.0, 'Standardwert': 0.0, 'Stück': 0.0, 'Teleskop': 0.08935349635700093, 'Test': 0.0, 'Testphase': 0.0, 'Tonne': 0.0, 'Transformation': 0.0, 'Treibhausgasausstoß': 0.0, 'Unfassbares': 0.0, 'Union': 0.0, 'Unternehmen': 0.0, 'Untersuchung': 0.08935349635700093, 'Unzählige': 0.0, 'Verbindung': 0.08935349635700093, 'Vergleich': 0.0, 'Vorform': 0.0, 'Vorhaben': 0.0, 'Vorhandensein': 0.08935349635700093, 'Wahrnehmung': 0.0, 'Ware': 0.0, 'Webb': 0.35741398542800373, 'Welt': 0.0, 'Weltmarkt': 0.0, 'Weltraumteleskop': 0.08935349635700093, 'Weltteil': 0.0, 'Weltteile': 0.0, 'Wiener': 0.0, 'Wifo': 0.0, 'Wirtschaft': 0.0, 'Wirtschaftskammer': 0.0, 'Wirtschaftsraum': 0.0, 'Wirtschaftswachstum': 0.0, 'Wolfgang': 0.0, 'Zement': 0.0, 'Zertifikat': 0.0, 'Zoll': 0.0, 'Zusammensetzung': 0.17870699271400187, 'abwunken': 0.0, 'aktuell': 0.0, 'akzeptieren': 0.0, 'allgemein': 0.0, 'alt': 0.0, 'analysieren': 0.08935349635700093, 'anderer': 0.1271514971684723, 'angehen': 0.0, 'anstreben': 0.0, 'antworten': 0.0, 'appellieren': 0.0, 'arm': 0.0, 'atmosphärisch': 0.08935349635700093, 'aufhorchen': 0.08935349635700093, 'aufkommen': 0.0, 'aufschlagen': 0.0, 'aufstrebend': 0.0, 'ausgleichen': 0.0, 'ausstoßen': 0.0, 'ausstößt': 0.0, 'auswirken': 0.0, 'außerirdisch': 0.08935349635700093, 'beauftragen': 0.0, 'beitragen': 0.0, 'believe': 0.08935349635700093, 'berechnen': 0.0, 'besagt': 0.0, 'beschäftigen': 0.0, 'bestimmt': 0.0, 'beteiligter': 0.0, 'betreffen': 0.0, 'betroffen': 0.0, 'bewirken': 0.0, 'bezahlen': 0.0, 'beziehen': 0.0, 'brauchbar': 0.0, 'brauchen': 0.0, 'brechen': 0.0, 'chemisch': 0.1271514971684723, 'damit': 0.0, 'dass': 0.0, 'derartig': 0.0, 'deuten': 0.0, 'echt': 0.0, 'eigen': 0.0, 'einführen': 0.0, 'einsammeln': 0.0, 'emittiert': 0.0, 'entfallen': 0.0, 'entrichten': 0.0, 'entschließen': 0.0, 'entsprechen': 0.0, 'epochal': 0.0, 'erheben': 0.0, 'erklären': 0.0, 'ermitteln': 0.0, 'erster': 0.0, 'erwerben': 0.0, 'europäisch': 0.0, 'exportieren': 0.0, 'falls': 0.0, 'fern': 0.0, 'festlegen': 0.0, 'feststehend': 0.0, 'finden': 0.06357574858423615, 'frei': 0.0, 'führen': 0.0, 'ganz': 0.0, 'garantieren': 0.0, 'geben': 0.0, 'gefährden': 0.0, 'gelingen': 0.0, 'genau': 0.0, 'geschehen': 0.0, 'glauben': 0.08935349635700093, 'gleichkommen': 0.0, 'global': 0.0, 'groß': 0.06357574858423615, 'grün': 0.0, 'gute': 0.0, 'haben': 0.06357574858423615, 'handeln': 0.0, 'heißen': 0.06357574858423615, 'hindeuten': 0.08935349635700093, 'hundert': 0.0, 'hören': 0.0, 'interessierter': 0.08935349635700093, 'irdisch': 0.08935349635700093, 'jeweilig': 0.0, 'kaufen': 0.0, 'klagen': 0.0, 'klein': 0.0, 'klimafreundlich': 0.0, 'klimaschädlich': 0.0, 'kommen': 0.0, 'kommend': 0.0, 'komplex': 0.0, 'konkret': 0.0, 'kosten': 0.0, 'können': 0.0, 'lassen': 0.08935349635700093, 'laufen': 0.0, 'liefern': 0.06357574858423615, 'liegen': 0.0, 'mittlerer': 0.0, 'muss': 0.0, 'mächtig': 0.0, 'möglich': 0.08935349635700093, 'müssen': 0.0, 'nehmen': 0.0, 'neu': 0.06357574858423615, 'ob': 0.0, 'of': 0.0, 'ohne': 0.0, 'passieren': 0.0, 'produzieren': 0.08935349635700093, 'prognostizieren': 0.0, 'richtig': 0.0, 'sagen': 0.0, 'schaffen': 0.06357574858423615, 'schwach': 0.08935349635700093, 'schwankend': 0.0, 'sein': 0.2543029943369446, 'sinken': 0.0, 'sollen': 0.0, 'sorgen': 0.08935349635700093, 'sprießen': 0.0, 'stark': 0.0, 'statt': 0.0, 'stecken': 0.0, 'stehen': 0.08935349635700093, 'steil': 0.0, 'stellen': 0.0, 'to': 0.08935349635700093, 'treffen': 0.0, 'treten': 0.0, 'typisch': 0.08935349635700093, 'um': 0.08935349635700093, 'unfassbar': 0.0, 'unterliegen': 0.0, 'untersuchen': 0.08935349635700093, 'unzählig': 0.0, 'verarbeiten': 0.0, 'vergangen': 0.0, 'verpassen': 0.0, 'versuchen': 0.0, 'verteuern': 0.0, 'veröffentlichen': 0.08935349635700093, 'vielversprechend': 0.08935349635700093, 'vorsehen': 0.0, 'vorzupreschen': 0.0, 'vorzusehen': 0.0, 'want': 0.08935349635700093, 'weisen': 0.0, 'wenn': 0.06357574858423615, 'werden': 0.06357574858423615, 'wesentlich': 0.0, 'wichtig': 0.0, 'wirken': 0.0, 'wissenschaftlich': 0.08935349635700093, 'wollen': 0.06357574858423615, 'wunderschön': 0.08935349635700093, 'zahlen': 0.0, 'zeigen': 0.06357574858423615, 'zusammengefasst': 0.0, 'zusammenwirken': 0.0, 'zuverlässig': 0.0, 'Ökonomin': 0.0, 'Österreich': 0.0, 'öffentlich': 0.0, 'österreichisch': 0.0}\n"
          ]
        }
      ]
    },
    {
      "cell_type": "markdown",
      "source": [
        "👋 ⚒ **Analyse** 👋 ⚒ <br>\n",
        "Welche Unterschiede lassen sich zwischen der Bechnung ohne und mit Vorverarbeitung erkennen? Fügen Sie hier oder in der nächsten Textzelle Ihre Analyse ein."
      ],
      "metadata": {
        "id": "9y9t2kgwrfyD"
      }
    },
    {
      "cell_type": "markdown",
      "source": [
        "**Analyse** <br/>\n",
        "Der Hauptunterschied zwischen dem TF-IDF-Ergebnis auf dem ersten Korpus und dem vorbearbeiteten Korpus ist, dass die Anzahl der Termkandidaten gesunken ist und Wörter mit weniger semantischer Wichtigkeit (und, aus, dieses, etc.) weggelassen wurden. Dadurch werden Wörtern mit höherer Fachlichkeit auch höhere TF-IDF-Werte zugewiesen.\n",
        "\n",
        "Weiters wird für jedes Wort nur noch ein TF-IDF-Wert berechnent, da die flektierten Formen des Wortes nicht einzeln berechnet werden sondern aufgrund der Lemmatisierung zu einer Basisform zusammengefasst werden. Das erhöht auch die Richtigkeit der Ergebnisse der TF-IDF-Berechnung."
      ],
      "metadata": {
        "id": "gjMvXXXYCfqT"
      }
    },
    {
      "cell_type": "markdown",
      "source": [
        "👋 ⚒ **Aufgabe** 👋 ⚒ <br>\n",
        "Geben Sie nun nur die Eigennamen also Named Entities des Beispielkorpus und deren TF-IDF-Werte aus. Dazu müssen Sie zuerst die Named Entities identifizieren und dann die TF-IDF-Werten im Ergebnisdictionary finden. Wie fachspezifisch sind die Named Enties laut dieser Analyse? Stimmen Sie zu? Bedenken Sie: ein höherer TF-IDF-Wert bedeutet einen höheren Grad der Spezifizität und Fachlichkeit."
      ],
      "metadata": {
        "id": "UL6k2rfLrwoK"
      }
    },
    {
      "cell_type": "code",
      "source": [
        "# Fügen Sie hier Ihren Code hier ein\n",
        "def find_ner_and_tf_idf(corpus, tf_idf_result):\n",
        "  entities = dict()\n",
        "  for docx in corpus:\n",
        "    doc1 = nlp(docx)\n",
        "    for ent in doc1.ents:\n",
        "      # Da im tf_idf_result Dictionary die Wörter in Kleinbuchstaben dargestellt sind, muss erst der Text\n",
        "      # des Datentyps ent abgerufen werden und dieser dann kleingeschrieben werden, damit der Vergleich gelingt\n",
        "      if ent.text.lower() in tf_idf_result.keys():\n",
        "        entities[ent] = tf_idf_result[ent.text.lower()]\n",
        "  return entities\n",
        "\n",
        "entities_tf_idf = find_ner_and_tf_idf(corpus, result)\n",
        "print(entities_tf_idf)"
      ],
      "metadata": {
        "id": "2wGstxYUrvND",
        "colab": {
          "base_uri": "https://localhost:8080/"
        },
        "outputId": "2abb1e7d-d2ae-490b-fef5-5eca180794c2"
      },
      "execution_count": 32,
      "outputs": [
        {
          "output_type": "stream",
          "name": "stdout",
          "text": [
            "{Webb: 0.2479362242571981, Webb: 0.2479362242571981, K2: 0.06198405606429953, Meeres: 0.06198405606429953, Grüne: 0.0, EU: 0.0, Union: 0.0, Klimaschaden: 0.0, EU: 0.0, EU: 0.0, CBAM: 0.0, EU: 0.0, Österreich: 0.0, EU: 0.0, Österreich: 0.0, Klimazoll: 0.0, Wirtschaftskammer: 0.0, Wiener: 0.0, Europas: 0.0, ETS: 0.0, CBAM: 0.0, ETS: 0.0, europäischen: 0.0, CBAM: 0.0, Europa: 0.0, Afrika: 0.0, Afrika: 0.0, EU: 0.0, CBAM: 0.0, Europas: 0.0, CBAM: 0.0, österreichischer: 0.0, Indonesien: 0.0, CBAM: 0.0, CBAM: 0.0, EU: 0.0, CBAM: 0.0, Brenner: 0.0, EU: 0.0, EU: 0.0, Indien: 0.0, Inder: 0.0, Europäern: 0.0, Piyush: 0.0, Indiens: 0.0, Indonesien: 0.0, CBAM: 0.0, EU: 0.0, Europa: 0.0, CBAM: 0.0}\n"
          ]
        }
      ]
    }
  ]
}