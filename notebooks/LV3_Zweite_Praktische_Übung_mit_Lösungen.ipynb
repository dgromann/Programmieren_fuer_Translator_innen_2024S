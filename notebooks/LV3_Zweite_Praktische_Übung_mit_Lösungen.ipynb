{
  "nbformat": 4,
  "nbformat_minor": 0,
  "metadata": {
    "colab": {
      "provenance": [],
      "authorship_tag": "ABX9TyNplBbn+Kunk2sLoYH7wukJ",
      "include_colab_link": true
    },
    "kernelspec": {
      "name": "python3",
      "display_name": "Python 3"
    },
    "language_info": {
      "name": "python"
    }
  },
  "cells": [
    {
      "cell_type": "markdown",
      "metadata": {
        "id": "view-in-github",
        "colab_type": "text"
      },
      "source": [
        "<a href=\"https://colab.research.google.com/github/dgromann/Programmieren_fuer_Translator_innen_2024S/blob/main/notebooks/LV3_Zweite_Praktische_%C3%9Cbung_mit_L%C3%B6sungen.ipynb\" target=\"_parent\"><img src=\"https://colab.research.google.com/assets/colab-badge.svg\" alt=\"Open In Colab\"/></a>"
      ]
    },
    {
      "cell_type": "markdown",
      "source": [
        "# **2024S: Einführung ins Programmieren für Translator:innen, Übung (UE), 340273-1**"
      ],
      "metadata": {
        "id": "6zdA0ilhmmAU"
      }
    },
    {
      "cell_type": "markdown",
      "source": [
        "## **2. Praktische Übung: Einige Beispiele für Python**\n",
        "\n",
        "Dieses Notebook stellt die zweite praktische Übung vor, die dazu dient einige einfache Aufgaben in Python zu lösen.\n"
      ],
      "metadata": {
        "id": "uL84K4wIpWbM"
      }
    },
    {
      "cell_type": "markdown",
      "source": [
        "👋 ⚒ **Aufgabe** 👋 ⚒ <br>\n",
        "Berechnen Sie wieviele Eier insgesamt für die geplante Anzahl von Kuchen benötigt werden, wenn jeder Kuchen drei Eier benötigt, und geben Sie das Ergebnis aus (print)."
      ],
      "metadata": {
        "id": "mlS1YoJfrELl"
      }
    },
    {
      "cell_type": "code",
      "source": [
        "eggs_per_cake = 3\n",
        "number_of_cakes = 10\n",
        "\n",
        "print(eggs_per_cake * number_of_cakes)"
      ],
      "metadata": {
        "id": "9EDyAJ-krqxY",
        "colab": {
          "base_uri": "https://localhost:8080/"
        },
        "outputId": "5bbfafb3-8b38-4a0a-ea9e-61fc76f131a9"
      },
      "execution_count": 1,
      "outputs": [
        {
          "output_type": "stream",
          "name": "stdout",
          "text": [
            "30\n"
          ]
        }
      ]
    },
    {
      "cell_type": "markdown",
      "source": [
        "👋 ⚒ **Aufgabe** 👋 ⚒ <br>\n",
        "Erstellen Sie eine Variable mit Ihrem Vornamen, kombinieren Sie diese mit der Variable `word1` und geben Sie die Kombination als Ergebnis aus."
      ],
      "metadata": {
        "id": "I2mXruJnqf0A"
      }
    },
    {
      "cell_type": "code",
      "execution_count": 4,
      "metadata": {
        "id": "LwrowOhomcgO",
        "colab": {
          "base_uri": "https://localhost:8080/"
        },
        "outputId": "f693f89f-f861-40a2-c316-fd18dd634af8"
      },
      "outputs": [
        {
          "output_type": "stream",
          "name": "stdout",
          "text": [
            "Mein Name ist Dagmar\n"
          ]
        }
      ],
      "source": [
        "word1 = \"Mein Name ist\"\n",
        "name = \"Dagmar\"\n",
        "\n",
        "print(word1+\" \"+name)\n",
        "\n",
        "# Alternativ kann auch das folgende ausgegeben werden\n",
        "#print(word1, name)"
      ]
    },
    {
      "cell_type": "markdown",
      "source": [
        "👋 ⚒ **Aufgabe** 👋 ⚒ <br>\n",
        "Überprüfen Sie automatisch ob die Schwester älter oder jünger als der Bruder ist. Dafür benötigen Sie bereits eine `if`-Anweisung. Geben Sie das Ergebnis der Übrprüfung aus, indem Sie sagen \"Ja, die Schwester ist älter als der Bruder\" oder \"Nein, die Schwester ist jünger als der Bruder\"."
      ],
      "metadata": {
        "id": "g9VEphoVsUOo"
      }
    },
    {
      "cell_type": "code",
      "source": [
        "sister = 15\n",
        "brother = 18\n",
        "\n",
        "if sister > brother:\n",
        "  print(\"Ja, die Schwester ist älter als der Bruder\")\n",
        "else:\n",
        "  print(\"Nein, die Schwester ist jünger als der Bruder\")"
      ],
      "metadata": {
        "id": "NYmYEabKsW0o",
        "colab": {
          "base_uri": "https://localhost:8080/"
        },
        "outputId": "d991cb45-3539-4e6e-f722-0baa5850a7f8"
      },
      "execution_count": 5,
      "outputs": [
        {
          "output_type": "stream",
          "name": "stdout",
          "text": [
            "Nein, die Schwester ist jünger als der Bruder\n"
          ]
        }
      ]
    },
    {
      "cell_type": "markdown",
      "source": [
        "👋 ⚒ **Aufgabe** 👋 ⚒ <br>\n",
        "Wie müßten Sie den Code der vorherigen Aufgabe anpassen, um zu überprüfen ob beide Geschwister gleich alt sind?"
      ],
      "metadata": {
        "id": "wz4fwq-UtAcc"
      }
    },
    {
      "cell_type": "code",
      "source": [
        "sister1 = 15\n",
        "brother2 = 15\n",
        "\n",
        "if sister1 == brother2:\n",
        "  print(\"Die Geschwister sind gleich alt\")"
      ],
      "metadata": {
        "id": "jMk9mNvctkC6",
        "colab": {
          "base_uri": "https://localhost:8080/"
        },
        "outputId": "c1ff9188-b891-462f-9cfc-735c49625a06"
      },
      "execution_count": 6,
      "outputs": [
        {
          "output_type": "stream",
          "name": "stdout",
          "text": [
            "Die Geschwister sind gleich alt\n"
          ]
        }
      ]
    },
    {
      "cell_type": "markdown",
      "source": [
        "👋 ⚒ **Aufgabe** 👋 ⚒ <br>\n",
        "Wie muss der folgende Code angepasst werden, um zu überprüfen ob die Raumtemperatur angenehm über 20 aber unter 25 Grad Celsius liegt?\n",
        "\n",
        "Wenn die Temperatur über 20 und unter 25 Grad liegt, sollte ausgegeben werden, dass die Temperatur angenehm ist."
      ],
      "metadata": {
        "id": "PU5tgGXmtsAb"
      }
    },
    {
      "cell_type": "code",
      "source": [
        "temperature = 25\n",
        "if temperature > 20 and temperature < 25:\n",
        "  print(\"Die Raumtemperatur mit\", temperature, \"Grad Celsius ist angenehm.\")\n",
        "else:\n",
        "  print(\"Die Raumtemperatur mit\", temperature, \"Grad Celsius muss angepasst werden.\")"
      ],
      "metadata": {
        "id": "rYEu5WlVuD8_",
        "colab": {
          "base_uri": "https://localhost:8080/"
        },
        "outputId": "9c984b8a-a52e-4f67-cd9e-3fee4789b415"
      },
      "execution_count": 10,
      "outputs": [
        {
          "output_type": "stream",
          "name": "stdout",
          "text": [
            "Die Raumtemperatur mit 25 Grad Celsius muss angepasst werden.\n"
          ]
        }
      ]
    },
    {
      "cell_type": "markdown",
      "source": [
        "👋 ⚒ **Aufgabe** 👋 ⚒ <br>\n",
        "Überprüfen Sie automatisch ob \"Sandra\" in der Liste der Schüler*innen `pupils` enthalten ist und geben Sie eine entsprechende Benachrichtigung aus."
      ],
      "metadata": {
        "id": "j7frMEHguvCQ"
      }
    },
    {
      "cell_type": "code",
      "source": [
        "new_name = [\"Sandra\"]\n",
        "pupils = [\"Harry\", \"Ron\", \"Hermine\", \"Lavender\", \"Seamus\",  \"Neville\", \"Parvati\", \"Dean\"]\n",
        "\n",
        "if new_name[0] in pupils:\n",
        "  print(\"Ja, \", new_name[0], \"ist in der Liste der Schüler*innen\")\n",
        "else:\n",
        "  print(\"Nein, \", new_name[0], \"ist nicht unter den Schüler*innen\")"
      ],
      "metadata": {
        "id": "JGYt6uauuuiB",
        "colab": {
          "base_uri": "https://localhost:8080/"
        },
        "outputId": "a1b6d51e-9e61-4318-de56-23dda49e33df"
      },
      "execution_count": 14,
      "outputs": [
        {
          "output_type": "stream",
          "name": "stdout",
          "text": [
            "Nein,  Sandra ist nicht unter den Schüler*innen\n"
          ]
        }
      ]
    },
    {
      "cell_type": "markdown",
      "source": [
        "👋 ⚒ **Aufgabe** 👋 ⚒ <br>\n",
        "Wenn \"Sandra\" nicht in der Liste `pupils` ist, fügen Sie Sandra der Liste hinzu."
      ],
      "metadata": {
        "id": "SFZBz2Lc1vcj"
      }
    },
    {
      "cell_type": "code",
      "source": [
        "# Eine Lösung\n",
        "if \"Sandra\" not in pupils:\n",
        "  pupils.append(\"Sandra\")\n",
        "\n",
        "print(pupils)"
      ],
      "metadata": {
        "id": "iIdS8L051uh5",
        "colab": {
          "base_uri": "https://localhost:8080/"
        },
        "outputId": "224d5483-87a0-48b1-e485-c6922dfd8ef9"
      },
      "execution_count": 16,
      "outputs": [
        {
          "output_type": "stream",
          "name": "stdout",
          "text": [
            "['Harry', 'Ron', 'Hermine', 'Lavender', 'Seamus', 'Neville', 'Parvati', 'Dean', 'Sandra']\n"
          ]
        }
      ]
    },
    {
      "cell_type": "code",
      "source": [
        "# Eine andere Lösung\n",
        "if new_name[0] not in pupils:\n",
        "  pupils.append(new_name[0])"
      ],
      "metadata": {
        "id": "ysY_Qn5YNgst"
      },
      "execution_count": null,
      "outputs": []
    },
    {
      "cell_type": "code",
      "source": [
        "# In diesem Fall war auch die Lösung ohne explizite Überprüfung der Liste zulässig\n",
        "puplis.append(new_name[0])"
      ],
      "metadata": {
        "id": "d-p5H4f5Nqgk"
      },
      "execution_count": null,
      "outputs": []
    },
    {
      "cell_type": "markdown",
      "source": [
        "👋 ⚒ **Aufgabe** 👋 ⚒ <br>\n",
        "Begrüßen Sie alle Schüler*innen in der Liste `pupils` mit `Hallo`+ Vorname und geben Sie die Begrüßung für jede Person auf einer Zeile aus (`for`-Schleife).\n",
        "\n",
        "Die Ausgabe sollte wie folgend sein:\n",
        "```\n",
        "Hallo Harry\n",
        "Hallo Ron\n",
        "Hallo Hermine\n",
        "...\n",
        "```\n",
        "\n"
      ],
      "metadata": {
        "id": "nGECuVVeydNE"
      }
    },
    {
      "cell_type": "code",
      "source": [
        "for name in pupils:\n",
        "  print(\"Hallo \"+name)"
      ],
      "metadata": {
        "id": "SsWYL8mxyxvd",
        "colab": {
          "base_uri": "https://localhost:8080/"
        },
        "outputId": "82cb5362-bb8d-4d7a-9473-dfa1aa0e60dc"
      },
      "execution_count": 17,
      "outputs": [
        {
          "output_type": "stream",
          "name": "stdout",
          "text": [
            "Hallo Harry\n",
            "Hallo Ron\n",
            "Hallo Hermine\n",
            "Hallo Lavender\n",
            "Hallo Seamus\n",
            "Hallo Neville\n",
            "Hallo Parvati\n",
            "Hallo Dean\n",
            "Hallo Sandra\n"
          ]
        }
      ]
    },
    {
      "cell_type": "markdown",
      "source": [
        "👋 ⚒ **Aufgabe** 👋 ⚒ <br>\n",
        "Geben Sie alle Namen der Liste `pupils`aus, die mit einem `H` beginnen.\n"
      ],
      "metadata": {
        "id": "KsHeSL1Uz5MF"
      }
    },
    {
      "cell_type": "code",
      "source": [
        "for name in pupils:\n",
        "  if name[0] == \"H\":\n",
        "    print(name)"
      ],
      "metadata": {
        "id": "v8anBrtrz3-h",
        "colab": {
          "base_uri": "https://localhost:8080/"
        },
        "outputId": "c9a7d9cd-e380-4cc4-c78c-a0a76eee595a"
      },
      "execution_count": 18,
      "outputs": [
        {
          "output_type": "stream",
          "name": "stdout",
          "text": [
            "Harry\n",
            "Hermine\n"
          ]
        }
      ]
    },
    {
      "cell_type": "code",
      "source": [
        "# Alternative Lösung bei welcher die Groß-/Kleinschreibung von \"h\" ignoriert wird\n",
        "for name in pupils:\n",
        "  if name[0].lower() == \"h\":\n",
        "    print(name)"
      ],
      "metadata": {
        "colab": {
          "base_uri": "https://localhost:8080/"
        },
        "id": "-qNBb5wIOHmr",
        "outputId": "f63a415f-f52d-49fe-f8d4-e3369788db89"
      },
      "execution_count": 19,
      "outputs": [
        {
          "output_type": "stream",
          "name": "stdout",
          "text": [
            "Harry\n",
            "Hermine\n"
          ]
        }
      ]
    },
    {
      "cell_type": "markdown",
      "source": [
        "👋 ⚒ **Aufgabe** 👋 ⚒ <br>\n",
        "Im folgenden Dictionary `harrys_data` mit den Keys \"name\", \"surname\", \"age\", \"house\" haben sich zwei Fehler eingeschlichen: \"surname\" sollte den Wert \"Potter\" haben und \"age\" sollte 14 und nicht 11 sein.\n",
        "\n",
        "Verbessern Sie diese beiden Fehler im Dictionary `harrys_data`. Anstelle von Zahlen als Index, kann bei einem Dictionary der Name des Keys direct verwendet werden, z. B. `print(harrys_data[”name\"])` gibt den Namen \"Harry\" aus.\n"
      ],
      "metadata": {
        "id": "wz0O7clx0JYj"
      }
    },
    {
      "cell_type": "code",
      "source": [
        "harrys_data = {\n",
        "  \"name\" : \"Harry\",\n",
        "  \"surname\": \"Poter\",\n",
        "  \"age\": 11,\n",
        "  \"house\": \"Gryffindors\",\n",
        "  }\n",
        "\n",
        "harrys_data[\"surname\"] = \"Potter\"\n",
        "harrys_data[\"age\"] = 14\n",
        "\n",
        "print(harrys_data)"
      ],
      "metadata": {
        "id": "2sjp_VV70e4S",
        "colab": {
          "base_uri": "https://localhost:8080/"
        },
        "outputId": "8d623492-ec3c-4b40-d26d-ada26535f67e"
      },
      "execution_count": 22,
      "outputs": [
        {
          "output_type": "stream",
          "name": "stdout",
          "text": [
            "{'name': 'Harry', 'surname': 'Potter', 'age': 14, 'house': 'Gryffindors'}\n"
          ]
        }
      ]
    },
    {
      "cell_type": "markdown",
      "source": [
        "👋 ⚒ **Aufgabe** 👋 ⚒ <br>\n",
        "Verstollständigen Sie die Funktion `longest_word`, welche die Länge aller Wörter im Satz `sentence` (split()) überprüft und das längste Wort zurück gibt.\n",
        "\n"
      ],
      "metadata": {
        "id": "JGfDxUNPxmso"
      }
    },
    {
      "cell_type": "code",
      "source": [
        "def find_longest_word(sentence):\n",
        "  # Das ist eine derzeit leere String-Variable\n",
        "  longest_word = \"\"\n",
        "  # Verwenden Sie split() um die einzelnen Wörter im Satz sentence zu finden\n",
        "  words_in_sentence = sentence.split()\n",
        "  max_length = 0\n",
        "\n",
        "  # Schreiben Sie hier eine for-Schleife für die Liste words_in_sentence\n",
        "  for word in words_in_sentence:\n",
        "\n",
        "    # Überprüfen Sie ob die Länge des Wortes länger als max_length ist\n",
        "    if len(word) > max_length:\n",
        "\n",
        "      # Das neueste längste Wort ist das derzeitige\n",
        "      longest_word = word\n",
        "\n",
        "      # Die neue maximale Länge ist jene des derzeitigen Wortes\n",
        "      max_length = len(word)\n",
        "\n",
        "  return longest_word\n",
        "\n",
        "sentence = \"Das ist nur ein einfaches Beispiel.\"\n",
        "\n",
        "find_longest_word(sentence)"
      ],
      "metadata": {
        "id": "g5Z8X2lIxm2B",
        "colab": {
          "base_uri": "https://localhost:8080/",
          "height": 36
        },
        "outputId": "9a4672d8-515c-4aa9-b56d-aae56daa46f9"
      },
      "execution_count": 24,
      "outputs": [
        {
          "output_type": "execute_result",
          "data": {
            "text/plain": [
              "'einfaches'"
            ],
            "application/vnd.google.colaboratory.intrinsic+json": {
              "type": "string"
            }
          },
          "metadata": {},
          "execution_count": 24
        }
      ]
    }
  ]
}