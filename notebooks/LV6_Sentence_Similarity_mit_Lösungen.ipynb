{
  "nbformat": 4,
  "nbformat_minor": 0,
  "metadata": {
    "colab": {
      "provenance": [],
      "authorship_tag": "ABX9TyOrc+HDDHmhyDN3ZEIbWNI4",
      "include_colab_link": true
    },
    "kernelspec": {
      "name": "python3",
      "display_name": "Python 3"
    },
    "language_info": {
      "name": "python"
    },
    "widgets": {
      "application/vnd.jupyter.widget-state+json": {
        "efa401942cf5493f9b142372fa8c5c20": {
          "model_module": "@jupyter-widgets/controls",
          "model_name": "HBoxModel",
          "model_module_version": "1.5.0",
          "state": {
            "_dom_classes": [],
            "_model_module": "@jupyter-widgets/controls",
            "_model_module_version": "1.5.0",
            "_model_name": "HBoxModel",
            "_view_count": null,
            "_view_module": "@jupyter-widgets/controls",
            "_view_module_version": "1.5.0",
            "_view_name": "HBoxView",
            "box_style": "",
            "children": [
              "IPY_MODEL_b311b912e8f94475a02d0cc8d4c121fb",
              "IPY_MODEL_48ed1f6a6eeb47a49345e8501cedbc2d",
              "IPY_MODEL_8b45f615867445a0be8c2da5cfb918c0"
            ],
            "layout": "IPY_MODEL_dd911cd2d30346129d0678ea2c1d9b06"
          }
        },
        "b311b912e8f94475a02d0cc8d4c121fb": {
          "model_module": "@jupyter-widgets/controls",
          "model_name": "HTMLModel",
          "model_module_version": "1.5.0",
          "state": {
            "_dom_classes": [],
            "_model_module": "@jupyter-widgets/controls",
            "_model_module_version": "1.5.0",
            "_model_name": "HTMLModel",
            "_view_count": null,
            "_view_module": "@jupyter-widgets/controls",
            "_view_module_version": "1.5.0",
            "_view_name": "HTMLView",
            "description": "",
            "description_tooltip": null,
            "layout": "IPY_MODEL_e97d8fda91234957945a75e858a64cf1",
            "placeholder": "​",
            "style": "IPY_MODEL_5a0670b6075a46419849045b9678164b",
            "value": "Downloading readme: 100%"
          }
        },
        "48ed1f6a6eeb47a49345e8501cedbc2d": {
          "model_module": "@jupyter-widgets/controls",
          "model_name": "FloatProgressModel",
          "model_module_version": "1.5.0",
          "state": {
            "_dom_classes": [],
            "_model_module": "@jupyter-widgets/controls",
            "_model_module_version": "1.5.0",
            "_model_name": "FloatProgressModel",
            "_view_count": null,
            "_view_module": "@jupyter-widgets/controls",
            "_view_module_version": "1.5.0",
            "_view_name": "ProgressView",
            "bar_style": "success",
            "description": "",
            "description_tooltip": null,
            "layout": "IPY_MODEL_e0041d886da64ea5adc59bfbec48a56c",
            "max": 35296,
            "min": 0,
            "orientation": "horizontal",
            "style": "IPY_MODEL_13f682e49b8344b9b2696340126e323f",
            "value": 35296
          }
        },
        "8b45f615867445a0be8c2da5cfb918c0": {
          "model_module": "@jupyter-widgets/controls",
          "model_name": "HTMLModel",
          "model_module_version": "1.5.0",
          "state": {
            "_dom_classes": [],
            "_model_module": "@jupyter-widgets/controls",
            "_model_module_version": "1.5.0",
            "_model_name": "HTMLModel",
            "_view_count": null,
            "_view_module": "@jupyter-widgets/controls",
            "_view_module_version": "1.5.0",
            "_view_name": "HTMLView",
            "description": "",
            "description_tooltip": null,
            "layout": "IPY_MODEL_8dc063306186482d84d59d0c62e08ca0",
            "placeholder": "​",
            "style": "IPY_MODEL_b1e9f4623470435397b8833f7a2b1924",
            "value": " 35.3k/35.3k [00:00&lt;00:00, 818kB/s]"
          }
        },
        "dd911cd2d30346129d0678ea2c1d9b06": {
          "model_module": "@jupyter-widgets/base",
          "model_name": "LayoutModel",
          "model_module_version": "1.2.0",
          "state": {
            "_model_module": "@jupyter-widgets/base",
            "_model_module_version": "1.2.0",
            "_model_name": "LayoutModel",
            "_view_count": null,
            "_view_module": "@jupyter-widgets/base",
            "_view_module_version": "1.2.0",
            "_view_name": "LayoutView",
            "align_content": null,
            "align_items": null,
            "align_self": null,
            "border": null,
            "bottom": null,
            "display": null,
            "flex": null,
            "flex_flow": null,
            "grid_area": null,
            "grid_auto_columns": null,
            "grid_auto_flow": null,
            "grid_auto_rows": null,
            "grid_column": null,
            "grid_gap": null,
            "grid_row": null,
            "grid_template_areas": null,
            "grid_template_columns": null,
            "grid_template_rows": null,
            "height": null,
            "justify_content": null,
            "justify_items": null,
            "left": null,
            "margin": null,
            "max_height": null,
            "max_width": null,
            "min_height": null,
            "min_width": null,
            "object_fit": null,
            "object_position": null,
            "order": null,
            "overflow": null,
            "overflow_x": null,
            "overflow_y": null,
            "padding": null,
            "right": null,
            "top": null,
            "visibility": null,
            "width": null
          }
        },
        "e97d8fda91234957945a75e858a64cf1": {
          "model_module": "@jupyter-widgets/base",
          "model_name": "LayoutModel",
          "model_module_version": "1.2.0",
          "state": {
            "_model_module": "@jupyter-widgets/base",
            "_model_module_version": "1.2.0",
            "_model_name": "LayoutModel",
            "_view_count": null,
            "_view_module": "@jupyter-widgets/base",
            "_view_module_version": "1.2.0",
            "_view_name": "LayoutView",
            "align_content": null,
            "align_items": null,
            "align_self": null,
            "border": null,
            "bottom": null,
            "display": null,
            "flex": null,
            "flex_flow": null,
            "grid_area": null,
            "grid_auto_columns": null,
            "grid_auto_flow": null,
            "grid_auto_rows": null,
            "grid_column": null,
            "grid_gap": null,
            "grid_row": null,
            "grid_template_areas": null,
            "grid_template_columns": null,
            "grid_template_rows": null,
            "height": null,
            "justify_content": null,
            "justify_items": null,
            "left": null,
            "margin": null,
            "max_height": null,
            "max_width": null,
            "min_height": null,
            "min_width": null,
            "object_fit": null,
            "object_position": null,
            "order": null,
            "overflow": null,
            "overflow_x": null,
            "overflow_y": null,
            "padding": null,
            "right": null,
            "top": null,
            "visibility": null,
            "width": null
          }
        },
        "5a0670b6075a46419849045b9678164b": {
          "model_module": "@jupyter-widgets/controls",
          "model_name": "DescriptionStyleModel",
          "model_module_version": "1.5.0",
          "state": {
            "_model_module": "@jupyter-widgets/controls",
            "_model_module_version": "1.5.0",
            "_model_name": "DescriptionStyleModel",
            "_view_count": null,
            "_view_module": "@jupyter-widgets/base",
            "_view_module_version": "1.2.0",
            "_view_name": "StyleView",
            "description_width": ""
          }
        },
        "e0041d886da64ea5adc59bfbec48a56c": {
          "model_module": "@jupyter-widgets/base",
          "model_name": "LayoutModel",
          "model_module_version": "1.2.0",
          "state": {
            "_model_module": "@jupyter-widgets/base",
            "_model_module_version": "1.2.0",
            "_model_name": "LayoutModel",
            "_view_count": null,
            "_view_module": "@jupyter-widgets/base",
            "_view_module_version": "1.2.0",
            "_view_name": "LayoutView",
            "align_content": null,
            "align_items": null,
            "align_self": null,
            "border": null,
            "bottom": null,
            "display": null,
            "flex": null,
            "flex_flow": null,
            "grid_area": null,
            "grid_auto_columns": null,
            "grid_auto_flow": null,
            "grid_auto_rows": null,
            "grid_column": null,
            "grid_gap": null,
            "grid_row": null,
            "grid_template_areas": null,
            "grid_template_columns": null,
            "grid_template_rows": null,
            "height": null,
            "justify_content": null,
            "justify_items": null,
            "left": null,
            "margin": null,
            "max_height": null,
            "max_width": null,
            "min_height": null,
            "min_width": null,
            "object_fit": null,
            "object_position": null,
            "order": null,
            "overflow": null,
            "overflow_x": null,
            "overflow_y": null,
            "padding": null,
            "right": null,
            "top": null,
            "visibility": null,
            "width": null
          }
        },
        "13f682e49b8344b9b2696340126e323f": {
          "model_module": "@jupyter-widgets/controls",
          "model_name": "ProgressStyleModel",
          "model_module_version": "1.5.0",
          "state": {
            "_model_module": "@jupyter-widgets/controls",
            "_model_module_version": "1.5.0",
            "_model_name": "ProgressStyleModel",
            "_view_count": null,
            "_view_module": "@jupyter-widgets/base",
            "_view_module_version": "1.2.0",
            "_view_name": "StyleView",
            "bar_color": null,
            "description_width": ""
          }
        },
        "8dc063306186482d84d59d0c62e08ca0": {
          "model_module": "@jupyter-widgets/base",
          "model_name": "LayoutModel",
          "model_module_version": "1.2.0",
          "state": {
            "_model_module": "@jupyter-widgets/base",
            "_model_module_version": "1.2.0",
            "_model_name": "LayoutModel",
            "_view_count": null,
            "_view_module": "@jupyter-widgets/base",
            "_view_module_version": "1.2.0",
            "_view_name": "LayoutView",
            "align_content": null,
            "align_items": null,
            "align_self": null,
            "border": null,
            "bottom": null,
            "display": null,
            "flex": null,
            "flex_flow": null,
            "grid_area": null,
            "grid_auto_columns": null,
            "grid_auto_flow": null,
            "grid_auto_rows": null,
            "grid_column": null,
            "grid_gap": null,
            "grid_row": null,
            "grid_template_areas": null,
            "grid_template_columns": null,
            "grid_template_rows": null,
            "height": null,
            "justify_content": null,
            "justify_items": null,
            "left": null,
            "margin": null,
            "max_height": null,
            "max_width": null,
            "min_height": null,
            "min_width": null,
            "object_fit": null,
            "object_position": null,
            "order": null,
            "overflow": null,
            "overflow_x": null,
            "overflow_y": null,
            "padding": null,
            "right": null,
            "top": null,
            "visibility": null,
            "width": null
          }
        },
        "b1e9f4623470435397b8833f7a2b1924": {
          "model_module": "@jupyter-widgets/controls",
          "model_name": "DescriptionStyleModel",
          "model_module_version": "1.5.0",
          "state": {
            "_model_module": "@jupyter-widgets/controls",
            "_model_module_version": "1.5.0",
            "_model_name": "DescriptionStyleModel",
            "_view_count": null,
            "_view_module": "@jupyter-widgets/base",
            "_view_module_version": "1.2.0",
            "_view_name": "StyleView",
            "description_width": ""
          }
        },
        "6895b0af67cb48aabe2200bb898e03ae": {
          "model_module": "@jupyter-widgets/controls",
          "model_name": "HBoxModel",
          "model_module_version": "1.5.0",
          "state": {
            "_dom_classes": [],
            "_model_module": "@jupyter-widgets/controls",
            "_model_module_version": "1.5.0",
            "_model_name": "HBoxModel",
            "_view_count": null,
            "_view_module": "@jupyter-widgets/controls",
            "_view_module_version": "1.5.0",
            "_view_name": "HBoxView",
            "box_style": "",
            "children": [
              "IPY_MODEL_7b6abdfa22a346be8b5b126b1ea01f3c",
              "IPY_MODEL_336c7f4b19764f7f857c3eef30284273",
              "IPY_MODEL_68fb033ee6374cc5b6277deb74eb98d9"
            ],
            "layout": "IPY_MODEL_aa1ccd025ce14d419aa7bef37b69d401"
          }
        },
        "7b6abdfa22a346be8b5b126b1ea01f3c": {
          "model_module": "@jupyter-widgets/controls",
          "model_name": "HTMLModel",
          "model_module_version": "1.5.0",
          "state": {
            "_dom_classes": [],
            "_model_module": "@jupyter-widgets/controls",
            "_model_module_version": "1.5.0",
            "_model_name": "HTMLModel",
            "_view_count": null,
            "_view_module": "@jupyter-widgets/controls",
            "_view_module_version": "1.5.0",
            "_view_name": "HTMLView",
            "description": "",
            "description_tooltip": null,
            "layout": "IPY_MODEL_c9e4ea56ef6d4ab2bcf6405e840a0dc9",
            "placeholder": "​",
            "style": "IPY_MODEL_b4b638d011214b679713d207e5455fcb",
            "value": "Downloading data: 100%"
          }
        },
        "336c7f4b19764f7f857c3eef30284273": {
          "model_module": "@jupyter-widgets/controls",
          "model_name": "FloatProgressModel",
          "model_module_version": "1.5.0",
          "state": {
            "_dom_classes": [],
            "_model_module": "@jupyter-widgets/controls",
            "_model_module_version": "1.5.0",
            "_model_name": "FloatProgressModel",
            "_view_count": null,
            "_view_module": "@jupyter-widgets/controls",
            "_view_module_version": "1.5.0",
            "_view_name": "ProgressView",
            "bar_style": "success",
            "description": "",
            "description_tooltip": null,
            "layout": "IPY_MODEL_4a1d02a2c8414dbf88f5607e3876a109",
            "max": 502065,
            "min": 0,
            "orientation": "horizontal",
            "style": "IPY_MODEL_eecf161ef52c4be5b6d7ba8f98324295",
            "value": 502065
          }
        },
        "68fb033ee6374cc5b6277deb74eb98d9": {
          "model_module": "@jupyter-widgets/controls",
          "model_name": "HTMLModel",
          "model_module_version": "1.5.0",
          "state": {
            "_dom_classes": [],
            "_model_module": "@jupyter-widgets/controls",
            "_model_module_version": "1.5.0",
            "_model_name": "HTMLModel",
            "_view_count": null,
            "_view_module": "@jupyter-widgets/controls",
            "_view_module_version": "1.5.0",
            "_view_name": "HTMLView",
            "description": "",
            "description_tooltip": null,
            "layout": "IPY_MODEL_66e5dd5eaba445a583424cf3a9ebd21c",
            "placeholder": "​",
            "style": "IPY_MODEL_a90bffb913e84d49b888fbc437654b44",
            "value": " 502k/502k [00:00&lt;00:00, 660kB/s]"
          }
        },
        "aa1ccd025ce14d419aa7bef37b69d401": {
          "model_module": "@jupyter-widgets/base",
          "model_name": "LayoutModel",
          "model_module_version": "1.2.0",
          "state": {
            "_model_module": "@jupyter-widgets/base",
            "_model_module_version": "1.2.0",
            "_model_name": "LayoutModel",
            "_view_count": null,
            "_view_module": "@jupyter-widgets/base",
            "_view_module_version": "1.2.0",
            "_view_name": "LayoutView",
            "align_content": null,
            "align_items": null,
            "align_self": null,
            "border": null,
            "bottom": null,
            "display": null,
            "flex": null,
            "flex_flow": null,
            "grid_area": null,
            "grid_auto_columns": null,
            "grid_auto_flow": null,
            "grid_auto_rows": null,
            "grid_column": null,
            "grid_gap": null,
            "grid_row": null,
            "grid_template_areas": null,
            "grid_template_columns": null,
            "grid_template_rows": null,
            "height": null,
            "justify_content": null,
            "justify_items": null,
            "left": null,
            "margin": null,
            "max_height": null,
            "max_width": null,
            "min_height": null,
            "min_width": null,
            "object_fit": null,
            "object_position": null,
            "order": null,
            "overflow": null,
            "overflow_x": null,
            "overflow_y": null,
            "padding": null,
            "right": null,
            "top": null,
            "visibility": null,
            "width": null
          }
        },
        "c9e4ea56ef6d4ab2bcf6405e840a0dc9": {
          "model_module": "@jupyter-widgets/base",
          "model_name": "LayoutModel",
          "model_module_version": "1.2.0",
          "state": {
            "_model_module": "@jupyter-widgets/base",
            "_model_module_version": "1.2.0",
            "_model_name": "LayoutModel",
            "_view_count": null,
            "_view_module": "@jupyter-widgets/base",
            "_view_module_version": "1.2.0",
            "_view_name": "LayoutView",
            "align_content": null,
            "align_items": null,
            "align_self": null,
            "border": null,
            "bottom": null,
            "display": null,
            "flex": null,
            "flex_flow": null,
            "grid_area": null,
            "grid_auto_columns": null,
            "grid_auto_flow": null,
            "grid_auto_rows": null,
            "grid_column": null,
            "grid_gap": null,
            "grid_row": null,
            "grid_template_areas": null,
            "grid_template_columns": null,
            "grid_template_rows": null,
            "height": null,
            "justify_content": null,
            "justify_items": null,
            "left": null,
            "margin": null,
            "max_height": null,
            "max_width": null,
            "min_height": null,
            "min_width": null,
            "object_fit": null,
            "object_position": null,
            "order": null,
            "overflow": null,
            "overflow_x": null,
            "overflow_y": null,
            "padding": null,
            "right": null,
            "top": null,
            "visibility": null,
            "width": null
          }
        },
        "b4b638d011214b679713d207e5455fcb": {
          "model_module": "@jupyter-widgets/controls",
          "model_name": "DescriptionStyleModel",
          "model_module_version": "1.5.0",
          "state": {
            "_model_module": "@jupyter-widgets/controls",
            "_model_module_version": "1.5.0",
            "_model_name": "DescriptionStyleModel",
            "_view_count": null,
            "_view_module": "@jupyter-widgets/base",
            "_view_module_version": "1.2.0",
            "_view_name": "StyleView",
            "description_width": ""
          }
        },
        "4a1d02a2c8414dbf88f5607e3876a109": {
          "model_module": "@jupyter-widgets/base",
          "model_name": "LayoutModel",
          "model_module_version": "1.2.0",
          "state": {
            "_model_module": "@jupyter-widgets/base",
            "_model_module_version": "1.2.0",
            "_model_name": "LayoutModel",
            "_view_count": null,
            "_view_module": "@jupyter-widgets/base",
            "_view_module_version": "1.2.0",
            "_view_name": "LayoutView",
            "align_content": null,
            "align_items": null,
            "align_self": null,
            "border": null,
            "bottom": null,
            "display": null,
            "flex": null,
            "flex_flow": null,
            "grid_area": null,
            "grid_auto_columns": null,
            "grid_auto_flow": null,
            "grid_auto_rows": null,
            "grid_column": null,
            "grid_gap": null,
            "grid_row": null,
            "grid_template_areas": null,
            "grid_template_columns": null,
            "grid_template_rows": null,
            "height": null,
            "justify_content": null,
            "justify_items": null,
            "left": null,
            "margin": null,
            "max_height": null,
            "max_width": null,
            "min_height": null,
            "min_width": null,
            "object_fit": null,
            "object_position": null,
            "order": null,
            "overflow": null,
            "overflow_x": null,
            "overflow_y": null,
            "padding": null,
            "right": null,
            "top": null,
            "visibility": null,
            "width": null
          }
        },
        "eecf161ef52c4be5b6d7ba8f98324295": {
          "model_module": "@jupyter-widgets/controls",
          "model_name": "ProgressStyleModel",
          "model_module_version": "1.5.0",
          "state": {
            "_model_module": "@jupyter-widgets/controls",
            "_model_module_version": "1.5.0",
            "_model_name": "ProgressStyleModel",
            "_view_count": null,
            "_view_module": "@jupyter-widgets/base",
            "_view_module_version": "1.2.0",
            "_view_name": "StyleView",
            "bar_color": null,
            "description_width": ""
          }
        },
        "66e5dd5eaba445a583424cf3a9ebd21c": {
          "model_module": "@jupyter-widgets/base",
          "model_name": "LayoutModel",
          "model_module_version": "1.2.0",
          "state": {
            "_model_module": "@jupyter-widgets/base",
            "_model_module_version": "1.2.0",
            "_model_name": "LayoutModel",
            "_view_count": null,
            "_view_module": "@jupyter-widgets/base",
            "_view_module_version": "1.2.0",
            "_view_name": "LayoutView",
            "align_content": null,
            "align_items": null,
            "align_self": null,
            "border": null,
            "bottom": null,
            "display": null,
            "flex": null,
            "flex_flow": null,
            "grid_area": null,
            "grid_auto_columns": null,
            "grid_auto_flow": null,
            "grid_auto_rows": null,
            "grid_column": null,
            "grid_gap": null,
            "grid_row": null,
            "grid_template_areas": null,
            "grid_template_columns": null,
            "grid_template_rows": null,
            "height": null,
            "justify_content": null,
            "justify_items": null,
            "left": null,
            "margin": null,
            "max_height": null,
            "max_width": null,
            "min_height": null,
            "min_width": null,
            "object_fit": null,
            "object_position": null,
            "order": null,
            "overflow": null,
            "overflow_x": null,
            "overflow_y": null,
            "padding": null,
            "right": null,
            "top": null,
            "visibility": null,
            "width": null
          }
        },
        "a90bffb913e84d49b888fbc437654b44": {
          "model_module": "@jupyter-widgets/controls",
          "model_name": "DescriptionStyleModel",
          "model_module_version": "1.5.0",
          "state": {
            "_model_module": "@jupyter-widgets/controls",
            "_model_module_version": "1.5.0",
            "_model_name": "DescriptionStyleModel",
            "_view_count": null,
            "_view_module": "@jupyter-widgets/base",
            "_view_module_version": "1.2.0",
            "_view_name": "StyleView",
            "description_width": ""
          }
        },
        "dae3d640118e470dbe7bec33d1dbb96e": {
          "model_module": "@jupyter-widgets/controls",
          "model_name": "HBoxModel",
          "model_module_version": "1.5.0",
          "state": {
            "_dom_classes": [],
            "_model_module": "@jupyter-widgets/controls",
            "_model_module_version": "1.5.0",
            "_model_name": "HBoxModel",
            "_view_count": null,
            "_view_module": "@jupyter-widgets/controls",
            "_view_module_version": "1.5.0",
            "_view_name": "HBoxView",
            "box_style": "",
            "children": [
              "IPY_MODEL_302e40ed60074daaa946619d6041befd",
              "IPY_MODEL_b89a117bde0343888f983c739e346738",
              "IPY_MODEL_5679e4d99e4643019a878eb5a43267fe"
            ],
            "layout": "IPY_MODEL_606eef4ef02844f4a4084f5c7d5aea49"
          }
        },
        "302e40ed60074daaa946619d6041befd": {
          "model_module": "@jupyter-widgets/controls",
          "model_name": "HTMLModel",
          "model_module_version": "1.5.0",
          "state": {
            "_dom_classes": [],
            "_model_module": "@jupyter-widgets/controls",
            "_model_module_version": "1.5.0",
            "_model_name": "HTMLModel",
            "_view_count": null,
            "_view_module": "@jupyter-widgets/controls",
            "_view_module_version": "1.5.0",
            "_view_name": "HTMLView",
            "description": "",
            "description_tooltip": null,
            "layout": "IPY_MODEL_e74a58104b974799b9560168a0cca486",
            "placeholder": "​",
            "style": "IPY_MODEL_6d55ab888c3840628f0e6ffab16679a9",
            "value": "Downloading data: 100%"
          }
        },
        "b89a117bde0343888f983c739e346738": {
          "model_module": "@jupyter-widgets/controls",
          "model_name": "FloatProgressModel",
          "model_module_version": "1.5.0",
          "state": {
            "_dom_classes": [],
            "_model_module": "@jupyter-widgets/controls",
            "_model_module_version": "1.5.0",
            "_model_name": "FloatProgressModel",
            "_view_count": null,
            "_view_module": "@jupyter-widgets/controls",
            "_view_module_version": "1.5.0",
            "_view_name": "ProgressView",
            "bar_style": "success",
            "description": "",
            "description_tooltip": null,
            "layout": "IPY_MODEL_890e01bf987f450590d27b27b933a4fc",
            "max": 150622,
            "min": 0,
            "orientation": "horizontal",
            "style": "IPY_MODEL_d3827be5b43f4241a59e6ac623fe7fe2",
            "value": 150622
          }
        },
        "5679e4d99e4643019a878eb5a43267fe": {
          "model_module": "@jupyter-widgets/controls",
          "model_name": "HTMLModel",
          "model_module_version": "1.5.0",
          "state": {
            "_dom_classes": [],
            "_model_module": "@jupyter-widgets/controls",
            "_model_module_version": "1.5.0",
            "_model_name": "HTMLModel",
            "_view_count": null,
            "_view_module": "@jupyter-widgets/controls",
            "_view_module_version": "1.5.0",
            "_view_name": "HTMLView",
            "description": "",
            "description_tooltip": null,
            "layout": "IPY_MODEL_b758f55798724a3ea5e877145eb2db7d",
            "placeholder": "​",
            "style": "IPY_MODEL_3c0d5cd3f15d447b8ece0b4841bdc5a7",
            "value": " 151k/151k [00:00&lt;00:00, 404kB/s]"
          }
        },
        "606eef4ef02844f4a4084f5c7d5aea49": {
          "model_module": "@jupyter-widgets/base",
          "model_name": "LayoutModel",
          "model_module_version": "1.2.0",
          "state": {
            "_model_module": "@jupyter-widgets/base",
            "_model_module_version": "1.2.0",
            "_model_name": "LayoutModel",
            "_view_count": null,
            "_view_module": "@jupyter-widgets/base",
            "_view_module_version": "1.2.0",
            "_view_name": "LayoutView",
            "align_content": null,
            "align_items": null,
            "align_self": null,
            "border": null,
            "bottom": null,
            "display": null,
            "flex": null,
            "flex_flow": null,
            "grid_area": null,
            "grid_auto_columns": null,
            "grid_auto_flow": null,
            "grid_auto_rows": null,
            "grid_column": null,
            "grid_gap": null,
            "grid_row": null,
            "grid_template_areas": null,
            "grid_template_columns": null,
            "grid_template_rows": null,
            "height": null,
            "justify_content": null,
            "justify_items": null,
            "left": null,
            "margin": null,
            "max_height": null,
            "max_width": null,
            "min_height": null,
            "min_width": null,
            "object_fit": null,
            "object_position": null,
            "order": null,
            "overflow": null,
            "overflow_x": null,
            "overflow_y": null,
            "padding": null,
            "right": null,
            "top": null,
            "visibility": null,
            "width": null
          }
        },
        "e74a58104b974799b9560168a0cca486": {
          "model_module": "@jupyter-widgets/base",
          "model_name": "LayoutModel",
          "model_module_version": "1.2.0",
          "state": {
            "_model_module": "@jupyter-widgets/base",
            "_model_module_version": "1.2.0",
            "_model_name": "LayoutModel",
            "_view_count": null,
            "_view_module": "@jupyter-widgets/base",
            "_view_module_version": "1.2.0",
            "_view_name": "LayoutView",
            "align_content": null,
            "align_items": null,
            "align_self": null,
            "border": null,
            "bottom": null,
            "display": null,
            "flex": null,
            "flex_flow": null,
            "grid_area": null,
            "grid_auto_columns": null,
            "grid_auto_flow": null,
            "grid_auto_rows": null,
            "grid_column": null,
            "grid_gap": null,
            "grid_row": null,
            "grid_template_areas": null,
            "grid_template_columns": null,
            "grid_template_rows": null,
            "height": null,
            "justify_content": null,
            "justify_items": null,
            "left": null,
            "margin": null,
            "max_height": null,
            "max_width": null,
            "min_height": null,
            "min_width": null,
            "object_fit": null,
            "object_position": null,
            "order": null,
            "overflow": null,
            "overflow_x": null,
            "overflow_y": null,
            "padding": null,
            "right": null,
            "top": null,
            "visibility": null,
            "width": null
          }
        },
        "6d55ab888c3840628f0e6ffab16679a9": {
          "model_module": "@jupyter-widgets/controls",
          "model_name": "DescriptionStyleModel",
          "model_module_version": "1.5.0",
          "state": {
            "_model_module": "@jupyter-widgets/controls",
            "_model_module_version": "1.5.0",
            "_model_name": "DescriptionStyleModel",
            "_view_count": null,
            "_view_module": "@jupyter-widgets/base",
            "_view_module_version": "1.2.0",
            "_view_name": "StyleView",
            "description_width": ""
          }
        },
        "890e01bf987f450590d27b27b933a4fc": {
          "model_module": "@jupyter-widgets/base",
          "model_name": "LayoutModel",
          "model_module_version": "1.2.0",
          "state": {
            "_model_module": "@jupyter-widgets/base",
            "_model_module_version": "1.2.0",
            "_model_name": "LayoutModel",
            "_view_count": null,
            "_view_module": "@jupyter-widgets/base",
            "_view_module_version": "1.2.0",
            "_view_name": "LayoutView",
            "align_content": null,
            "align_items": null,
            "align_self": null,
            "border": null,
            "bottom": null,
            "display": null,
            "flex": null,
            "flex_flow": null,
            "grid_area": null,
            "grid_auto_columns": null,
            "grid_auto_flow": null,
            "grid_auto_rows": null,
            "grid_column": null,
            "grid_gap": null,
            "grid_row": null,
            "grid_template_areas": null,
            "grid_template_columns": null,
            "grid_template_rows": null,
            "height": null,
            "justify_content": null,
            "justify_items": null,
            "left": null,
            "margin": null,
            "max_height": null,
            "max_width": null,
            "min_height": null,
            "min_width": null,
            "object_fit": null,
            "object_position": null,
            "order": null,
            "overflow": null,
            "overflow_x": null,
            "overflow_y": null,
            "padding": null,
            "right": null,
            "top": null,
            "visibility": null,
            "width": null
          }
        },
        "d3827be5b43f4241a59e6ac623fe7fe2": {
          "model_module": "@jupyter-widgets/controls",
          "model_name": "ProgressStyleModel",
          "model_module_version": "1.5.0",
          "state": {
            "_model_module": "@jupyter-widgets/controls",
            "_model_module_version": "1.5.0",
            "_model_name": "ProgressStyleModel",
            "_view_count": null,
            "_view_module": "@jupyter-widgets/base",
            "_view_module_version": "1.2.0",
            "_view_name": "StyleView",
            "bar_color": null,
            "description_width": ""
          }
        },
        "b758f55798724a3ea5e877145eb2db7d": {
          "model_module": "@jupyter-widgets/base",
          "model_name": "LayoutModel",
          "model_module_version": "1.2.0",
          "state": {
            "_model_module": "@jupyter-widgets/base",
            "_model_module_version": "1.2.0",
            "_model_name": "LayoutModel",
            "_view_count": null,
            "_view_module": "@jupyter-widgets/base",
            "_view_module_version": "1.2.0",
            "_view_name": "LayoutView",
            "align_content": null,
            "align_items": null,
            "align_self": null,
            "border": null,
            "bottom": null,
            "display": null,
            "flex": null,
            "flex_flow": null,
            "grid_area": null,
            "grid_auto_columns": null,
            "grid_auto_flow": null,
            "grid_auto_rows": null,
            "grid_column": null,
            "grid_gap": null,
            "grid_row": null,
            "grid_template_areas": null,
            "grid_template_columns": null,
            "grid_template_rows": null,
            "height": null,
            "justify_content": null,
            "justify_items": null,
            "left": null,
            "margin": null,
            "max_height": null,
            "max_width": null,
            "min_height": null,
            "min_width": null,
            "object_fit": null,
            "object_position": null,
            "order": null,
            "overflow": null,
            "overflow_x": null,
            "overflow_y": null,
            "padding": null,
            "right": null,
            "top": null,
            "visibility": null,
            "width": null
          }
        },
        "3c0d5cd3f15d447b8ece0b4841bdc5a7": {
          "model_module": "@jupyter-widgets/controls",
          "model_name": "DescriptionStyleModel",
          "model_module_version": "1.5.0",
          "state": {
            "_model_module": "@jupyter-widgets/controls",
            "_model_module_version": "1.5.0",
            "_model_name": "DescriptionStyleModel",
            "_view_count": null,
            "_view_module": "@jupyter-widgets/base",
            "_view_module_version": "1.2.0",
            "_view_name": "StyleView",
            "description_width": ""
          }
        },
        "f5213f108ce6459a9a299da0634b031f": {
          "model_module": "@jupyter-widgets/controls",
          "model_name": "HBoxModel",
          "model_module_version": "1.5.0",
          "state": {
            "_dom_classes": [],
            "_model_module": "@jupyter-widgets/controls",
            "_model_module_version": "1.5.0",
            "_model_name": "HBoxModel",
            "_view_count": null,
            "_view_module": "@jupyter-widgets/controls",
            "_view_module_version": "1.5.0",
            "_view_name": "HBoxView",
            "box_style": "",
            "children": [
              "IPY_MODEL_5e2d5941ff5d47a7b891c18ba3f5d70a",
              "IPY_MODEL_2440cbbd55f94a64ab061cf32b9e9894",
              "IPY_MODEL_510dd5f774134e49b2bd14f93ae120d7"
            ],
            "layout": "IPY_MODEL_7dcbae8687ad4c60bf36ae05bcc90843"
          }
        },
        "5e2d5941ff5d47a7b891c18ba3f5d70a": {
          "model_module": "@jupyter-widgets/controls",
          "model_name": "HTMLModel",
          "model_module_version": "1.5.0",
          "state": {
            "_dom_classes": [],
            "_model_module": "@jupyter-widgets/controls",
            "_model_module_version": "1.5.0",
            "_model_name": "HTMLModel",
            "_view_count": null,
            "_view_module": "@jupyter-widgets/controls",
            "_view_module_version": "1.5.0",
            "_view_name": "HTMLView",
            "description": "",
            "description_tooltip": null,
            "layout": "IPY_MODEL_ca089158deae454eac6962bb87b82557",
            "placeholder": "​",
            "style": "IPY_MODEL_36fc9924835241249d9b8533fb6fae69",
            "value": "Downloading data: 100%"
          }
        },
        "2440cbbd55f94a64ab061cf32b9e9894": {
          "model_module": "@jupyter-widgets/controls",
          "model_name": "FloatProgressModel",
          "model_module_version": "1.5.0",
          "state": {
            "_dom_classes": [],
            "_model_module": "@jupyter-widgets/controls",
            "_model_module_version": "1.5.0",
            "_model_name": "FloatProgressModel",
            "_view_count": null,
            "_view_module": "@jupyter-widgets/controls",
            "_view_module_version": "1.5.0",
            "_view_name": "ProgressView",
            "bar_style": "success",
            "description": "",
            "description_tooltip": null,
            "layout": "IPY_MODEL_0a94fe311d3547abb0295705df02c6ec",
            "max": 114296,
            "min": 0,
            "orientation": "horizontal",
            "style": "IPY_MODEL_f821bc7075d44a538da5373bdb9d799a",
            "value": 114296
          }
        },
        "510dd5f774134e49b2bd14f93ae120d7": {
          "model_module": "@jupyter-widgets/controls",
          "model_name": "HTMLModel",
          "model_module_version": "1.5.0",
          "state": {
            "_dom_classes": [],
            "_model_module": "@jupyter-widgets/controls",
            "_model_module_version": "1.5.0",
            "_model_name": "HTMLModel",
            "_view_count": null,
            "_view_module": "@jupyter-widgets/controls",
            "_view_module_version": "1.5.0",
            "_view_name": "HTMLView",
            "description": "",
            "description_tooltip": null,
            "layout": "IPY_MODEL_5298a88b96e64014951c796d9d7c976a",
            "placeholder": "​",
            "style": "IPY_MODEL_06d2f74470b94885a41c55a921628798",
            "value": " 114k/114k [00:00&lt;00:00, 303kB/s]"
          }
        },
        "7dcbae8687ad4c60bf36ae05bcc90843": {
          "model_module": "@jupyter-widgets/base",
          "model_name": "LayoutModel",
          "model_module_version": "1.2.0",
          "state": {
            "_model_module": "@jupyter-widgets/base",
            "_model_module_version": "1.2.0",
            "_model_name": "LayoutModel",
            "_view_count": null,
            "_view_module": "@jupyter-widgets/base",
            "_view_module_version": "1.2.0",
            "_view_name": "LayoutView",
            "align_content": null,
            "align_items": null,
            "align_self": null,
            "border": null,
            "bottom": null,
            "display": null,
            "flex": null,
            "flex_flow": null,
            "grid_area": null,
            "grid_auto_columns": null,
            "grid_auto_flow": null,
            "grid_auto_rows": null,
            "grid_column": null,
            "grid_gap": null,
            "grid_row": null,
            "grid_template_areas": null,
            "grid_template_columns": null,
            "grid_template_rows": null,
            "height": null,
            "justify_content": null,
            "justify_items": null,
            "left": null,
            "margin": null,
            "max_height": null,
            "max_width": null,
            "min_height": null,
            "min_width": null,
            "object_fit": null,
            "object_position": null,
            "order": null,
            "overflow": null,
            "overflow_x": null,
            "overflow_y": null,
            "padding": null,
            "right": null,
            "top": null,
            "visibility": null,
            "width": null
          }
        },
        "ca089158deae454eac6962bb87b82557": {
          "model_module": "@jupyter-widgets/base",
          "model_name": "LayoutModel",
          "model_module_version": "1.2.0",
          "state": {
            "_model_module": "@jupyter-widgets/base",
            "_model_module_version": "1.2.0",
            "_model_name": "LayoutModel",
            "_view_count": null,
            "_view_module": "@jupyter-widgets/base",
            "_view_module_version": "1.2.0",
            "_view_name": "LayoutView",
            "align_content": null,
            "align_items": null,
            "align_self": null,
            "border": null,
            "bottom": null,
            "display": null,
            "flex": null,
            "flex_flow": null,
            "grid_area": null,
            "grid_auto_columns": null,
            "grid_auto_flow": null,
            "grid_auto_rows": null,
            "grid_column": null,
            "grid_gap": null,
            "grid_row": null,
            "grid_template_areas": null,
            "grid_template_columns": null,
            "grid_template_rows": null,
            "height": null,
            "justify_content": null,
            "justify_items": null,
            "left": null,
            "margin": null,
            "max_height": null,
            "max_width": null,
            "min_height": null,
            "min_width": null,
            "object_fit": null,
            "object_position": null,
            "order": null,
            "overflow": null,
            "overflow_x": null,
            "overflow_y": null,
            "padding": null,
            "right": null,
            "top": null,
            "visibility": null,
            "width": null
          }
        },
        "36fc9924835241249d9b8533fb6fae69": {
          "model_module": "@jupyter-widgets/controls",
          "model_name": "DescriptionStyleModel",
          "model_module_version": "1.5.0",
          "state": {
            "_model_module": "@jupyter-widgets/controls",
            "_model_module_version": "1.5.0",
            "_model_name": "DescriptionStyleModel",
            "_view_count": null,
            "_view_module": "@jupyter-widgets/base",
            "_view_module_version": "1.2.0",
            "_view_name": "StyleView",
            "description_width": ""
          }
        },
        "0a94fe311d3547abb0295705df02c6ec": {
          "model_module": "@jupyter-widgets/base",
          "model_name": "LayoutModel",
          "model_module_version": "1.2.0",
          "state": {
            "_model_module": "@jupyter-widgets/base",
            "_model_module_version": "1.2.0",
            "_model_name": "LayoutModel",
            "_view_count": null,
            "_view_module": "@jupyter-widgets/base",
            "_view_module_version": "1.2.0",
            "_view_name": "LayoutView",
            "align_content": null,
            "align_items": null,
            "align_self": null,
            "border": null,
            "bottom": null,
            "display": null,
            "flex": null,
            "flex_flow": null,
            "grid_area": null,
            "grid_auto_columns": null,
            "grid_auto_flow": null,
            "grid_auto_rows": null,
            "grid_column": null,
            "grid_gap": null,
            "grid_row": null,
            "grid_template_areas": null,
            "grid_template_columns": null,
            "grid_template_rows": null,
            "height": null,
            "justify_content": null,
            "justify_items": null,
            "left": null,
            "margin": null,
            "max_height": null,
            "max_width": null,
            "min_height": null,
            "min_width": null,
            "object_fit": null,
            "object_position": null,
            "order": null,
            "overflow": null,
            "overflow_x": null,
            "overflow_y": null,
            "padding": null,
            "right": null,
            "top": null,
            "visibility": null,
            "width": null
          }
        },
        "f821bc7075d44a538da5373bdb9d799a": {
          "model_module": "@jupyter-widgets/controls",
          "model_name": "ProgressStyleModel",
          "model_module_version": "1.5.0",
          "state": {
            "_model_module": "@jupyter-widgets/controls",
            "_model_module_version": "1.5.0",
            "_model_name": "ProgressStyleModel",
            "_view_count": null,
            "_view_module": "@jupyter-widgets/base",
            "_view_module_version": "1.2.0",
            "_view_name": "StyleView",
            "bar_color": null,
            "description_width": ""
          }
        },
        "5298a88b96e64014951c796d9d7c976a": {
          "model_module": "@jupyter-widgets/base",
          "model_name": "LayoutModel",
          "model_module_version": "1.2.0",
          "state": {
            "_model_module": "@jupyter-widgets/base",
            "_model_module_version": "1.2.0",
            "_model_name": "LayoutModel",
            "_view_count": null,
            "_view_module": "@jupyter-widgets/base",
            "_view_module_version": "1.2.0",
            "_view_name": "LayoutView",
            "align_content": null,
            "align_items": null,
            "align_self": null,
            "border": null,
            "bottom": null,
            "display": null,
            "flex": null,
            "flex_flow": null,
            "grid_area": null,
            "grid_auto_columns": null,
            "grid_auto_flow": null,
            "grid_auto_rows": null,
            "grid_column": null,
            "grid_gap": null,
            "grid_row": null,
            "grid_template_areas": null,
            "grid_template_columns": null,
            "grid_template_rows": null,
            "height": null,
            "justify_content": null,
            "justify_items": null,
            "left": null,
            "margin": null,
            "max_height": null,
            "max_width": null,
            "min_height": null,
            "min_width": null,
            "object_fit": null,
            "object_position": null,
            "order": null,
            "overflow": null,
            "overflow_x": null,
            "overflow_y": null,
            "padding": null,
            "right": null,
            "top": null,
            "visibility": null,
            "width": null
          }
        },
        "06d2f74470b94885a41c55a921628798": {
          "model_module": "@jupyter-widgets/controls",
          "model_name": "DescriptionStyleModel",
          "model_module_version": "1.5.0",
          "state": {
            "_model_module": "@jupyter-widgets/controls",
            "_model_module_version": "1.5.0",
            "_model_name": "DescriptionStyleModel",
            "_view_count": null,
            "_view_module": "@jupyter-widgets/base",
            "_view_module_version": "1.2.0",
            "_view_name": "StyleView",
            "description_width": ""
          }
        },
        "369da89bd46c4cb88c8c64494279d225": {
          "model_module": "@jupyter-widgets/controls",
          "model_name": "HBoxModel",
          "model_module_version": "1.5.0",
          "state": {
            "_dom_classes": [],
            "_model_module": "@jupyter-widgets/controls",
            "_model_module_version": "1.5.0",
            "_model_name": "HBoxModel",
            "_view_count": null,
            "_view_module": "@jupyter-widgets/controls",
            "_view_module_version": "1.5.0",
            "_view_name": "HBoxView",
            "box_style": "",
            "children": [
              "IPY_MODEL_7382005d22474a219484d0bf126f8ac0",
              "IPY_MODEL_845fd9094f554daa8edee76048324966",
              "IPY_MODEL_b62dd53ae8274216a5368c001e5ff698"
            ],
            "layout": "IPY_MODEL_589ee148a58e4e5c95526fe5bcbce969"
          }
        },
        "7382005d22474a219484d0bf126f8ac0": {
          "model_module": "@jupyter-widgets/controls",
          "model_name": "HTMLModel",
          "model_module_version": "1.5.0",
          "state": {
            "_dom_classes": [],
            "_model_module": "@jupyter-widgets/controls",
            "_model_module_version": "1.5.0",
            "_model_name": "HTMLModel",
            "_view_count": null,
            "_view_module": "@jupyter-widgets/controls",
            "_view_module_version": "1.5.0",
            "_view_name": "HTMLView",
            "description": "",
            "description_tooltip": null,
            "layout": "IPY_MODEL_2be814f5fb5645059c08779de5ccdb6a",
            "placeholder": "​",
            "style": "IPY_MODEL_188394d90df44611b15c9c5984e492ce",
            "value": "Generating train split: 100%"
          }
        },
        "845fd9094f554daa8edee76048324966": {
          "model_module": "@jupyter-widgets/controls",
          "model_name": "FloatProgressModel",
          "model_module_version": "1.5.0",
          "state": {
            "_dom_classes": [],
            "_model_module": "@jupyter-widgets/controls",
            "_model_module_version": "1.5.0",
            "_model_name": "FloatProgressModel",
            "_view_count": null,
            "_view_module": "@jupyter-widgets/controls",
            "_view_module_version": "1.5.0",
            "_view_name": "ProgressView",
            "bar_style": "success",
            "description": "",
            "description_tooltip": null,
            "layout": "IPY_MODEL_a6965d969fcb42d49aef551de868a9a5",
            "max": 5749,
            "min": 0,
            "orientation": "horizontal",
            "style": "IPY_MODEL_1486d3b18ac44d73913cb13dd6d000ba",
            "value": 5749
          }
        },
        "b62dd53ae8274216a5368c001e5ff698": {
          "model_module": "@jupyter-widgets/controls",
          "model_name": "HTMLModel",
          "model_module_version": "1.5.0",
          "state": {
            "_dom_classes": [],
            "_model_module": "@jupyter-widgets/controls",
            "_model_module_version": "1.5.0",
            "_model_name": "HTMLModel",
            "_view_count": null,
            "_view_module": "@jupyter-widgets/controls",
            "_view_module_version": "1.5.0",
            "_view_name": "HTMLView",
            "description": "",
            "description_tooltip": null,
            "layout": "IPY_MODEL_6c828ea2e86b4931928d1cee1ab90de4",
            "placeholder": "​",
            "style": "IPY_MODEL_ebd99a7b517f42ddb977f44bdff6a1f9",
            "value": " 5749/5749 [00:00&lt;00:00, 72063.59 examples/s]"
          }
        },
        "589ee148a58e4e5c95526fe5bcbce969": {
          "model_module": "@jupyter-widgets/base",
          "model_name": "LayoutModel",
          "model_module_version": "1.2.0",
          "state": {
            "_model_module": "@jupyter-widgets/base",
            "_model_module_version": "1.2.0",
            "_model_name": "LayoutModel",
            "_view_count": null,
            "_view_module": "@jupyter-widgets/base",
            "_view_module_version": "1.2.0",
            "_view_name": "LayoutView",
            "align_content": null,
            "align_items": null,
            "align_self": null,
            "border": null,
            "bottom": null,
            "display": null,
            "flex": null,
            "flex_flow": null,
            "grid_area": null,
            "grid_auto_columns": null,
            "grid_auto_flow": null,
            "grid_auto_rows": null,
            "grid_column": null,
            "grid_gap": null,
            "grid_row": null,
            "grid_template_areas": null,
            "grid_template_columns": null,
            "grid_template_rows": null,
            "height": null,
            "justify_content": null,
            "justify_items": null,
            "left": null,
            "margin": null,
            "max_height": null,
            "max_width": null,
            "min_height": null,
            "min_width": null,
            "object_fit": null,
            "object_position": null,
            "order": null,
            "overflow": null,
            "overflow_x": null,
            "overflow_y": null,
            "padding": null,
            "right": null,
            "top": null,
            "visibility": null,
            "width": null
          }
        },
        "2be814f5fb5645059c08779de5ccdb6a": {
          "model_module": "@jupyter-widgets/base",
          "model_name": "LayoutModel",
          "model_module_version": "1.2.0",
          "state": {
            "_model_module": "@jupyter-widgets/base",
            "_model_module_version": "1.2.0",
            "_model_name": "LayoutModel",
            "_view_count": null,
            "_view_module": "@jupyter-widgets/base",
            "_view_module_version": "1.2.0",
            "_view_name": "LayoutView",
            "align_content": null,
            "align_items": null,
            "align_self": null,
            "border": null,
            "bottom": null,
            "display": null,
            "flex": null,
            "flex_flow": null,
            "grid_area": null,
            "grid_auto_columns": null,
            "grid_auto_flow": null,
            "grid_auto_rows": null,
            "grid_column": null,
            "grid_gap": null,
            "grid_row": null,
            "grid_template_areas": null,
            "grid_template_columns": null,
            "grid_template_rows": null,
            "height": null,
            "justify_content": null,
            "justify_items": null,
            "left": null,
            "margin": null,
            "max_height": null,
            "max_width": null,
            "min_height": null,
            "min_width": null,
            "object_fit": null,
            "object_position": null,
            "order": null,
            "overflow": null,
            "overflow_x": null,
            "overflow_y": null,
            "padding": null,
            "right": null,
            "top": null,
            "visibility": null,
            "width": null
          }
        },
        "188394d90df44611b15c9c5984e492ce": {
          "model_module": "@jupyter-widgets/controls",
          "model_name": "DescriptionStyleModel",
          "model_module_version": "1.5.0",
          "state": {
            "_model_module": "@jupyter-widgets/controls",
            "_model_module_version": "1.5.0",
            "_model_name": "DescriptionStyleModel",
            "_view_count": null,
            "_view_module": "@jupyter-widgets/base",
            "_view_module_version": "1.2.0",
            "_view_name": "StyleView",
            "description_width": ""
          }
        },
        "a6965d969fcb42d49aef551de868a9a5": {
          "model_module": "@jupyter-widgets/base",
          "model_name": "LayoutModel",
          "model_module_version": "1.2.0",
          "state": {
            "_model_module": "@jupyter-widgets/base",
            "_model_module_version": "1.2.0",
            "_model_name": "LayoutModel",
            "_view_count": null,
            "_view_module": "@jupyter-widgets/base",
            "_view_module_version": "1.2.0",
            "_view_name": "LayoutView",
            "align_content": null,
            "align_items": null,
            "align_self": null,
            "border": null,
            "bottom": null,
            "display": null,
            "flex": null,
            "flex_flow": null,
            "grid_area": null,
            "grid_auto_columns": null,
            "grid_auto_flow": null,
            "grid_auto_rows": null,
            "grid_column": null,
            "grid_gap": null,
            "grid_row": null,
            "grid_template_areas": null,
            "grid_template_columns": null,
            "grid_template_rows": null,
            "height": null,
            "justify_content": null,
            "justify_items": null,
            "left": null,
            "margin": null,
            "max_height": null,
            "max_width": null,
            "min_height": null,
            "min_width": null,
            "object_fit": null,
            "object_position": null,
            "order": null,
            "overflow": null,
            "overflow_x": null,
            "overflow_y": null,
            "padding": null,
            "right": null,
            "top": null,
            "visibility": null,
            "width": null
          }
        },
        "1486d3b18ac44d73913cb13dd6d000ba": {
          "model_module": "@jupyter-widgets/controls",
          "model_name": "ProgressStyleModel",
          "model_module_version": "1.5.0",
          "state": {
            "_model_module": "@jupyter-widgets/controls",
            "_model_module_version": "1.5.0",
            "_model_name": "ProgressStyleModel",
            "_view_count": null,
            "_view_module": "@jupyter-widgets/base",
            "_view_module_version": "1.2.0",
            "_view_name": "StyleView",
            "bar_color": null,
            "description_width": ""
          }
        },
        "6c828ea2e86b4931928d1cee1ab90de4": {
          "model_module": "@jupyter-widgets/base",
          "model_name": "LayoutModel",
          "model_module_version": "1.2.0",
          "state": {
            "_model_module": "@jupyter-widgets/base",
            "_model_module_version": "1.2.0",
            "_model_name": "LayoutModel",
            "_view_count": null,
            "_view_module": "@jupyter-widgets/base",
            "_view_module_version": "1.2.0",
            "_view_name": "LayoutView",
            "align_content": null,
            "align_items": null,
            "align_self": null,
            "border": null,
            "bottom": null,
            "display": null,
            "flex": null,
            "flex_flow": null,
            "grid_area": null,
            "grid_auto_columns": null,
            "grid_auto_flow": null,
            "grid_auto_rows": null,
            "grid_column": null,
            "grid_gap": null,
            "grid_row": null,
            "grid_template_areas": null,
            "grid_template_columns": null,
            "grid_template_rows": null,
            "height": null,
            "justify_content": null,
            "justify_items": null,
            "left": null,
            "margin": null,
            "max_height": null,
            "max_width": null,
            "min_height": null,
            "min_width": null,
            "object_fit": null,
            "object_position": null,
            "order": null,
            "overflow": null,
            "overflow_x": null,
            "overflow_y": null,
            "padding": null,
            "right": null,
            "top": null,
            "visibility": null,
            "width": null
          }
        },
        "ebd99a7b517f42ddb977f44bdff6a1f9": {
          "model_module": "@jupyter-widgets/controls",
          "model_name": "DescriptionStyleModel",
          "model_module_version": "1.5.0",
          "state": {
            "_model_module": "@jupyter-widgets/controls",
            "_model_module_version": "1.5.0",
            "_model_name": "DescriptionStyleModel",
            "_view_count": null,
            "_view_module": "@jupyter-widgets/base",
            "_view_module_version": "1.2.0",
            "_view_name": "StyleView",
            "description_width": ""
          }
        },
        "5a83766d59fa489fa411249ea516d6ab": {
          "model_module": "@jupyter-widgets/controls",
          "model_name": "HBoxModel",
          "model_module_version": "1.5.0",
          "state": {
            "_dom_classes": [],
            "_model_module": "@jupyter-widgets/controls",
            "_model_module_version": "1.5.0",
            "_model_name": "HBoxModel",
            "_view_count": null,
            "_view_module": "@jupyter-widgets/controls",
            "_view_module_version": "1.5.0",
            "_view_name": "HBoxView",
            "box_style": "",
            "children": [
              "IPY_MODEL_c99e04c307d04956aaa5160d825c7665",
              "IPY_MODEL_c2cefc84c117442c8a9641900790b677",
              "IPY_MODEL_31bf277e4dbb4088930da3def17666b9"
            ],
            "layout": "IPY_MODEL_1f46e8186256439d9c601c4cf0b35289"
          }
        },
        "c99e04c307d04956aaa5160d825c7665": {
          "model_module": "@jupyter-widgets/controls",
          "model_name": "HTMLModel",
          "model_module_version": "1.5.0",
          "state": {
            "_dom_classes": [],
            "_model_module": "@jupyter-widgets/controls",
            "_model_module_version": "1.5.0",
            "_model_name": "HTMLModel",
            "_view_count": null,
            "_view_module": "@jupyter-widgets/controls",
            "_view_module_version": "1.5.0",
            "_view_name": "HTMLView",
            "description": "",
            "description_tooltip": null,
            "layout": "IPY_MODEL_c12ba371d2d1446a83114110fb3383a7",
            "placeholder": "​",
            "style": "IPY_MODEL_ccfadb01800442a49250834b2d65c3b1",
            "value": "Generating validation split: 100%"
          }
        },
        "c2cefc84c117442c8a9641900790b677": {
          "model_module": "@jupyter-widgets/controls",
          "model_name": "FloatProgressModel",
          "model_module_version": "1.5.0",
          "state": {
            "_dom_classes": [],
            "_model_module": "@jupyter-widgets/controls",
            "_model_module_version": "1.5.0",
            "_model_name": "FloatProgressModel",
            "_view_count": null,
            "_view_module": "@jupyter-widgets/controls",
            "_view_module_version": "1.5.0",
            "_view_name": "ProgressView",
            "bar_style": "success",
            "description": "",
            "description_tooltip": null,
            "layout": "IPY_MODEL_edf2251e8ccf43e3abb95bd453b6b132",
            "max": 1500,
            "min": 0,
            "orientation": "horizontal",
            "style": "IPY_MODEL_7c96ce2319dc4e90bee484f20dc94316",
            "value": 1500
          }
        },
        "31bf277e4dbb4088930da3def17666b9": {
          "model_module": "@jupyter-widgets/controls",
          "model_name": "HTMLModel",
          "model_module_version": "1.5.0",
          "state": {
            "_dom_classes": [],
            "_model_module": "@jupyter-widgets/controls",
            "_model_module_version": "1.5.0",
            "_model_name": "HTMLModel",
            "_view_count": null,
            "_view_module": "@jupyter-widgets/controls",
            "_view_module_version": "1.5.0",
            "_view_name": "HTMLView",
            "description": "",
            "description_tooltip": null,
            "layout": "IPY_MODEL_c2ce8e16aba44b6aa32b83784d06d2ed",
            "placeholder": "​",
            "style": "IPY_MODEL_3b23e658ebd941858efba37645e750f2",
            "value": " 1500/1500 [00:00&lt;00:00, 28969.52 examples/s]"
          }
        },
        "1f46e8186256439d9c601c4cf0b35289": {
          "model_module": "@jupyter-widgets/base",
          "model_name": "LayoutModel",
          "model_module_version": "1.2.0",
          "state": {
            "_model_module": "@jupyter-widgets/base",
            "_model_module_version": "1.2.0",
            "_model_name": "LayoutModel",
            "_view_count": null,
            "_view_module": "@jupyter-widgets/base",
            "_view_module_version": "1.2.0",
            "_view_name": "LayoutView",
            "align_content": null,
            "align_items": null,
            "align_self": null,
            "border": null,
            "bottom": null,
            "display": null,
            "flex": null,
            "flex_flow": null,
            "grid_area": null,
            "grid_auto_columns": null,
            "grid_auto_flow": null,
            "grid_auto_rows": null,
            "grid_column": null,
            "grid_gap": null,
            "grid_row": null,
            "grid_template_areas": null,
            "grid_template_columns": null,
            "grid_template_rows": null,
            "height": null,
            "justify_content": null,
            "justify_items": null,
            "left": null,
            "margin": null,
            "max_height": null,
            "max_width": null,
            "min_height": null,
            "min_width": null,
            "object_fit": null,
            "object_position": null,
            "order": null,
            "overflow": null,
            "overflow_x": null,
            "overflow_y": null,
            "padding": null,
            "right": null,
            "top": null,
            "visibility": null,
            "width": null
          }
        },
        "c12ba371d2d1446a83114110fb3383a7": {
          "model_module": "@jupyter-widgets/base",
          "model_name": "LayoutModel",
          "model_module_version": "1.2.0",
          "state": {
            "_model_module": "@jupyter-widgets/base",
            "_model_module_version": "1.2.0",
            "_model_name": "LayoutModel",
            "_view_count": null,
            "_view_module": "@jupyter-widgets/base",
            "_view_module_version": "1.2.0",
            "_view_name": "LayoutView",
            "align_content": null,
            "align_items": null,
            "align_self": null,
            "border": null,
            "bottom": null,
            "display": null,
            "flex": null,
            "flex_flow": null,
            "grid_area": null,
            "grid_auto_columns": null,
            "grid_auto_flow": null,
            "grid_auto_rows": null,
            "grid_column": null,
            "grid_gap": null,
            "grid_row": null,
            "grid_template_areas": null,
            "grid_template_columns": null,
            "grid_template_rows": null,
            "height": null,
            "justify_content": null,
            "justify_items": null,
            "left": null,
            "margin": null,
            "max_height": null,
            "max_width": null,
            "min_height": null,
            "min_width": null,
            "object_fit": null,
            "object_position": null,
            "order": null,
            "overflow": null,
            "overflow_x": null,
            "overflow_y": null,
            "padding": null,
            "right": null,
            "top": null,
            "visibility": null,
            "width": null
          }
        },
        "ccfadb01800442a49250834b2d65c3b1": {
          "model_module": "@jupyter-widgets/controls",
          "model_name": "DescriptionStyleModel",
          "model_module_version": "1.5.0",
          "state": {
            "_model_module": "@jupyter-widgets/controls",
            "_model_module_version": "1.5.0",
            "_model_name": "DescriptionStyleModel",
            "_view_count": null,
            "_view_module": "@jupyter-widgets/base",
            "_view_module_version": "1.2.0",
            "_view_name": "StyleView",
            "description_width": ""
          }
        },
        "edf2251e8ccf43e3abb95bd453b6b132": {
          "model_module": "@jupyter-widgets/base",
          "model_name": "LayoutModel",
          "model_module_version": "1.2.0",
          "state": {
            "_model_module": "@jupyter-widgets/base",
            "_model_module_version": "1.2.0",
            "_model_name": "LayoutModel",
            "_view_count": null,
            "_view_module": "@jupyter-widgets/base",
            "_view_module_version": "1.2.0",
            "_view_name": "LayoutView",
            "align_content": null,
            "align_items": null,
            "align_self": null,
            "border": null,
            "bottom": null,
            "display": null,
            "flex": null,
            "flex_flow": null,
            "grid_area": null,
            "grid_auto_columns": null,
            "grid_auto_flow": null,
            "grid_auto_rows": null,
            "grid_column": null,
            "grid_gap": null,
            "grid_row": null,
            "grid_template_areas": null,
            "grid_template_columns": null,
            "grid_template_rows": null,
            "height": null,
            "justify_content": null,
            "justify_items": null,
            "left": null,
            "margin": null,
            "max_height": null,
            "max_width": null,
            "min_height": null,
            "min_width": null,
            "object_fit": null,
            "object_position": null,
            "order": null,
            "overflow": null,
            "overflow_x": null,
            "overflow_y": null,
            "padding": null,
            "right": null,
            "top": null,
            "visibility": null,
            "width": null
          }
        },
        "7c96ce2319dc4e90bee484f20dc94316": {
          "model_module": "@jupyter-widgets/controls",
          "model_name": "ProgressStyleModel",
          "model_module_version": "1.5.0",
          "state": {
            "_model_module": "@jupyter-widgets/controls",
            "_model_module_version": "1.5.0",
            "_model_name": "ProgressStyleModel",
            "_view_count": null,
            "_view_module": "@jupyter-widgets/base",
            "_view_module_version": "1.2.0",
            "_view_name": "StyleView",
            "bar_color": null,
            "description_width": ""
          }
        },
        "c2ce8e16aba44b6aa32b83784d06d2ed": {
          "model_module": "@jupyter-widgets/base",
          "model_name": "LayoutModel",
          "model_module_version": "1.2.0",
          "state": {
            "_model_module": "@jupyter-widgets/base",
            "_model_module_version": "1.2.0",
            "_model_name": "LayoutModel",
            "_view_count": null,
            "_view_module": "@jupyter-widgets/base",
            "_view_module_version": "1.2.0",
            "_view_name": "LayoutView",
            "align_content": null,
            "align_items": null,
            "align_self": null,
            "border": null,
            "bottom": null,
            "display": null,
            "flex": null,
            "flex_flow": null,
            "grid_area": null,
            "grid_auto_columns": null,
            "grid_auto_flow": null,
            "grid_auto_rows": null,
            "grid_column": null,
            "grid_gap": null,
            "grid_row": null,
            "grid_template_areas": null,
            "grid_template_columns": null,
            "grid_template_rows": null,
            "height": null,
            "justify_content": null,
            "justify_items": null,
            "left": null,
            "margin": null,
            "max_height": null,
            "max_width": null,
            "min_height": null,
            "min_width": null,
            "object_fit": null,
            "object_position": null,
            "order": null,
            "overflow": null,
            "overflow_x": null,
            "overflow_y": null,
            "padding": null,
            "right": null,
            "top": null,
            "visibility": null,
            "width": null
          }
        },
        "3b23e658ebd941858efba37645e750f2": {
          "model_module": "@jupyter-widgets/controls",
          "model_name": "DescriptionStyleModel",
          "model_module_version": "1.5.0",
          "state": {
            "_model_module": "@jupyter-widgets/controls",
            "_model_module_version": "1.5.0",
            "_model_name": "DescriptionStyleModel",
            "_view_count": null,
            "_view_module": "@jupyter-widgets/base",
            "_view_module_version": "1.2.0",
            "_view_name": "StyleView",
            "description_width": ""
          }
        },
        "1ddb7c42142d482fb6d0849a56b06d11": {
          "model_module": "@jupyter-widgets/controls",
          "model_name": "HBoxModel",
          "model_module_version": "1.5.0",
          "state": {
            "_dom_classes": [],
            "_model_module": "@jupyter-widgets/controls",
            "_model_module_version": "1.5.0",
            "_model_name": "HBoxModel",
            "_view_count": null,
            "_view_module": "@jupyter-widgets/controls",
            "_view_module_version": "1.5.0",
            "_view_name": "HBoxView",
            "box_style": "",
            "children": [
              "IPY_MODEL_50e1e60468a844bca2f4e42d32c5cab8",
              "IPY_MODEL_766713629daa448b97b3cf5115e4bb94",
              "IPY_MODEL_e7bf9c5150c9460493def03457334a98"
            ],
            "layout": "IPY_MODEL_cb6ddd755aea463dbbe09b0819ea4250"
          }
        },
        "50e1e60468a844bca2f4e42d32c5cab8": {
          "model_module": "@jupyter-widgets/controls",
          "model_name": "HTMLModel",
          "model_module_version": "1.5.0",
          "state": {
            "_dom_classes": [],
            "_model_module": "@jupyter-widgets/controls",
            "_model_module_version": "1.5.0",
            "_model_name": "HTMLModel",
            "_view_count": null,
            "_view_module": "@jupyter-widgets/controls",
            "_view_module_version": "1.5.0",
            "_view_name": "HTMLView",
            "description": "",
            "description_tooltip": null,
            "layout": "IPY_MODEL_6a53490778014287a993937b1194728f",
            "placeholder": "​",
            "style": "IPY_MODEL_9f8046647223443d9d584dea214afede",
            "value": "Generating test split: 100%"
          }
        },
        "766713629daa448b97b3cf5115e4bb94": {
          "model_module": "@jupyter-widgets/controls",
          "model_name": "FloatProgressModel",
          "model_module_version": "1.5.0",
          "state": {
            "_dom_classes": [],
            "_model_module": "@jupyter-widgets/controls",
            "_model_module_version": "1.5.0",
            "_model_name": "FloatProgressModel",
            "_view_count": null,
            "_view_module": "@jupyter-widgets/controls",
            "_view_module_version": "1.5.0",
            "_view_name": "ProgressView",
            "bar_style": "success",
            "description": "",
            "description_tooltip": null,
            "layout": "IPY_MODEL_a7f03c768ede46aeaac2e36bd9cfb489",
            "max": 1379,
            "min": 0,
            "orientation": "horizontal",
            "style": "IPY_MODEL_bbaf3dc4dced41d0b986acf989a7ed63",
            "value": 1379
          }
        },
        "e7bf9c5150c9460493def03457334a98": {
          "model_module": "@jupyter-widgets/controls",
          "model_name": "HTMLModel",
          "model_module_version": "1.5.0",
          "state": {
            "_dom_classes": [],
            "_model_module": "@jupyter-widgets/controls",
            "_model_module_version": "1.5.0",
            "_model_name": "HTMLModel",
            "_view_count": null,
            "_view_module": "@jupyter-widgets/controls",
            "_view_module_version": "1.5.0",
            "_view_name": "HTMLView",
            "description": "",
            "description_tooltip": null,
            "layout": "IPY_MODEL_ece39796707b4df0816603abc04edb3f",
            "placeholder": "​",
            "style": "IPY_MODEL_af862847efa84a788793128a5c9e2cc8",
            "value": " 1379/1379 [00:00&lt;00:00, 47337.60 examples/s]"
          }
        },
        "cb6ddd755aea463dbbe09b0819ea4250": {
          "model_module": "@jupyter-widgets/base",
          "model_name": "LayoutModel",
          "model_module_version": "1.2.0",
          "state": {
            "_model_module": "@jupyter-widgets/base",
            "_model_module_version": "1.2.0",
            "_model_name": "LayoutModel",
            "_view_count": null,
            "_view_module": "@jupyter-widgets/base",
            "_view_module_version": "1.2.0",
            "_view_name": "LayoutView",
            "align_content": null,
            "align_items": null,
            "align_self": null,
            "border": null,
            "bottom": null,
            "display": null,
            "flex": null,
            "flex_flow": null,
            "grid_area": null,
            "grid_auto_columns": null,
            "grid_auto_flow": null,
            "grid_auto_rows": null,
            "grid_column": null,
            "grid_gap": null,
            "grid_row": null,
            "grid_template_areas": null,
            "grid_template_columns": null,
            "grid_template_rows": null,
            "height": null,
            "justify_content": null,
            "justify_items": null,
            "left": null,
            "margin": null,
            "max_height": null,
            "max_width": null,
            "min_height": null,
            "min_width": null,
            "object_fit": null,
            "object_position": null,
            "order": null,
            "overflow": null,
            "overflow_x": null,
            "overflow_y": null,
            "padding": null,
            "right": null,
            "top": null,
            "visibility": null,
            "width": null
          }
        },
        "6a53490778014287a993937b1194728f": {
          "model_module": "@jupyter-widgets/base",
          "model_name": "LayoutModel",
          "model_module_version": "1.2.0",
          "state": {
            "_model_module": "@jupyter-widgets/base",
            "_model_module_version": "1.2.0",
            "_model_name": "LayoutModel",
            "_view_count": null,
            "_view_module": "@jupyter-widgets/base",
            "_view_module_version": "1.2.0",
            "_view_name": "LayoutView",
            "align_content": null,
            "align_items": null,
            "align_self": null,
            "border": null,
            "bottom": null,
            "display": null,
            "flex": null,
            "flex_flow": null,
            "grid_area": null,
            "grid_auto_columns": null,
            "grid_auto_flow": null,
            "grid_auto_rows": null,
            "grid_column": null,
            "grid_gap": null,
            "grid_row": null,
            "grid_template_areas": null,
            "grid_template_columns": null,
            "grid_template_rows": null,
            "height": null,
            "justify_content": null,
            "justify_items": null,
            "left": null,
            "margin": null,
            "max_height": null,
            "max_width": null,
            "min_height": null,
            "min_width": null,
            "object_fit": null,
            "object_position": null,
            "order": null,
            "overflow": null,
            "overflow_x": null,
            "overflow_y": null,
            "padding": null,
            "right": null,
            "top": null,
            "visibility": null,
            "width": null
          }
        },
        "9f8046647223443d9d584dea214afede": {
          "model_module": "@jupyter-widgets/controls",
          "model_name": "DescriptionStyleModel",
          "model_module_version": "1.5.0",
          "state": {
            "_model_module": "@jupyter-widgets/controls",
            "_model_module_version": "1.5.0",
            "_model_name": "DescriptionStyleModel",
            "_view_count": null,
            "_view_module": "@jupyter-widgets/base",
            "_view_module_version": "1.2.0",
            "_view_name": "StyleView",
            "description_width": ""
          }
        },
        "a7f03c768ede46aeaac2e36bd9cfb489": {
          "model_module": "@jupyter-widgets/base",
          "model_name": "LayoutModel",
          "model_module_version": "1.2.0",
          "state": {
            "_model_module": "@jupyter-widgets/base",
            "_model_module_version": "1.2.0",
            "_model_name": "LayoutModel",
            "_view_count": null,
            "_view_module": "@jupyter-widgets/base",
            "_view_module_version": "1.2.0",
            "_view_name": "LayoutView",
            "align_content": null,
            "align_items": null,
            "align_self": null,
            "border": null,
            "bottom": null,
            "display": null,
            "flex": null,
            "flex_flow": null,
            "grid_area": null,
            "grid_auto_columns": null,
            "grid_auto_flow": null,
            "grid_auto_rows": null,
            "grid_column": null,
            "grid_gap": null,
            "grid_row": null,
            "grid_template_areas": null,
            "grid_template_columns": null,
            "grid_template_rows": null,
            "height": null,
            "justify_content": null,
            "justify_items": null,
            "left": null,
            "margin": null,
            "max_height": null,
            "max_width": null,
            "min_height": null,
            "min_width": null,
            "object_fit": null,
            "object_position": null,
            "order": null,
            "overflow": null,
            "overflow_x": null,
            "overflow_y": null,
            "padding": null,
            "right": null,
            "top": null,
            "visibility": null,
            "width": null
          }
        },
        "bbaf3dc4dced41d0b986acf989a7ed63": {
          "model_module": "@jupyter-widgets/controls",
          "model_name": "ProgressStyleModel",
          "model_module_version": "1.5.0",
          "state": {
            "_model_module": "@jupyter-widgets/controls",
            "_model_module_version": "1.5.0",
            "_model_name": "ProgressStyleModel",
            "_view_count": null,
            "_view_module": "@jupyter-widgets/base",
            "_view_module_version": "1.2.0",
            "_view_name": "StyleView",
            "bar_color": null,
            "description_width": ""
          }
        },
        "ece39796707b4df0816603abc04edb3f": {
          "model_module": "@jupyter-widgets/base",
          "model_name": "LayoutModel",
          "model_module_version": "1.2.0",
          "state": {
            "_model_module": "@jupyter-widgets/base",
            "_model_module_version": "1.2.0",
            "_model_name": "LayoutModel",
            "_view_count": null,
            "_view_module": "@jupyter-widgets/base",
            "_view_module_version": "1.2.0",
            "_view_name": "LayoutView",
            "align_content": null,
            "align_items": null,
            "align_self": null,
            "border": null,
            "bottom": null,
            "display": null,
            "flex": null,
            "flex_flow": null,
            "grid_area": null,
            "grid_auto_columns": null,
            "grid_auto_flow": null,
            "grid_auto_rows": null,
            "grid_column": null,
            "grid_gap": null,
            "grid_row": null,
            "grid_template_areas": null,
            "grid_template_columns": null,
            "grid_template_rows": null,
            "height": null,
            "justify_content": null,
            "justify_items": null,
            "left": null,
            "margin": null,
            "max_height": null,
            "max_width": null,
            "min_height": null,
            "min_width": null,
            "object_fit": null,
            "object_position": null,
            "order": null,
            "overflow": null,
            "overflow_x": null,
            "overflow_y": null,
            "padding": null,
            "right": null,
            "top": null,
            "visibility": null,
            "width": null
          }
        },
        "af862847efa84a788793128a5c9e2cc8": {
          "model_module": "@jupyter-widgets/controls",
          "model_name": "DescriptionStyleModel",
          "model_module_version": "1.5.0",
          "state": {
            "_model_module": "@jupyter-widgets/controls",
            "_model_module_version": "1.5.0",
            "_model_name": "DescriptionStyleModel",
            "_view_count": null,
            "_view_module": "@jupyter-widgets/base",
            "_view_module_version": "1.2.0",
            "_view_name": "StyleView",
            "description_width": ""
          }
        }
      }
    }
  },
  "cells": [
    {
      "cell_type": "markdown",
      "metadata": {
        "id": "view-in-github",
        "colab_type": "text"
      },
      "source": [
        "<a href=\"https://colab.research.google.com/github/dgromann/Programmieren_fuer_Translator_innen_2024S/blob/main/notebooks/LV6_Sentence_Similarity_mit_L%C3%B6sungen.ipynb\" target=\"_parent\"><img src=\"https://colab.research.google.com/assets/colab-badge.svg\" alt=\"Open In Colab\"/></a>"
      ]
    },
    {
      "cell_type": "markdown",
      "source": [
        "# **2024S: Einführung ins Programmieren für Translator:innen, Übung (UE), 340273-1**\n",
        "\n",
        "### **Speichern Sie dieses Notebook**\n",
        "\n",
        "Dieses Notebook können Sie jederzeit und in jedem Browser erneut von GitHub (bzw. dem direkten Link in Moodle) öffnen. Um jedoch Ihre eigenen Lösungen und Ihren Code zu speichern, wählen Sie bitte **Datei** bzw. **File** und eine der Speicheroptionen. Die einfachste Speicheroption ist in Google Drive, da dadurch Änderungen im Notebook automatisch im Hintergrund gespeichert werden.\n",
        "\n",
        "Für die Abgabe der praktischen Übungen müssen Sie jedoch das Jupyter-Notebook als .ipynb Datei herunterladen. Dazu klicken Sie auf **Datei** oder **File** und **Herunterladen** oder **Download** und wählen das Format .ipynb aus.![cosine.png](data:image/png;base64,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![cosine.png](data:image/png;base64,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![cosine.png](data:image/png;base64,iVBORw0KGgoAAAANSUhEUgAAA90AAAH7CAYAAADRpPyEAAAAAXNSR0IArs4c6QAAAARnQU1BAACxjwv8YQUAAAAJcEhZcwAAHYcAAB2HAY/l8WUAAP+lSURBVHhe7N0FeFVX1gbgL+7uLgRICBbcXUvRllL3qczUO535xzsd60xl6jJ1L5QCxYq7uySEQELc3T38Z+2cS4QETSAJ3/s8t5Bzc5ObkGbfb++11zY6qwERERERERERtTlj/U8iIiIiIiIiamMM3URERERERETthKGbiIiIiIiIqJ0wdBMRERERERG1E4ZuIiIiIiIionbC0E1ERERERETUThi6iYiIiIiIiNoJQzcRERERERFRO2HoJiIiIiIiImonDN1ERERERERE7YShm4iIiIiIiKidMHQTERERERERtROGbiIiIiIiIqJ2wtBNRERERERE1E4YuomIiIiIiIjaCUM3ERERERERUTth6CYiIiIiIiJqJwzdRERERERERO2EoZuIiIiIiIionTB0ExEREREREbUThm4iIiIiIiKidsLQTURERERERNROGLqJiIiIiIiI2glDNxEREREREVE7YegmIiIiIiIiaicM3URERERERETthKGbiIiIiIiIqJ0wdBMRERERERG1E4ZuIiIiIiIionbC0E1ERERERETUThi6iYiIiIiIiNoJQzcRERERERFRO2HoJiIiIiIiImonDN1ERERERERE7YShm4iIiIiIiKidMHQTERERERERtROGbiIiIiIiIqJ2wtBNRERERERE1E4YuomIiIiIiIjaCUM3ERERERERUTth6CYiIiIiIiJqJ0ZnNfrfiYiIiIiIrkpNTQ3y8/NhamoKR0dHGBkZ6fdcW2VlZSgtLYWtrS2srKz0q0B1dTVKSkogMcjZ2Vm/StR+GLqJbgC1tbXIysrS37o0JiYmsLOzazJIEREREV1MdnY2Pv/8c3h4eOCuu+5Srymuh507d6rbxIkT0b9//3PPIykpCRs3bkRVVRUeffRRdY2oPTF0E90AZLb5X//6l/7WpXFycsK0adMQERGhXyEiIiK6uJMnT2LGjBno1asXFi9eDAsLC/2ea+u///0v3nzzTbz44osq/JuZmanru3btwl//+le1Er5t27brthJPNw7u6Sbq4mRerbCwEK+++io++OAD7Nu3D4cPH77oLTIyErm5ufpHISIiIiKiK8GVbqIuTv4XT0xMRLdu3dCjRw98+umnan/VxchssJubGxwcHPQrRERERBfHlW6iprjSTXQDsbS0VME7LCzsoreQkBAGbiIiImozshBQVFSkmphJs7XLJQ3QpHovJydH/SlvE3UGDN1EdMUqKyvVrbWCGWngJoNiZmYmCgoK1OB4ucU1hgFablcyuMrzy8vLu+LBuaKiQj136X56uc+diIiIgNTUVKxbt041V3v77bfx1ltv4bPPPsPq1atx5syZi46vCQkJ6n0/+ugjvPHGG3j99dfVCrZU723evPmym8USXWssLyfq4uR/cUN5ed++fbFhwwa4uLjo916cPF6C59KlSxEcHKxWwePi4hAbG6sG0fDwcIwZM0atoguZuZaQffToUZw6dUo1cZPAKl3QXV1d1Up7v3794OnpCWPjhnk/+RzyMY8fP45x48bB3t5e7T+XgVa6jNbV1aljPeTrkMf7+fnpjzyfhP1Dhw6p55mWlqZmxOXYEvm65Wvo06cP/P39m3z+xqSbqTx/w9cogV2+PnnO8vmluRyrAIiIiFpmKC+X1wzSyPXrr79GVFSUGl/l9UB5ebmaTJdu4gMHDsTtt9+OQYMGwdzcXP8IDQ4ePKgeL/1mpAxcXh/ImC4fQ15jSOn69OnT8dBDD6nXGY2xvJw6CoZuoi6uLUK3hNYhQ4bglltuUfuzZLY6OjpahdsHH3xQHbdhY2OjBlMJ2jKTLYFZHisDoAyIMjhmZGSoAVUGx/nz56N79+76Z4H6HN99952avf7Pf/6DlJQUNShK2JbBVVas5QgSGaAl5C9YsAC9e/duMlDK55OAv2rVKnz77bfnBmM5n1Oea3p6unr/0aNHq88/bNgw/ZENZFV8zZo1+OGHH9Rzkq9LXiDI1yYfTz7WTTfdhDlz5iAwMFB/FBERERlI6JaxXiao5XWDjP/ythzb5ePjo8JufHy8WqWWsV62tD377LMYOXKk/hHqybj9/PPPq9cccqLK+PHj1aS5hGcpUZeJ+kWLFqlA/5e//AX33nuv/sh6DN3UUZhoP4Qv6n8noi5KVmqllEvOy5QBydraWr/n4gxB9rXXXlPhc+vWrSrIysA3c+ZMjBo16tyqtYR76ZAuq+KGWee5c+eqv0tQloFXBkYZ4CT4S2g2DIDyOQ4cOIAVK1ao2e/Tp09jwoQJuPXWWzFr1iy1+i2TBhKEt2zZogZbGbwlFBtI+fhXX32lQrucMT5v3jwVrmfPnq2eb2hoqCpBk0kDCfDy8WT13EAC/ieffIL3339fNZuTx0u4l9l6CeoycSEd3deuXaueo3ztMiFAREREDWSs/uKLL9QEuozXf/jDH9RqtozD0qTV29tbVcrJSriM//LaQl6ryFjfeLVbSso//PBD9Vrg8ccfx4ABA9Rkvozd8tpDwrpUoslkuXye2267TX9kvT179mDv3r3nXkMYzulOTk5Wn1NeNzzwwAMM3dTuGLqJbgAykMlMrwxkEiZlxljKp1u7yeyzvK+c1S2hW2aC3333XVWqLQPkE088oQbPwYMHw93dXQVuWUmWgU3CvayKSzmZhGwZHOVzyiArg62Un8squIRVCc3yOYR8jiNHjqhAK39/6aWXVOANCgpSg6s8XlbGZaA+ceKEmkWXUnUZcIV83JiYGDz55JNqcuH3v/89br75ZnW/PAd5nvLcvby8VNm4BHy5Ls/VQErX/vSnPyEgIADPPfecWtGWzy+fWx4nX488B5mxX7lypRrA5X4iIiJqIKH7yy+/RHFxsVqpltcMUinWnLwGkElymWiXVWsZVxtXkR07dkz9ef/996vx3BCaDWTiXkL79u3b1aS4VN41xtBNHQUbqRHdIAxl4tK4RFZyL3STMm8pE29OSsTvuecejBgx4rzBU0KvrITL6vSdd955Lkw3J4Oer6+vWmmWW3Oyij5x4kRMmTJF/b05Cc5ykzJwmRwwkBnu77//Xu3/fuSRR1SYbr6iL4OqfH4ZvGXvmAzUBvL9+fjjj9UEhVQDyGy6fD2NyWAtoVvK7GXSQGbxiYiI6Hwy5so4LBPozcfTxmRclcoxeY0iIbmxsWPHqkl0WRU3VMYJec0hW75ksl0mzOWx8jqAqKNi6Ca6QcjgJyXdd999Nx5++OEL3qQk27CC3JgMjBJ4W5qtlkAqgfY3v/mNmlFuTMq2pQO4zGTLCrM0WpM92tI8rTkJ2vL41pqcycAts+Ki8eNlQkDKy6TcTErZWyuhl+cupea//e1vVdm7gazUr1+//tze95a+RiEVALIfTd5PZs8lrBMREVFTMo5LdZqMy81XqBuTfd8yrso4LBPnjcl1ee0hrxtka5k0VJN92n/729/UPm2pipM+MlKBRtSRsZEaURcn/4tfTSM1CcyyIi1hW8LqK6+8ojqAt0Zmn2XftMw+y14u+bsEbrnJTLQ8F7lv6NChKvjKLLaQzyED57///W/VBE1Wu1sbpKXZmqzYS0mYlIHL1yir3lLuLp3FFy9erEraL5V8jTJgyx5zKS2XVfYLPV5m1+X7KA1epNRd3pelaURERPUMjdQkNG/cuLHFyrXGpJ/LU089heHDh6vXAAZSMi7buaQXjLyGkPFawrxUm0lPF9lOJuOvjMmy0t28So+N1Kij4Eo3EV0yKRm/UOMwCdgLFy7En//8ZxWeJfzu2LFDBVMp25aOozIIt7SKbiADnwyKFxsAG88Xyt9l1Vv2jsn+78sdPGUQl1l0mWWXFXOZFJB9ZK3dZCZe9nJPmjSpxdV6IiKiG52MzTLh3ni8boncLxP2MhY3rlKTa//73/9Uc1TZUiYNTQ2T7X/84x9Vt3IpPZdtbxc6RpSoI2DoJqJLJqXVrZV9y0r18uXL1YyynI8tq8XSvVwGR2lOJrff/e53uO+++9q8+ZghqEsHU+kqfrEBvjl5vJSsy5/SnE0asUiZfGs3WaGXAf+FF15QZXGXG/KJiIi6OpnIlgasEpglULdGJrtlFVtCtpSjC3l/meCWqjZpevqrX/0Kv/zlL9WpIlIhJ1VtUsEniwHSDE3CPVFHxtBNRG1COoLLyras/MpKt3Q4l6O+ZGZaupTLniwpw5bmZW29OiyhV2bHpcxM9o3Lx79Q8Jayd2kWJ51V5fkY9p1JaJdSM3muMqC3dpMu5lKiL/u+5TFERETUlIzDMsbKhPyFxn3ZHiY9UmQSW14vCAndUiouE/pSci7jbku9WiTYSwm6jP1EHRlDNxG1CRkYz5w5o/Z7yyx043M2G5OBUUq525qEX+l+KrPqu3fvVjPnLZHrO3fuxKuvvqrO65Z94xLapUGbdDSXQV6eY2uPlxcO+/fvVyVtcqY3ERERnU/GVhmb5ZxtaaLaUvCWbWlyVKgc+SUdymUcF/JYe3t79af0UZHV7OYkmMsRqLKtTT6OhHwJ4UQdEUM3EbUJCdkSXGWluPFRXI1JmP3pp59UsJXB8ULlZpdLVp3lqC95Hu+99x6ioqJUh/TmZL+2NGWRcreBAweeW6mWgV2OGpPyNlkBl4G8pUFeSufl40tgl8/ZWrn99VBZXo20uByknM5GRVmVfpWIiOjakx4wsmVL9lu//PLL6phNmbSWyXFZ3ZZx9LXXXsNXX30FNzc3ddyou7u7eqyMrbK6LQ1O5TxtCdZHjx5VE/ypqakqxEvpuTRKk0q70NBQFerlyDE5g7stX19ca6VFFYiPykBGopTls991V2HyorTzI6IuTZqYvfXWW6r8WoJpa8dptUTCsQTpd999Vw1+Ui4us8/NSUCVsm1ZZZaBT/ZZSQCWGWpZAV+9erUaWCWQy77rqqoqNRBLZ1N5PvKYI0eOqFVoObIsMDBQBeGWyOeQczml1FvKzoSsWMugLc9Vjv6SgC8BWp6/3KT8TLqVyqC/b98+dazY448/rsrZDKTEXAZ0OZZEHi/PUQZ+Q/ma4fFyv3Ryf/bZZ5s8/nooK65UITtyVwIObjiF4zvite8b4B/qDhPT1o9oISIiai+yR1u2cclYLj1Q5LQPCc/SyVxuq1atUrfIyEgVrmXPthwXauhyblgl9/LyUpPd0pRVXh8YHiuBXcK2bAebO3eu2r4mY7NMrMv+7mHDhqnQLyFcStflY8sJLoZTUSSYy/OR1y7SnK211xvXSmFOKeIjM3B0axwOrj+FM8fTYetoDc9Ap+v+3Kht8Mgwoi5O/hdvqyPDbr/9dlVW7evrq9/bQMqxZQbbUEYmYVo6icuAJvfJoCGDoIRVWe2Wm6wUL1iwQDVHkYAsR4ZJl9JFixapEvXWVpHlyLBPP/0UDz74oGrUZiDPVWbA5WPLWZ6y0i0DsUwSSHCW8jOZCJDncOutt6Jfv376IxvI4C77z3788Ud1/Ihh77Y8Xl5EyPdTHn/HHXe0+Pj2Jp+/pLACqVrQTjmVjfSEfORnFiM/qwQlBeVwdLfF+Pn9MOLmcO03vP4gIiKia0gm+zdt2qQmpiXwSsg9fvy4Os1EtphJuJZALa8VZDVcbi1tS5PXEHJqiKxyy2sZGZflY8rj5IjPnj17qgWFhIQEFcjlFBOZkJfPKQ1WpWpNbjJeSxNXw+sKeV0jH1Nee0ybNk1du5Zqa+uQn1GM5NM5ajzPSi5Q43iBdpPJ9JD+3ph4RwR6DDj/9RZ1TgzdRDcAQyMTCaATJky46HmZjcmvCAmvUpItA5zsuWptpVzCtaxqy0AmM9BSwi2hVVa0ZXDt06ePKh2T+ySgS4iVjyerzkLKzWRAlj1d8n6tze7K+Z+G/eNSUtacDLqyEi4r7xLC5fMYBng5rkxm1WVVu7WPL89bytOlc6o8Xla55cWAPF4mL+TxMvFwrWafa6pr1Sx48qksLWjnICMxH4XZ2uCsXSsrqkBdbcOv8d6jgjDpzggEhHroV4iIiK4/eT0hlW4SnCUQy6khspp9KWOpvA6RsV3+lK1s8ljDmdtCPrZUp0nVnEyUG1a0O5Kq8mpkpxZqY3k2UrSwnaP9vUAby2V8ryyrVl+Don07JizojzG39IWDi039Ner0GLqJqM3JzLQMrBLCJaDLSnPz871lYJQZZgmzLc1utwVZnZbBXUrO5fPLQHypA7wwPF6+DhnAbWxs1GB/LcJ2VUW1GpCTYrKRGiuz4IVqYC7KLUV5Scv7tc3MTTDutn6YcHsELK3b53tKREREl0b2Z2ck5KtJ87S4XOSmFaFQG8eL8spQXVGjv1dTjm42uOmhoRg4sTuMTdh+q6tg6CYi6iDKSyqRnpCHpJNZWtDOUYNzUW4ZigvK1Qz5xXgGOWPyXQMwYHx3lpYTERFdBzJBLmO4jOUypssWMBnLSwsrVOXaxfQeGahKywN7eepXqCtg6CYiuo7KiiuQGJ2JhBPa4HwmV+3pKs7TBucibXCuuryjTwZN6YHxt/WHd/Cl79knIiKiKydRSsrEpRFaYnQWspLy1fYvGcsrSqrU/u1LZgTMeGgohs3oBVuH+tNVqGtgzQIR0XVUW1OHQ5tisXd1NKJ2J6rmaDJLfrmB28zCFD7dXODqfX5neSIiImonZ+tPEtm1Igr718Yg5mAKMuLz1Mr2ZQVujbOnHTwDnWFtd+m9d6hzYOgmIrqOrO0sMWRaKNx8HWBieuW/kuVYEXc/J5hbNjSWISIiovZlZGwEFy97DLspDDYOFle1uyso3FMFb2PtY1LXwtBNRHQdSdAO7u2lmqZ0H+CjheamDecuVUCYB1y14E5ERETXljQv7TMqGDc/PEz1V7mSBmjSpDW4jxec3O30K9SVMHQTEV1nErz9Q90x7f7BCB8RCAvry1utNrcyhV8PN22gttWvEBER0bVkYWWGsGEBak92QJj7ZVevufk5wCPACZY2rFjrihi6iYg6ABMTY/gEu2DyXQPRf1w3WF5G8PYNcYOrjwPMzK9slZyIiIiunrmFqapak0n0bv28LmvFu1s/bzi42lyTY0np2mPoJiLqIGRwtnW0hIWlGS7nXIngvl5w8uAqNxER0fUmE+C2TlYwVRPhlzaYS9DuEeELe2dr/Qp1NQzdREQdRHF+Gbb9eAzHdpxBVWWNfvXCZEU8INRdG6ht9CtERER0vcjZ3Bu/PYz44xmoq7200O0ZJM1QHWFmwdLyroqhm4ioAyjMLcW6rw5i75qTKMwuw9m6hoH6QqVmAb084ORhd1Wdz4mIiOjqpcblYOVHexC1OwHlJZX6VYPWx/LQQX6wcbTUxnv9AnU5fJVGRHSdFWSXqEH68KZYlORX4KxeWy7HkEiDtFFze6t9Xi3pPtAX9i4sRyMiIrqekmKysPTtHTh9KBWVZdX6VcDMwgQ9B/ti2IxQ1fi0ORnrQ4f4w8bOUr9CXRFDNxHRdZSXWYwf39qOyJ0JKCtuCNxyRmf3CB/M+MVQTL5zAGb/cgQcm3Unt7I1R1CYB2zsOVATERFdD1KZFh+VgUWvb0VCdBaqG20Pk2NAB0zsjpmPDsekOwaoZqnNTyjx7e4KV28HmJqZ6FeoK2LoJiK6DiRc56QV4rt/b8KpgymoKK061zxNArccHTb1vkEI6esNOydr9BoagNueGwtnz4bzO6XTqb2rzRWdB0pERERXp6a6FqePpOKbf21E+plc1GpvG8iq9rCbwzDh9gh4Bbqo8XvI1FDc/PBQWDQ6Fix8eICaRL9A9Tl1AXylRkR0jdXV1iEjIQ+f/3UdEqIyUVXRMCtubGKkZsUn3z0QAaEeMJGZb20glvM/Q/p74+4/TIKrj70qRwsb6s9VbiIiouugqqIa0fuS8O3Lm5CXXtykaZqsZo+b3w9jb+kLN28HNZku47adsxUiJnTHLU+OhqUWtOVa+IggLaCzgVpXZ3TWUMtIRETtTmbFU05n47v/bEZOSiHqGjVMk8A9/OZeGDmrNzz8HVtcwa6tqUN2SgGWvLMd858Zq0rSZNAmIiKia0OapEXuTsDyD3ajpKC8yclgEqan3DMQA7RwLUeANW+GKsmrsrwKZ46lYdeKE7jr95NgZWOu30tdFUM3EdE1Ivu84o6nY/EbW5GXXnJu/7Yw0QL3uNv6Y9hNYXDxql/Jbo08TgZ8SxsLNXtORERE10ZJYTmObInDz5/uQ1lx0w7lVnbmmPXocPQeGaQq0S50+ohMoleVV9eveLNteZfH0E1EdA1UagPryX1JWPb+ThRml57bvy3kuC/Zvz14Sk/VpZyDLxERUcdTlFuKfeti1Dnc0oulMWt7C8x/dgx6DvKDlbUF92hTEwzdRETtrFwbmI9ti8PqT/eiKK9pGZoE7tmPj0DE+BDYOFhpgVu/g4iIiDqM/Mxi7FwRhe1LjjfpxSLh2sbBQvVcCQ73Vh3LiZpj6CYiakdlRRVqVnzDN4dQWlihX61namaM254fhz4jg2DJ/VxEREQdUnZqIbYuPoq9P59ETVVDh3LZCubgao37X5wK3xBXmJjy2C9qGUM3EVE7keYqO36KxLYfj6G8pFEZmhFgaW2GO/9vIkIH+8PMnIM0ERFRR5SRmK8mzo9siVX7sA2k+am7nwPu+dMUeAU6c2sYXRBDN1EbKygoQGVlJezs7GBtba1fpRtNUV4ZNn1/GHtWR6OyrFq/qv3S1cZkexdr3PGbCegx0JeDNBFRB5SXl4fq6mo4ODjA0pJHM96oUuNy8POn+xG9N7HJaSOyNcy3pyvu/O0EuPs66VeJWsdzuona2OLFi/Hyyy/jwIED+hW60eRnlWDVJ3uxe+WJpoHb2Aju/o64+w+TVaMVBm4ioo7p66+/VmN5ZGSkfoVuJLIkmRidiWXv7MSJZoFbqtO6D/TB3b+bxMBNl4yhm6gNZWdnY9myZfjwww+xY8cOFBUV6ffQjUAG6Zy0Qix7bycObzrdpNGKlKH5h7rh9l+PR0g/b/0qERF1NJmZmVi4cKEay/fu3YuSkhL9HroRSBHwmeNpWPzmdnXM59lGgdvcyhS9RwVi/jNj4OrtoF8lujiGbqI2Ir+kZWY8KioK5eXlWLt2rQre3MFxY5B/56zkfPzwxjac2JOI6sqGRitShtY9wge3PDUGgeGe+lUiIupo5Hf5xx9/jPj4eDWW//TTT6pyjWP5jUFWtGMOpmDhq1uRejqnSeCWhqcDJ3XHrEdHwNnDXr9KdGkYuonaSHp6uiotT05OVm/v3r0bmzdvRn5+vnqbui4ZlNPO5OK7/2xC3JG0Jp1NpQyt98hAzHpsBPx6uOlXiYioI0pNTcW3336rVrvFli1bWLl2g6iprlWT5t/9exNyUgsaJlqM6s/gHj4zDNPuGwxHN9v660SXgaGbqA3U1dWpmfEzZ86gtrY+cEkDFhms169fzxnyLqyutg7Jp7Px1T82IDkmu0lnUzmrc8DE7pj+wBB4B7voV4mIqCOSsfztt99Wk+jydyFjuVSubd++nWN5FyX/rNJ/5diOeHzzz40oyi1T14S0XrFztMK4+X0x4bYI2Dvb1N9BdJkYuonaQFJSktr/lZWVpV+pd+TIEaxbt07t9aaup7qyBmci0/HZX9YgK6lAC+ANL8ikDG34zb0w6a4B8PBnoxUioo5MQnZCQoLaJiankDQm+7o3bdqE3Nxc/Qp1FTKRUlZUgYObTuPbf21CRVnD8Z7S7NTe1QaT7xmAEbN6w1YL30RXiqGb6CrJyvY777yDtLS0czPjBjU1NWqwXrFixXn3UeclM+AyMMccTMbnf12HguzSJvu+pAxtzC19MPbWfmy0QkTUCcj+7VdeeUVtCWu+oi2r3du2bVOVaxzLuw4Ztwtzy7B3zUkseWs7amsatobJaSNOnra46aEhGDS5J2zseGwcXR2GbqKrIINvXFwcvv/+exQWFupXmzp58iRWr16tytWo81Oz4sUViNwZj+/+sxmlBRXaRf1OjZShTbpzAEbO7A0nd+77IiLq6CRUx8TE4KuvvkJFhfY7vQVHjx5Voduw15s6N6lMy80oVkd7rv5kb5OtYRK4XX3sMfvxEeg3uhusbCz0e4iuHEM30VWorKzEq6++qkrOWtvrJSvhMlgvWrTo3H5v6pxkVrw4v1wdB7bknR0oK6rU79EYAQ6u1pj2wGAMmRoKexdr/Q4iIuqoZOzOy8vDm2++qVa7WxvLWbnWddTW1qnTRnYsO46N3xxqEriNtcDtEeCIW54ejbDB/rCwMtPvIbo6DN1EV0FC9L59++Dn54eQkBB1s7Gpb7Lh6up67pqpqak6Sqy4uFjdR52PHCNSkF2CfWtOYtWn+1Be3HjfF9Sq9sxHRyBifHfYOLAMjYioM5BxXPqxHDp0CMHBwefGbUvL+t/jHh4e565J2I6OjuZY3olJwJbTRrYuPobtSyNVADeQ4z29Q1yw4Nfj0K2PN8wsTPV7iK6e0dnWpvSI6KLkf5/mpWb33nuvKkH729/+hocffli/CpiZmcHOzg7m5ub6FeospEN5bnox9q6Jxo5lkarLqYE0WnHxtsPsx0eixwAfmFtyVpyIqLOQcVxWuJsfCTZz5kx1Prd0M7/11lv1q1BjuIzlMqZT5yJHgiWfysb2JcdxdNsZNbYbmFmYwLeHK+Y/OxYefk4wNuG6JLUt/kQRXQUJXJ6enk1uFhb1e39kUG583cXFhYG7E5JZ8MzkAmxbcgw7ljYN3DIr7hnoiNueG4fQwX4M3EREnYyM49bW1k3Ga7kZxmsHB4cm152dnRm4OyF12sjxdGz49hCObo1rCNxGgIW1GUL6e+PO/5sIzwBnBm5qF/ypIiJqhaEMbfPCw6qsvLK8IXCbmZvAr6cbbnt+PLr184apmYl+DxEREXUUVRU1OHU4Feu/PoTovUlqu5iQrWHWdhYIG+aPW58ZA1cvBzUJQ9QeGLqJiFqgytBisrDh64M4siVODdoG0lhFgva8J0cjsJeHarxCREREHYtMlp/Ym4h1Xx5A3LG0c8d7SriWc7f7jgnG7EdHwNnDXl0nai8M3UREzdRU1SI+KgNrvtivDdZJqK5s6DpvZWuO0CF+mPnocPj1cNOvEhERUUdSUVqF4zvisfaLA0iOyW4I3MZG6rSRgZO7Y9p9g+HoxuM9qf0xdBMRNSL7vk4dTlHndsYeTVMBXDECbB0s0Xd0MKbfPwTewS7114mIiKhDKSuuxKHNsfj5s33ITMw/dxScVKY5e9ph6IwwTFgQAQeX+hNniNobQzcRkU5KyKP3JWHVx3vVrHhtdX2jFdniZe9sjQETu2PinQPgEeCkrhMREVHHIeG6tLAC+9fGYI0WuPMzixsCt4kR3PwcMHJ2OEbP7g07J2t1nehaYOgmItLGY9n3dXznGaz4325kJOSpJmpCArejuy2GTgvF2Fv7wc3HQV0nIiKijkMapBXmlGLXyhNY8/l+FOeXa4G7/j4J3J5BzhhzS181nts4WNXfQXSNMHQT0Q1NzYoXV+Dw5lgs/2C3Oo+7rlbf96UFbhdve4yYGY4Rs8JVSRoRERF1LHK8Z256EXb+FIW1WuCuKKvS76k/3tO3hxsmLOiPAeO7w9rOUr+H6Nph6CaiG5bMihflleHA+hgtcO9Csfb3hs6mgIe/E8bM64sh00LZaIWIiKgDktNGMpPysX3pcWxaeEQFcAMJ3AHhHph01wD0HhEES5v689eJrjWGbiK6IdVpg7Ls9dr7czTWfH4A5SVV58rQ5CgR724uGC+z4hO6q/3cRERE1LFUV9UiNS4X2348rla5ZWw3MDEzRkh/b0y9ZyB6DvRTx30SXS8M3UR0w5H92tmphdi1Mgqbvj+ijhUxkMDtH+qGSXcORJ9RQbBxYBkaERFRRyPNTxOjM7F18THsX3OySeA2NTdB6GA/TLt/MIJ7e8PcwlS/h+j6YOgmohuKlKGlJ+Rhx7JIdassq9bv0QK3sRGC+3hiyr2DEDbUH1a2Fvo9RERE1FHI2B13LE0L3EdxdEus2i5mYKYF7t4jA3DTg0Pg18NdBXCi642hm4huGHLmdsqpbGxfcgz71pxEVXmNfo/2y1AL3D0G+GDaA0PQvb8Py9CIiIg6oPLSKsQcTMaWH47ixO7Ec4FberHInu3+47thxkPD4BngrPZ0E3UE/EkkohtCdWUN4qPSsfXHY6pTuZSlGciseNgwf9z00FAEhXvCjGVoREREHU5ZcSWidieowH36cGqjwG2ktoMNmtwdMx4eBhcvexibMOZQx8GfRiLq8iRgy+Asg3TkrgQtgNfq9wCW1mZq7/bN2iDt292Ns+JEREQdUElhBY5sjVN7uBOiMhtOGzE2goObNYZOD8XkewbBwcVGhXCijoSvLomoS6ssr8aJvYnYvOgITh1MVSXmijYey6x4xIQQTL1/MDwDnVWJOREREXUscqTngfWnsO3HY0g9nYOz+nEjxiZGcPG2w4ibe2Hc/P6wd+JpI9QxMXQTUZdVUVaFY9vPYIsWuOMjM1QTNSET4A4u1hg8pQcm3j4A7r6O6joRERF1LIU5pdizOho7lh5HVlJBk8Dt4e+EUbN7Y+Ss3rB1tFLXiToihm4i6pLKSypxcONpVVKefCpHHRMmJHA7e9ph6PQwjJnXFy7e9uo6ERERdSz5WSXYvixSncGdl1F0LnDLVjCf7q4YPa8PhkwNhbU9j/ekjo2hm4i6HGm0sufnaGzVAndGQt65szslcLv7OWL4zeEYMTMcTh526joRERF1HBKuc9OL1Naw3StPoDCvVLtWf5+JmTECenlg7Ly+iBgXwuM9qVNg6CaiLkMG5NLCCmxfdlzt+8pJK9ICd/0oLU1VvLu5YOTs3hgytSccXG3UdSIiIuo4ZKI8M6kA678+hL2rT6KsqEIb4OvvMzUzQUh/b4y7tS96jwxSR4QRdQYM3UTUJUgX06LcUmxadBjblxxHYXZZk86m/mHuGD23LyImdIedMxutEBERdTTSeyU1LhfrvjqIA+tiUFVRrd+jBW453nOonxa4+6HnIH9YWJnp9xB1fAzdRNTpyax4TnoRNnx3SO37Ki2qOLfvSwJ3t75eGHtLX3U0mK0D930RERF1NFWVNUiMzsT6rw/i6JZY1Opbw4SZhQn6jg5SgbtbX2+YW5rq9xB1DgzdRNSpSYO0jMR8bPz2EPb9fBKVZdXnytDkCLDQQX4YN78fwob4w9qO+76IiIg6Ghm7446mYcM3hxC1KwF1eqWaMNMC9sCJ3VXg9g/z0AI4Azd1PgzdRNRpyZnbyaezsUEL3Ic2nUZVRY1+T33g7j0yEONu64eQ/j7c90VERNQByWkjJw8kY+N3hxFzMKVJ4Da3MsXwm8IwVgvc3t1c1Z5uos6IoZuIOqXqyhrER6Vrg/QhHN8Rr71dfwa3kLM7IyaEYPxt/REU7sl9X0RERB2QbAeL3JWgupSfOZ5+rheLsLA2w5i5fdSxYHLyiBwTRtRZ8aeXiDqdyvJqnDqUgo3fH8bJvclqxdtAAvfQ6aEYv6A/fHu4sQyNiIioAyrOL8fhzbHYuvgYkqKzGpqfGhnBxsECE++IwKg5feDsaa+N7Yws1LnxJ5iIOpWKsiqc2JOIzQuPIPZImup0amCuBezRc/tg3G394RnozDI0IiKiDqgwpxT718Vgx7JIpMXlNml+6uBmjcl3D8TImeGwd7FW28WIOjuGbiLqNGTf15Gtcdjyw1EknMhEbbXe2VQbj63tLTD21r6q0YqbtwNMOCtORETU4eRnlWD3yhPYvSIKWUkF5wK3VKq5+thjiha4h0wL08Z1S7XqTdQV8FUpEXUKZcWValZczuBOOZ2jupYLGY8dXKxVh/JRc/vA0d1WzZQTVVZWIiYmBqdPn0ZJSYl+9dpJSUnBqVOnUFBQoF8hIrqx5aYXYduSY9j780n1d0Pglv3aXkHOKnBHTOgOKzY/pS6GoZuIOrzSwgrsXB6p3aKQkZCnzuUWErhdvO0xfkEEhs/oBXtna3WdSGRlZeH111/H22+/rYL3tVRbW4sffvgBr732Go4cOaJfJSK6cWWlFKheLAfXn0JBTokWuOuvS+D2D3VXJeV9RgXD0pqBm7oehm4i6tCk0cqWH45gz6po5KQUaoG7odGK7NueoAXuQZN7wNbRSl0nMigvL8fhw4dx7NgxFBYW6lfr1dXVqVXoV155Bdu3b9evth1ZvYmNjVWfPycnR79KRHRjykjMx9ovDuDoljg1rkMP3NJ7JaS/NybdOQBhQwJ42gh1WQzdRNRhFeWWYf3XB7BvXYzaA2Y4u1PKx/1D3TDh9gj0H9cNNvaW6jrRpZLQnZCQgE8//RQHDhzQrxIRUVuSCcjUuFys/GgPonYlqK1iBqbmJggb6q+6lHeP8IG5JU8boa6LoZuIOhwpOZPSs5Wf7MGhTbEozi1vOEpEC9zd+nqpkvLeIwJhZWuhrhNdDnkhWFVVhdzcXJSVlelXiYiorUjvlaSYLCx7dydOHUhWx30amFmYoN+YYHW8Z1C4F4/3pC6PoZuIOhRZzZbmKkvf2YHj2+NRVlShApKQY0PChvhhgjZIhw72gyUbrdA1IivjRUVFSExMVPvDZb94TU2Nfi8RETVWXVmDM8fTsfTtnerP6qpGx3tammLwlJ7qtBG/Hm5qxZuoq2PoJqIOQ2bFpVHaj29tQ/TeJFSUVqlVbyGBu+/oYIy/rT+69fPhvi+6IjKBs3HjRtxzzz1qP7cE6UWLFuHOO+9UN9nn3ThMS+fxVatW4cknn8ScOXNw++234+6778b8+fNx11134ZNPPkFpaem5iaELSU5OVo3dnn76afX3C8nOzsZnn32G3//+99i9e7d+lYio45MV7ZiDKfjp/V1IOpl1rvmpsLAyxchZ4Rg9tw+8gl3Unm6iGwFDNxF1CDVVtaoMbck7O3D6UCqqKxtmxeXszkFTeqhjwQJ6eXLfF10VKysreHh4wNHREcbGxrC1tVVvy83c3PzcubD5+fl499138de//hXR0dHo378/FixYoML2iBEjkJeXh3/+85/4y1/+ooL3xcjHlq7mS5YswcqVK/WrLZPmb9L9/OTJk3B2dtavEhF1bGUllYjclaD2cKfF5TaZkLSwMVPl5CNmhsPdz1F1LSe6UfCnnYiuu6rKGsQdS8PyD3YhITLj3BncQgK3zIqPuaUvfLq7woxlaHQVJFD369cPzz33HObNmwdra2uMGjUKv/71r9XN29tbBXGxcOFCLF68GL1798aLL76IF154AQ888ADuv/9+PPPMMyqM+/j4qGZsR48eVXvEL8TFxQVDhw6Fqamp+thSst4SCeaHDh1CfHw8evXqhaCgIP0eIqKOq6SgHEe2xGHN5/uRlVTQJHBb2pph2n2DMXRaGJy97LWxnRGEbiz8iSei60rK0E7uS1Kz4kkns5sEbhMtcMus+Kg5feAZ4MwyNGoTNjY2KlxLCJaAbW9vr8Kz3Awr3dXV1eooMTMzM0ydOhXDhw+Hl5cXHBwc1PvLqnifPn1USbqUoMtZ3BUVFfWfoBUStv39/TFx4kS1cr5nzx4VsJuTEnf5ePI5ZEVdnhMRUUcmp43sX3cKG745hNy0wiaB28rOHLMfG4GBE3vAwdVGbRcjutEwdBPRdSN7to9tP4OfP9+HtDO5TfZ9SdnZ1PsHY+TMcLh6O7AMja4pWbWWPdy//e1vMXLkSBW+m7OwsFCr4CIpKUkF9Ytxd3fH3LlzVcf0b7/9tsXH7N27FydOnEB4eLhaGSci6sjkSM9dK09g6+Kj2t+LtcBdf10mMO2crXDbs2PRb0w32DpaqhNIiG5EfBVLRNeFnNV5YH0M1n99EFmJBVrgbpgVlz3bsx4bjmE3hcHRzVaVmF9rMksvK5fSpVo6Vp85c0aV+6ampqKkRM4Mb7k0mLoG2fd90003Yfr06WqF20B+LiQwx8bGYvXq1XjjjTfUtUsJ3EI+blhYGCIiItTebtkX3vhnqbi4GPv27VN/HzhwIPdzE1GHJqeNbFtyDDt/ikRhbqn2S7L+uqxmO3vZ4vZfj0OvYYGwsrE41y+D6EbE0E1E11xpYQV2rYjC5kVHkZNWpI4JEzIey0z43CdGYfDUUO3vVtdlVry8vFwF7fXr16tGWbKPVxpoSedq2csrDa4khFdWVuqPoK5Gys6lDF1WvKXM/OWXX8a9996LcePGYciQIZg2bZr6WYiMjNQfcWnkRaeUtUv3c+lQvmbNGvXzZiCB27DKPXjwYL5IJaIOKyu5ABu/O4x9P8eo/dznAreJMTyDnHDbc+PQY6BfffNT/iqjGxxDNxFdU8X5ZdjywxHsWBaJ/MwSnG0UuJ087DDnV6MwYEJ3WNk0dJG+VmTFUlYe165diz//+c+qsdaPP/6IjIwMFbBl1VuOm3rppZdUGJcO05e6wkmdj/wcPPzww3jooYfUz4EcJSarz9K9/I9//CO++eYbfPDBB5f9c2pnZ4cZM2ao7ulSYi6VEwZbtmxBZmYmBgwYgJ49e+pXiYg6lvSEPKz5Yj8Ob45FWXFDPwsTM2MEhLnhlqfGoFtfb/ZiIdIxdBPRNSOlZ+u+OoA9P59UTVcMjVYktHgEOGH24yPQd1TQdTkSTEp809PTVSdqORv5p59+UuXl0kTrtddew1dffaX290ppsIRwObtZQpeUm7PUvOuRs7FfffVVVUYuZ3TLv7WUkv/pT3/CE088oSofZCVamq9dLllFd3V1xS233KJWtqVxmkzqJCQk4PDhw6rZmnRYZwM1IuqIUmJzsPJ/exC1K1H1ZjEwNTdB9wgfzPnlKC14e7AXC1Ej/L+BiK6JguwSNUgf2hiL0oLyhsBtbAT/UDfMemwEeg0LgJnFtQ/csoKZnJysVi0lWJ0+fVo1vJKy8meffVZ1m5aGWVJSLM21fH19kZOTo459ktJjWak0fD3UNcgqt5yRLd3J77vvPnTv3l39TDg5OamVatmbLf/msg3hSshRZfLzJRM2MsEjZ4JLFYVsW5DmaX379tXfk4io40g8mYWlb+/A6UMpqKpoqPQyszBB+IgAzPzFMPh2d2XgJmqG/0cQUbvLyyjG4je34fjOeJSVVGphpf66NFrp3t8bN2uDdI8BvtelDE3Kw6XztATud999F2lpaSpcySqk7OEODQ1VK44mJiYqbMsRTvKnhCUpRf/yyy9V8Grp6CfqvGQSRlak/fz8VBl4SyXk0lBt27Zt+luXR44P69+/PwYNGoSVK1eq6gnpISAd0eW67PsmIuooZNw+E5mORa9tQWJ0JqqrGsY8qU6TbWHT7x8CzyAXnsFN1AL+X0FE7SonrRDf/nsjTh1MRWVZdZPOpr2GB2D6g0MQ1MfrusyKG1a4P/vsM7z11ltqtdHW1lbtt5V9uyEhISpsG0hQkuZacpO/S5OtnTt3qrJ0+VjUeUiIlpusVrf0bycl3nKf/HwUFhbqVxtIl/F169apnxvDx7jcagc5hkx+zmTyRios5KgwadImEz0S+ImIOoLamjqcPpKCb/65ERnxeeptAwtrMwy/uRcm3zUA7r6OamwnovNxVCeidiEdyTOT8vHZX9Yi4UQmqisbgo0cARYxIQRT7xsM/1APLdhe+19FhpXqDRs24MMPP1SrlhKapKx35syZCAgIUMG6OVn1lmOcLC0t1duyUl5UVKT+vNzQRdeP/NvKBIv8HMj+bdlPLRUPErDl2uzZsxEcHIz33ntPNc3bs2ePep8jR46o6ob7778ff/3rX/Hcc8+p8C4fQyZgZMX6UidgJFjfeuut6udJtipIN/NRo0ahW7du+nsQEV1fVRU1OLE3EV/+db1qfmo4bURY2phj3Px+6ubsZc8zuIkugKGbiNpcbU0tkk9l4X+/W1U/K17dMCsugXv4DJkVHwifYJfrNisuTdKio6PVflrZny0k/AwfPlx1jpZ9uy2RgCVhqXG5sTTBkqBGnYs0QZOqhk2bNqFPnz7qmK6tW7eqnw2ZfPn73/+u9ld//vnnmDRpknqf0aNH43e/+50qA//uu+9UkzUJ6FFRUbjjjjvUJI5M4FwqKV2X88Blj7dsXejRo4f62ERE11t5aRWObj+D717ehNKiiiYTy1a25ph67yCMnBUOB1fbJmMiEZ2PoZuI2pSsaMcdS8fnL65Ve7llVtyxJgU+VcdgY1SA8fP7YvyC/nD3d7xus+KGVW5ZvZSGWYYXEhK0JIRJ+G7tBYSsYkqo4lFhHZ9sD5A913IWtoTl5mRFWfbyy1nb//vf/7BixQqMHz9eNUmTiRUJwRK4d+zYgUWLFqkO9vLx5BxtuS4/L9JY7fvvv1el4QcPHsS8efPUhI2spP/3v/9V7z937lz9M55Pfs7c3NxUqfn06dPV6joR0fVWWliBgxtO4cc3tqnw3Zi1vYU6bWTItJ6wc7TWfo/pdxBRqxi6iajNVJZXI3pfEr7+5wYUZJWe278dUHkI4RUbMa78K/jGfoOziUdRW15ef+d1UK59blnl3rx587kGaBKyZOVTVhoNpePNSVgvLS1Fbm6uWg2ljk3+TeXfUm6N9+YbSOCVFWbpTC5HgI0dO1YFZsOEizxeArjcL53rZ82apZqcOTg4qG0GhveTlWnpbi97seXjGa7L+7T2uQ3k50+qLeRjyqq6BHAioutJjvTcvToay9/frcb1xmwcLHHbc2PRf2w3WNtpYyUDN9ElYegmojYhZ3Ue3RqHRa9vQXFeQ6C2qi2AS20SzM5Waqm8FDkbV+HYMw/g6HMPI3PjmusSviU4Hz9+XIVuIeFKwk7Pnj2bhKbmpIy8oKBAhfbGZFVTPgZ1TvLvLf9+rf27G+6/2Pu0dl9rpMJCOpfHx8dj/vz5qo8AEdH1lJ9VjG1Lj2PNZ/tRXdW0P4WtkyXu/eNk9BoaAAtrc/0qEV0KvkokoqtWVlSBvWtPYtn7O1FaqIVrnRHOIqDmKMzQeKb8LOqqq5G/fyei/vAkDj9xLzI2rFbXrgUpD5c93NKVWrqPC1mJDAsLw9SpU8+dv9zSTRqmSbMt+bMxQzfzyw1ddOORbQlZWVnq50jK2Z955hm1yn3bbbfB29tbfy8iomsvO7UQm74/gs0Lj6jeLAayFczBzQa/+OcMdOvnDTOL85uMEtGFMXQT0VUpzi/D9mWRala8vLhh35fkT3PzOgQZn4Jpk9DdoK66CgVH9iH6r7/Gsd88jsLo4zhb177nXcsqdUxMDPbt26dfqV9xlFVsuS6NsGQPcEs3CUlylrIcESYkZEs5snTBvlAJMZGBbE1455131N5tOQtefh7ff/99VcLOSRsiuh60IRDpCXlY9+UB7FpxAnW1DY1B5ThPjwBHPP6fmfDr7nZdjvck6gqMtBebDa0IieiqyXFTUjIq5+4+/fTT+tWuR35zFOaUYOvio9i9Krr+DG6dzIrbO5hh9lRLFHz9L9RVlOGsvnf6QswcHOE95w4EPfgETG2s5QPp97QdWeWWI59efPFFddayMIRn2dMtK92thZ+SkhKkpaWde5zs2ZVmW/JvLZ2vWzpijKgxmdw5ffo0du3apTqXjxkzRm1t4KQNUccycuRI9f+pjBf33HOPfrXrkRiQcjoH6746iBO7E5ocCWZqbgK/nm6444XxcPN11K8S0ZXgdBURXTYZpPMyirBWnxVvHLjlSDAPf0fc8+fpiPjFnej/5ifwmD4X5q7uMDYzl4Srv+f5qgsLkPTNRzj42J0oOnkCdVpAUem+jRhWtGVftiE4CwnZcv3MmTPq6CfpZt34Jk3X5Cb3S/A2kNA9YcIEeHh4dM093dq3vramTt3ONnohRlfO0HTtkUceUSXlnp6eDNxEdF1IwE44kYkVH+4+L3CbW5qixwAf3PXbiQzcRG2AK91Ebayrr3RL+MpOLcDPn+1H1O5EdUSYgZSdyay4HCUS2MtTv1qvLC0Z6csXI2vDKpRrfz9bXaV9rNbPtja1sUO3Z/8Ij/FTYe6gDfhtUHor+7mlhFzKed999111TYKz7OeWRlbSabqlVW4J1FJSLkdHHTly5Nw5zHJc1Keffqo6W0uY6mrlweUlVTixNxEV5VXw9HOEq4+jeiFmbCJNxYzUBIuRNBiTr7trfelEdIPr6ivdUkIux3uu/GgPkk9lN5lYtbQxQ9hQf8z8xXA4edjpV4noajB0E7Wxrhy6ZRY8IyEPK/63G7FH0lBT1VAybmZugm79vXHTg0Ph16P1Y48qMlKR/vMyZK5bgbLEeNRVtb6abWRigoAHn4TPLC0Qe3ppAe/qVgTlmC85T/ntt9/Gjz/+qK7Jfmw5CuqTTz65YHCWwP3666/j559/Vh9HSsllH648bsiQIV1ytbKsuAK7V53Ayv/tVW9L2Hb2tIW7vxPctRAuZ627+znByd0WFlZm2vdAC+BaEFehXA/mRESdUVcO3VK9FHMwGcs/2I2spAJVBSZk+LOyNUfvQW4YP7s73LoHwkSO0OxiE8pE1wPLy4noksiseMrpbPzwxlacPpzaJHDL6mf48EDMfGT4BQO3sPT0QdADv0Lvf7wN39vu1d72hrGZmX5vU7IPPOGjNxD/2XsojY+7pH3hFyLdyhMSEnDq1Cn1tgRsWd12cXG5YOCW0vO8vDxkZ2efO59bwrp0O/f19e2apeUaCdLSqVaCtJCfgZzUIpzYnYgti45i0atb8c7Ty/CfBxeqP7/9zyas+/oADm06jaToDBRkl6KkoBzlJZXqrNea6tom5YtERHRtye/hyF0J+OG/25oFbiPYOlph4AgPhFudROzvH0b8J++gLCUJtfq4R0RXjqGbiC5KZsUTojPx/SubtTCVjdrqhrJwSxtzREwIwbQHBsM72EW/enG2wd0R8qsXEPbnV+A8bCxMbWz1e86XtuQbJC/8AiXxsVcVvGu1xxrCs5DVasP53BcqDZf3j42NVZ2nhbyvNMEaO3as2s99ocd2ZiamJnD1clAr2hf6GiVQZyTm4/j2eGz89gi++/dmvPnUMvzrvm/x/m9WYOHrW7Hx+8M4sjUOKaeyUZxXpn6miIjo2pBsXVFWpX4PL3ptCwqyS5oEbgdXa4yaFYa+QWUo3bMOFekpSPzyfRx64h6kLP0OVbk5qKu5Nkd7EnVFDN1E1DptPJY923HH0/DNvzYiMyG/yVEi1nYWGDo9FJPuGAAPfyf96qWTxmouQ0Yi9Hd/h/+9j8Hc1aPVMra0Zd8jdcm3KEtJbLUc/XLJfu6goCDVgbw18qJEGqjt3r1bne0tZJW7X79+6tgn+RhdmamZCUKH+KuO9JdF+yeqqqhBWmwujm6Jw/qvDuKbf27Ee88vx/pvDiInrVB/RyIiak8yjpUWluPghtNY+MoWlBXLtq76++R3u5OnLSbcHoF+fS1ReWIvSuNPq/tkkrtCG3Nj3/g7Dj//MPL27UJVfu5VV50R3YgYuomoRTJIy6x49P4kfPm39cjPKGlSGixlaKPm9MbYW/rC1cdBv3plLD284H/HA+j525dg4x+smnM1d7a2BunLFyFj1RJU5tWvOF8t2Ydtb2+vSsRbU1paisTERFWWLp3LpZRcOk7ffPPNCAgI0N+r65IjY8IG+2vfq6tfzZdJmmEzQjFqbp8rmqQhIqLLI+N2YU4p9q45iaXv7FDl5QbSd8PVxx5T7x2EiNH+KD+2Gzk7Nuv3NjhbU4Pi44dx7LmHEffBf1F86gRqy8vkhYL+HkR0MQzdRHQeCdxlRZU4tjMeC1/dgtKCCnVN0bKXg4s1xi/ojxGzwtuss6mUl7uNnoCwl16Dbfcw1UStORnkM9auQNbG1W26x6y10um6ujp1VJg0UTOscktIHzBgAAYOHKj+3pVJN1spA3fW/o3NrUxbK0K4OO1x9trPzIQ7+ms/NxFw5/EzRETtTirT8tKLsGvlCfz86b4m23rU8Z4BTrj54WHoN7ob6rKTUXw6GrVlpfp7nK+uugqpi79C1F+eU2NxRWY6S86JLhFDNxE1IUGrKK8MhzafxrJ3d6jwbSChSzpVT753EIZM7amFbxv9nrYh5eYOoX3Q68VXYdutJ4xMTfV7GpSnJGihew0KDu+/7Fl2CddSDi5N04RMJMg+b2mw1hLZ/33w4EF1y8nJUY+V/d9z5sxRncu72l5u+X7IdgJpfpabVoSkmCzVFG3Dt4e0F29XtqIhpYuuXva4+ZFhGHFzeJv/zBAR0fkkYGcmFWD7T5HY9O3h8wK3dzcXdbynbB+ysDaDdWAwPCbPhOvoibBw84BRKw1ORWncKcS88mfEffQmCo8fuWBQJ6J6DN1EdI6UoeVnFWP/2pNY/ck+lBc3hFHJly7e9rjpoaEYMD5ElZe3BwnatiGh6Pn7f8LKLwhGJucH76LIw8jeshbVhQX6lUtj2MMtwVnIud2ZmZmIiopSbzcmZ3Fv374dy5YtU2d7S1m5nOe9YMECjBkzRu3r7gqk1LC0sAK56UXqrNZjO+Kx/ptD+OqfG/D+r5dj0Wtbsffnk+rM7suc44CJmTG8gp1x67Nj0H9MN1jZ1k92EBFR+5Hf66lxudj24zHsWBqJ2ka9WExMjeEf6o5bnhyNbn29YW5RP8aaWlnDfewk1WMl5Onfw2nAMJg5OtcP/i2oq6hA+rLvcfrNfyBj/UpU5shZ32yQSdQahm4iUuqPgypUZWgbvj2MitKmgVs6WM96bAT6jAxq9/Ake7od+0TA/+5fwMJDzudu+quqtqIMBUf3I3v7xsta7ZYV7pCQEPTu3Vt1LpejwE6ePIlVq1apo8AMJfTFxcXYvHkzvv76a+zfv1+thPfo0QOzZ8/GtGnTVMfyzkr+naWJTl5GsfaiLAcn9iRi649H8cN/t+LjP6zG1//YoF6oJZ7IRGV5jf6oyyM/L7JyEtLPG3f+30R07+8DM/2FHRERtZ/qqloknczClh+OYN/aGPU738DMwgRBvT0x/9mx8Ovprnp2NGeuBW2vabPR60//VmOwTXAPmFi2PsledPww4t5/DQlffoDShDjUVbPcnKglJi9q9L8TURv47rvv1DnQEs6GDRumX+3Y6svQ8rFzeRT2rIxWR0AZmJgYwzPIGXN/NQrdI3zVmdzXil33MJQlxqM8JRF1lU33cNcUF6nzvZ2HjISxhaV+9cJktVpKwvPz89VebTkKTFa7paGadCKX1Wu5b926dfj444+xc+dOFcx79eqFW265BfPmzVPh2+wCZXcdjWwXkH/P4vxy5GcWI+1Mrha0k7QXYye1F2VHsW9NDGKPpKly8qoLhGwz7cWZvEBTzfQuMM8h5eQ2DpboNdQfc7SfGQ8/R3WNiKgz+fTTT1Uvj7lz56rTKjoDOTEiPjIdW384hsid8eean8pEqKW1GboP8MH8Z8aqvhrG2tjeKu0Bpnb2cAjvB8d+g1BTUozqooJWm6dJeXlp7ElUpKfCwt0T5k7OanwmogYM3URtrLOFbilDkyC2bclxHNp4Wg3aBhK0/MPcMe/J0QgK91THR11LssJt4emDoqijqMrJkvp3/R4Jk7Vqz5mltx9sArvpVy9OArOTk5Na6ZbgXVRUpIK2dCc3BO6vvvpKlZxbWlqq48TuuecezJo1C926devwR4TV78uuVfuy8zNLkJGYh1OHUtRRMduXRWL7kkjEHEhGZmK+qmaQUN4SKUG0sbeAg6sN3LQXaIG9PeHi7YCCrJIm3W8bkxdxju62GDAhBDc9OJT7t4mo0+psoVsmV08fTsWWRUdx6mBKo8BtBCs7C/QaFoDZj42As6e9unYppKGphZs7XIaPhamDE6ryctSEt5wm0tzZmmqUJyegNC4GZo5OsHT3grHeP6UrkLG1+a2r9XWh9mWk/dBcYM2CiC7XzJkzsXLlSrzxxht4+umn9asdU42UocVkYuuPxxC9N0mFNQMLKzME9/XSwtMQ+HZ3069eH3EfvoG0Zd+hMitDv1LP1N4RnlNnoedv/npeCfqFVFdXq2PAli5diu+//14dCyYl5NKNXAZR6Vru5uaGUaNGYfLkyWqlW+6TFfGOqLqqRu25LiuuQEl+OXLSipASm4OUU9nnwvXFSMhWzXTsLLWwbamFZxvVaEf+7X27u8LeyQbpCXn4/MW1yEop0F6B6A/UyYSMm58DBk3ugRGzesNS+/khIuqsRo4ciV27duHLL79UE68dmfyOj96XhK2Lj6kGmIbJVKkysnOyQu+RgZhy9yA1iXrFtLhQkhCHpC8+QO6+najK1T5PTQvVURLyffzhf9fD8Jg8A+ZOLvodnY+8FpDXBnKTLWjypyFwy+sBOzs7NTnf0SfjqWNg6CZqY50ldEtQO3M8Xc2Kxx5NUwHcQPZs9xzki8l3D4R38PUfMAujI3H69Zf0juWNGrVog7vjgKHo8/K7sHB21S9eGikrLywsRFJSEuLj49Wqt3Qyl7AtpeZydre7uzscHBw63IAqncTLSipRWlSOssJK5GYUIT0+Fymnc7Q/81CSV65eFFyITNBbWJvD2t5ChWx5MSbHx0jA9u7mChcvmWRoOpEhn/ejP6xC3JE0tW/QQLYc+GiPG3ZTGAZM6H7NKyKIiNpaZwnd5dpYIA0wt/5wFBkJ+ed+90vgdnSzQf9xIRg3vx/sna3V9atVU1qM1KXfI3PdCtXFvLaiXL+nEW2AkbDts+A++M65HRYubvWDTidSXl6OgoICHDt2TL1GkNNM5JoEcblJtZyfnx/69Omj+sRIACe6EIZuojbWGUJ3VWWNKjne9P1h1XCltloPstqYaOtghfDhAeocbg9/p/rr19lZLQyffPlPyFj7E2pLS/Sr9Wy69VCdVt1GjtevXB4ZPGXftgymQgZSabgmZeiyB7wjkDLByrIq1WW8pLAcxbllSDuTh5S4HKTF5qAwt7Th37A12r+tmbmp2m9tq91k9cPNz1EFbJ8QF7h5O6gQfjHrvjqg9v4Xac9BWNmaI7ivN4bP6IWwIf7qKBoios6uM4Tu0qIKHN4cq/pz5KUXnwvc8ntYJk5V5dHM8DY/bUQ+T86OTUhbthD5h/eippWTREysbeC74H74zb+n/hiyDjKmXoh8bTIhv3v3bhw6dEi9npNJeXmtYG1trV4XSLNVqZCTPjATJ05Ur/uk74uhWo6oJQzdRG2so4du2fcVvTcRG747hIz4/HNnd8o4Ye9ig35jgzFqTh+4+Tio6x1F8uJvkPzdJyhLiNOv1JOmLb7z70XQg7/Sr3R+8mtZ9tarkF1QrgXcUmSnFiJVC9ipZ3KRnST/bhf/1S0rzrKSLS+47LSbs5cdvIK1kN3NBV6BzrC0MVerIZcj9mgqfnxrh/azkwdbLbiHDfVXgTuwl/aCii82iKiL6MihW165ywTsgXUxKnAX55Wpa0J6a8hpI0Onh2LwlJ6qkqm9FMWc0IL398jeuq5++1cLkUJ6r/jd/qAK3pae3mqfeEdlOEZ08eLFWLhwIY4ePaquSz+XiIgIVQUnoVtCuPR/yc3NVW9LVdy///1v1WzVxsaGYyG1iI3UiNpYR26kVllWjWM7zmDtlweQlVSgyoWFjA9OHnbaAN0Do2b3gau3vbrekdRWVKDoxFFUpKfoV+oZGZvAwtUDbmMn6Vc6Jyn3lxdOOWn14Tr2cCqObT+jjnzZ8/NJRO1KQPqZPLVnu3GFfWOyL9vazgIuEq6DXNTRML1HBGLgpB4YcXMvDJzYAwGh7urfWo7wupIXBrLn++S+ZPUzEzE+RPt56Q2/Hm58kUFEXUpHbaQmlU8yEbt75QlsXnhUTc4ayBjg3c0Zo+b0xiDt9778vm5PFq5uqtpMOpVL6K4pLjw/eNfVoSjqCIxMTWHtHwRTG9sOt+ItE91S8Xb69Gn17/7yyy8jLi5OVb2NHj1aTbo89NBDmDNnDsaMGYPw8HC1Gi7hW3rElJWVITIyEkOHDoWnp6eqmCNqjqGbqI11xNAtA0p5cSUObY7F2i/2q67W5xqtaFnJ1dcBw2eEYej0MBXIOiTteRYc2ouy+Fj9gsFZmNk7wuumufrbnYO8cCopqEBuehHS4nIRdyxdC9bxqsv4Xi1kH912Bskx2SjMLm2y374J7Xsi5d1O7rbwDHRGYC9PdVRX//HdMXRaqCot7NbXW1UtWF5C6filkGPDSosr0D3CBwMmdtc+tqN+DxFR19ERQ3dtbR3yMorVFh/px1JV0eh4Ty1w+4e6Yewt/dB3VLDqzXItmNnZqxNETG3tUZmZjur83PODt/Z2cXQkjC2tYO0bUB+8O8hErbw+ktAsq9rvvfce3n//fbXdzMrKClOmTMETTzyBGTNmqDAtz1lurq6u8Pf3V/u9pSmrfAzZ8y3N1uTEE5aZU0s6/uYKIroqEu5kBXXvmpNY/cleFOaUNQncEtZGz+mDwVND4ehmq653RNKUxdTapv5JN1JXXY3qwnzta7rInubrTP4dyoorkZGYr451ObjhFLb9eAyrP92LH97Yih/f2o6ti4/j1KFUtV+6paO85EuXFWpnL3sEhnui7+hgtV9vyj0DMfeJkZj/7BhMvXcw+mnX3f0c262h2ZCpPbVA31ML+2wcQ0R0LchRjXIahZw2IudwNz660dTMWJ02MuH2CIQPD1Rbh64lc2dXeEydCf97HoFdaJ8WV7LrqiqR8v3nyFjzEyrlCNAOQgL3/v378frrr+OTTz5RK9diyJAh+NWvfqVWups3SZNALaH7jjvu0K/Uk0WXmJgY1eWcqDmGbqIurK62DvmZxdi96oRqgFVWVKlmZIUMGnIclHQ1lY7TbdXZtL2YWFhqN6vzB3Pt65EzQ+WM0I5Evs0VZVVqL3bcsTTV7Gb7suNY++V+LH13Bxa9tgUbvj2EqF2JyE0rbrURmgRnBzcbtYIRPiIIw2eGYeIdEZj16DAseH4cZjw0VAVg3xC3NlvNvhgrGwt2KCciukZk+5FsO5IjwXavOKHGdgOpPuox0BeT7hyg/emnjvu8HszsHOA2ZhIC7nsM9uH9zpsgFzUlRUhZ/BWyt6xHlayIX2cSuA8cOKB68Mg+bgPZo/3www9j0KBBqnlaS+Rkk5YqILZt26ZWvYmaY+gm6qKkQVp2SqEqQ9u86CgqShtCqTTPCuzlrmbF+4wKUh2tOwNpwCJ7uJuTVeG6DjCzLGXgMsmRcCIDR7fFqe/9+m8OYfmHu7Hk7e1Y89l+HNkcp/Zm17QSsqUJjjQo8wlxRa9hARh6U6jqJH+TFq7nPTkKcx4fqfZnB/X2Uvu3L7cRGhERdR5SQp5wIlM1TJPGaY0Dt5kWuGWckOM9g7Uxwdzi+u4lNrW1g8vwMfC/9zHY9gzXrzYlJeipS79F7t6dqCkt1a9ee7KiHRUVhbfffhs//fSTfhXqiNA777wTkyZNgqNj69un5JxuKUFv7ueff0Z2drb+FlEDhm6iLkjKzuTcZllZ3bk8UjVQM5CQFtLPG5PuGqiOeLpW+77awvkF1w0udF97MZTuJ5/KxvGd8di5IgobvjuMVR/vxdJ3dmD1J/uwf81JJEVnqSqD1si+bM9AJ/Qc5Ich03pi/Px+mHb/YMz+5QjMfnwExs7ri54D/dTebe4TIyK6MUi1VOzRNHUG97FtZ9SYYyBbjfqODcbUeweqZpay4t0RyH5tlyEjEXjf47AO6q5fbark1AlkrPoRhVFHVKXa9ZCWlqbC9vLly/Ur9RWAcu72I488ovZtX4kTJ06gpKTp0aZEgqGbqIuprqpVIXDbkmPYvzYGVeUNA5qxFrjDBvthyr2DEBLhAwvr61OGdiXO1tXibFVlCwO0EYxMTGFi2f6r9YZ92WlnchG1JxG7VkZh4/eH8fNn+/DTezux4sPd2LU8CrFH0tS+7MYrEgaSmeXFkquPg/Zv4I3BU3tirBay5d9k5qPDMPuxEWplW7qOu/s6qrO1iYjoxlJeUomT+5PVCveJvUnnAreMIZY2Zhg0ubvq4eEZ4AwT04613UdWvF1HjEXAPY/A3M2j/kk3k39gNzLX/ITS+KbHgF4L0qlc9nEvWbLk3B5uIavXjz32mNqvfaUdyKVkvbZWe72ib+UjMmDoJupCqitrEB+Zjq2Lj+LIljh11rOBNFrpPTIQU+8frM5Uvt5laJerplwbyCorzmuYZmRirAK3sWn7TCDISkNWcj5iDiRj78/R2KSF7DVf7MfKj/ZgxQe71R67aO0FUW568bkzz5uTFQhHd1sE9fFExITuGDe/r2p+JvuxZz8+ElPuGoiIcSHw6eZaf3Y2V7OJiG5YpUUVOL4rQY0vMonb0PzUSG0Hk5NGJHC7etmrLUkdkQRvj4k3wfe2e9Xqd/PgLY3VcnZuRtbmtagqyNevXhvx8fHYsGGDOvLLQM7b9vDwwKxZs1rdx91YnfZahA3T6HIwdBN1EbLv69ShFDUrHrU7UQvgDZ1NpbFKfy3UTX9gCHxDXDtlE6yqvFzUlJ2//8vIzAxmDm13bJWU5ssxXrFHUrFv7UlsWXQEa788iFWf7MUqLWhv/O4wjm+PR0Z8XpNJjcaMTYxg52ylmp/1GxuM0XP7YPLdA9T3/+ZfDFN/Dp7SUx3xZWPPfdlERFSvuKAcR7bEYvuPx5B4IrMhcGvjhIObNYbP7IWJdw6Ag6tNhx87TG1s4HfrPXCffLNqhtpcVU4WcrZtQN7eHaqa7VqQoLxnzx6sW7dOv1LP0tJSncMtDdIuZeJbjhWTI+WILhVDN1EXIHu2pdxZAvfpQ6kN5zpr44aEuoGTu6vyZY8A5w47K34xFRlpqCkq1N9qIB3NLTx99Lcun5TsFeWWquZnBzedxuaFR7Duq4P4+bP9am/2hm8P49DG0+rM7NKL7Mv27uaiqglGzdFC9l0D1b5sWc2WP0fcHI7u/X24L5uIiFpUqI1F0ixt+9JIpMbmnitRlolcV297jJzdG2Pn9YOd4/kNvDokbayTc7wD7n0M9n0GwLiF4F0SexJZm9eg5EysfqV9SVDeu3evWu1uTJqi3X///ZdcVp6fn69K1JuTRmyyas5xnppj6Cbq5CpKq3BkW5xqtBIfmXHu7E75fe/gbI0h00IxYUEE3Hxk9lbd1SmVpyajurBAf6uBibU1rHwC9LcuTlYNyooqkHI6W3UY3/qDrGQfwM+f71fnmMvf9605iTPH09W+7BZLxrXvo3SNdfNzQOgQP+2FULjqHjvtvkFqFXu6FrJHzemNsCEBcPN17HSl/EREdG0VZJdgz6po7PwpCllJBY0CtzE8Apwwam5vdXJFZzlt5BzthYeNfyD8734YVl6+aH4CiZSZFx49iOyNP6stZO1JvqdyRJiE7sYkaHt6eqJ3795qX/elyM3Nxfbt2/W3GkiJuoVF52lQS9cOQzdRJyaNVg6sj8G2H48h+VTOuYAo4drZ0w7DZvTC6Hl94eJlr653ZmUJsajKy9HfamBibQPrgED9rZbJvuyMxDxE7U7AtqXHseYLLWR/tl/d1mghe9eKEzh1IAV5F9mX7eRhq5qfDZsehin3aAFbC9fqpgVtOe+8z6hgeAe7cF82ERFdsryMYmxbchy7V57Q/l50LnCbmBrDt4crxtzSF4Mn94S1XScL3I24DBsN98kzYObsol9pUJWTibx921F4/LB+pX1Iabl0F4+JidGv1LOxscGYMWNUWJbvvezXvtitoKAAkZGR+kdo0L9/f9jbd/7XXNT2GLqJOilptCIDtAzUGQl55zplS9Zz93PEiJnhau+XlDN3dtVFBShPTkBNcbPycu2LNbWzh223nvqFehKcZV92zMFkdWTaOlnJ/lQL2Z/vV6XjO5ZF4sSeRGQm5jfp7t6YhGbZlx0Y7oFBk3tg4h0RmP6grGIPwdT7BmHC7f0RMb47/EM9YGNvyZBNRESXRbJ1TlohNi08rCqspLxcz9uq+amMP2O1wN1/bLdOdbxnS6TZqffM+bAP7w8Tq6aNyqRBqpSXZ65dgdryMv1q20tNTUVSUpLqMN6YrG7b2dlhy5Yt2Lx5s/rzQjd5H1ktLyoq0j9Cg5EjR17wfG+6cRmdNUynEVGbmDlzJlauXIk33ngDTz/9tH61bZUUlmP70uPaIB2DwhxtkG7U2VT2FQ+7KQz9tEHazqmT7Pu6iLyDexD75r9QFHVEv1JPBm7XsVMQ9pdXUVZSheyUQuSkyq0IuRnFasUgX/tTJihaW8FuTI5hcfF2UKX4cqSXi5cdnD3tVdWAvbMNzC1ZJk5EdCOQ8LRr1y58+eWXuOeee/SrbUcmyrO0MUtOxDi2/YzqzWIglVXd+3tjxKxwdI/wVc1Qu4qM9SsR//FbKI1tutosk+i2IaEIeep36rix9rB06VL85z//UY3UGpMV7pCQEDg7O+tXLkyiU2sr3WvWrMHYsWNVYzaixhi6idpYe4ZuCdfF+WXY/MNRHFh3CqWFFefK0KSLaUCYO4bP6IXw4YGdb9/XBZz56E2kLvkOlVnp+pV6Rg7uQMQ0VPedpVa28zNLtFuxmoi4lJAt+7KdtEAt52G7+tYHbakMcPawU0d8yQsdrmATEd142jN0S++V9PhcbPzuCKJ2JZzrxSLMLEwQNtRfVasF9fbqcj1BqosKEffeq8hcu1xVsTUmx4y5yUT6H1+Gsbm5frXt/O1vf8Nbb72FnJzzt6q1Bel8vmPHDoSHh/O1A52HoZuojbVX6JZZ8TwtUG5edASHNsaisqzqXBmaBO6Qft7aIN0LPQb6wdqu6zTxqC4uQuQfnkb+vh2oq256JmaxlT/inSYhq84HleUNqwStkaPSpGTczc9RBW1Z0ZbQLUHbyd0O1nJ8FwdKIqIbXnuF7urKGiTFZGHTwiM4uTcJcoKGgZmlKfqNDsbwm3vBr6cbzMy7ZnVV7t4diP/fGyg40qz7tzb+WgcEa6H733CKGKxfbBvV1dV49tln8cEHH6C2tmGSQ/ZfR0REqPLySyGPTUtLw9GjR/UrDaZPn44PP/wQfn5++hWiBgzdRG2sPUK3rNpmJeerwH1kyxk1aBsYa4FbOmjLrHi3vt6qiVdXIC9EpLlMetQZJH7xHs6e3geLmiIYo36wrIMJ0s16ItJqKmqMWp9kUCFbC9fu/k5w83VQ5eKyiu3kZgtbRyvVqIaIiKix9gjdMjksJ2Oo4z0Pp57bGibMrUwxaFIPDJsRBq8gFzVJ3FXVlJUi/qO3kLZ8IaoL8vWr9UztHOA5dRZCf/d3/UrbyMzMxPPPP49vvvlGv1IvLCwMr7zyiupefimkrHzFihV488039SsNPvroI9x2221spEYt4qtNog5OztyW463kKKsjm+POC9x9Rgdj3Pz+6gzozhy4ZSW/KK9MvRDZ+VMklr27Ez+9vxPrFkXjWH4ITlhOwCmLkUgz7YFSIweUGdmj0MTzvMBtbmUG3x5uGDi5B256aAjm/HIkZjw8DJPuHIBRs/uohjSBYR5wcLVh4CYiomtCThuJ3peE9d8cPC9wW1ibqYnz0fP6wDvYtUsHbmFqbQPnYaPUHu7maktLkH9wD8rSkvUrbUOaqMnZ2s1JSbh0Lh84cOAl3WTftwT45szMzDB8+HBYWzdtEkdkwFecRB2YBOz4qAys+/ogonYnoloL4AbGJkYqWMpRVYG9PFTY7EykyEYanCVEZ2Lvmmis/HgPfnxzO1Z9shcbvz+MXSuiELkzASlxBcgut0OGSXckWgxErOUonLCaiBjLMcg2DVL7st0DHNF3TDCm3DsQ858Zg1mPDseUuwdi9Nw+iBgXguA+XurYNDZCIyKia036rxzfGY9N3x9BQmRmk8AtDTzH3toXo2b3VtuebpTJYIfwfrDv1aeFTua1qMzNRs7OLfKGfvXqxcfHIzs7W3+rnpzPbWtrq44MuxTyuiU2NhY7d+7Ur9ST7ufjx49Xq+XyMYlawtBN1EFVVlTj1KEUbPj2oDpDWla8DSRwS8O0sbf2g293V5h1kkYr8jWlxefi0OZYrPl8P358aztWfLAbG745pM7Klg6uiScyVUO0lhqhyap2mYUnanwj4DxqEobcMQHznhqNeb8ahWn3DcaYeX0xcFIPdI/wUcemWVqbq/3uRERE14M0Pz28JRZbfjiGlFPZDc1PtaFJ+ohMvnsgRtwcDicPO21sv3Felpva2qvjw6wDu+lXGtSVlyFnw+omkxNX68yZM+eFblnlDg0NhbHxpX3fS0pKkJiYqPZ0Nyar3L/85S9VgCdqDUM3UQdUUVaFE7sT1Ipv3NH0Jp1N5ezOMbf0VTPjnoFOHboMTfZl56QXIXJXvCqp++G/27D07Z3q3Gw5K/volji1v02O+Gp8XEpzcvRZt35eGDWnN+b+aiRufWYspj88AmPnD8DgKT3Rc5AfvIKc9fOy9QcRERFdRwU5pdi3NgbblxxHRnxek9NG7F1tMP2BwRg6PQz2LtZqu9iNxi6sL+xC++hvNairqUbx6WiUJsXjbKOmZ1dDSstLS0v1t+p5eXmp0vJLderUKRw8eLBJIzZZ5Q4MDMTo0aNh3g4d16nrYOgm6mBk39cRLYxuXnQUSdFZTVZ8rWzNMeGOCLWiK+dJm3SwWXHDvmxZod+y+CgWvrYFP7y+Fas/3Ydt2ouOw5tiEXskFZmJ+SgrrmzStfUc7XWHdHCVzq1DpoVi9i9H4Lbnx2LWYyMwYUF/DJ4airAhAfANcVUvVLgvm4iIOho5bWT3iihVxZWdUngucEulmqu3vQrcgyb31CeLb8zZYksPT9iG9ISZk4t+Rad9r2rLy1SXcwngbUGCcl1d0wo62Z/du3dv/a0Lk3+/48ePn3fGt6xuP/DAA6p5Gk8/oQvhq1WiDqSsuELNim9bcgypsbnnArf8Hrd3tsLEO+qbgTm62XaYWXF5zgknMrBrZRSWvrsD3/17E1Z8uFt1Zz244RROHUxB+pk8lOSXq1DeEjmXVPZl9x8fgpseHIJ7fj8J854chcl3D8Dwm8IQPiwQ/j3dVfmd2pfNcY2IiDqonLRCbPvxGPb+fBL5GUXnArdMEktV1jQtcPcfG6K2QN3IjE3NYBMY0mJDNVnhzt21BWermh4V2pYsLCxU8L4UUlYuq9wpKSn6lfqy8m7duuGOO+5QK95EF8LQTdRBlBSWY+dPUdi5PFKtBBsCqgRuZ087TLprIIZpAVRKra/nZGp1ZS3SzuTigBaol3+wC9/+ezOWvL0DG749jP1rT+Hk/mSknM5BYXYpaqtbDtmyb83Jwxa9hgdg8j0DcPsL47Hg+XGYfv9gjJwZjt4jAxHYyxOu3g6w4L5sIiLqJDKT87Hxu8M4uOE0CnNLZdFWMTEzhn+oO6beNxi9hwfCopM1P20v1v6BsO3eU3+rgTRUKzp6EDWlJWrluz3IyvSlND6TFfJt27Zhy5YtqKlpOEHG1dUVDz/8MHx8fNTHIroQhm6iDkAarcgZ3LtXRyM3tUgL3PUDjPwO9whwUoFbGoTZOFiq69eSNDLJyyjCsR1n8PPn+/D1P9Zj0Wtbsfbz/dijPd/ovYlIjslGfkaxOoO0NfLcQ/p7q73oC54fizv/byJmPjIMo+f2Rd/RwQju7aWan1nfwKV2RETUeaXH52HtFwdwbNsZlBSUawNo/XVTcxOE9PPGlHsGInSQH8wtGbgNLNzcYRPQDSaWzY7a0oJ2TUkRSuJjUdcGq92yot1Sl3JDFcKFHDlyBKtWrcLp06f1K4CjoyMmTpyIefPmXXIjNrqx8aeE6Doryi1VZ3AfWHcKBVkl5/Y5y+qu7GuWwN1vbDdY2zU9j7q9yOcvzi9HzMFkbPz+EL76xwZ1W/XRXrUSH7k7EYnRmchJK0J5SdW5CYImtMwsHdXl+Q+7uRfmPzsG9/5pMuY9MQrjb+uPiPEh6NbXG54BzrBztOryZ5ISEVHXlhKbg5Uf7cGJPYmqZ4mBbJ8KG+qvjeUD0K2fT6c5beRaMTYzh4WHFyx9/fUrTRVFHUVtZYX+1pULDw+Hr6+v/la9ysrKFs/ubqywsBDLly9Xx4TJ+wspJQ8JCcEjjzwCd3d3dY3oYhi6ia6jguwSrNAGaWmcVpxXfu54DAnc3fp6YdKdA1UZmpVN++77KiupVPuyt/90HIte34LPX1yLpe/sxNbFx3B8RzwSojKRlVygzhptdV+2nJft74gBE7tj9mPD8dDfpmHBr8ep87INx3h5BbvAwdVGvejgYjYREXV2MiYmnszEMm3MPH0otclJHNKDRCbNJ94eobZMyThJ5zN3cYN1QLD+VlPF0cdR1wahu1+/fvDz89Pfqif7s9etW6e/db7q6mp8++23WLJkCTIyMvSrQK9evfDcc89h8ODBrMyjS8bQTXQdqJLtzGJ1TnXkzgSUFVWcK3GSBmlhQ/ww8Y4IdRSWhXXbl6HV1tQiPT4X+9aexOK3tqmQvfDVLdj4zWHVYfxMZLraVy4TAY2PK2tMBhpHd1v0HhGourDKSva9f5yMGQ8NVUeg9BjgC59urnDS3kf2rnFgIiKirqS6qhaxx9Lww+vbkBCVob3dsN/X3MoUg6f2xLj5/eDb3Y0VXRdg4ezaauguPXMKdVUNlQNXysPDAwEBAbCzs9OvQJ23vX79ehQXF+tXGsiq9jvvvIP33nsPMTEx544Jk6D9hz/8ATfffDMsLa/9lj/qvBi6ia6x2to6ZCTl4/v/bELMgRRUlFad6xEiR4n0HROMCQsiVPm16tTdBqRkPD+rGEe3xWHlR7vx0e9W46u/b8DPn+1XZe1xR9KQkZCPwpxSVFVoLxpaqBgX1vYWCInwwYTb+2shexIe/OtUzPnVSIyc3RthQ/zhE+Kqmr5Z2Vqw+RkREXVZ0sMk5kAylr69E2lxuWpsN5DJ8lFzemP03D7wDHTm0ZYXYebkDCvvpqXfBhXpKagpL9NeJ7VcZXep5AztuXPnYty4cfoV7WNXVGDfvn14+eWXmxwnFhcXh5deeulc4K7S95RPmDABf/7zn3HTTTc1Ce9El8Lo7KV0ECCiSzZz5kysXLkSb7zxBp5++mn9aj1ZNU6NzcFP7+9C0smmZ3BL4B48pSdGzAyHdzeXq5oVl5V0KQVPicvRPk+manSWm1aEirIqLeRXay8WWtmL3YyUwnkEOauOqwFhHvD0d1LBW445kZt0Y+UKNhERdTUjR47Erl278OWXX+Kee+7Rr9YrL6nEib1JWPvFfuSkNhwJJixtzDF+QT8MnNhDVXrJaR10Edr3L2vLOpx48deqeVpz/d76HM6DhsPE4upWliVkr1mzRr0+27p1q7om+7NlFXzOnDkYO3Ysjh49ipMnT6p/++zsbLXCLXvBZWVbjgYbNGgQrK2bNX0jugQM3URtrLXQXV1Zg/ioDNVoRc7gbrw32kQL3CNm91ZHgnlowfZKZsXLS6uQmZinmpwlncxGVlK+auZSUVaNqvLqVsvEG5MOq84edudCtm93V9g4WmkB2wwWVuaqIQxDNhERdXWthW453vPY9jPY+O1h5GcWn6tUE1Z25upIsH5jgmHvbKO2i9Glydu/Cyf/8xeUnTmlX2kQ+oeX4TH5JpjZOehXrlxeXp5qivbRRx9hxYoV6pp0H5eV66CgIKSnp6tycwnocu3WW2/FpEmTMGDAAAQGBqoVc6IrwdBN1MZaCt1ShnbqYIo6cqv+DO6G/+1MTI0wfkEEhkztCRcv+0ueFZePkZmkheyTWUg8kYH0eNmDXaY+l5SI11TVNHkx0BLJz9LYzLeHGwJ7aSFb+1NCt5yNLfuwzaXhGV80EBHRDaal0C2njRzceFo1GZUzuBtvxZIqsFmPDUf4sEB1RCYnqC9PYeRhxL7zCvL379SvNAh65Fn43noXLFzc9CtXTmKPhOrY2FgcPnwYkZGR6t85KytLndnt4OCA/v37Y+DAgfD09FRN07y9vdXqtqyKE10phm6iNtY8dMue7eO74rHhm0PISSk8dySYkBXtafcPVt29JfxeaFZcQnZRfhkSotKRcCITSdGZKMorV51SqyqqVUMXQ/fzC7G0MYNfD3cEhHsgMMwTLt72sLY1V+eGSldx7j0jIqIbXfPQLX1R9v58EruWR6G40RncEq6tHSww/5kxqoGolJczcF++4tMnEf/pu8hat1y/0sB73t0IfuhXsPT01q9cHYk+UjZeXl6O3NxctbotfxfSHM3NzU3d5O9mZmZqJZz/pnS1GLqJ2ljj0P2LBx/DoU2nseWHo8jLKG4Sik3NjDHr8RHoPzYEtjIr3ixwy/+aal92bI7qiiqr2VnJhaiqrEF1hXbT/mwc4FsjJeMegU4IDvdEYG8veAe7wEpCthawzSzMVMjmWEJERNSgceiePnEWdvwUhQNrY1Ba1HB8lUyUO3rY4rbnxiIo3EuNq+B4ekXKkhKQ9N1nSFn0uX6lgfvkmQh54jewbuUs76shDdQMnckNJGQzaFNbY+gmamOG0P2Pl17GkG6TsXN5JAqzpfOmYVocamV59i9Hoc+oILVf2vCLXUrD0xPyEB+Zrs7GztD+LvuyayRoV9U2abzWGgnzTh52CNBCdnBvT/j1dIe9k5VaxTYzN4WJmezL1t+ZiIiIzmMI3a/+4y34WvTB0S1xqneKgWwF8whwxC1PjVZncLNK7OqUp6ci5cdvkPjZu/qVBs7Dx6HnC3+BTSvHihF1BgzdRG1MQvemdVtx05C7EOYxFCX5DWdwS9iVMnJZ4e49IkgF5MykfNVgLf54OlJO5aiytZrKWtX4TM7TvpT/Q+Vj+oW6IbiPl2qA5uJpr44bkw7ocuO+bOpIqqurUVZWpsr22AWWiDoiCd0xRxMwLeJO+Nr3VJPiBnJyh18PN8z55UjVC8WEHcqvWmVOFlJ/WoQz772iX2lg33cgev3p37AN7q5foY5AjlKTsdzCwgJWVlb6VWoNQzdRG1twy13IPl6Dnp6DYWVmcy40S+B29XHAhDsiVBCWLuMStItyy1B9LmTXNayIX4CZpYkWrj21kK3d+nrDXfu4so9MPq6JqYk6foyoo8rPz8e//vUvnD59Gvfee6/qDMszT4moI5kzdQGQ7go/554wNTbTr9Zv2erWzws3/2IYvINceCRYG6nKz0P66qU4/fpL+pUGdqF9EP7X12Ab0lO/Qh2B7If/wx/+gIKCAjWWjxkzBra2tvq91JzJixr970R0lQqyS5B2oApmZc6wNJVZPz38an9IN3A5cuv4jgSc2J2I5JPZKnDL7LkE7gvtz5bzsj2DnBExPkQL7QNw88PD1JneIf284aoaoVmea4LGVW3q6GRmfPny5Vi8eLE6M3Xjxo1qskmOY+FsORFdbwnRmcg6VAezaocmgVvG2fDhASpwewUycLeluqoKlJw5hdydW/QrDcydXOE+firMXVz1K9QRyFi+aNEiLFu2DKtWrcL27dvVXviAgADVhI6a4m8Loja0f10MyrO1gG1iqYUILfxKjtZvEq7zMkpUN3ND0G5tVVtWqiVMD57aE3f8djx+/dF8PPXmXDXQ99YGfEc3W1jZyLnZpvWDPnM2dUJSZi6r3nJmqnT6Hzt2LF577TXk5OTo70FEdG3V1dZh88LDKM2rhYmxqX5VC36WphgwMUSNwx7+TpzgbmtGRtr3tOVYcrZOGp21vjBB14+8jpWxXM4/37RpEx5//HFVvfbOO++olXBqwNBN1IZGz+0LM/cqlFUX1zcrM9yENl5c6EgvO2dr9B4ZiLlPjMSz792C5z+crzqiDprUA26+jvUr5eZ6yCbqQqRzbElJCaKiovDHP/4RERER+P3vf4+kpKTzusoSEbUnGWNnPz4S1m5GqK6tb5wmJeUyCT757oFw8bLXxncG7mvLSHsJxe95RyfjtZyBfujQIfzmN7/B0KFD8dJLL6kz0LmbWfsp1r4J/C7ofHx81EwN0dU4W2uEUUFzEeo5BGYm5vrV89XWVSOjKAGJ+TFIzjuJ/PJM1J6tVrPnMp5zUKeuSoadmpqaVgO1/OybmJiovWF33HEHHnvsMYSGhsLcvPX/n4jOnDmD8PBw/S2iq6C9MjY1ssK4bvMR6BquSsyrz5YjufAkjqfuUGP3Wa68tik77bXPWAdLPOp1fn+PU2VVeDO9GEmVnITtSC5lLDc1NVVj+X333adWwYOCglQT1RsRQ3cjrq6uLIWgNuHjEIKhgdPh7xymXwFqtJBdUJ6FpPyTSMqNQXphLKrrqtQvLQ7eROeTPWF33303nnjiCYSFhTF00wXFxcUhJCREf4vo6hgbm2BK6L0Icet/bl+3jNVVNeVIKTyNI8lbkJx/Sl2lq+doaozJztZ4xNdZv9LgeHEF3kjOR1JFQwd56hwkeMtY/uCDD+LJJ59EcHAwQzcRtQ05MmzNz+swvsd8jBkwXXUY7zHIT52Z7exhr78X0Y1LJjel9OzTTz/VrzSQAdrR0REPPPAAnnrqKfj6+qpVbyKia+n+OU+hLt0RLjZe+pWmpDGqHBc24fYIhA8LYHXaVarIykDqTwsR/8Hr+pUGTgOHI/R3f4dNECfVOhLpv/Loo49iyZIl+pUG0lDN3d0dDz30kArbbm5u6tqNjJtDidpBTW0Vpj80EL//4g7c+duJGDSxBwM3USvkxarMfHfr1g1///vfERMToxqqSQdUBm4iuh5SCk7hRMYeFFXltNiwVI76jD+egc/+tAav/GIRDm06hfLSSu5dvUJnq6tRU1Kiv9WUiZ0DjEwbmtpRxyRjuVSk9erVC6+88goiIyPVmO7h4XHDB27B7wBROzE2NWbTM6ILkEFYjggbOHAg3nrrLezbt081UJMZcSKi66m8uhgHk9Zj8O0emPfUSPj1dIOJmcl5K9py3Gf6mTx89feNeONXS7BzeRQKc0pVF3Tm70tXV12F2pIi/a2mzGztYGTC0N1RyVhubW2NkSNH4sMPP1Qnkjz33HNwcXHR34MEEwEREV1T8qJVGqvIsSKfffaZOqdbmqU5O5+/l4+I6HqycbDCyJm98di/b8ad/zceIf29VWm5cQtHhmUlFeDHN7fj7WeXYeP3h5GdWoDaCxwPSg3qqipRXdxy6Da150p3R2VnZ4cZM2bg22+/xerVq3H//ferLWJ0PoZuIiK6pmSQ/utf/6r2gS1YsAD29tx6QUQdm7WdJQaM744H/zYND/x1GkKH+qujPFuqaMtNLcLqT/bhgxdWYNWn+5AWl4vqyhq1Kk4tq62oQHVey82MzZ1dYXyDNt/qyGTs/u9//4uFCxdi9uzZamyn1jF0ExHRNSX7t2Um3MbGRr9CRNQ5WFqbI2yIP+7/yxQ8+p8Z6DsmCFa2FjA1Mzlv33d+Zgk2LzyC//3fKix5dwcSozNRWV6tSs+pqbryMlTlZetvNWXh7qGFbp5e0dHI/m0nJye1TYwujqGbiIiIiOgymJmbIijcC/f8YTKefGsOBk3pASc3W5hZmJ6377sorwx7Vkbj49+vxnevbMapw6koL6lEbQ3Dt0GtFrpbW+m2dNVCt7mF/hZR58TQTURERER0BWRvt1egMxY8Pw6PvXIzRs4Oh7u/Y33pebN932XFlTi6JQ6f/XkNvv7nBkTvS0RxfjlqqmTft/5ON6C66mq1n7u6uFC/0kAaqJm7sLycOj+GbiIiIiKiq+Tu54TZj43Aw/+YjvG394dPd1dVet5833dVRQ1O7EnCp39aiy//th5HtsUhP7NIXT97A+77rtHCdmV2hv5WU5Ze3jCR8uVm1QNEnQ1DNxERERFRG3H1dsDUewbhgb9OxbT7ByEw3AM2DpYwMW36slu6msceScU3/9yIr/6xAfvXnkRmcj4qyqpuqKZrVYWFKM9I199qysovCEbcz01dAEM3EREREVEbc3K3w5h5fXHfn6dg1mPDERLhDXsXa5iam+jv0SAhKhOL39yOr7UAvvOnSKTF5qhy9Buh6VpNYT4q0lP1t5qy8g9maTl1CQzdRERERETtxN7ZGkOmhuLeP07BLU+NRthQfzi61zdday71dA5WfrQXX/1zAzYvOoLEk1koKSjv0k3XqvJzUZ6SqL/VlF1ITzZRoy6BoZuIiIiIqJ1Z21mg7+hg3P27SVjw/Fj0GR0EVx8H1XStecfzrKQCbPjmEL76+3qs++ogzhxPQ2FuqRa+a/X36BrO1tWiWgvdlZlp+pVGtO+JbfdQhm7qEhi6iYiIiIiuEXNLU4QO9tfC90Tc/sI4DJgUAs8gJ1jZmp/X8VzO+t6+9Di+/NsGrPpkH2IOpCA/qxg11V0jfFcXFKAiMx11lRX6FZ0WuE1t7GDt7cfycuoSGLqJiIiIiK4xWd3u1tcb858ZiwW/Ho9hM8Lg29NNNV1r3vFcSsz3rzmJL15ah58+2IUTexKQnVJQ3/G8E583JoG7LPn80nIjY2PY9uwFY3M2UaOugaGbiIiIiOg6kfAdEOqOmY8Mx23PjcPoeX0Q1NtT7QVv3vFcQvbRLWe08L0ey97bicNbY5GekIeK0qpOedxYRUYaypLi9bcaGBmbwKHfIBiZnr/vnagzYugmIiIiIrrOJHz7dHPBlLsHaeF7rDrru/sAHzh52MLUrGnH87ras+qs70WvbsHSd3Zg39oYJJ/KRmlRRac5bkz2c1dkpKI8NUm/0sDIxASOEUO10M3ScuoaGLqJiIiIiDoILXvD3c8RY2/pq8L35LsHqo7nrt725x03JuE79nAafnp/J358ezt2rYhCQlQGivPK1H0dmdrPnZaMmqIC/YpO+waYWFvDPqw3V7qpy2DoJiIiIiLqYGTlW876HnZTLxW+pz0wGH1HBcEjwAlmFlr4btRzTQJ2UnQW1nx+AIvf3IZtS47h9JFUFGSXdNizvksTzqA08fzScmNTM9gE94S5vYP6HhB1BQzdREREREQdlOROW0crDJzQA7c9Pw43/2IoIiZ0h083V1haNz1uTAJ2+pk8bFp4BD+8sVX9Gb0vGbnpRajtYOG7LDGuxf3cxhaWcBo8ov4LJ+oiGLqJiIiIiDo6LYPKmd69RwThtmfHYuYjwzB4eij8w9xhbW/R5LgxWfnOTS3CjmWRWPT6Fqz/5hAidyQgK7mgQxw3VltRjnItcLd0PrexpSWch4zkKjd1KQzdRERERESdiHQ17znID7MfG4FZjw7DiJnhCO7nBTtnaxibNIRV6WhelFuGfT+fxMLXN2Ptl/txZHMs0s7koqq8GtfrtLGyxHiUJsejrqpSv1LPyMQU5i5usOvRiyvd1KUwdBMRERERdUImJsYI7uONafcN1sL3CIyZ2wc9B/rB0d22yVnfcpZ3eXEVDm2MVXu+f/5sH/avi0FyTCbKSyqv+VnfRScjUZaUoL/VwMTaBg59B8LE0lK/QtQ1MHQTEREREXVisvLt18MNE27vj1mPDce42/qh94gAuHjbq2DeWGV5DSJ3JmD5h7ux6pN92L3qBM4cT0dJQfk1Cd+1lRUoOR2NivQU/UoDUzs7uAwbo79F1HUwdBMRERERdQGyuu0Z6IzRs3tr4XsEJt0ZgX7jusEjwBHGWjBvrKqiBqcOpqiO5ys/3osdP0WqtwtzSts1fEvztLLEM6gtK9Wv1JOzuS1c3ODQb4B+hajrYOgmIiIiIupCJHy7eNlj6LQwzH58hDrre/DkHvDu5nLeWd/VlTVIiMzApu8OY8VHu7H1x6OI2p2IvMzidgnfBYf3ozw1SX+rgYmNHWx7hsPCyUW/QtR1MHQTEREREXVBRsZGsHe2xoAJ3VX4nnrfIAybEaY6nluo48b0d9RUV9Ui9XQuti+JxIr/7cbmhYdxZGscslML2yx815SVoSjqCCoz0/UrDSxcXOHM0nLqohi6iYiIiIi6MDl+y8rWAn1HBePmXwzD9PuHYNSc3gju6w1re8smx3PJkWJZSQXYtSJa7fve8M0h7Fsbg4yEfNTUXN1Z38WnTqBUSssryvUr9YxMTWHp6QOnfgP1K0RdC0M3EREREdENwsLSDKGD/TDl7kGY/sBgjL2lL3oO9lXHjTVe+a6rrUNBZgn2a4F75f92Y+1XB7Bn1QmknM5GVUW1/l6XJ3f3VlRknH82t5mjM+xCe8Pc2VW/QtS1MHQTEREREd1gzC1N0a2vN8bf1k8L30MwfkE/9B4VBEcP2yYr31JaXlJQoc73lqPG1nxxADt+ikJ8ZLo6buxSVeZkoejYIVTn5+lXGqhV7iEj9beIuh6GbiIiIiKiG5SZhSn8e7pj9Ow+KnxPumMAIiaEwNXHvsnKtygrqkTUrgRs+OYg1ny+H9t+PIZTh1JQUlihv0fr8vbvRnl6Cs7WNF0lN7G0gk1gN9j36qNfIep6GLqJiIiIiG5w0tXcK9AZw24KVWXnk+8ehKE3hcEjwAloFr7LS6q0sJ2KLT8cxc+f7VdN16J2J6Aor0x/j6bqqquRs209qnKz9SsNLDy9Yd8nAma29voVoq6HoZuIiIiIiBQTUxO4ejtg0KTumHbfYHUbM68PfEJcYGLWNDpUlFUjISoDO5ZFqpVvabp2eEss8rNK9PeoV3QyCsUnI1Fb3iyUGxnBOrAbnAYM1S8QdU0M3URERERE1ISc9e3gaoN+Y4Mx5R5pujYE4+f3Q2AvD5hbmenvVa+qogYpp3Owe9UJrP3iANZ+uR/71pxEXkaR2hOeseYnVOXnygZx/RH1zJxcYNcjHNZ+gfoVoq6JoZuIiIiIiFokTdVs7C0RPjwQ4xdEYPqDQzBxQX90j/CBlZ2F/l71aqpqkZmYjwNrT6lu56s+2YvdSw4h+8AB1JY3PSZM2Ib0hGP/QTA2axriiboahm4iIiIiIrooay1k9xjgizG31Dddm3zXAC2MB8DOyUp/j3q1tXXISy/G4U2xWP/tYRzODUG2yzDAqzuMLa3V+0gDNfuw3upG1NUxdBMRERER0SWztLFAUG9PjJgZjqn3DcaUeweh/7hucHCtD9QGUk1ekF+N+LoeOGU8GFHGo5DqOQVne46Cw9CxcOgzEGb2jvp7E3VdDN1ERERERHTZLKzM4NfDDUOmhWKqFrxvemgohkwPhZOnnf4eDfLLzJFQ4oFT1b0QWTsEp82GIbPGA2XFl37WN1FnxdBNRERERERXzNzCFJ6BzhgwobsqOZ/56HCMmtsbLt7nn/VdUlKHpGxzHD15FhuWxWHN5/twfGc8SgrO3/NN1FUwdBMRERER0VUzNas/bqzfqCBMvD0Cc58YhQl3RMAr2Bkm2n2NlRdXIik6C/vWxKjjxlb+bw8ObTqN4lbO+ibqzBi6iYiIiIiozchxY45utggfGoCxt/TF3F+NxKQ7I+Af5g5zS1P9vepVllcjLS5XBe51Xx7Aknd2YPfqEyjMKcXZuqZHjBF1VgzdRERERETU9owAOydrdI/wxajZvTHnlyNV47WQCB9Y2pjr71SvWo4bSyrAse3x2PjtYSx6fSu2LTuOnNRC1NbU6e9F1DkxdBMRERERUbuydbRCULgnht0UhlmPDseMh4ei1/AAWNs3Peu7rrYOuWlFOLE3EVsWHcUP/92KzYuOIO1MrgrmRJ0RQzcREREREV0Tcta3dDwfNLmHCt6zHx+B/uO7qVDehBw3llWCU4dSsX3JcSx+czvWfX0ACScyUFVRrb8TUefA0E1ERERERNeUpbU5vINc0H9sN0y/fwhueXq0Om7MzrlZ+NYU5ZUhPjIdu1ecwNJ3dmLVJ3u1MJ6i9oMTdQYM3UREREREdF2YW5rB3c8RvYcHYsrdA3HHC+Mxel4fOLjawMi40XljZ4HSwgokx2Rh/9oY/PT+Lix9dycidyWgoqxKfyeijomhm4iIiIiIritTcxO4eNmj5yA/TLg9Avf8aZL2Z3+4+TnAxLQhspzVwnd5SZXa431kcyxWfrQHC1/bqrqfl5cyfFPHxNBNREREREQdgjpuzNUGwb291XFjd/9uEqbeOwi+3V1hpgXzc7TwLeXlmYn5iNwZj9Wf7sOXf1+HPauj1Yr4WUnnRB0EQzcREREREXUoRvpxY3493TFiVjhu/814zPjFUAT39TzvrO+aqlrV8fzUgVSs/WI/PntxDbYtPYb8zGLU1TJ80/XH0E1ERERERB2ShG8be0t4B7tiyNRQzH92LOY+MQqhQ/xgYWWmv1c9OW6sILsU8ccz1FnfX/5tPTZ+d0ithvOsb7qeGLqJiIiIiKhDk/BtZWsBD39nRIwPwS1PjsbtL4xDv7HBsLRuFr7rzqI4rxyJJ7Ow9cdj+PqfG/DzZ3uRfCqL4ZuuC4ZuIiIiIiLqFCR8ywq3q7cDwocHYvZjI3Dvn6dg8LSesLRpGr7PauFb9nenxuVi14oT+PblzVj67g7EHUtDbTXDN107DN1ERERERNS5aOHbzMIUTh526DHABzc/PAyPvjwDo+aEw9bBUgvn2jvoJHxLx3MpMz+w7hQWvroF372yCdH7ElFbU6u/F1H7YegmIiIiIqJOy8TUBPbO1vAP88S0+4fgsVdmqePGnDxsYWzSKHyfPas6nuekFuLY9nj88N9t+OzFtdrf47jyTe2KoZuIiIiIiDo9Y2MjvemaMybeEYFHXr5ZC+GD4RHo1Cx8A9WVNcjPKsHJ/clY/OYOvPfCT9i/PgYVctY3G55TG2PoJiIiIiKiLsNIC9/1TdccMWZeXzz0t+mY/fhI+IW6q3PAz9HCtaxwF+eVISEqE8ve2Yn3X1iO7cuPozCvlGd9U5th6CYiIiIioi5H9nXXN12zx/AZYbj/L1Ow4IVxCInwhrFp0xgk53mXFVci5VQOVn+8D//77Sps/P4wctIKGb7pqjF0ExERERFRlyXhWzVdc7fDgPEhuOf3k7UAPhXhwwNgYtpQdi7kuDEpMU+Pz8P6rw7io9+vxqpP9mpv5zJ80xVj6CYiIiIioi5PGpqbmtU3Xes1zB93/HaCarrWXwviJs1WvqXjeVVFDbKTC7F18TF8/MefsfjNbersb4ZvulwM3UREREREdOPQwreJibFquhbcxwu3/3ocnvvgFgy9KRSW1s3O+tYCdk1VLfIzirF39Ul8qoXvr/6+AXFH0xi+6ZIxdBMRERER0Q1JOp7Lvm+vIBfMf2Ysnn3/Foy5tS/snK1VODeQfF1bU4eivDIc3RqHT/70Mz78v5WIOZDM8E0XxdBNREREREQ3NNn3LSXm7r5OmP3YCDzzzlxMu3ewasLWnOz7Li+pwqkDqfj4Dz/jzaeW4Oj2M+oMcKKWMHQTEREREREJo/rVb2dPe0y5dxCeeGM25vxqJLyCnfV3aKBKz6trkRiVhS9eXIe3n1mKvWuiUVJYob8HUT2GbiIiIiIiomak8ZqDqy3G3tIXv3xtFu78v/EI6OWhVsWbkwCeejoX3/9nC955dim2LD6C/KxiVZZOxNBNRERERER0AbYOVhg8JRSP/nsGHnhpCroP8IGxiXGLATwzoQA/vbcb7z2/HGu+2IfM5HxVks4AfuNi6CYiIiIiIroEVjYW6DMyGL/4x0147JWb0Wu4vzoDXErSm8tJLcK6Lw/ig1+vwLL3dyL1TI5qxsbGazcehm4iIiIiIqLLIEG7e38fPPTSdLXvu9/4brB1tFLN2Jovfhdkl2L7j8dV+F74+hYkncxEdWWNOgucbgwM3URERERERFfAyNgI/j3dce8fJquV76EzQuHkaQdTc5PzSs9LCyuwf00M3nt+Bb7610aciUxHeUkl6mrr9Pegroqhm4iIiIiI6Cr5dHPF/KfH4hf/moFx8/vBI9AJ5pbnl55XVdTg+LYzeOeZn/Dl39Yjak8CinJLVSd0lp53TQzdREREREREbcTT3wkzHhqKh/42XR075tPDFZY25qrxWnMn9yfjsz+vxZd/X49Dm04jL6O4vvSc4btLYegmIiIiIiJqY67e9ph4e4Ta933zI0MRGO4Oa3sLte+7McnXcUfT8f1/NuOLl9Zh96oTyEouQGV5Nfd9dxEM3URERERERO3EwdUGI2f2xoNa+J77xCh06+cNWycrmJidH76TY7Kx9N2d+PzFtdi6+CjSzuTW7/tm+O7UGLqJiIiIiIjamY29JQZN6oGH/jYNC54fi56DfOHobqs6oTfpuabl64yEfKz5/AA+/ctarP/mkBbGs1QjNjZd65wYuomIiIiIiK4Rc0sz9B4RhIf/fhPu+M149B0TBFcfB1hYmalu6AayrzsvvQhbFh3BJ3/8Gas+3Yv4qAwU5ZWp876p82DoJiIiIiIiusbkSLEeA3xx1/9NxO0vjMegKT3gGegEK1vzJh3Ppey8OL8cu1eewEe/X43lH+7C6cOpyMssRnWVdDzX35E6LIZuIiIiIiKi60TCd3AfL9zy5Gi18j1iVi/49nCDjYMljE0a1Z1r4bqyrBoH15/Gx39cjWXv7UTUrgTkpOpN164wfZcVV6KirEp/i9oDQzcREREREdF1JqXlfj3cMeOhYbjjtxMw9ta+CAz3hL2zNUyaHTdWW12H49vj8c3LG/Hj29txeHOs2gdeXlJ1WR3PK7WwvX99DI7vjFcN26h9MHQTERERERF1ELLy7RnghEl3DMCd/zcBE++KQLf+3qrpWvPjxmqqahGzPwU/vrkdi9/Yin1ropESm6Oarl1K+I49mobDG09jx9LjOLE3SZ0RTm2PoZuIiIiIiKiDkZVvF097jJ7TB3f/fiKm3T8IPQf5wcXLHqZmJvp71auprsWZ4xlY+dEeLHp9C3Yuj0RidCaK88paDd9SVn5s+xlkJOYj6WQ2DqyPQYL2mLraKytTp9YxdBMREREREXVQsvJt52SNIVPDcO8fJ2HGL4ai98hAeAQ4qU7ocr9BTXUdUk7lYN1XB/HdfzZhy+KjiDuWhoLskvPO+o7em6iF7Sy1T1zEHU1Tzdoyk/PV29R2GLqJiIiIiIg6OMnWFtbmiBgXgrt+NxEzHx2GARNC4B3iojqeNw7fcqRYVnIhtvxwVO373vjdIZw6kIzc9CJ1X1F+GY5sidPeLtYfAVRX1uL0oRTsWhGFotxS/Sq1BYZuIiIiIiKiTkTKy8OHBeKWp0dj9mMjMGRaTwSEucPWwbLJWd9SKl6QVYqdP53AV//cgLVfHUDkrnjsXRWN1Nic8/ZwlxRU4MTuROxbG8OO5m2IoZuIiIiIiKgTkvDdPcIHN/9iOOb8aiRGzApHt75esHexbhK+5TixsqJK7F8Tg4WvbsHmRUdQ2Mpqtpz/fWD9KZzYk6iF9jr9Kl0Nhm4iIiIiIqJOTMJ3QJgHptwzCHOfGIkx8/qgx0BfOHnYwrhR+BZyrJjcWm2Ypl3OSS3E1sVHVTM2unoM3URERERERF2AHCnmHeyKcfP745YnR2P8bf3Ra3gAXHzsm6x8X4zs+5Zzvzd8cwg5aYX6VbpSDN1ERERERERdiIRvN18HjJzVG7c8PQaT7hyAPqOCYGre9KixC6mqqEHcsXRs+eEISosqVIk6XRmGbiIiIiIioi7I2MQIjq42GDypB0bP6Q0zCd2XvuCNyvJqHFh3CvvXxai/S+k5XT6GbiIiIiIioi5MhecNp64oOMuK96bvDuPk/mRUVdaf6U2Xh6GbiIiIiIioi6quqkHy6Wwc23am9eZpFyBV5cX55dj47WEkncw675gxujiGbiIiIiIioi5IBea8cuxeeUJ1LL8aKVpw37b0ODKT8lWjNbp0DN1ERERERERdUGV5FRKjM3ByX7J+5eqc2J2IfWtjkJdZxMZql4Ghm4iIiIiIqAsqKShHzMEUWNiYwd7FWrtZwc7ZCrZO+s3RUt1sHOpv1vYW6mZlp91szdXN0kZuZrCwNlPdzyN3xSN6X5L62HRpjM5yioKoTc2cORMrV67EG2+8gaefflq/SkRERJ3FyJEjsWvXLnz55Ze455579Kt0IygrK0N2djbs7e1hZ2cHU1NTdb2iogL5+fmora2Fm5sbLCws1HWJUoWFhcjLy4OnpyesrKxgZHQZ7cHbWXF+WX0DtIr6BmiS/M7FP/l7/X/UdfWW/Nns7w3vo+5Q1+U4sqDeXrB3tlbX6MIYuonaGEM3ERFR58bQfeOKjIzEJ598gnHjxmHs2LFwdHRU10+fPq1e35WUlOCuu+5CcHCwui4hfP369fjxxx/xxBNPICwsDObm5uo+IgOWlxMREREREWkyMjLw008/qfBdXt5QPi2r31u3bsXatWuRk5OjXwXq6uoQHR2NhQsXIjU1VYVwouYYuomIiIiIiC7A19cXt956q6p88Pb21q8SXRqGbiIiIiIioguQ0D1//nzcd999DN102Ri6iYiIiIi6CCl3LioqQlpaGgoKCq6o3Lm6ulp9jNYeK58jNzdXlVlLg7HLJS2l5OOnp6er5mQ1NTX6PZdGnpd8bVlZWVf8+aVhWmZmpvrzUhgbG6vmaZaWlurvV6qqqkp9Xvn+sbXWjYON1IjaGBupERERdW6dsZFaYmIi9u3bp/YiS5gtLS1VnbTd3d0xePBg1RTM2dlZf+96Elhl/7KE7GHDhqGyshLbt29HfHw8bGxs8Mwzz6gu3gYxMTHq/ri4OBUcJXxLozFZBR44cCCGDh0Ka+vWu1lLSJfHHz9+XE0KSFMyaTrm4eGBvn37YvTo0epjtUb2Tu/duxenTp1SgVsCrJOTk3pM7969MWnSJJiZmenvfT75/AcPHsSBAwfU55fgL1+fv7+/aoA2depUbNu2DY8++igeeughPPjgg/Dy8lKPlb3e8jNRXFyMm2++GS4uLuq6fO/eeecd/OUvf8H333+P8ePHq+97Y7I3/MSJE2pPeHJysnoe0hVduqB3795dfTz5dzIxMdEfQV2NyYsa/e9E1Aa+++47NRhMmzZNDWBERETUuXz66acqHM2dOxf9+vXTr3ZMsn4mYft///sfli9frsKkBGYJoxIqJWRu3rwZSUlJGDRoUJMjrST0yiLB0aNH1bFXsmiwdOlSFeDlY0yZMkWt7Eq4Xr16tXrfTZs2qfeVsC0rv7JiK5/DEEglADcO6gYSmD/44AMsWrRIPRd5Hg4ODir4HzlyRH1c+Z5LCDUEWgMJttLATB6/YcMGdTyXPD9bW1vV4ExCvDxervfs2VMF/+bHdsXGxuLrr7/G559/riYmJPTK90g+tnQml48vz19Cu3Qjl0mEiIgIdWyYOHPmjHq8fK+ls7lhAkO+N3Jty5Ytas93UFBQk+AvkxMrVqzA+++/ryYM5PPKY+X5JSQkqM8rz02OG5Ov+0KTBtR5MXQTtTGGbiIios6tM4VuCZxvvvkmDh8+rFaz77//fsyYMUMFQ3kd0q1bN7VyLYFcgp6sRhuCnazALlmyRIVOeR8p8543bx4WLFiAiRMnqgAtpdyyMvyHP/xBrfbKyv/tt9+Om266CWPGjMGQIUPU8VkS9iVAysccMWJEk1VbCcYvvfSSCszyHO+9915VGSirwsOHD1dBWQKzPBcpG588efK587GFTBpI4JfPL1+bPAf5/PKx5PP36NFDhf8ffvhBlYvL528cXuXzy7+prET7+fnhF7/4BW655Ra1Mi7vGx4eriYQZEJAvhdyk2qHxqFbqgdkFVzK4eU5GCYGLhS65bksW7YMH330kZq8ePjhh9X7GD6vVCBIAJfJDpmIkNV6Wf2mrod7uomIiIiIOiEJxDLZLyuoEgQff/xxFbYlhEpglpJpCbdPPvmkWhWW1XApy5ag2Jis4srKsYRZCaQSaPv376+Cr6yGv/766zh58iSee+451UhMAqkE7YCAAPTp0wezZs1SgVJWqaVcfceOHfpHridhds2aNaqMWkq3JVSHhoaqACzPVcq6H3jgATVBIO8nK++GHbCyWi9l/rL6Lo3M5POMGjUKISEhqixcPv/06dPVGdny948//lhNQEjpuYGUda9atUo9Rrb+GSZT5PnL55SP99hjj6lALBMMsuLdFqQCQEK3BO6nnnpKfXx5jvJ1SziX0C3f7zvvvFN9Xgn1MvlAXQ9DNxERERFRJyRl0rIKLGFSSsElhDYvq5YyblkN/vWvf61WVyVQttQgTd5HqvSk5NtA9njLSvq6deswYcIE9TmkrLz555BV4gEDBqhQLSvVsqIsJDhLKbqEZtmzPHv2bBXWm+9dlsdLCH7++efV6resJhtI2boEUnl+svouH6c52RcuIf6RRx5R+6Ul5BuCs+xtl3JxeVtWmGWlX96/MWmMJivOsodbVt2b338lJPTLv41MFsjzlmDf0seVlXSZ7JBSd3l/KTmnroehm4iIiIioE5IVYVm5ljLywMBA/er5ZI+1BDvZVSqrrM1Dr4+PjwqbEvwak/3Wx44dU6vdsvotAbF54DaQlXRZNXZ1dVXPS4K9hG5puiZBUsKufJ7GZeONSZiXz/Hb3/5WlXUbPo+sWkuQlzJ0mVRojawmyz5sKc+WlX9DV3MpSZfgK4/t1auXCvgtkc8nDd1kFV9W/a+WhH8p2ZfvqXw9zZurNSbfF1l1lxJzKZOnroehm4iIiIioE5JAK3uoJbA1D8yNGVZyZc+whNvmR15JUDY092pMVmul9FzISvLFmnxJ8JYzrGVVWfZRS+iWjufSrExKzy8UZuU5SaiXkngJvwYS2KUcXj6uYX91S+S5SwM1CdcSsuVzCkOXdPmYzRu0tUQ+/4UC8qWSPeASoCV4SwM4WYW/0E2ayaWmpqqVeep6GLqJiIiIiDohKd2W5mcSNq+mJFrCcEtBU8KuIQRKoL7Y+dSyii0rzrLKLY+T0C17lOXjSGBubZX7QqQZmXxe+fou9vkleMvXIp/bsG9dArdMHsj3SJ7bxVzK13kpZOJBJkTkecv3ViYsLnSTpnSyL19WvanrYegmIiIiIuqEZHXb0OxM9l9fKSk3b+mMaAmDhnOqZeW6pb3gjclzkIkACZqyei4hWP6UECsl4obV58shK9QS3iVIywTDhUjQlucp+74NAV9K66WkXB5vKDm/ECkLv9jnuRQyySBhW1bepQGc7Fe/0E3K6l944QW10k5dD0M3EREREVEnJB3KZfVWSsAv1PVaVnoPHTqkOnfL8VSyenwpJDxLd3EJvSdOnGjSEbw5eR8J1rIvWUKvYf+3dOmWACzdz2VyoDUS6OWoLgmfn3zyybmVatknLuFfjnCTQN8aeX/5HkhpueExQkK7rH7LedmXsl9avs5LCecXI3vLDeeQy9cvDeQudJPnL+9r+Lqpa2HoJiIiIiLqhKSBmuxTlq7XsbGx+tXzSRj+73//i88//1y93Xzvdmsk0Pft21eFx4ULF6rQK+G6JdLQTbqMy4qydOqW1W25yV5wWe2VY7skkLe2iiwNz7799lvV+Vyer8GgQYPUPnQ541v2sLdGyrnluDL5/NKlXMrJhZRrS/CXvdXS4E1KvlsiX5cEe/leGjqfXw0J+xL+5fuyf//+CwZ56dD+m9/8Bu+9956aNKCuh6GbiIiIiKgTkuZkchyVNAv78ccfER0drd/TQFa19+3bh9WrV6vwK520W+vg3Zys0MpjfvnLX6rjyT777DNVvt2chNSNGzdi8eLFatVWOqUbSHm3nO0tYVfO0I6KijpvNVfKzmUl/Ouvv1Yl2XJ0mWFiQJq/yV7nU6dOYcWKFS2GUgnaO3fuxEcffYTw8HDMmzdP7c0W8vHkqDNZeZZQLsefNQ/+ErjlmLJ//OMf6s/WJhYuh3yP5cx0+TeSzymfu6UJBzmHXM5Bl7AvEwRSjk9dj8mLcnYAEbWZ7777Tg0MMmDIDDQRERF1Lp9++qla9Zw7d646P7qjkn3YUmIuK8BbtmxRncKlhFsCq5SCy9sSxt98800Vet9//30VYg37nWX1dfny5Sr0yuq0rAg3J2XactSWrBJLeJTPJY+Tzy0BVY70+uqrr/DFF1+olfEnn3xSnQfeuBmZBHFZ5ZbVbgnvsmJueI7SnXzZsmV455131MeT8nKZSDDsMZfPL89LJhRktVtK0OXzy+Ml7EvZ/A8//IC3335bfR0vv/yyOjrM8DUK2Zcu4XbPnj0qnEtncSmdl5J2mbCQCYN///vfOHjwIG699Vb1OeSIM5mgMHRMl5V4WZGW76+cR27ohC4TCDKpId9/eaw8V0NpuwR9CfCy0r1t2zbVndxQASCr+XK02X/+8x+sXbsWc+bMUZMTcvRb4+8ddQ1G2g/C1U/lENE5M2fOVPul3njjDbV3ioiIiDoXOatZAtaXX37ZZNW2I5LVUymdltLsVatWqX3Lhm7Z0thM7pegLcdSjR8/vskqt4Tchx9+WK0US9iV+1sicUHC9pIlS7Bo0SIVmuVzSPCVACwBV4K2hMb+/fufW2VuTEK3TADIariEXnm8BF8JynKTUuwHHnhArUpLOXtjEmzla1y6dKmaJJCgLI+XYC6TCRJSJSA/8cQT6k8J/4aVcgMp816zZo36Psm+bUM3c/nY8j2SiYXHHntMfS+eeeYZ9X158MEHzzWSkyO9Xn31VfXcZfJC9roLee4yYfCXv/xFlcbL91Cem4F8jyXoy6KM/EzJ1yyfW76n8rnka7jttttw++23IyQkRN1PXQ9DN1EbY+gmIiLq3DpT6Bbycl7CtgRLWZGV1WNZ2ZVSZTnD28/PT51z3TzQyUqvhFkJnp6enqoU/EIkQErglRVbeZyEVSmJltV2CafSQM2wytsSWd2V5yc3KROXt2W/tpSwy00+hmEvdnPyNRoen5KSoh4vgVs+vzxWPrf83bBC3hJZpZaGavIxpJJBvhZpstazZ0/1fZKvQ8rx5WPL905Wqg1fj1yXx0nIlveVwC7kecnHlI8lEweyMt58pVqep5TlS2CX95MJCHkf+Xcx/PtIJ/oLPXfq3Bi6idoYQzcREVHn1tlCd2MShGWFWwK1BEYJ2m0d5iR4yueQGCEfX27NV5YvRJ6bYRVeVsnl8Y3LwS+m8dcoK/eX+/llkkFK2+VjyPfGsGre3uT7Zfi84kqeO3VO3DBARERERNRFSHiV1VtZtW6vMClhXkrIZVVXguPlhkZ5TrKiLc9R/rycwC0af41X8vlllVlWqqWMXb6OaxG4hTxPeb7yvK/0uVPnxNBNRERERERE1E5YXk7UxmSvjjTGkH1Ask+JiIiIOhfZ7ysNwmSfs6F7NRHRlWLoJiIiIiIiImonLC8nIiIiIiIiaicM3URERERERETthKGbiIiIiIiIqJ0wdBMRERERERG1E4ZuIiIiIiIionbC0E1ERERERETUThi6iYiIiIiIiNoJQzcRERERERFRO2HoJiIiIiIiImonDN1ERERERERE7YShm4iIiIiIiKidMHQTERERERERtROGbiIiIiIiIqJ2wtBNRERERERE1E4YuomIiIiIiIjaCUM3ERERERERUTth6CYiIiIiIiJqJwzdRERERERERO2EoZuIiIiIiIionTB0ExEREREREbUThm4iIiIiIiKidsLQTURERERERNROGLqJiIiIiIiI2glDNxEREREREVE7YegmIiIiIiIiaidGZzX639uUfNiKigrExMSgtrZWv3phFhYWCA4OhrW1tX6FuoLY2Fj1p6+vLywtLdXfL8Xx48fVz4S/v/9lPe5KlZaWqufq4+MDJycnmJiY6PfQ9VRZWYn4+Hj1M+Dh4QErKyv9ns6hrq4O2dnZyMnJUc/f1dVVv6d9VFdXIysrC0VFRfDy8oKjo6O6Lr+Hk5KS1O/lkJAQmJmZqetEF1NVVaV+H8vvcPn5vZa/GwsKCpCcnKw+t4ODA4yN69cK5Gc8Pz8fLi4u7f7/1LWSmpqKkpISeHp6qq+V2oeM9ZmZmervQUFBMDIyOveaNTo6Gu7u7urfwNTUVL1Pbm6uusm/ifwOpxuT/C6SnxvD61LD76L2Ij9z8nvOzs5O/f4T8nMqvyPi4uLUc5DXqvLzS52DyYsa/e9tSl5oJiYm4qmnnsLatWuxfft2bN26FVu2bGn1JoN6REQEnJ2d9Y9CXcE///lP7N27F+Hh4eoXxKV69NFHERUVhf79+58LDqKmpkb90pEXgubm5m3yC0d+XuWX2AsvvKCCyv+3dyfwttfz/sd/ZJ4yXPPfrMxDCCFCg1SoTJVKJCKlhDI1KERSCM11QhyKJFxKZm4pxHWNcQnhypzZ7/97fs/+br/WWWvttc/Z67Q7vV+Px6p91lq/3+87fqbv5/tdBJx7hyseSufAAw8sDuMd73jHWfnAibzsssvKa6HGwTRgyJ155pnN0UcfXcb/3e52t5lPpgPD4P3vf3/zgQ98oLnNbW7T3OEOdyjv//nPf27e9ra3NWeccUbzqEc9qrn+9a9f3g9hHGSjObjjjjs2N7/5zUvAZlXKxvPOO695zWteUwxMAdHqCJlT73nPe0qQftpzalXx7ne/u/nQhz5U5u3tbne7mXfDQvO9732vOfHEE5uvfvWrzaMf/ejiPBnnF198cfOc5zynjLF73OMes8H+T33qU82SJUuKw3Pve9+7vBeuePQHvSaIIhA47WAgWfTOd76z+dGPftSst956s7JoWvCL3vGOdzS/+93vmoc+9KHlPfbvt771rWKr3uUudyn6fdrOf1g4ptpTjOGvfOUrxegkwB70oAeNfd33vvfNKvdqiGyHb3/720U4zgcKkdM9eB0DUCDHy6reQsGRv+CCC8qqJMEWFgeMIUrVOPB3hSL6/Oc/35x22mml7xYrDAMBImVcyPE6Cs+THaDN+llG/mZsCm6uinKE1Qfj6dxzz21+/vOfr3LZaDWbLrj00ksvN/8vueSSYnyS16sLVvTpPIGzMD3IYrLQi7ysGF8yhIz3/vvGmLFm/IfFA9+CXPrgBz+4SvqG7Ku2yKqA3eB5xmOljlG+ley5/jgNi59VEh4Rodl7770bi+rjXnvssUdZZQxhHFLw6kpenIfVH6vDsh622mqry6X2McYFXo4//vjmD3/4w8y7iw+rgg9/+MNL1s8DHvCAmXenxw1ucINm4403Lm22uqwAhhDCNLFaKK2cLUp+ZgFo8cP5lYVwwgknlEy4aUOf7rzzzs2WW2459VVuyPzdddddm0022WTmnXBlZ7XLSbCas6KRH9et6LX9CPx8WNHr5kI9VvTeK9oOK9N+06S2xWIsW59plnGa42za7SoN+rGPfWyz7rrrrvQ+x2mUt7+aPAzKee211y6K0/7BuZhkHIzrTymR97nPfUqbSVNdETx/ZcbjQrdxWJzo55UZI9OUeZPi+XPN4XGsqGxd0esmYWX6ZS5WptxXhEyZtC1sT7rRjW7UbL311iXr0r7dFWFa/aoOK3PvcW2wMv0yFyta5mm14ygmaV/61HYEtshcqezuV1+jmKvNpY5vtNFGzf3ud7+Zd+bPJPUax1xlDPNjagepUWLf/OY3m0c+8pHNs571rOalL33pxKvYimTPhMjVAx/4wJKmbn+4dDJ7be9+97vPHqZkpdP70oSkAEnFYORa7TFg7T8jSPv7Pa2QOZhJJNOeiPqserAGw9779pCNinZ6ruukg0nxUEbfdaDLWmutVVbkhu17UzfROSlkyuugBOX1TOX1Uvb5or21w0UXXVT+rzyepe4EhTbr74uG1cHvfve75TsODZG+53r1kc7i+6414UcJGOk2P/vZz0p7qovnOvRBxNiheP7/hCc8oXzvTW96U3PPe95z5sq50Rb28B511FGl/NrNQWef/exnm6VLl5bI9Itf/OJSTs/qOxi+qy7GjVQ9aToOjtI/HJ/Bw9kIJek6m2++efP617++rKr6XPtoW+UYtx9d+rz+pKwndQy1iX3kyqmMUqWU0Z5lz1P//r5b/anP7CvSjsaJa6VV+Vsb1QOFlFl/KL/+lIptzri38dnfGzlfPE+7SvOX5mRu2etpzpif5pf5aEtJ/4Aj5TZHRo1xfVTvTan15/jXvva1Mk7tc9RG5t6XvvSl5vTTTy/bF175yleWMVzHTH++mw/uaX5rP/VWLvdS5vnuA1Me99Ln2pbMMVaq3PD8/mFv+k12hv2Cxl5drddHzrmoe1XNId9xT+PRAVGcdfdzj9qfxpl2N+61t7HQl1PGFXnm++RfHbeusfrtoKCPfvSjyznk6uE6basPyQAyzHPUy70Gxwz5Zxyokz5VB+1tbiY6v3pgLJo/xsAb3vCGsufV2DJWjUXjhJwyBsy/cXreGCPzjBsyz1wyxsxHMtz1gwf8ffjDH25e8IIXFP1BPtex/pa3vKVkPO20007FxpgU9TG+yU51qNs+jF9yjBylt/pygWxSbv9XRv8n46oMJJtc6/wRbTHsfAnP1W6uM8fV33fV3T3JgP3226+cf7Pvvvs2j3/842eunAw6r8oQulwZ3V9dyHzycRA6j+wiC7WJ+e8+/l11Ndmjjdgsyu/e+ohccE8ybZTO61+rzq6v9hm5p88H7bMKOUa20wmeaZz5LrloLA72UR9tTVaSu55L1iqj8pKn7Ig3vvGN5bmnnHLKrFzzDFuW3F9/1LFoJdUe8Cc96UnNnnvuWd6rqKO2VkfjwfOUq+orz/P3fFEH9zPutAHbynvsK3ONftUWfZSDXvJ881DbGxPqpSyuqfguXUBe6xf0yzypHVNRTmOozmHjXLm9ZxyyPdiS9NGwPcj6W331jfKYV+a66+g546xvU/seH+PUU08t9sGzn/3sMv+Mi0nsTP3GLlJu8k1baV9js28z98tqHPou/e5zaEfyzNxxVkq/z8wl31V2+lObskH0ibGpntqqto3+7I9p9zKfq20BffnFL36xjEX7y5/85CdfTmb2fQF2CpmrrvpWvazWD9qybE/bJ7S3sUU2sQOq7avsYWFYlE63a6WMnnTSSc1BBx1U9mwYZAbxU57ylOaZz3xmUVSE0Ne//vWSZkx4mDCq43ovA5mSftzjHne5ZzP+OXIGnjQiBwuZCCaAAU0BUwZPfOITm0c84hGXG6DuTxgoj+cSsCaW69yDAnvIQx5SJoJU0r7xTaiYDB//+MfLM2Gwu6eJRiFsuOGGzWMe85iJ2wrqqk4OltHm1eGuL2VyT/1g8lYFRzgzoghJE1EbEgbqYaIqk2u33377YkCbkH3l6Dnnn39+qcuFF15YygFCy8tk3WGHHcq2AeVYWaebgfe+972v1FNZYeuCtpLuY6xB2e3zlXZE6Gj32hYEqL4lsKwEVmFl7Aw63eqvzNrkGc94Rok4DkO9d9ttt6JcDjjggIlSeo2ZOg6M69p2yqgs6m78KaO2hHGpz5TlVa96VRmvZ599dhHeD37wg0v/WuE0pqpj9eUvf7lca3xCnRhg2otjW+89Ccqmn4178047w5gwzjmI66+/fim/A7uk6dU+wXbbbVfqpZzDhDiFxolm3DggiYJwb4rx+c9/fhk77mHuazdjgVGmHcxT7zNUtZvrlIMh5GAi/zeutaExoN8ZVfrZtX2ndRwULOWkfJx+Y8u15gK07dOe9rSSTk5hQzk4B8rL6a3OqGs8e5tttintUmUc5e+lvckQn5NljAvtrn99Xttde26wwQazRpLPTj755HK/F77whWVsYJzTTY6ZL5/4xCfKeKrjsI5L3yV3lbe/AqQdzjrrrGIweL5+MecY1D4LV36Mg+p0k40Ci8aJsWoM17FPlhgHZIvDpvrGIxhy5LLDgaoj5N5enB5zx3w0lvuG7kI63cY1Z8z4N3+VyTyq493LfJFCSvdUZ0x5jzzyyBJgttLFEKZryUDySV3JBvaJIDPDtV9/n3nuRz7ykeJUkxte2qw63uSG+tCp83W66UbzkD7QL+6tX5SPsc0Z0Lb6pw/9bG7rL7LF3nkyhf3i4DzyUt9rL32unbwHtoHyuzc7ypzv19n3OCNkgnLpb+1ADpNhHBG2GXmorSv6QJsKSL73ve8t9fB9cLo8g3O16aabLncOkPL5vjZ+17veVXQyXUtmaWffZTOw6egx46w63a7Vz2ww+lx/VGd5lNOtTq7RNuSze/RtOv1qvLAdOLOTog04kmwdfUKmV3xGf5HFu+yyS3HU6nyhC9nMPtc2+tR44qg/9alPLfpT2bTLxz72sTIejRH94r7uw2l1b33a75e5eOtb31rsDfXVLux2feFZ0A/62tjS931HUf2UVZnUV1mMYeUxHvUXucK+oFfNWfqUbHBGCZ1jTNCjdf7OBT3HBtMG5ozyeJ5yeh7bi+41P+q4Vj9jge3w6le/urzHbjHWlixZUsarwxA5rGSLsa5uggbqzTdwbpB+1e4+M08807gTOGDP1ucZV+opzdyYxDinW7tp974vAH3uM+PffCUvaztC/dmUxij7mC3M1jN+t91229L2YWGY2unlOlmUxgA1YBihJv4kuNZgI6wJMJPKIDeZ3acKd4Pq8MMPL5PUoCAkGdyUNgVu8FkVNREZ+XUgi8AtXbq0GJ+UAqFFUW6xxRZF2Bj0hLb71ghbFWoMVwrksMMOK5PGwHctYeIZBjbBIepl8Lq+YmDXYAIHwrXV6DfYKWXlpSDci1KbBI7Hm9/85uIMPOxhDyvCtTqVHCEGgudyBv27toO6awftq2wmJOWgHbShNlcmBjxlrS7VCNFHlCJByxF0kqO6uFZ/EwLqoo+Ui8KjYK0GTIq+JRjc0+QnILSJ8hOYPuMIKJv2YvQrF0HsxHSGj/FAKDFglJHSFsnmhHFoanlcx6DiKBB+IsLu53v6W9twUvuKAvpbVNNKq/tzMueKahvTTnN/0YteVOpg7Cojg9L4JvCNP22nXsYvKDJ9xvCtDo4+0ucEqb6loChZgQrjv/aLdlB+zpt+8Xzf10a1T+eCInGKOKPZSfT6xb09m6IWeTYm9I0gEKXtGZVDDz20tD/F4/uDUECUiXr1lQLF8fa3v73IDwcumq/uY55QeNrT99XP83zuOuPSagZlzgDRBtqY0eVexuU555xT5jt5MQnawFwyb4xnMoehbSwJmlHKlKr7mS/khjHyhS98ocg0ddd2oDwFIyldZSXXtBl5ok/VW/nMT7LU/81p9dhss82KE8RRZpwxOGqQQnsYs8YB2UJ+1ecxMBiJjK8qj40rgQn1Mg+kVxqPnmH8aE9zSt3IOeO7Kmv9bTyRQdqGEU52kNX9vg9XXowJTtARRxxRZJM+J4MZwMaqvianfIfcIgeM/8E5zjClL8gsMs844ziZE+aJ+9LJZGANIMHY4vQZe8ZUlcFkmDlM33hNAj3HJnE/gdynP/3ppSzubQ4z9MkaY5wjSm+B3ieXzDdzkZFsnFfdT59zeBje5ou52XcGyXIymQww/8lNOlpdfd9c9WKbuLc2nVQmme/VKTSnlce9lY/u0C/OvmCTVNlXYTeoDyOb/BW09WyOC51rTgs2MPxlHapvtVncmz7SJq71b+MDZB67Q39zRMgR8sS1ZDi9Q7caL/QP26S2F2eFvLEgQM57phd5q52r7aHv3YdjWOURmUn2cSC0I72vLfzfM9hs9CKHQtmVl6wz/tyXk/Tyl7+8jEn1pU9BxnoZM+pSqX3uhGl9Xm06doByaT/60r31Z39MjMMqpbbTL/RatemqbeK5HC46w3iqc8I41d7mEbuELtbedLQ6GWvaxS9puF6faZuqx+kK15Dp2sp4mNQOpVs4exaW9KHn6jf9bn5qA7avOaYfq51E/7DJzDs6Ttu5Tn3VnRwxNz75yU+W8tOr+oUMYiNoC+PP941d/Twsq6NP1YXGtvsIMJFH9K9+9Dlb0Pjw7yoHqiwyZtkSMGaMOYe5GYfGvblHT+svbcyu0ZfmoLHH7iR31NNcq3LHGPG82uZ8EPdmt6kbqh2on5VBW1abXvkEJ/V/9QWUw6Kbe+tb41U/GzfVrxEY8b4Am3nFrlIuY8I8qPM6LADdRJgK3SBqOyHVdhOr7ZRA+5a3vKXtOnXk6/TTT2+7ATF77cEHH9x2E6rtjMm2ExDtL37xi/JZpVMkbSfo2m4gtd1gbTshP/PJv3n/+9/fdoqz7RyitnOoZt5t286QbTsh0HYCuz3ooIPaTgjNfPJvOkezPPvVr351+6tf/aq81w32tlP0bTfQ204wlL8H6QRA2zlTbedwl3t3E7K83wnDtpskbSe025e97GVtN6iXK3NneLfd5G87JdB2E23m3bnpJlnbCdT2sMMOazthN/PuMjqDvu0mbttNsrZzkmbLg845aLuJ3HYCoH3FK17RdhN55pNl/O1vf2s7Ydd2AqzdaaedSt0q+qpzdNpOAbWdMdF2k3bmk2V0QqvtBGnbCd62E1htJ4TaTsnOfDoZnUIp7dwJkJl3ltEpzbZzdNrO4Wk7YTvz7jI8tzMG205YlPqpfx99aWx1Tlh7zDHHzLz7777VFscdd9xsfYzhTiG1nUAu9xukM3hKP2ujzrBpO6U/88lojOVnP/vZbWd8lr7Rzn2Mx86xLmPU/yvq1jk+bSfY287BajvDou2EeCl7Rb/ss88+bSdw22OPPbbtFOfMJ/+mM3TazsBs995777ZTzDPvzs3+++9f6tkZJe0Pf/jDy41fZeiEdbvnnnu2nbFW6tYptZlPl9EZfO0OO+zQdop15p3L0xl/bWdolXnZv79xZ5y94AUvaDulUt5DZ9yXudYZrm2n6GbeXYa22muvvcr408+doznzyTL0W2dYtJ3iK/OiP7bHoY/NNTJt2DWd89p2hkrbOfulPiDPyCpjrnPWy3swFzvl2naOanvooYeWcdFv0/POO6/tlGaZP51zUvptkM5oLrLmlFNOmR17ZKO+0i6dQVzeg/c7J6O93/3uNytr4e9tt9227Yza9qyzzpp5998o5+te97q2M+zaj33sY5cb451hWOrbKf4iKzulPfNJWF0wtzsnQEZce+1rX7vdfvvt285wXE5ukUVkIb1Jx/U/J4c6463tjMwiU/syC+bvfvvt13YORXvqqafOvLsMtkFnaLed43c5eXbEEUe0nfNX5PWkmJ+dIdzuuuuul7MJYO7RJ+QUudHXO52z3u6yyy5lLm6zzTbLyTDXkjHklPv3P6eTzR/ynOwcfC6++93vFp1Gdq699tpt57zMfDI35nhnQBedom3Jmz5kprKTyccff/zMu8ugK+k8MrBzJi7XvuQb26tzHku5B3U8Oqey3X333Us/sAPIVbBvXEtPHXjggaVd+7INH//4x4v9sdFGG7Wf+MQnynvGTOeglHZ87GMfW9pxcKy41wknnFCeSSdU2e97bCjtTyax8+iBPuywE088sfRx5zgVW6vaCK7XN95/7WtfW+pQ0W5sETZWRVvRccascrAtButo3hhr2vfDH/7wcp+PQtvR4dpuUM8o5/e+970yTthV/c+NU7bKmmuuWXQbed1vA/3zmc98pvT5C1/4wqJnB8eLMr/kJS8p7W/uTQo7m3zQ/tp+EH3LZmMDf+ELX5jtV3V53vOe13ZOXumbYTaUcd05jkXvGh+1zOrODjKOh+nHUdB57APj5KSTTpp5998Y62SVsenZFfpRGZS3Qm+bH53jWz4blI3KesABBxTbiT/CpuuPLWOCbu6c7Xa77bYr7V/hw+gHdazoQ3Oeb/We97zncs8yPtddd9328MMPX26+Kgd73rjZbLPNZucq6G391jnXxRb49Kc/fbn7hoXj3zlcU0TURdqUKNeol5UWK419usFYoumiT4NR824Alfes2Ij21EhnH5FqESKpJ90AnHl3GSJVoj1WyIZF8kR5RMuUycoQRIxFq6z+eq7vDOJ5UlJET/3dCebyvgiXVBYRI6cR+v9gmUXo1FWUyaqSFbBJEO0VqRQJ668QQD1F1ay6W4HQpoOIQoqE9VflIXoqWiuyKirdL48ItX4Vqdf+Io59RKi1j7RAZejG2swn08VzrFhIL9K/nt1Hn9SUKRHJudAn2sc4kI7Yr4e/jYnOkSorjdqpRsbHoUz6w2nWIueDq+fGo8wH9zJ2hyHiKxWprqZWrP5YadUGIqnDIutWKYwzEXip83P1jc9Fc9VTFLamQ/fHrzJoK8/02RWNFSMZJyK1nTIp7dXHKrkMCdFx0WSrH5OgzqLK+rAzGmbe/TfmoPltRW6YTBqGVULRaPO0f40xoL2tCOhP/TaIKLS5ZnyK9q8InVFW7kOmec4gNTtBHxsvnTKe+WQZnfIuKyJW/K28hNUXektKa3/FuWK8WtWygkK2dMbjzCfLxhhdLjOJfOjLLBj7VmKMLbpyWljllS1ihWlwC5e5R/bKiumM8lLmQegO17Mt+riWjLG6ZxWqPxetHJEv6k12Dj4X6k5u0OVzyeNBrHKTR1bt+6teFWWmK2QVDM5dkGPktv7p6wurtGSozITOyVhOx0Odqp5hs1Sdqg+t/JFftgZZKRyUh55n6xrZUe0SdppVQdd7pnYeHCvuZXVWW8sgoJfB1uocpPKycklekl199L9r6YRJdPU4ZE1oH21vC13NxuvDBukcsdLu6mWVeRKMJZlk9DSbpY/20BfsDavZw/SQNqL7jNV+G1gJX7JkSekv4439MDhelFn70JFWdYfZjKNQbv3qNQh5oUxWwdm4bHjoP6u/MgjowWH9QlebO2QKfa0eK4N+8lJ3r8E6al/tI7ti2LgfhvoZd+ZyXza6vzYl4+h6sqe/cqwcNbPGuJ90jAyDT2TF3kr7YLmVQ/+Yk8bNMDnDf5Dtau4MyvewMKwSp5tDQugTTKNehO8wY93kHTSYYXAQZvbXEBwmjYnMKCR0pWVKB5PqQnnWCV6pjs0wBQj3J3QIy+pscoCkqkqh9OxRMFzVyeSqTrAULgrCgDf4KadhL98nVP1NOE0CQUVAmLTqyRGkMAkyxo92YAhQSsMmGgdQWwxDWUxkhnX/WnXxLEp+VBtSRsqmToPKaFoQFA6jEfTwXOXWbwIldd+7gIG28NlcGCdSnNxLipN+rBhXjCnBBw7HpMLZ9xgi9ugYY8aX+3IUBXUEZyhoSn2Y4adPCNVh7aqexo05cdllly03vuqLIfbrX/+6zI9hhlgfc0vaEcfOc4cZF1Au48h3rmgYgOaBoIZxOqwNfM6gURd9OwnqxwAw/qVm6iv9pq3ND8rTXDT3tdMkkI/DjFIGorFC/qnHMAQGGVXG86RBukEY1YJUlLXnGXP9OSMl1rxh3KnnoIHi+YwJxkZYveHo6Gtyaxh0uAAN2UJXVoxleyA5POQWw5LskQ4pUGh8SWk1hlfG6JwLhj3ZKzhmHJs3ZIGgMplbz39g1A+Oc9jCof6jMFfVoe8ICXabTwIVo+YxpINqv0FHcRzKb45yXMmmYYay+5FZtf0H4RCwS9g1fewTV3ZBiFH2Acgv+oSOYMxrN/rMlhl1Gma/geNnsYCtZFzBuGG/kUMcv1GwSQR56XBjCOS5gDP7SjDV/4fB+WErrWyA0GKMsqo7R3FQv9SXsW++COSo3ySwLy1YsCWNJeNR+0q/Nk/YdNp6lE1nrGmfwfFgbknN16f0tTk4rMzaTrnZ0wLuk8IWZE+Oans6kV1Ix6iXsquHOWMMj7OhLAwZo+ytuhC2oiiHoIXn2vbiZewYt7U9Odx77bXXUL9kGOpM9g2bg2SeugmqmW/D0HbG87AgyqSwt8k3gc9hvgA569/GzTDY89VHCdNhlTjdJqGIncjdqBclSBj2YYRyHoZFvgwKg9vkcyCG/b/28R588MFlT8Oxxx5b9okYdMNw7bgJTjAQSiZgnYQEH+VpAjFUR+Faytl3OG2ud60oFkNWOUe9TH7ClaAbXJ0fBeVFQYpKOsDqda97XbmXPbT27nAMxjmYBNmoqK8+UJ9BA0Q7qNuwFfuK931O0LjHqkCfcWAowyVLlpQ2MCbsg7YnUfsSQKPKPAxGBYVAOTAQK1Yz7KvRzxzN/irBOGoZGQvKo4z6S78ZxzI/GKzDHG4ouzk12KacZ0qdchd06o+rwRfha26YP6MEcEXfC9pQBgwM/T4Kitp3rmj0lfYwJ8iDYW2gvY0R9RvMshkF49M+bisI7m1sveY1r2kOOeSQ0m/2bmvXKjMmoRoiw9DXDDYyZxh1HOubYU7CJDDKjUkrcieffPJse2kfc8bBMIy9UXUiP8zzUY5YWH1gyI9zCs1/xqO5x3ivGN/Gh6Civcd9uVz3/QpkTdvYI7s4HmwDe6w9XznsH6Y72RJk6Ki5RMYPOqd9hs1jiwHmJ/tmnB7UPnTJpHoE2pj8JnPHlcu9ya5hzjNbhT7qo7xslnrvcQg0mv8CctqO3qJXGP3jAhQg1zi/1TF3D7aMthpnn0HAVHtWB4yNQ/exZdxznI4nc0ctFkyKtuGU0o2DuqX/kokgMMtemNTpNgbYf/Yx23dcbTpnlNiLbT+y54+SydpzcIXcmGZXaiPjptodw17O9+Dc6sv+QsNcaHsyYBT6S7/U+WUumh/mJTtxHMap+7M9VzSrq8L+f+QjH1kOpVVHdpdDcNWdPGIfsdfnE8hWL+OWLh2GZ5pno+wn13vefGyHQdzffJCBUX0Br+oLONvBHBvFJPMurByrxOleUShgwmeYIiZwGLiMXULIYQOElJUfUUxGcU0xHoYBPl8FTxExJlw3TnkOYhJRQCYUxUjgj3pZLZImJk2PMpsL9xa5JDQc5uEEU9FLAlfUSjCDkzAsbbRCSIwSFKNQF9dM0g6MtHEKcKHQFhTvMcccU8YFZ0EqkvcpYdF0qXDadjDAMw5Rde3nPqLMxoD6C45oe9FF35l0PFEYDqZxKBmnr24lEGCSyi4IZUVi1NiFsTHYZ8aYsnmfMTNsfNWXQIJIuv9PsrJi7IPxNm6s+GxYpHcSKGJ1WAiqYmEM6uthbeBl5cmJ3ubJJFBqVm+sGjkETTBRm1gp15cMeAeiWOXRp5NQDZFRTDrPVhRK2vYfipnTzTHSDyL80s5tH9FGo8Y3Q2hcICasHhijc8lyY8T8Jyv7QUPGPieX0+C06Br45NDJJJJlITtk0PlbaASPlIO+9EsJVnI908qgrVI1oDbOMB4n/4ZR5cAkctF3xrXvIJwWbV0DZysCm2RY2dzXay7ZU9vEd+kJL33vfbJxPrgHPTCJvDPWPKPqJtfRf66d63rXTqqvR1H1rfEzTLfUFz0u887q+6AjPAop107n53BbNOEkc4aszkrRdkCWrI1RfW78Dra9tjUWlXsuO9RqJ7vGlqNxwZxB5js/9JmXa+bqj35/u2ZlYWvbKuPQPWnhFjJkF8oiEISjy/kVgk+TYtwp4zDUcT5tsyKwR2Xg8QUEbAZ9ARmZNatkGPyt+c7ZMD+mOwJWEgN01AAWhTvuuOOKsUug+YkNK04cmZe97GVlrzYlOmqFaEVgXLofp2lcyg3hJkpmJVOqr3oYzCKr0k+Uca4Xx1sAYS44fiJYjAmp+C95yUtm77HPPvuU31StaTkLCQVAgAt+jMN3RCYXypkah2dZ4RXZ42zttNNORaAaF5wkp4Vr1/6pjZNgDErP46BZgZatQBA7tZVz5ycVJnU6GCNW4a2w+LtfRmnxfnfc/aR/GW+jGKaglEGUmfNOwffH06gXBT7X2NBW7un/HLRqRA6DEai/h6EdKUvzYxgMmElXAuaiZleIZGvXYXWvL+1PhkwKA5VDqp+cdKvvRMkpcMEd2QucWAr8yoD0casxjJnB8Wj7jjkj02PUnNGv85lP4cqJeWuVbJwsF/SU6WHuMd5hzjNkZU3QgYLh5HGVy9KLORHk8kIY06OworZ06dKyCsSpoA/Mf+V4xSteUYKQHP/5BFAngUw2RyYx3q0qjstKG4SNoKxzXUfX2A/LThjE3B20s9xTuemGUfK8QgeqGxvHCiujnf7Vl4z+cbCP2EnsJd93D+OGHhinZ1AziuoqucCDv9XVfUfpGSjvpJmEo6Bvrb7S1YM6ZdjLz7NNktIu68pKs6w6DtLee+9dxqh7sHMFQAV7x9m2+nRQJvu3AIHr2DN+cWWwjIMv9uPKZgSMQ38bK2TKXP0hA8IYF0RfqOAch5Qz6qc11ZceF0y3MGProEC0LIVpyqWFwhzibAto2pNdfQF16vsC4xbzhsmCsLBcaS0ljo9VTE4DJW6QEYB9QTN4oMnKQjiIzBPo/TTjQSg3QpPhXZUOQUdYSKEb56hyyAQTRNgoj7nQBvagcbgdUqM9CPb+6iXl1T/UZiGQpkYAauNR6SqMePvNCNNVIbS0lz15HD/7ajlSVnIFCOq4UCb9V1PSJkW0mgIUbBFBpACkeFkBp3TniqxXXC+Krd0YmzXySPj3DT1Gx3zLqI6MMHW0gjPOaJFmJIrO4PH9cbiv+jOGjLdxASdl1ufDYMBpt1Hj31w1PxYCkV3lZmSOUubGiaCdFYVJ9nQzDNRN2pZ5Cn2mza0Ic04Z7+afLJyFnnPTwLy018vckQVipU+2hfFYla96G0/jjNhw1cD4r+nSw+D8CYgLGNbUYmOMLuSMCYbbxyuIQyfWMWYukh3jUh9XlnoIk4CZ4JI9m1a7+sFNY7zuMV0oyAd1FyAfF1Q0xxjO83G6yWT3Z2i797A5qv3VvWYZTIr+EYAgk8fJfP2t3L7LLhCU5Pxy2o2XUW2pXOwcwRjp/uAQWHE0xvTVKDjc+kl9655bjphgijHEYRplc2hfaeH6Y2VQPzanbTnKMwqf21JhxXqS8c2eE9ynU9h0HCV2Z38Fkkyu9Z8Uc42Tq43Yr+PS0zmayux39RdyLgxCR3Pq1cczBd5HwW4SLFH+STMGRqHtZHWxF9VPOfSnhRUHidnLLWBvbOuLceN/scAmMVelzVu5t+Vx0BeowbdwxXGldbopfQLDRBmWGkW4cYo4N5iPcBoFp5mTxdD2G37DFChBbz+IvWEUh/LBSqHAgElhL+iw8lgZs0om/Y2gniTiREhpC88hUAchpCg091uINqhIsdUeDiWTjjqo4PybEWV/zCTBgxVBffp18rf20G4CJMMcYWm/yjxOSQ5DVLsevkJ5ugfBzdHqC7W50C61jIwUwn4QBgGjoY7d+cBhMtYoqFGOpDawb3fp0qXFSJ5rnPmcASbNWF8r27BVG/OBs+nZw1AuAl+q3KAidz9GlsNM5svgOICUVSmj5qKxP6jM9YP+83v7tqdMYuhqB4aB+Wl7wDBjhAHMcORETGvcLyTqpB7GMPnRD/xAOxkj5BLDKFy1MX/9hjLdNog5RObYgmPvN8e6Yi4YYwJvg3LZGGPcCmZO08B3b7qSczYsu8f4Jn8cqDYfx3cu6A1pwQKAgp3DAhbkBSdAJsGgLBuHtrQdia6QWmquDkIPe65+mzQ4DLpOMN8Ch0wF/TQIPSpzwDPYRtUB5khZAKArbHkbhiCDE861uTrThZwpvyWuf2wT4+wMtof2o2c49Bz0+isy5C65L8hORtNHg2V2L88zRscFQCZBHTk26sE5HdY+2sV5BQLcnKK5dC3oKvcaZdOxbW1Joy/nM1agXW3lYIfqt2EBcGOIMyq4PEkwemWx6GDcCASMCtizjbWjIFNdSOmjHebTFgLx7HBjjOwZxDxRJvpQG10ZdF8dN+bBsMxLNhbbbKEWNsKKcaV1ukUYHTpCQVI2VskIY4KUQOLsif5S9t4zacetME8CASj66GRJz7TvgxNCsHqOZ1AiHG7lc/omIxwEdN2ny9AXRaTMlMl1nLi6N52SFq2axJmzoucZrrdipa61zgSm59jbzMGjID2LIhumIOaD9CQRQalQ2lq966EuVjNNbu1jpV9bDAuMrCjaRdRXn7u/uhA43mck+FtQhHPJeKKkRLU5YNJoCR19qS0I30GHbBRWRWwPEPmUjUAB+BmWYY7zKBh8VsaV1WF/BL4yMrq0pVRf40AZCU7lU06fT4J7Sz2zmm/fIkOrZiNw5ilaKx6cR6mU6jRp+WWUSNumqDhhykiQexaDgtHo/qNO6DVePIuyo2CNR+OF0VJ/UnCYkTEKitE40H6MVeOgOrrGnHQ+Y1HKFaPRqZ2eaSwInKgHWWFeClbMBQVsvvmuOhgDjErz3xgy/o072QPm8LBDixYbjEBpvdqN/OAYGGva1OoVY938rgaqOko3naZzFBYvAscMcmOfgUw+kQF0mVVUMo2BKmOCfIQxRp9x1O2j9t0ql8kkMoo8IQfoCXN53Gr6isKI5kjSC8a155i3ym/OKj/dXFNXyU3jfmUNbs8l+8g2ziAdJOBHf3k2OUpW05nkaw3UT4qfUhLgIENl2NVsBO3rOXTzqaeeWmSXIPGksCvqT8DJBmJL0Bvu6/7sK7qKLPR8dlEtO/kr08wYcDiVIKV+d60614w+fcE5N65QbSwZYJx1W8XYMfqBrjBe1NOWOuNKwEFwFXSBOtqqwKmWku3/bATPJbvoAW1EZtN9K4O6qTOdq32UiT7Xr2Sk/vSe9rE6K4153JaxivpoP7rFFjY6zDg119geS5YsKXXwfLLaOKXXJpkv1enm6JLrxqJ+dL0y04fubU4qg/ZdSNttGHSlcUYmyHrwbH3l3/pOOxpDymlMGWvVNlY2/W5sKL82qDbAOPSHAI1rBBeMNQFF12oL7WCcWWwQQBwWpFtsGPvkhzFfg0qDvgAZJwvFGNXGC+ELhPkxedhzkWHiUSAMfXsWCFBOikFkQBl8hC8YkiaWAehwiJXBat1OO+1UnkWYEgSUE0VtsjJUOdiMDqvBdeWIcCBc7NnlBBN4VuI5wwSG65TPNfaKmkCTIIXPYRdLly4tdSSwKC4Cy4uw4BgSMPZ32EOnbIyAlYHykCbI8VEPjhxBJsqmHhwxwlB91XU+julc6FsRbgEP+0/1PaUtyCFlUFoQ5apvfFcEVBsTLtrLuBHcEKiwt9peF/ebC1F4UVb9zUD0M3cU03zQbowKP6Gn3Tja9R7KyJmpB69wgiheq9JSf/XhXOhvTqQ6CzIIfDA0RYYJX46nsej5nmH8TYoxaU8Z4S3qbGVKtoNn6W+K0Pj1f8brIMYcI5DDe9BBB5VymR/mjTGj3tLoGOaTIJtBfzIoGWeUo/7RvwwyQQVQnuaGftM+ZASD23cYrFJeJ3X2GUTmP2OKM298Cf65L0PUfTnljMa5Tv1dLDCsrG4wNBge6qNtyFEOh3rY201J63PGnzT6lTVaw5ULY4KDRPdZLeTcmYPmMCeGLGPQ7b777iXwVyH7zQcOG4edAUjukMdknvuaV/SYzwUeySh7Tut+3YXAM+ks85/xKWCv/BwaThkEVaXz0pP0Fr3MZlgZx4OOFAwm26ue5vSrmzYgl/2fXhaMHLbyNg66SzqsgB/ZKrONrCOH3duLbibrJrUroNwCqPa+k/eClGweMl+b6XNy39k5+rcfbKXnOHb2xyoXHUbe6wOOETlJ5nNa2Wk+q7i/gKlxJYjL0SRn1acGoX3feOHIKmdFf5Lnvkvuy3Kq8pmzT6bRM5w8q+Urg+eSgfZcs0MFIPSrsnKGyUvjmz7Q9nTTJAjS+L4xqs3dUzCjBqq0rcP+jClnitClHOlhPwc3iDbVdgIS9Li+4XAqs/4wh7WRzAz9wlaZNnQv24AcYLOwHdhE+lJZON7q7swUNovxUdEW6mP+CGjRYca67YXjcG9jgCyg05xfYpwYn8a28akP/Va8BSa27GJHvc0bMkZmBRu4+gLqwjY332SGGDN0uHnrvbDqWGP/jpm/FxQTiFDipIpyM9wIwklwrcHCSeVoDDOIObmEEwHqbwPLxPMcaU4UJQVqIBIolBCFY4JSoMpFKYwyjBkKJiaBySCoZSC0KEtOv2sJAM81UTnbnD8D2bMN8j4mrjKrF6Hic0JU+ZWNEGAU+HvStlIX5VBPioXg1H4EiLITZhxRiln5PJPw9zmB5T3tNap/3IvDRvgSPn3jQ/tQOjUy6zPP930Tm4CkGDir2lq9PHNS3J+Rp7361zH6tLt+oMD9u/atNvB3dRwIGwqrOuZV6FiFdA8v7eQ65fe+U0EJ374yh/vVlQnCmsKb72pmHdtWD4wF46yOAX0otY7y9H/1Ec2uY1eZ9JH3tauyDwtmiM5yRvWLsW/caQftpR/0C4fUZ8bzpCi7ceS+yqDMnDLPMzYY2tLtGGIM5/4qBNRbueq1dbXUHDZOzVnzSl2VU7/Cc5WdLNBG9X39ZWypR4Xhp69rO/u3Zxqf2s54qeNZG3jph0nxTM9TRvc0bsx9Y8WYE/hhAKlHlRnKYvxqC8+t+9G8rw/JR23Sn1vwuXZSB2N0MKUO+k95jGn3UEfXGfPKaBWmyiHvu4e2rdkW0LZVPiiD+iivdjQXHMqnf7WT75KdyuO++sL3yJR+P4TVC+PMeDe+GfzkHrlC3pNB9Ie5b+xzhPqrtcadMS8oRpb5vuvIDXPC+CeX6SH3JfOMJfPdM4xTMoJO9VmVecae641F82guXKcOxqtxTHZ5+ZuOUX7BTff0fPrH3DM3zHP/Nq85JOblMKpsN8f6beD72sicVEffI5PVz1w0x8hPc1BZzLdh830U7q19zVHXkXPa3b/pUP1CRgzqC3PY+66t8qqPtifXlFGbaAeOZNWzbAs2i3YalF9VNvjMPeq1VS7Tc+Qvmd4vl7+NDTJFvbS7+gjuqo/xQoeRTb7Xx7Xq71pjRntCP/ub3qRnjDXy0tip+gKuN0a1mTJXG0BdlNN1Pq9oH/LQuPB9ZdWvvq+O2kfbz8dxM9fUk97SP+Sxuiu/epl/bEXlURZt4PnGFbltrqmXcTysT9WxjkVld71nKJ9rjEN9SldVHTEJnuWe6qodhuF+ym0um3e1380V7xuH5rixpB39rRzmpX4btHlqf/f1u37XHnOhjOrr+9pAu7NJ3E8d9JsFK+1Zx4dyaWdl0oZQBv1kjpBZ/fJVlM14c53/D4OM0L+eXfvNdZ6jP/UVlKW+b5FDG3nPWFWXKq/0qbJoG+O2LkpVXa/NPct99X1ta58bv2E6XK2bzPPbFLLI4PCanFbL/G0iGzB1koBTo5oG1qAjtbIQ5qKvjAgD3WvSZyi31TETwwQgMOfjBA1CoXEK1ZUQMIlrO3hPGWs5V+Y5w9AOopJe2plAW+i2HqT2exW8BFHFWOD86XvjQXv0PyecXa99RhlQw3A6ulUQgkykuB8MWBGUkQOvzdSBUK99poz6S98Rwv0xPSnuYVxoJ/WnXDxrRe41iPsqu/tqX/2t/63gi/6LPDMOBlEf/WKs6idj35gcpqwmgXIxB9XV/Fe/QTynjk9jv863lWkHY1791UO/GUfuu6L1uKKpc1i/qs/gnEIdR9r4ylrPsDAIdBsP5p1xb/zPNSaMMfPF/Df/yA1jreJePjNHhzkMCwW5quxkB9mjHP2yM77pB7qjL5MXArJIHcl+9SSzBufZyqBftLG2Vjf9slD6vtos2oQuUe5J24ZcIadda7xo20lkiHq4Tl9Vu2ZS2eNa7axNqnyepl3iOdoHnmUMr0zbVxunryf77W0c17qtaL36z3B/ZZ627TYOMoAeolvJCLbkXP1tvhrz2oPemo/sUG9t4Hr3cW2VSws571cl1RdAlc21Luwvc0mdfbZQsiFMxpXe6Q5hVWH/jz1QUu1qak64PJM43SGEEEIIIVyVmCxcGMJVFJFy+8LslbeP1/4qKURSvEIIIYQQQghhLuJ0hzAG6UYcbQd1OdTFfj6HdNR9uSGEEEIIIYQwjqSXhzAGK90OTnPqtn0xDqpw8Mqke8quamgvJ3/6DVEH9Nj7HkIIIYQQwlWZON0hhAWHWLmyHkISQgghhBDCQpLluhDCghOHO4QQQgghhGXE6Q4hhBBCCCGEEKZEnO4QQgghhBBCCGFKxOkOIYQQQgghhBCmRJzuEEIIIYQQQghhSsTpDiGEEEIIIYQQpkSc7hBCCCGEEEIIYUrE6Q4hhBBCCCGEEKZEnO4QQgghhBBCCGFKxOkOIYQQQgghhBCmRJzuEEIIIYQQQghhSsTpDiGEEEIIIYQQpsTV2o6Zv0O4QjEU//GPfzSXXnpp87vf/a5ZY401mn/961/l///xH//RXP/61y9/hxBCCCGEEMKVhTjdYVHwl7/8pfnZz37WfO9732tOO+205qyzzipO9p///OdmzTXXbLbddttmww03bO585zs3N7jBDWauCiGEEEIIIYTFTZzucIVi+P36179uPvvZzzYnnnhi87nPfa6sbt/pTndqrn3taze//e1vm4svvri5+tWv3qy77rrN7rvv3my88cbN9a53vZk7hBBCCCGEEMLiJU53uML45z//2fzkJz8pzvab3vSm5u9//3tZ1X7Ywx5W/n2zm92s+cpXvtLst99+5f++/7jHPa558Ytf3DzykY8sjngIIYQQFhf09R/+8IfmN7/5TdHtTE06+8Y3vnFzoxvdqLnWta7VXO1qV5v5dgghrP7E6Q5XCBTyt7/97ebII49sjj/++OZvf/tbc6tb3ap5znOe0+yzzz7Nda5znaKQfW/p0qXNa17zmuZ//ud/mmtc4xrN8573vPKd2972tjN3CyGEEMIVDQebo/3973+/+cxnPtOcccYZZeuYDDZ6XeB8iy22aO53v/s1N73pTYtODyGEqwJr7N8x83cIqwRxngsvvLA55JBDmpNPPrko6Vvc4hbNdttt1xx44IElrbxGwEXG11577eajH/1o84Mf/KAoboes+f4DHvCA8p0QQgghXLH86U9/ar75zW+W7DX6ncNNZ9PXnOtf/vKXzZe+9KWSuWalW+D8hje8YbLWQghXCSLpwiqHUj7ooIOa9773veW0cqlmm222WXnvmte85sy3/g0nnGKun333u98tTrtrQwghhHDFIZDu/JWzzz67bAd74xvf2Pz85z9v1llnnZKl5mBUGWtPe9rTyi+RyHJ73/veV85wcV0SLkMIVwXidIdVirSzt771rc3HPvaxEgHHfe9732bnnXdurnvd65Z/D+OWt7zl7KnlFLRTzf/4xz+Wf4cQQghh1UMfOwxVNpqzWOh2vzzymMc8pnnta1/bPOMZzyiB9bvf/e7N9ttv3zz4wQ8un1vxPvPMM8svlsh2CyGE1Z043WGV8sEPfrD54he/2Fx22WXl39LOHIrm8LT5YK/3yqx0MxTqazFzZSjj6kDaOIQQ5ge5eemllxbnWTDdr5AIjj/kIQ9pdtlll6Lb+4el+QWSe97znrO/PsLxPuecc0owfmWoenKxy/ErQxlDCNMjTndYZfzqV78qKeX//d//PfNOU5Tz05/+9Jl/jcaq9l//+teZf60couoU/bOf/eyy52yxwoB55Stf2XzgAx+YeWf144oyQjxT0Ma4+ta3vlXSH3/0ox+VMVYzMAZxjQP/HAr0hS98oexLdP2o74cQwuqM81WsbL/97W9vvvzlL5eD0u5zn/s0O+64Y7PRRhvNfOvfrLHGGiWjzZYx+7j/93//t6x0O+V8RfVA9Pni4YrS53Sw7Mcf//jHpZ3PPffcsrBjbMxVHtf6nsAPvf75z3++2Kp0/ahrve/+Dgs09mx5nORZIcTpDqsMe7ouuuiimX815WCVO9zhDs097nGPmXeG85e//KW55JJLZlfHVxar5D/96U+bT3/6080Pf/jDmXcXH8ooK4BRsjryi1/8ojnvvPOa73znOzPvrBo41vr+qU99all1eeADH9g88YlPbO52t7uVFMglS5aU1Zu+AvW3g/zsT3T6rn2Le+21V7P++uuXtEoKN4QQripwSr72ta8173rXu8r/YRvYBhtsUDLXONjD8JNhzmipn5PHdPuKBi+jzxcHV4Q+p5edHSDo4zR8h+7Sz49+9KOb//f//l8J/DhnwAF/g7jWwX4O87UV4i53uUv5vpcD/h7/+McXB5wz38c4FWCyJfJJT3pS84Y3vKHYEltuuWWxEYzHEEYRpzusEjjOIrxWEyt3vOMdi8M910+GWFkcdLhFyUcp9bnwPAe87L333vNOaw8Lh9TCV73qVc0JJ5ww8870sbrNSX7Zy15WjJ8999yzRLcZCspx73vfu9ltt92at73tbUWZV/7v//6vHPzjd+VtkbAy/p//+Z/lwKDdd9+9HA4YxzuEcFVBIJwMlCnEAbdPW9ByvfXWK8H0cfQDmnWrWP+9+RB9vji4IvQ5He4AXsFwY0DWBcfXQX1HH310OaRP1oUMiN///vczVy1DYF3ASJltd7A9wlj+r//6r6LXjW/OtDHed7xluLEF7nrXu5bveqafxnvoQx9afvJ2MGAfQp843WGV4De2CaN+FPBBD3pQWSnkrIx7Oamc8KzYIyY9re4Lmy+UNOfq+c9/ftljFq46SD2jjI0hyprT7afnbne72zXbbrtt2f4g6v2Od7yjRLMFi/D1r3+9GJai2SLikCZJ0e60004loLRQmRghhLCYsTpNp3/iE58ogUjc6la3ah7xiEfM+VOe5CS5ulDbcqLPr5qwDQXQpXfvsMMOJUPNCvetb33ros+f/OQnl1Xu29/+9iXIzlmuY87/Tz/99OYtb3lLGa/HHnts+claC0EO9t1jjz1K8MBJ+74jk6M60mwBduxzn/vcEmjCmmuuWWwJjj3HfaG2QobVjzjdYZXwoQ99qKTy9LGPizAThRz3OuWUU8pqd4WzI0XN73yuKAS2/WgcqUG85zP7ei6++OLybKez2r+7oqlDBHb/vgwV7SEQIYq6IgaIOmhDZVNG6V3uJ5Vq3CFzFIL9S56vflZ0XTdXip+6e57v9p/nuvm0i7K5j/ZUBwaY8lBYg+VWHt/zuXKKPquv64f13TjcSwBH22+66abNE57whJlP/g0lKmp+05vetChse8SgDPB+H9kWFLy2WNGxEUIIVyboMA53zQaSeUYnc1o436Oge+iMQV3aP2xtRYg+v+rpcyvaF1xwQXGqt9pqq7IQM8jNbnaz5nnPe17pLyvx6gip/pxn2yGe9axnFR0+iADOM5/5zLJlgSNdV7v1h/YZtAXMAWWRFTeuv8JVmzjdYeoQeJ/61KeKcO1jf5OfFDnwwAOHvjg/Xh/5yEeKMqjc+c53Lnt3VkZRE8AildKE+xCs0oUIYquYUpZEQu3z2X///Uu0lGKZDwQ05XLaaaeVw14e+9jHlvuKqG688cYllVna/XwENcGvTV/84heXvUd+hkVqneju6173ulLOfkoU9APlJqXK9+xlvv/971/+v8UWWzSHH354SbMepnApdkpq3333Lc6qA/C0j7+lYjkcb9LoLgWm34844oiSlq1//ZTMK17xisvt+aeEpYkdcMABzdZbb13qp55+0/0lL3lJ6Sf1Ua9J0AfS0ewn1P6jxo+DgOwHO//884sxAv/2/W984xulXT1TOzEeRNrdb2WCQCGEcGWA48RpIfeqE0Om0svkJOdjFPQ4Z6yvY+pWsejz6PP56HNBBg4ux9nYG4U2caK+8ergPiiHTA3OtozLUcjEFExiC9SMDvu9r3nNa5b3jB3lVTefuyfb1IGCIQxjjU7w7D/zdwhTgSAlkAnJCqFE0VI2osXDXpQM5V5TfCuUnL02hO2KQEiKkJ544olFQVGYFSlKUpEIVYrLfiDKgeJyUAvlLr1YRH8SGChOtqSIpSz7iTQKRwSVgSIyLTXZd+xv93k1Wigwgt3zCH8ou3ax/+jVr351MVQ23HDDcj8/z+JayvuTn/xkyQhwUFjd+04xSKmmxCkpbeg3VB1Aor0pPU7pve51r+bmN795uQba3z7mF7zgBcVgYlh43qMe9ajyPCseDhwRVbbPaZzRBeXQnsYFpUnxOfyEstIGFCSD5eMf/3gxpChKBgFFboXaSspXv/rVkh7G6eUkT7LVgMMsHU2E2on5yjsMbartfV+6pH2K2oMDzqhjjFgRV673vOc9xXgRHJJitjKGYwghLHashDoHw17XGgyny8hwOsiKI/k97MWZo5uc+kyOkpd0sLRgqbwrIj9XB30uhTn6fH76nINrL7U2FiwYFfQ2Xu3BZkuyHZXLdfqfQy5gMQptoK2MVc65PuaEy4CThelvfcgGOOSQQ0qfGWdxusNIugETwlTpBFJ7pzvdSfhy9rXZZpu1hx12WHvkkUeOfB1zzDHtQx7ykLYTYLPXdQqg3WeffdpOwM/cff50irM99dRT205Rtccff/zMu23bKY62E/jt3e52t/bLX/5y+V6lUxptpxTahz/84W2n2Mq/J+GXv/xl2ynTdq211mo7Bdl2Cnbmk2V4xh577NF2wr3db7/92p/85Cczn7Rt59C1G2ywQXvwwQfPvNO2ncJsOyXQdk5fu8suu7Sd8L9cOdEZEm1nCLTrrbdee/bZZ5f3fOfnP/952ymztlP47Y9+9KPyfsV9tfmDH/zgUt56z06htl/5ylfaG93oRu0222zT/vCHPyztVPG9c845p+0UTbvlllu2F1100cwnc6MencJvX/rSl868swxt2xll7a1vfeu2U2Lteeed13ZKb+bTZXiO6zqlWcbRJP3RGRNtp3TbZz3rWW2n3GfeHc6hhx7a3uEOd2hPPvnk2Xv/6U9/KvfYbrvt2gc84AFlLBiLv/jFL5brgxBCWB2ho5797Ge3N7nJTWb1cudoFX3UOb7tKaecMvK1++67t53T03YOUrmOPvJe54jN3H3+kL3R51c9fX7++ee3ncPcPvWpT21/8IMfzLy7PJ2z397lLndpO+e/jBO89a1vbTsnun3ta19b/j2OrbbaqpSb7q9ccskl7QknnFDqe9/73rfdZJNN2qOPPnq5eoUwyPgQVggLgBVD0dWKyKlIr0irw09GvaSEiZp3imDmyqZENUUb6wEWC4mIqMivaHKnlGbeXYbosgiyiKoy9dPdxyFiLKJqxfSFL3zhchFQkW2nrkrvkoolUjyKbr6WCLbItjaQvuX/g6sD7uVQENHZd7/73SXKLBItFVBbWg0YLIc6WQEQqfX9mnIn8ixNTfqglH9R7H7k27P1pQPGZDJIuVtZZD9YRRA5l4jjkJzBKPad7nSn8kwrFCLO9ofNhf41DtV1rki66Lw+9/3aFq6RliidT7rf5z73udIXxuSKrNCEEMKVDTrIii35XCH7yWGrfVKNB1/kpP93jnfRc1ZHQZ9YpbWKu9BEn6/e+lyat1PyZRc49HTYNgH7x50npAwyCry0Wf3/XHYA2Jr9NoQsS9kBVu+t0vu/k8uzxSzMRZzuMHUoKUKvIg33Jje5yZwCitC3T6YqaFB2DriYhpPD0bLfy29NSp9zgIZT0z2fgiTgX/rSl5aTLvvpWqOgGKXTUTYPf/jDl1P8FYpWujhlPS7Nzf2kSDF4nva0p5XUpmHt4D0pVFKn7LeiwJzwyrjxOvPMM5tzzz23tC2jhEKB79vPdfDBB5e+UWefUyj2Xek3Tqi+7L+8RwFK2+6f8rmiUIjSwBkTUs0GDYqK39VmIKifn+6YC0pTXaUaeo1D/Rkj2rwf9Klo42mMwRBCWKyQhxxFzlvVG3QLJ8+/ndvCGRx8eZ9z5Dr3qKy11lrFKZ5GED36fPXW5xxfvzRi7AhGCIK71lgT7JAC7gRy/a/92JzaRruzBbSrcTsXbAVtMMoO6ActQpiLjJYwdfqRbdgjK8I6F/aMUQIVAlLUV6R0Wuy8885FkYnIWm2nPO2nouzs6RU9nxQKngKg3Ob63VLPdBALxTsKbchwIOjt0xrnOHrmbW5zm6LwGDug7F70oheVdpRlsNdeezXHHXdc2d/kwBVBDtH0CsXkwBiK2vv2NtkbNezlUDyKjlHV7+v5Qrm5ngHBGBtXR0aP/WDKVus4Dqsp6q5e/aj1MGok3DWJXocQwjIdxFGsjh3IYPuJHZDFwRv2svfYXlfObXVS/J+O4qSOcsRWlujz1Vefwz50h9lZ0faTXa985Subww47rLwEPY466qhmn332KXvIBRGs8CsDvS7bod8+oxCEYAPEDggLQZzusMpZb731iuM9Dkr9mGOOudzvczsgRaR0kpSgFcXJoX7HebfdditC2aEoFJtUIgedfPjDHy6KaxIoN1FxypGwX1m0CSVISYvajouwUsQi/RRtbUPKRgqUyL7fpGZA+HvXXXctqfzS3Bza4n241s+heK4osu9SYsNeDm0RQRbZpwBXFI6uNqOoKUl1HYX+qcqzP05GISLu+5ToXGW0muPZxppVhRBCuCrDgSI7Hc5VnRUy0vYaB2LRLZzcYS+/o+wAMd+vK6cOqbKiSjdOa7XwyqLP6bro8/npc9DpT3nKU0ofG2PqZuuXgIr0+pNOOqlsIbB4I3BRbUfP0d5z1U35fUefTyswFK5axOkOqxzRTAJ4FDWNy2mfNcpKSD7xiU+83Mmk00Kak+io0zQpZdFx6VhOXLUP6tBDDy2KZC4oSUpBdJrCHgelQDmOi7xSsqLdjBYpe8PSnSoi+BQXZT14yrtsgde//vVFsdqzZR+eSDBFbF/ZySefXNqds8m5p2yk4X32s58taV/jXk51ZUytKBSuiLe2m6uOjAgKUXtMcpI9peve+m7cXjs4YdWY8wohhLBMT/V/vopOsprLCR0VnCSfBTE5QmRvlel0uRRocnmaRJ+vnvq8wnnWx35ujZMtQ9JJ9oIrUto900+EGaM1WKJM2mNwu8Mg+tB+f9+f5mJPuOoQpzusckQ7R0U8q4KmRKpiB8ViH5WfFZkGnksA2/8jLUvElFCWRubnL6SnUUBW6aWnMTzmgjFCYamP3+30jGEQ+hQmRSEVfxTSm6StUdYXXnjhbEBiGJxKqWuUxe1vf/vyDPud/EQKA0NZKHDKygEmDI83vOENZdVCWZTX825961sXJW1vlzYZhecpk2euLLVcFCVjY1S71TpShlZR5kJfitxb2RDUGQXFL+Dj+5Ps9QshhNUdcpjO4TxzkMCJ8bNS4+Qk3UOektVVh5DxtomR89NwZqLPV399rvy2Ovh5Nn09Cged+Z4U/urMO7jNmPW8cZkOxoV7y8y0WBTCyhKnO0wdykrEsyJFbZSC4Wjbk/SRj3xkVrFLQdtpp53KHqlppaFRBBwxq+mipcNOMyWoHeLGKZNiNxeUqYNi/F/UWaR3GBSiA08cNjJOeWhDikIZzjjjjHJQyDDFKcpO0fgdSye0MhRE3EWAHTwi5awf0IAgCMWojUXUGQveswrBMFE25Rz2PN93Ku0uu+xSDi4ZpVRHMfh9RoHf02QYUHrD9t0ZG34b0wE5HGkKdS5kV9hXJvLttFPG0yA+c9AMRaze9huGEEJYHjKVjrFiOwq6h/7zKyZ15dfBVmQ23dS3DRaKK5s+twq/Ouhz311V+lydlXOPPfYo9pBAxCDq8p73vKe0tWCLgAWMP1sV7R130G+1NfsIZvjNcveVlRGnOywEcbrD1Nl4441LelGF8iXwB+GMi0zvt99+s2lGIrV+mmPDDTecahoaZ56CEmH1ExOEPyVI8BLIykPpidhTeoT2JFBwFKM620NF+UlNI8gpDWnM73znO4tRYF8cQ2Ac2tFhIRSxvVcXXHBBSYESxKDMrEKIbAtaOKzOPifKVpRbyhnF4bAV7VwPklE/ykndlE80uB4UI2DikBZ946dGKE0Rac/TNtpIe3npH3X1vEmgCPWxezMiOLxeUvgofNFlqYDS4ET1fc9LfaW+OQhGGZz8Os7o60N5UugOirG/TxtoS8/3DKfAMpgYk05SNf5CCCEsj1VM2Wd9/d6nrkbSLXQc+c4J81NWTha3cjsNos+vGH2OVaXPZVkIWmhzh79pO3XxbMEOgRSp9dpPX9D72g36/MEPfnApG8ddxoD97q7VF+7JPnCtdjY+Rm2fCGE+rLG/PJsQpggHxl4qApGTZRWRMhS1rYKMsBU9lhJFAIJC2XHHHZvtt9++rDgu5Cq3VCdpZZR/3SfOgCCMKQBOme+IZlNEVkbtl6KoBREc3lEF+DgoLsqhRlRdrx3c10+F+KkLBgHl5nCXqhxBafqOtuIAgmITCaYkzzrrrPIdylabiiSL+FLQ2oqCFqygNP1bWdTx7LPPLgrqBz/4QUm9o5hlF1C0lLX0NJFpz9I/2p4iF/WVckZhKr92opisDDOk9JO9cpP2E8NEBF/7up7yVT7lZIzIcNDuxgXDjVLUfsq/dOnSciLq1ltv3WyzzTbluklggDASKWT9r920n7ZQ/yVLlhRDcd999y0HsWRPdwghLFvFpB9OPfXUIjc5moKSG2ywQXFKrAD38X0OKX3kGvLde5xh+tN+27rHdmWJPl8c+lw5VqU+F0SgrwUdvGpd1N8Kd80GcHK9du7XhWPvevX2feXRfgIR2uH9739/2QLhVHgO+6TtEMI4rtYJwfnlgoYwTwhFP99AIVFQePKTn1xO2ZTuKzpLEL/jHe+Y3WskjYsiJPgJy0GFvjIY8hz7448/vnn6059eFFnFZ5QpgcsxExEH54sC3WijjUqa0riD4IZhZV8KmSgv5aTOVSE5YZViZMD0BTtFQGk4bMZPsvRRTmllymlfkqAFpUqJMGZGHTpH2QqAiCpTfKLzniniKx2NkvUzHIP77DxP+RkADA7GFOXvOkaUE0Ltu59UWUI7KAuFyziwKrD77ruX+1QYShxhxojvKwcFzsjbfPPNm0c/+tETGUt9GIuUPUNQCiJFy+hxyAyDSF2saKhbCCGEZTqAQ/Xc5z636DG6g/5+2cte1jzpSU9abtXaKiZ9bn8xOU/30HH0vtO2yfuF0OvKFX2+OPS5e6rDqtTnnHWBAkEXTjddrr6C64Iwz3jGM0o7Dlux186cbAEKwQpl0u76zsq8QMdCjdMQEKc7rBIoEkkVIrdSfzg4Dkazn4mgrPtoCUeK3M+MEJhWuwnBVQ3HX4CAQwYRc4p5ZVc+KUmRWC9tUA82GaYQJsH0FVF2PwpSe1FicyGNyjWupeSkaWn7SRQexSQaT7lTTq5b0dQr6Wfup+9rNHyYgqMcPVN96zP7Bs2KQkF7NqPDoTb6d0X7IoQQVlfIXrpbirAX3UFec0ys6vZTtMlVB1xJfZbi67v0HWfT7ypbQVyVWUTR56NZHfS5+wh8sCXdm8NtRX/SfqjXCyppMwGZFW2DEMYRpzusEgwzSvjII48sKcUioRShyCqn2ucUhaiuaLUDL3wWByiEEEK44uFMWzn2u9fSmTkm9rz6uSYrxhwWK9xWNJcuXVr2y9ofy6nyuWC6QDuHLLo9hHBVI053WGWIgtaoMAdcVNF7nG0pPA4KkaImShmFHEIIISwemItSqw844ICS1mzlm952+JX9uFYt/f51TV2m670n5Xu77bYrQXU6fiGylEII4cpGnO6wyrGnVjqUqDlEy0XIpSHF2Q4hhBAWJ/S2w6cOO+yw5pxzzin7iKXjWsEWMHdehr3cAurOZnFy9BZbbFHSz+21jY4PIVxVidMdQgghhBAmwv5XjrefauJkOxMD9jMLoksf52Q7GEv6uT3UOYwqhHBVJ053CCGEEEKYCGajbDUHkzk128nPDvHidDtMTMp5PSArh1OGEMIy4nSHEEIIIYR5wXx0IKqUc//nXFvRtl3sivjVkRBCWMzE6Q4hhBBCCCGEEKZEjpAMIYQQQgghhBCmRJzuEEIIIYQQQghhSsTpDiGEEEIIIYQQpkSc7hBCCCGEEEIIYUrE6Q4hhBBCCCGEEKZEnO4QQgghhBBCCGFKxOkOIYQQQgghhBCmRJzuEEIIIYQQQghhSsTpDiGEEEIIIYQQpkSc7hBCCCGEEEIIYUrE6Q4hhBBCCCGEEKZEnO4QQgghhBBCCGFKxOkOIYQQQgghhBCmxNXajpm/QwgLyN///vfmX//6V/PPf/6zudrVrtZc97rXnfkkhBBCCFcG+rr86le/enOd61xn5pMQQpicON0hzMHf/va35iMf+Ujzm9/8ptluu+3mVLgXX3xxs2TJkuaCCy5oTK86xe5xj3s0u+yyS3OHO9yh/Bt/+tOfmv3337951rOe1ay99trNGmusMfPJlQft87Wvfa357W9/22y88cYz74YQQgiLh7/+9a/N+9///qJnt9pqq+ba1772zCfD+d///d/m2GOPbf7nf/6n6HGOtwD6gx70oGannXZqbn3rW5fv+Ywuf9nLXta85CUvaW5/+9sX5/zKhLr96Ec/KnbLj3/841JP9VDXvs0SQlhx1ugM/v1n/g4hDPD973+/Oeqoo5rjjjuuueENb9hsuOGGYx1jzvYRRxxRFPvvf//75v73v3+Jkn/4wx9uLrzwwuaSSy5p1l133XIvUHSveMUrmrPPPru50Y1u1NzmNre50kTROdv/+Z//2bzlLW9pTjjhhOayyy5rHve4xxVlHUIIISwWvv3tbzdve9vbio7mLK+//vpjHWN6/61vfWtz6qmnFl33wAc+sATeP/rRjxZdTr9zSK93veuV79Ple+yxR/OFL3yhucUtbtHc6la3mtOpXyx8/etfL3bLO97xjqLTf/rTn5aXup9zzjnNl7/85eYhD3nIbF1DCCtGnO4QRkDRcCjPOuus5pGPfGSz8847N7e85S1nPr08It2vfvWrm2OOOab5r//6r2aDDTZo9txzz+apT31q87CHPaw46p/61Keaiy66qESRt9xyy+Kcet8KOMXG8b7GNa7R3O52t5t1yhcjggjvfe97m8MPP7x517ve1Xz6059ufvjDHzZrrbXWbL1CCCGExQDd+uY3v7k4xJtttlnzjGc8o/mP//iPmU8vD12+6667Fuf8/PPPLzrtRS96Ufn/Qx/60LJa/tnPfrb53ve+1/zf//1f8/jHP35Wl9/nPvcpTjl9vuaaaxZdvti3lX3lK19p3vjGNzZLly4t/956661L5t2jHvWoshBw5plnNueee24JWqjrNa95zej4EFaQON0hDOFLX/pSc9hhhzWf/OQnmyc96UnFgb7LXe4y8+nyUMqUNIf60Y9+dLP77rs3j33sY4tiv9nNblYU1be+9a3inIqQb7rppuUzyuuOd7xjWRGn3Dj4N7nJTZq73vWui1JZSyF/6UtfWtLtlF06mtV73Pe+943THUIIYdHAQX7DG97QfO5zn2t23HHH5vnPf/7IdOk///nPxeE+5ZRTml/96lfNE5/4xKLLH/GIRxS9bAXbd7761a+WlWAr4LK7bnzjGxe9d+c737lZZ511mve9730lGG21m35frNlrf/nLX5p99tmn2B7+tv3tBS94QVkI+H//7/8197znPZub3vSmzemnn14WDNgwW2yxRbFnQgjzJ6eXhzCAlPI3velNJc1q2223bXbbbbcSsR4GpSsF7T3veU/zy1/+sqST2ff98Ic/fDYVizKWNv6ABzyg/Pt3v/tdc+KJJ5a/K5xuTv5tb3vb5tBDDy3p6SLqiw11skogCPHKV76yRP5DCCGExcZ3vvOd5rWvfW1xvDnbstXqPuxB6GXOuSwu+7MFvTnpnOiaJk6XC4jbIoZf//rXxWHtI+X87W9/e9GVr3nNa8rn7ITFiHJ+5jOfaf7whz+UDAAr2QILFQsGVryllrNH1MXq/2KtTwiLnTjdIfRwOqk91hxu+7ef/vSnl0j1MHz3Zz/7WXGSL7300pKW5iAV193gBjeY+dYypJ5d61rXKn/b+/z5z3++/N1nvfXWKweRSd/mgFs5X2yog3IKEjA+pJ+FEEIIiwn6WQYah/spT3lK87SnPa0EtYdB5/7gBz8oTiiHmy4/+OCDS/B8MOOMA14D6vZ4y04bxH7xjTbaqDiznP7TTjtt5pPFg/YRYLBYAM61le1BrHgLVoDjfeCBB5Z6hxDmT5zusEqhzLxWNZM+9+STTy4O8R//+MeSRiVlelS6NEdbqvVPfvKTcogKRSy1XErZIP/4xz9K+haUg+M9CMfcyrrVY6vt0uGkby9Wroh+DCGEcMUzqU5daCZ5Ln3rfBXnskgHt+1JkHiULpcqfsABB8w6oFZ7Oc1SygfhoNcsNHp/2Kqvs1me/exnF/vBVizb1X7+85/PfLo4EGRQX22lnrLxBhcLILBu9R7anV0imHBF9H0IV3bidIepQzj7yS0HdIgcezlcjCJ06rU9zqOwr0rEeZNNNinXeDmkrJ4SSumNwwEqO+yww+y1XtKjRWtFoPuKw72kilNEFLR9X6P2VYsSK5t0q3oPaeWu4TwPYkXcgSVzcac73alElilt+8kX42p3CCGEqx50nROtpSL3dfmTn/zksmoqWD2KX/ziF2VLkkywqosFqQWu6ca5nLiPfexjsweT1hfHdr/99isnb/ev5xQ7HIxzKD3cT1+NOkmc0ylwTt9W/ByY4Pmw0839jJifyIRnjtoG5mBRqezsgQ9+8IOzB5UtFo4++uhyRgtksI06IE0b9NtOfQUzxvV1CGE4cbrD1KCQCHUHjbzwhS8sio2jzTmliJzy+apXvaoc3OHE70E4xQ4ycUq2e/lbxJUDa080xfic5zynnCI6jL322qscgvLf//3fxSg45JBDipLnrDuV3F6mqqg53A4+cRAaJezwNIeijMIqt5Sx/oq19LVhq9xwyqmIN9S9v2+qj8/sn7r3ve9djBTXeFYIIYRwRUA/WqnlZL/4xS8ue5m32Wab8uKECapznr2+8Y1vzFy1DCvN9Pzmm29efpKKA0cfWwWWyWVFWiBcIN1Bo8Og56WK+3z77bcvuvzBD35wCar7GTAryVWXK4/Tw61eC47T5aP2ccP36HLlrHDuR22d0g7V5uCsjkpZp8v96snaa69dnvHd7363BAEWC34mrAYMrHSPO+xNXfqr4Orfb68QwoR0giqEBadTdm2naNp11lmnvcY1rtF2jnXbKcb2N7/5Tfv73/++Pf3009vHPOYxtGR7vetdr912223bv/3tb+XaP/7xj23nwLadY9pe/epXb4844oj229/+drn2kksuaT/4wQ+2m266abn2+te/fvn73HPPLddWvvrVr7ad41quf+tb39p2zn8pU+f8ln/f5ja3aTuFWN7DX/7yl3aLLbZoO4Og3PfUU09tO6VSPhvGhRde2N785jcv362vr33ta22nxC73+vvf/17q8/a3v332eze96U3bgw8+eOZOy6Ou2223XfnuAx/4wPYDH/jAzCdzo32OPvroUhf122STTdq99967tP2o+miT1772te1BBx3U/vjHP555d246Q6zdbbfdZuvVGU7lvRBCCKsH//jHP4pOute97tVe7WpXK/rkggsuaH/3u9+V19KlS9v11luv6IAb3vCGRSdUvUofbbXVVm3n1JVrjz/++LZz2Io+7pzX9l3velf7iEc8olzbObnt1ltvXXR3hT4577zz2tvf/vbl+iVLlhT7wf1/8YtfFL11y1vesu0c69ln/upXv2o33HDDovvdt3PAiy4exWc+85mik6se86IH+3rciy5X7te85jWz37vd7W7XvvOd75y50/Koy2abbVa+u9FGG5VnTQr7ie3jerr88Y9/fPuKV7yitAd7ZRg/+9nP2n333bc97LDDyt/jcM9q7+y4447tN77xjZlPlueiiy5q11577dl677///u0vf/nLmU9DCJMSpztMBQr1bne7W1GUFPLXv/71orQql156aVHeVYhTAJToZZdd1p5xxhntda973XItZ5yS7jtzvkP53v3udy/XUhwceMZB5b3vfW9R1Bz60047bebdZVAWhxxyyOWc7j/96U+zhoF7fupTnxrpQLrmi1/84mzZ62uttdYqjv7g6573vGdx8uv3KOq+YTGI4MIee+xRvsuIec5znjPzyXg45xQzI+Ra17pWu8Yaa7TXvOY12zXXXLO9053uVIym+9znPsVoEDTQDu973/vazTffvL3ZzW7W3v/+9y/tOilxukMIYfWGw33Xu9616JP111+/OGB9XStou/POO8/qgSc84QnF8eWgnnjiie11rnOd8v6uu+5aHMG+jhCQPvLII9u73OUu5Tv0/pZbbjl7f7r2pJNOKvpJgJ0D3cf9OKJ9p/viiy+efaYXXTtKL3nOmWeeOfvd+mJbjNLl9Gv9Hn2qfUbx61//ut1hhx3Kd1233377zXwyHnpY4EBgv6/Lb3zjG8/qcgsa7BjP1971Gt/RT+yocdz2tredtXf037e+9a2ZT5ZHn3tmrbfnfP/735/5NIQwKUkvDwuOtKMLLrig/FxHN8aagw46qKRY2adc6RzB8hNanSIr+6Yd4uH3IO2nft7znlfu4Vq/mWk/VqccZq5syvcdcmY/F/7617+WlDapaxWHm7je4WVSx+oeLPh97Pqb2+7re9LEfdff9f1RKNuwQ1GkXH3zm99c7uW3LaXEV6Sk3e1ud5v51/JIa6uno9o3pU1quUZhf5Z0fOl27m2vvDpLmdf+9opLs9dOTkbvDKOSKiilz1426WNbbbVVSQEMIYQQpEN3Tms52FNa+Jvf/Oby85n0RUVqslRveqdzjEsqt9+tljru1zzqAaJ0jW1Vfd3q+1K5bc0C3XrhhReWPdCVelCZz+hyZal0juzsb267b+dcz+ryivdH6XPftY1rkM6RHanL+9+Xkk23joKdU3W5M2BssZtLl9tO56fLnLrORnrXu95VdDnd/vKXv7z8jBdd7j1p9ptuumnZ3/6Sl7ykXKM/pP0/8pGPnLnj8minvr3j/3OVq48+6LdxCGEy4nSHBYdD+vrXv37mX01xuCnsPg7n4Djb180RpMwJ/UsuuaTsf6rc/OY3Lwd8DEKZ+SkvCggOY/Pb1hWfMwwoFwrcYWqccr/FSQE7mO3d7373rKL2ExiTKh33YBj0oRApavu2+i+BB4fHVDjcjJJx+6eUSftAmZRvrrI5aZXxYd+7trd3/l73ulfZH/7MZz6znMquLPbO21+v7RhG97nPfYqC9xNp3qewQwghhIsuuqgcUgY66e53v/vlgufwvp/W/MQnPlH2CfttajqLLu87qILqfWe9QodzXKvucR3dDLqQnvIM93SWCyfd537ay/scdj/15bv//Oc/Zw8HmwRnrXCkK4IAdcFgmC6nIyu+q9x0+iiUT7mg/Mo3Fw6pE0xw9o2AOTuJLvdTnRYk2DPOevnUpz7V7LLLLmXBQhv51RPtcMYZZ5R97+N+zlO5HPQ2ruzjeOxjH1tsrBDC/IjTHRYcK89O+KxQ0lXx9HEwh6i5VWcHkHEsB5WS64Zd6z0njDsJFaLh/Qh4XylQziLDfn+bs+3gFWVySnil/wwKj1M87LlwiMwXv/jFmX8tw+9bivRTZP0Xhdg/Ad2/n//854+894rC4T7qqKOaI488shw2R5n+4x//KJ9pZ88V/HjgAx9YDsJx0uzpp59enHEZA5zvKNEQQggVq8sXX3xxcdJueMMbDg2Aw2cy0uhygfJhutw9hkEXcirryiy9VQ8c85mV3KpDvS/gbdWcLueEC+j3D0rr61Y6uK9/B+Hgn3feeTP/WnZgmOw7unJQl1ul79dfXXfccceZfy0cDnAVVDj00EOb+93vfuWZ2qT2AbtF8OMRj3hEs88++zQf+MAHii53IJ2fHPWZgMBcsBFqW/l7MJgyDtmCo8ZCCGE0cbrDgsPp7q9Wi/BOAgUvojwpHE0p0qDkKab6LErHKroVYMrB+1az/TSJlWenp/Yd576iFv1Wh1Gry8opTQwU4T3ucY+REWMGwrnnnjvzr2VRfZHshUY5GDueJ7XMSjblLRIvILDbbruV+vqNUYpbYIGh4v8i/VbDnfLqZ1lCCCFctaH/6DqZa/Sn4PWkupxz7Heg+4zSp+BI0qMQQOcM93X55z//+ZK1xTHkzAt8y9rac889SxZb/+c4+7pcijtdPgrbt+rWL3aCwPmo4ICfybIKXqE7/XzpQsPxd28nstvyVXW5/3PCBc3ZFNpHoNyCBV1O/yuja6z+21o2Ke7Xt9nmQhA/TncI8ydOd1hQKLnugEIAAA1TSURBVFavfpSbEp1EWQ/bHzVOUYtwcyD79BUuxfC+972vRICt8EK5pIdLhbPf7Pzzzy/v9/Gdcc/1Wa0PxSPdbTB9vmKP1cc//vHyt+iwFLHBMi8EykMZP+UpTynpZQIMghB+bkza+/HHH1/2cWtfkXCBhyVLlhRH2/tS8xkn41YFQgghXHXo63I6hk4ZpxsrHOW617oy7jrp0RxNcHrpob7zKyPuzDPPLJlcgshQFqnkH/rQh5pXv/rVJeDsGd6vCDKPe26/fjLC/HRZ34boI527BuqVZ/3115/dr72QKI/sMynitn2xV9RDoMG+ctvkHv/4xxcnnC6Xzm9l3Mq/NH+Bc3Xo/8TXMGQD1vILPIz7OTO2gfT6ij3807BjQljdidMdFhTCngPK4a0cd9xxxQkcRVUo9n8NKjzv+3wU9fucX7+XWf/tgBQvkWArv5SX9Gtp1HBPUWF7tCj3wQNeJsU1DIRh19b96TXSLoVu3333XaHnzIUAwkknnVScbIYDA0RKvd81tf/LXi/pcNrYgW9vetObyu+jywZQThkB7lEzB0IIIVx1qbrNSioEz9/ylrcUvToKus6BYV6DeK/vEPfhaNbPrGb39yNzOj3Tnm/p3FZwHQZaDyNVrrPOOqvoVtfW8lYmCRLMhe1ydLlnQRDf/upp4PBYB8axmehoulw2Gl3u8LTXve51xeGWgSAz0L+VRVDAoatWuffee+/m/ve//8wdhyNDoG4pE1AZ1U4+c2hav+/YS/NJRw8hLCNOd1hwCOP+/uA3vvGNJdVslML98Ic/3Gy88cYlhWxQYdpzzCkcBgfSIWwQse2f1mmvl+i3fd5Sv6V1S6F2CIlTPqE8oruUTVX0NbpOydQI+CCuk5Y2FyLSVpMh/cserP7es1E4FK7eX9mtGoxKeavsv//+zcEHH1ye50RTK9oOrpFyZn+aQ1kc9iaIUU96971TTjmlrIT7v/ZLylgIIQT0HWAOp1VVerdmeg1CXzvEU7o3x6zPscceWxzoYVSHEvTWYx7zmPK357juVa96VVmNFdCn0zijp5566uwvmAiiV51JhylzDW6Py7RzXT+IMMrxpFvrQa3OkpFWLnNtLujbWi4rw+yQuYLuAgpsl6VLl5Z6yxjQJtpT4J5Tfs4555R7O7hOIIQuVz52lsUFp57P5RTbg1/1PWednTXsRHLt53Mou33j/fYNIUxOnO6w4FjlpjQqot+UlJ+mqpFicGqlPTuBk1Kxz9r//btilZyyHaYMreBy2EEh9Z8ptUq02CEwFQ6svVFSqgf3VdtH5f16qjiFNuonMSj9Rz3qUeVv5aK0B8tnZf0zn/lMcaDBoaVAJ1FU7lXvpy3XWWed8vc4OOYMEKv6g4rd35SrNrFaID3PavhznvOcUmdOuc+GnSwbQgjhqgkH06pphU6ULWY/dT8Dzd+ypwS06Swnbvt//6AxB5jSq8OwmisoDKnb/VPCOXjSp/ur53Q5PSadWpp0H6vzHP8aqLZi3Lc7+rAb5loRdkiZn02r9ZUVxvGdry7nPHOa54IudgaLvdnsof5z1EndOfA+c+ibxQS6XJsLtluAmESXu9cBBxxQrlFG7S99fRA2VP05VvcVgPDsEML8idMdFhxKQ5pyf7XbgSzV2fU7lAceeGD5iQtpUQ4HsRpeV6R9VhUNReeETkqvjxVqqVVWsq0e77TTTpdTBK63Im3vdv8kde+LANcosH9TPpxSBkPdp2Tv1qgVdmnsW2+9dflbQMHvY/dXvp2G6uTRz33uc+Xfz3rWs5p3vvOdI/d9D+IAFRFs2Du18847l7/notarr6SHUdtAnSnRub4fQgjhqocgrQPM6mo3BJkF0elze6ydD+IXM+hpK9R+5opu4Tx7r0KXc6Ztb+rDEafHraA7JVzwuP88+oku/8hHPlJSqivet4LtsxpUpsvpcIEC70Gw3+Gow/A89YD94WwP96tIZedk1gPU3NdPbLJVJsGzbfOC39LmSE9C1c1zsbK63Hk0nG73sEjhDJp+gEJbsJ8sbliQYGfZe18DGiGEedKGMAU6Zdh2iq7tlJMw7+yrUwptJ7DLy9/rr79++/GPf7x8v+LvSy+9tO2c6NlrOmXefv7zny+f/+Y3v2n333//co9b3OIW7Ytf/OL2n//8Z/mssmTJkrZT+uU7O+ywQ/u1r32tvH/xxRe3++67b7nnve51r/bss88u71fucY97tJ3yajvF3XZKfubd5fnOd77TrrvuurP1uu9979t2jnL7ute9ru2UWLm/9zsl3f7hD3+YuWoyXvCCF5TrOye93XXXXWfeXTzon7/85S/t0Ucf3d773veebQPtedxxx7Wdop75ZgghhCsz5H3nKM/K+fqio/q6fPPNN2+/8IUvXE6X0wWurfrQ/zvHs/3GN75RPu8c7nbPPfcs97jjHe/YHnLIIZfT5f4+5phj2pvd7GblO3vssUfbOejlsx/96EezurJzaNtzzz23vI/LLrusvdWtblWuWXPNNUu5RvGlL32p7ZzvUj66f5111mkvuuii9lWvelV7m9vcZrbsdLv7zodtttmmXN85rO3LX/7ymXcXF3//+9/bTTbZpNRRe7E5Oke72GBHHnlkaZPOqW8f8IAHLGdnhRDmR5zuMHXe+MY3tje/+c2LUO+/dtlll/anP/3pzLeWh4CnkCncwWu9OOyf/exnZ759eY466qj2tre9bXvLW96yvf71r3+56wQCnvSkJ7U//vGPZ779bzjnd73rXcv3TjzxxPbPf/7zzCfLw4HndFal3H89+tGPbs8666zLGSCT8Lvf/a7daaedyj2e9rSnFed+sfGQhzxkufoOvu5+97tHQYcQwmqCQOtLX/rS5fTp9a53vXa//fZrf/WrX818c3noAg7o4LX1tcUWW7QXXHDBzLf/jesOP/zw9iY3uUlxgDmv/esEpgXVB+0I151//vmzdscZZ5zR/u1vf5v5dHm+9a1vlYB7/971teWWW7bnnXfezDcn57e//W2xM9yDIzvM3lhMHHvssSVwPlh/9tBpp502860QwspwNf/pJlYIU8Uwk4ItXUkalFSlSVO0pKVddNFFZW+WPWXSyBwCYm915/DOfGs0nQIu6e3uM8mznf7pVG97vaSbdQ70zCfLo17S0vzOpfs7CM4eaSluk5Stj3tJXbN/yr38BNhee+0182kIIYRwxUJP2d5Fr0prpk+lJ0+C1GWp5A5UszVLGnk9KGy+utwzPbumkQ/D4aW2e/n/61//+mbddded+WR53Nu+cT8jqo62kUk/d17KiuhyZ8w4s4bNsd9++80e+raY+de//lW2D+gb7ctOys+IhrBwxOkOYQCGwaabbjq7n8u+c78jOm2c3srJthfcASf2w109e6dCCCGEeUOXOzvGGSn2n/sVj3puyzTh6D//+c8vzz3iiCOa5z73udHlIYRmjf391lAIYRaR6c0337z8lJaf3xDpdpjMpNH8FcFBLw5cc4iag9kobFH8EEIIIcwfutzhZTLRHGbqRHUZbN6fBtawHAjngDK/ruKZ22+//djV+BDCVYc43SEMwc9uOIHdCeZ+81vKlYg55TnfVLNxUNJS2vwMiZ/rcLK7E0JXRTQ+hBBCWJ0RNHfaurT2E044oQTP/Y71QjvCdLnT1Z1S7mdOTzrppOLwJz07hFCJ0x3CCPzkmd8AtRf96KOPLgp1ww03XNAV7z/96U/lN7ztcXvve99blHRWuEMIIYSFwfYwgW3OMF3ubBj7vBdKl3O47XNfZ511Shr5xz72sXIWzKTn1oQQrhpkT3cIc2CKXHjhhcVBttq9kHuzKP+zzjqrRMf7vzMeQgghhIWDLv/KV75SstWsdi+ULndfutw5MILoVtdDCGGQON0hhBBCCCGEEMKUyHGKIYQQQgghhBDClIjTHUIIIYQQQgghTIk43SGEEEIIIYQQwpSI0x1CCCGEEEIIIUyJON0hhBBCCCGEEMKUiNMdQgghhBBCCCFMiTjdIYQQQgghhBDClIjTHUIIIYQQQgghTIk43SGEEEIIIYQQwpSI0x1CCCGEEEIIIUyJON0hhBBCCCGEEMKUiNMdQgghhBBCCCFMiTjdIYQQQgghhBDClIjTHUIIIYQQQgghTIk43SGEEEIIIYQQwpSI0x1CCCGEEEIIIUyJON0hhBBCCCGEEMKUiNMdQgghhBBCCCFMiTjdIYQQQgghhBDClIjTHUIIIYQQQgghTIk43SGEEEIIIYQQwpSI0x1CCCGEEEIIIUyJON0hhBBCCCGEEMKUiNMdQgghhBBCCCFMiTjdIYQQQgghhBDClIjTHUIIIYQQQgghTIk43SGEEEIIIYQQwpSI0x1CCCGEEEIIIUyJON0hhBBCCCGEEMKUiNMdQgghhBBCCCFMiTjdIYQQQgghhBDClIjTHUIIIYQQQgghTIk43SGEEEIIIYQQwpSI0x1CCCGEEEIIIUyJON0hhBBCCCGEEMKUiNMdQgghhBBCCCFMiTjdIYQQQgghhBDClIjTHUIIIYQQQgghTIk43SGEEEIIIYQQwlRomv8PmtXBZhwOMrUAAAAASUVORK5CYII=![cosine.png](data:image/png;base64,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![cosine.png](data:image/png;base64,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)))))"
      ],
      "metadata": {
        "id": "9gTU_wXn5DyC"
      }
    },
    {
      "cell_type": "markdown",
      "source": [
        "### **Notation des Notebooks**\n",
        "\n",
        "Fragen und praktische Aufgaben werden hier als ❓**Frage**❓ bzw. 👋 ⚒ **Aufgabe** 👋 ⚒ gekennzeichnet. ❓**Fragen**❓ fordern Sie dazu auf Überlegungen anzustellen bevor Sie etwas praktisch testen. 👋 ⚒ **Aufgaben** 👋 ⚒ erfordern das aktive Schreiben von Code in der grauen Code-Zelle nach der Beschreibung der Aufgabe."
      ],
      "metadata": {
        "id": "_Ha_gYIk5FGw"
      }
    },
    {
      "cell_type": "markdown",
      "source": [
        "\n",
        "---\n",
        "\n",
        "## **Lektion 11: Sentence Similarity mit und ohne spaCy**\n",
        "Unter Sentence Similarity wird eine Metrik verstanden, welche die semantische Nähe von Sätzen misst, im Gegensatz zu Metriken welche die Ähnlichkeit von Wörtern in Kontexten evaluiert.\n",
        "\n",
        "Eine Anwendung oder ein Modell der Sentence Similarity erhält einen Satz als Eingabe und misst wie ähnlich dieser Satz zu einem oder mehreren anderen Sätzen ist. Dazu wird eine bestimmte Metrik verwendet, z. B. Levenshtein-Distanz oder Kosinus-Ähnlichkeit."
      ],
      "metadata": {
        "id": "ksxAGEVC5LbA"
      }
    },
    {
      "cell_type": "markdown",
      "source": [
        "### **Levenshtein-Distanz**\n",
        "\n",
        "Die Levenshtein oder Edit-Distanz misst die Anzahl der folgenden Operationen um die eine Zeichenkette in die andere umzuwandeln: Einfügen, Löschen, Ersetzen.\n",
        "\n",
        "Beispiel Tor-Tier:\n",
        "\n",
        "\n",
        "1.   Ausgangswert: Tor (Anzahl Operationen: 0)\n",
        "2.   Erstezen: \"o\" durch \"i\" zu Tir (Anzahl Operationen: 1)\n",
        "3.   Einfügen: \"e\" zu Tier (Anzahl Operationen: 2)\n",
        "\n",
        "Diese Messung kann auf Wörter aber auch auf längere Zeichenketten wie Sätze angewandt werden.\n",
        "\n"
      ],
      "metadata": {
        "id": "GVCWYf38-ReV"
      }
    },
    {
      "cell_type": "markdown",
      "source": [
        "### **Cosine-Similarity**\n",
        "Die Kosinus-Ähnlichkeit oder üblicher Cosine-Similarity bestimmt den Winkel zwischen zwei Vektoren. Dadurch ist es erforderlich erst die Wörter bzw. Sätze in Vektoren umzuwandeln, um dann den Winkel zwischen den Vektoren messen zu können.\n",
        "\n",
        "![Cosine similarity](https://huggingface.co/datasets/huggingface-ml-4-games-course/course-images/resolve/main/en/unit1/unity/cosine.png)\n",
        "\n",
        "Dazu muss allerdings Text erst in Vektoren verwandelt werden. Danach kann anhand der folgenden Formel der Kosinus-Wert berechnet werden.\n",
        "\n",
        "![Kosinus](https://wikimedia.org/api/rest_v1/media/math/render/svg/5b18ea67495071781ab0d1379373872662fa6735)\n",
        "\n",
        "Die Kosinus-Ähnlichkeit liegt zwischen −1 (genau entgegengerichtet) und 1 (genau gleichgerichtet). Bei Ähnlichkeitsanalysen von Text liegt dieser Wert in der Regel im Bereich zwischen 0 und 1. Je näher der Wert zu 1 ist desto ähnlicher sind die Zeichenketten.\n"
      ],
      "metadata": {
        "id": "MjgJpXAhAyaG"
      }
    },
    {
      "cell_type": "markdown",
      "source": [
        "### **Anwendungsbeispiele**\n",
        "Diese Berechnung der Ähnlichkeiten zwischen Zeichenketten kann für viele verschiedene Anwendungen sehr hilfreich sein:\n",
        "\n",
        "\n",
        "*   Suchmaschinen\n",
        "*   Maschinelle Übersetzung\n",
        "*   Informationsextraktion\n",
        "*   viele mehr\n",
        "\n"
      ],
      "metadata": {
        "id": "tBmisAm7LEFQ"
      }
    },
    {
      "cell_type": "markdown",
      "source": [
        "Als erstes benötigen wir Beispielsätze. Wir verwenden zur Anschauung zwei Sätze auf Deutsch und zwei Sätze auf Englisch."
      ],
      "metadata": {
        "id": "Vf5-79jOFOz2"
      }
    },
    {
      "cell_type": "code",
      "execution_count": 1,
      "metadata": {
        "id": "qHsKFiuS4RAF"
      },
      "outputs": [],
      "source": [
        "sentence1_de = \"Ein Hund springt auf einem Trampolin.\"\n",
        "sentence2_de = \"Ein Hund hüpft auf einem Trampolin im Garten.\"\n",
        "\n",
        "sentence1_en = \"The quick brown fox jumps over the lazy dog.\"\n",
        "sentence2_en = \"The quick black dog jumps over the brown fox\""
      ]
    },
    {
      "cell_type": "markdown",
      "source": [
        "Im ersten Ansatz verwenden wir einen ganz simplen Ansatz, der einfach die Häufigkeiten von Wörtern des Gesamtvokabulars im Satz zählt. Nehmen wir unsere beiden deutschen Beispielsätze:\n",
        "\n",
        "\n",
        "`Satz 1: Ein Hund springt auf einem Trampolin.`<br>\n",
        "`Satz 2: Ein Hund hüpft auf einem Trampolin im Garten.`\n",
        "\n",
        "\n",
        "Für diesen Korpus besteht unser Gesamtvokabular aus allen Wörtern dieser beiden Sätze ohne Wiederholungen:\n",
        "\n",
        "`{'einem', 'hund', 'garten', 'auf', 'im', 'hüpft', 'springt', 'ein', 'trampolin'}`"
      ],
      "metadata": {
        "id": "SYcq4Xm2F69N"
      }
    },
    {
      "cell_type": "markdown",
      "source": [
        "👋 ⚒ **Aufgaben** 👋 ⚒ <br>\n",
        "Schreiben Sie eine Funktion, welche einen Satz übergeben wird und die alle Wörter im Satz:\n",
        "\n",
        "\n",
        "1.   Kleinschreibung aller Buchstaben im Satz mit sentence.lower()\n",
        "2.   Tokenisierung aller Wörter in einem Satz und entfernen der Punkte (spaCy oder sentence.strip(\".\") + split())\n",
        "\n",
        "Die Funktion soll eine Liste mit allen kleingeschriebenen Tokens eines Satzes zurückgeben. Falls Sie spaCy verwenden wollen, muss erst wieder alles geladen werden."
      ],
      "metadata": {
        "id": "ARihR-HDI3lm"
      }
    },
    {
      "cell_type": "code",
      "source": [
        "!python -m spacy download de_core_news_sm\n",
        "!python -m spacy download en_core_web_sm"
      ],
      "metadata": {
        "id": "qdAN6qyKOB6U",
        "outputId": "0c230e9a-9b75-43f0-ea30-f08cf0fa4695",
        "colab": {
          "base_uri": "https://localhost:8080/"
        }
      },
      "execution_count": 2,
      "outputs": [
        {
          "output_type": "stream",
          "name": "stdout",
          "text": [
            "Collecting de-core-news-sm==3.7.0\n",
            "  Downloading https://github.com/explosion/spacy-models/releases/download/de_core_news_sm-3.7.0/de_core_news_sm-3.7.0-py3-none-any.whl (14.6 MB)\n",
            "\u001b[2K     \u001b[90m━━━━━━━━━━━━━━━━━━━━━━━━━━━━━━━━━━━━━━━━\u001b[0m \u001b[32m14.6/14.6 MB\u001b[0m \u001b[31m27.9 MB/s\u001b[0m eta \u001b[36m0:00:00\u001b[0m\n",
            "\u001b[?25hRequirement already satisfied: spacy<3.8.0,>=3.7.0 in /usr/local/lib/python3.10/dist-packages (from de-core-news-sm==3.7.0) (3.7.4)\n",
            "Requirement already satisfied: spacy-legacy<3.1.0,>=3.0.11 in /usr/local/lib/python3.10/dist-packages (from spacy<3.8.0,>=3.7.0->de-core-news-sm==3.7.0) (3.0.12)\n",
            "Requirement already satisfied: spacy-loggers<2.0.0,>=1.0.0 in /usr/local/lib/python3.10/dist-packages (from spacy<3.8.0,>=3.7.0->de-core-news-sm==3.7.0) (1.0.5)\n",
            "Requirement already satisfied: murmurhash<1.1.0,>=0.28.0 in /usr/local/lib/python3.10/dist-packages (from spacy<3.8.0,>=3.7.0->de-core-news-sm==3.7.0) (1.0.10)\n",
            "Requirement already satisfied: cymem<2.1.0,>=2.0.2 in /usr/local/lib/python3.10/dist-packages (from spacy<3.8.0,>=3.7.0->de-core-news-sm==3.7.0) (2.0.8)\n",
            "Requirement already satisfied: preshed<3.1.0,>=3.0.2 in /usr/local/lib/python3.10/dist-packages (from spacy<3.8.0,>=3.7.0->de-core-news-sm==3.7.0) (3.0.9)\n",
            "Requirement already satisfied: thinc<8.3.0,>=8.2.2 in /usr/local/lib/python3.10/dist-packages (from spacy<3.8.0,>=3.7.0->de-core-news-sm==3.7.0) (8.2.3)\n",
            "Requirement already satisfied: wasabi<1.2.0,>=0.9.1 in /usr/local/lib/python3.10/dist-packages (from spacy<3.8.0,>=3.7.0->de-core-news-sm==3.7.0) (1.1.2)\n",
            "Requirement already satisfied: srsly<3.0.0,>=2.4.3 in /usr/local/lib/python3.10/dist-packages (from spacy<3.8.0,>=3.7.0->de-core-news-sm==3.7.0) (2.4.8)\n",
            "Requirement already satisfied: catalogue<2.1.0,>=2.0.6 in /usr/local/lib/python3.10/dist-packages (from spacy<3.8.0,>=3.7.0->de-core-news-sm==3.7.0) (2.0.10)\n",
            "Requirement already satisfied: weasel<0.4.0,>=0.1.0 in /usr/local/lib/python3.10/dist-packages (from spacy<3.8.0,>=3.7.0->de-core-news-sm==3.7.0) (0.3.4)\n",
            "Requirement already satisfied: typer<0.10.0,>=0.3.0 in /usr/local/lib/python3.10/dist-packages (from spacy<3.8.0,>=3.7.0->de-core-news-sm==3.7.0) (0.9.4)\n",
            "Requirement already satisfied: smart-open<7.0.0,>=5.2.1 in /usr/local/lib/python3.10/dist-packages (from spacy<3.8.0,>=3.7.0->de-core-news-sm==3.7.0) (6.4.0)\n",
            "Requirement already satisfied: tqdm<5.0.0,>=4.38.0 in /usr/local/lib/python3.10/dist-packages (from spacy<3.8.0,>=3.7.0->de-core-news-sm==3.7.0) (4.66.4)\n",
            "Requirement already satisfied: requests<3.0.0,>=2.13.0 in /usr/local/lib/python3.10/dist-packages (from spacy<3.8.0,>=3.7.0->de-core-news-sm==3.7.0) (2.31.0)\n",
            "Requirement already satisfied: pydantic!=1.8,!=1.8.1,<3.0.0,>=1.7.4 in /usr/local/lib/python3.10/dist-packages (from spacy<3.8.0,>=3.7.0->de-core-news-sm==3.7.0) (2.7.1)\n",
            "Requirement already satisfied: jinja2 in /usr/local/lib/python3.10/dist-packages (from spacy<3.8.0,>=3.7.0->de-core-news-sm==3.7.0) (3.1.4)\n",
            "Requirement already satisfied: setuptools in /usr/local/lib/python3.10/dist-packages (from spacy<3.8.0,>=3.7.0->de-core-news-sm==3.7.0) (67.7.2)\n",
            "Requirement already satisfied: packaging>=20.0 in /usr/local/lib/python3.10/dist-packages (from spacy<3.8.0,>=3.7.0->de-core-news-sm==3.7.0) (24.0)\n",
            "Requirement already satisfied: langcodes<4.0.0,>=3.2.0 in /usr/local/lib/python3.10/dist-packages (from spacy<3.8.0,>=3.7.0->de-core-news-sm==3.7.0) (3.4.0)\n",
            "Requirement already satisfied: numpy>=1.19.0 in /usr/local/lib/python3.10/dist-packages (from spacy<3.8.0,>=3.7.0->de-core-news-sm==3.7.0) (1.25.2)\n",
            "Requirement already satisfied: language-data>=1.2 in /usr/local/lib/python3.10/dist-packages (from langcodes<4.0.0,>=3.2.0->spacy<3.8.0,>=3.7.0->de-core-news-sm==3.7.0) (1.2.0)\n",
            "Requirement already satisfied: annotated-types>=0.4.0 in /usr/local/lib/python3.10/dist-packages (from pydantic!=1.8,!=1.8.1,<3.0.0,>=1.7.4->spacy<3.8.0,>=3.7.0->de-core-news-sm==3.7.0) (0.6.0)\n",
            "Requirement already satisfied: pydantic-core==2.18.2 in /usr/local/lib/python3.10/dist-packages (from pydantic!=1.8,!=1.8.1,<3.0.0,>=1.7.4->spacy<3.8.0,>=3.7.0->de-core-news-sm==3.7.0) (2.18.2)\n",
            "Requirement already satisfied: typing-extensions>=4.6.1 in /usr/local/lib/python3.10/dist-packages (from pydantic!=1.8,!=1.8.1,<3.0.0,>=1.7.4->spacy<3.8.0,>=3.7.0->de-core-news-sm==3.7.0) (4.11.0)\n",
            "Requirement already satisfied: charset-normalizer<4,>=2 in /usr/local/lib/python3.10/dist-packages (from requests<3.0.0,>=2.13.0->spacy<3.8.0,>=3.7.0->de-core-news-sm==3.7.0) (3.3.2)\n",
            "Requirement already satisfied: idna<4,>=2.5 in /usr/local/lib/python3.10/dist-packages (from requests<3.0.0,>=2.13.0->spacy<3.8.0,>=3.7.0->de-core-news-sm==3.7.0) (3.7)\n",
            "Requirement already satisfied: urllib3<3,>=1.21.1 in /usr/local/lib/python3.10/dist-packages (from requests<3.0.0,>=2.13.0->spacy<3.8.0,>=3.7.0->de-core-news-sm==3.7.0) (2.0.7)\n",
            "Requirement already satisfied: certifi>=2017.4.17 in /usr/local/lib/python3.10/dist-packages (from requests<3.0.0,>=2.13.0->spacy<3.8.0,>=3.7.0->de-core-news-sm==3.7.0) (2024.2.2)\n",
            "Requirement already satisfied: blis<0.8.0,>=0.7.8 in /usr/local/lib/python3.10/dist-packages (from thinc<8.3.0,>=8.2.2->spacy<3.8.0,>=3.7.0->de-core-news-sm==3.7.0) (0.7.11)\n",
            "Requirement already satisfied: confection<1.0.0,>=0.0.1 in /usr/local/lib/python3.10/dist-packages (from thinc<8.3.0,>=8.2.2->spacy<3.8.0,>=3.7.0->de-core-news-sm==3.7.0) (0.1.4)\n",
            "Requirement already satisfied: click<9.0.0,>=7.1.1 in /usr/local/lib/python3.10/dist-packages (from typer<0.10.0,>=0.3.0->spacy<3.8.0,>=3.7.0->de-core-news-sm==3.7.0) (8.1.7)\n",
            "Requirement already satisfied: cloudpathlib<0.17.0,>=0.7.0 in /usr/local/lib/python3.10/dist-packages (from weasel<0.4.0,>=0.1.0->spacy<3.8.0,>=3.7.0->de-core-news-sm==3.7.0) (0.16.0)\n",
            "Requirement already satisfied: MarkupSafe>=2.0 in /usr/local/lib/python3.10/dist-packages (from jinja2->spacy<3.8.0,>=3.7.0->de-core-news-sm==3.7.0) (2.1.5)\n",
            "Requirement already satisfied: marisa-trie>=0.7.7 in /usr/local/lib/python3.10/dist-packages (from language-data>=1.2->langcodes<4.0.0,>=3.2.0->spacy<3.8.0,>=3.7.0->de-core-news-sm==3.7.0) (1.1.1)\n",
            "Installing collected packages: de-core-news-sm\n",
            "Successfully installed de-core-news-sm-3.7.0\n",
            "\u001b[38;5;2m✔ Download and installation successful\u001b[0m\n",
            "You can now load the package via spacy.load('de_core_news_sm')\n",
            "\u001b[38;5;3m⚠ Restart to reload dependencies\u001b[0m\n",
            "If you are in a Jupyter or Colab notebook, you may need to restart Python in\n",
            "order to load all the package's dependencies. You can do this by selecting the\n",
            "'Restart kernel' or 'Restart runtime' option.\n",
            "Collecting en-core-web-sm==3.7.1\n",
            "  Downloading https://github.com/explosion/spacy-models/releases/download/en_core_web_sm-3.7.1/en_core_web_sm-3.7.1-py3-none-any.whl (12.8 MB)\n",
            "\u001b[2K     \u001b[90m━━━━━━━━━━━━━━━━━━━━━━━━━━━━━━━━━━━━━━━━\u001b[0m \u001b[32m12.8/12.8 MB\u001b[0m \u001b[31m51.1 MB/s\u001b[0m eta \u001b[36m0:00:00\u001b[0m\n",
            "\u001b[?25hRequirement already satisfied: spacy<3.8.0,>=3.7.2 in /usr/local/lib/python3.10/dist-packages (from en-core-web-sm==3.7.1) (3.7.4)\n",
            "Requirement already satisfied: spacy-legacy<3.1.0,>=3.0.11 in /usr/local/lib/python3.10/dist-packages (from spacy<3.8.0,>=3.7.2->en-core-web-sm==3.7.1) (3.0.12)\n",
            "Requirement already satisfied: spacy-loggers<2.0.0,>=1.0.0 in /usr/local/lib/python3.10/dist-packages (from spacy<3.8.0,>=3.7.2->en-core-web-sm==3.7.1) (1.0.5)\n",
            "Requirement already satisfied: murmurhash<1.1.0,>=0.28.0 in /usr/local/lib/python3.10/dist-packages (from spacy<3.8.0,>=3.7.2->en-core-web-sm==3.7.1) (1.0.10)\n",
            "Requirement already satisfied: cymem<2.1.0,>=2.0.2 in /usr/local/lib/python3.10/dist-packages (from spacy<3.8.0,>=3.7.2->en-core-web-sm==3.7.1) (2.0.8)\n",
            "Requirement already satisfied: preshed<3.1.0,>=3.0.2 in /usr/local/lib/python3.10/dist-packages (from spacy<3.8.0,>=3.7.2->en-core-web-sm==3.7.1) (3.0.9)\n",
            "Requirement already satisfied: thinc<8.3.0,>=8.2.2 in /usr/local/lib/python3.10/dist-packages (from spacy<3.8.0,>=3.7.2->en-core-web-sm==3.7.1) (8.2.3)\n",
            "Requirement already satisfied: wasabi<1.2.0,>=0.9.1 in /usr/local/lib/python3.10/dist-packages (from spacy<3.8.0,>=3.7.2->en-core-web-sm==3.7.1) (1.1.2)\n",
            "Requirement already satisfied: srsly<3.0.0,>=2.4.3 in /usr/local/lib/python3.10/dist-packages (from spacy<3.8.0,>=3.7.2->en-core-web-sm==3.7.1) (2.4.8)\n",
            "Requirement already satisfied: catalogue<2.1.0,>=2.0.6 in /usr/local/lib/python3.10/dist-packages (from spacy<3.8.0,>=3.7.2->en-core-web-sm==3.7.1) (2.0.10)\n",
            "Requirement already satisfied: weasel<0.4.0,>=0.1.0 in /usr/local/lib/python3.10/dist-packages (from spacy<3.8.0,>=3.7.2->en-core-web-sm==3.7.1) (0.3.4)\n",
            "Requirement already satisfied: typer<0.10.0,>=0.3.0 in /usr/local/lib/python3.10/dist-packages (from spacy<3.8.0,>=3.7.2->en-core-web-sm==3.7.1) (0.9.4)\n",
            "Requirement already satisfied: smart-open<7.0.0,>=5.2.1 in /usr/local/lib/python3.10/dist-packages (from spacy<3.8.0,>=3.7.2->en-core-web-sm==3.7.1) (6.4.0)\n",
            "Requirement already satisfied: tqdm<5.0.0,>=4.38.0 in /usr/local/lib/python3.10/dist-packages (from spacy<3.8.0,>=3.7.2->en-core-web-sm==3.7.1) (4.66.4)\n",
            "Requirement already satisfied: requests<3.0.0,>=2.13.0 in /usr/local/lib/python3.10/dist-packages (from spacy<3.8.0,>=3.7.2->en-core-web-sm==3.7.1) (2.31.0)\n",
            "Requirement already satisfied: pydantic!=1.8,!=1.8.1,<3.0.0,>=1.7.4 in /usr/local/lib/python3.10/dist-packages (from spacy<3.8.0,>=3.7.2->en-core-web-sm==3.7.1) (2.7.1)\n",
            "Requirement already satisfied: jinja2 in /usr/local/lib/python3.10/dist-packages (from spacy<3.8.0,>=3.7.2->en-core-web-sm==3.7.1) (3.1.4)\n",
            "Requirement already satisfied: setuptools in /usr/local/lib/python3.10/dist-packages (from spacy<3.8.0,>=3.7.2->en-core-web-sm==3.7.1) (67.7.2)\n",
            "Requirement already satisfied: packaging>=20.0 in /usr/local/lib/python3.10/dist-packages (from spacy<3.8.0,>=3.7.2->en-core-web-sm==3.7.1) (24.0)\n",
            "Requirement already satisfied: langcodes<4.0.0,>=3.2.0 in /usr/local/lib/python3.10/dist-packages (from spacy<3.8.0,>=3.7.2->en-core-web-sm==3.7.1) (3.4.0)\n",
            "Requirement already satisfied: numpy>=1.19.0 in /usr/local/lib/python3.10/dist-packages (from spacy<3.8.0,>=3.7.2->en-core-web-sm==3.7.1) (1.25.2)\n",
            "Requirement already satisfied: language-data>=1.2 in /usr/local/lib/python3.10/dist-packages (from langcodes<4.0.0,>=3.2.0->spacy<3.8.0,>=3.7.2->en-core-web-sm==3.7.1) (1.2.0)\n",
            "Requirement already satisfied: annotated-types>=0.4.0 in /usr/local/lib/python3.10/dist-packages (from pydantic!=1.8,!=1.8.1,<3.0.0,>=1.7.4->spacy<3.8.0,>=3.7.2->en-core-web-sm==3.7.1) (0.6.0)\n",
            "Requirement already satisfied: pydantic-core==2.18.2 in /usr/local/lib/python3.10/dist-packages (from pydantic!=1.8,!=1.8.1,<3.0.0,>=1.7.4->spacy<3.8.0,>=3.7.2->en-core-web-sm==3.7.1) (2.18.2)\n",
            "Requirement already satisfied: typing-extensions>=4.6.1 in /usr/local/lib/python3.10/dist-packages (from pydantic!=1.8,!=1.8.1,<3.0.0,>=1.7.4->spacy<3.8.0,>=3.7.2->en-core-web-sm==3.7.1) (4.11.0)\n",
            "Requirement already satisfied: charset-normalizer<4,>=2 in /usr/local/lib/python3.10/dist-packages (from requests<3.0.0,>=2.13.0->spacy<3.8.0,>=3.7.2->en-core-web-sm==3.7.1) (3.3.2)\n",
            "Requirement already satisfied: idna<4,>=2.5 in /usr/local/lib/python3.10/dist-packages (from requests<3.0.0,>=2.13.0->spacy<3.8.0,>=3.7.2->en-core-web-sm==3.7.1) (3.7)\n",
            "Requirement already satisfied: urllib3<3,>=1.21.1 in /usr/local/lib/python3.10/dist-packages (from requests<3.0.0,>=2.13.0->spacy<3.8.0,>=3.7.2->en-core-web-sm==3.7.1) (2.0.7)\n",
            "Requirement already satisfied: certifi>=2017.4.17 in /usr/local/lib/python3.10/dist-packages (from requests<3.0.0,>=2.13.0->spacy<3.8.0,>=3.7.2->en-core-web-sm==3.7.1) (2024.2.2)\n",
            "Requirement already satisfied: blis<0.8.0,>=0.7.8 in /usr/local/lib/python3.10/dist-packages (from thinc<8.3.0,>=8.2.2->spacy<3.8.0,>=3.7.2->en-core-web-sm==3.7.1) (0.7.11)\n",
            "Requirement already satisfied: confection<1.0.0,>=0.0.1 in /usr/local/lib/python3.10/dist-packages (from thinc<8.3.0,>=8.2.2->spacy<3.8.0,>=3.7.2->en-core-web-sm==3.7.1) (0.1.4)\n",
            "Requirement already satisfied: click<9.0.0,>=7.1.1 in /usr/local/lib/python3.10/dist-packages (from typer<0.10.0,>=0.3.0->spacy<3.8.0,>=3.7.2->en-core-web-sm==3.7.1) (8.1.7)\n",
            "Requirement already satisfied: cloudpathlib<0.17.0,>=0.7.0 in /usr/local/lib/python3.10/dist-packages (from weasel<0.4.0,>=0.1.0->spacy<3.8.0,>=3.7.2->en-core-web-sm==3.7.1) (0.16.0)\n",
            "Requirement already satisfied: MarkupSafe>=2.0 in /usr/local/lib/python3.10/dist-packages (from jinja2->spacy<3.8.0,>=3.7.2->en-core-web-sm==3.7.1) (2.1.5)\n",
            "Requirement already satisfied: marisa-trie>=0.7.7 in /usr/local/lib/python3.10/dist-packages (from language-data>=1.2->langcodes<4.0.0,>=3.2.0->spacy<3.8.0,>=3.7.2->en-core-web-sm==3.7.1) (1.1.1)\n",
            "\u001b[38;5;2m✔ Download and installation successful\u001b[0m\n",
            "You can now load the package via spacy.load('en_core_web_sm')\n",
            "\u001b[38;5;3m⚠ Restart to reload dependencies\u001b[0m\n",
            "If you are in a Jupyter or Colab notebook, you may need to restart Python in\n",
            "order to load all the package's dependencies. You can do this by selecting the\n",
            "'Restart kernel' or 'Restart runtime' option.\n"
          ]
        }
      ]
    },
    {
      "cell_type": "code",
      "source": [
        "import spacy\n",
        "nlp = spacy.load(\"de_core_news_sm\")"
      ],
      "metadata": {
        "id": "ro2MODavOD1S"
      },
      "execution_count": 3,
      "outputs": []
    },
    {
      "cell_type": "code",
      "source": [
        "# Variante 1: ohne spaCy\n",
        "def preprocess(sentence):\n",
        "  # Fügen Sie hier Ihren Code hier ein\n",
        "  sentence_lower = sentence.lower()\n",
        "  sentence_lower_strip = sentence_lower.strip(\".\")\n",
        "  tokens = sentence_lower_strip.split()\n",
        "  return tokens\n",
        "\n",
        "sent1_tokens = preprocess(sentence1_de)\n",
        "print(sent1_tokens)"
      ],
      "metadata": {
        "id": "L0N5JsaMKvWR",
        "outputId": "9b6708d0-2867-4a36-9748-d333cc616760",
        "colab": {
          "base_uri": "https://localhost:8080/"
        }
      },
      "execution_count": 4,
      "outputs": [
        {
          "output_type": "stream",
          "name": "stdout",
          "text": [
            "['ein', 'hund', 'springt', 'auf', 'einem', 'trampolin']\n"
          ]
        }
      ]
    },
    {
      "cell_type": "code",
      "source": [
        "# Variante 2: mit spaCy\n",
        "def preprocess_spacy(sentence):\n",
        "  tokens = []\n",
        "  doc = nlp(sentence.lower())\n",
        "  for token in doc:\n",
        "    if token.pos_ != \"PUNCT\":\n",
        "      tokens.append(token)\n",
        "  return tokens\n",
        "\n",
        "preprocess_spacy(sentence1_de)"
      ],
      "metadata": {
        "id": "O0vJkSUlT65k"
      },
      "execution_count": null,
      "outputs": []
    },
    {
      "cell_type": "markdown",
      "source": [
        "Die von Ihnen geschriebene Funktion verwenden wir nun um die Kosinus-Ähnlichkeit zu berechnen. In der nachstehenden Code-Zelle sehen Sie die Umsetzung der Kosinus-Formel in Python zur Berechnung der Textähnlichkeit.\n",
        "\n",
        "👋 ⚒ **Aufgaben** 👋 ⚒ <br>\n",
        "Verwenden Sie den nachstehenden Code um die Ähnlichkeit der beiden englischen Beispielsätze zu berechnen. Beachten Sie, dass bei spaCy dann das geladene Modell geändert werden muss, wenn für die `preprocess`-Funktion spaCy verwendet wird."
      ],
      "metadata": {
        "id": "PbxAeoPuK0L1"
      }
    },
    {
      "cell_type": "code",
      "source": [
        "import math\n",
        "\n",
        "def vectorize(text, vocab):\n",
        "    # Erstellen einer Vektordarstellung auf Basis von Worthäufigkeiten\n",
        "    vector = [text.count(word) for word in vocab]\n",
        "    return vector\n",
        "\n",
        "def cosine_similarity(vec1, vec2):\n",
        "    # Kosinus-Ähnlichkeit zwischen den beiden Vektoren berechnen\n",
        "    dot_product = sum(x * y for x, y in zip(vec1, vec2))\n",
        "    magnitude_vec1 = math.sqrt(sum(x ** 2 for x in vec1))\n",
        "    magnitude_vec2 = math.sqrt(sum(y ** 2 for y in vec2))\n",
        "    if magnitude_vec1 == 0 or magnitude_vec2 == 0:\n",
        "        return 0\n",
        "    else:\n",
        "        return dot_product / (magnitude_vec1 * magnitude_vec2)\n",
        "\n",
        "sentence1_tokens = preprocess(sentence1_en)\n",
        "sentence2_tokens = preprocess(sentence2_en)\n",
        "\n",
        "# Gesamtvokabular erstellen\n",
        "vocabulary = set(sentence1_tokens + sentence2_tokens)\n",
        "\n",
        "# Vektoren für die beiden Sätze berechnen\n",
        "sentence1_vector = vectorize(sentence1_tokens, vocabulary)\n",
        "sentence2_vector = vectorize(sentence2_tokens, vocabulary)\n",
        "print(\"Vokabular:\", vocabulary)\n",
        "print(\"Vektor Satz 1:\", sentence1_vector)\n",
        "print(\"Vektor Satz 2:\", sentence2_vector)\n",
        "\n",
        "# Kosinus-Ähnlichkeit zwischen diesen beiden Vektoren berechnen\n",
        "cos_similarity = cosine_similarity(sentence1_vector, sentence2_vector)\n",
        "\n",
        "print(\"Satz 1:\", sentence1_en)\n",
        "print(\"Satz 2:\", sentence2_en)\n",
        "print(\"Ähnlichkeit:\", cos_similarity)"
      ],
      "metadata": {
        "id": "6YD0kcbKGdyz",
        "outputId": "1b4b38d9-b233-4276-fca1-110211938ae5",
        "colab": {
          "base_uri": "https://localhost:8080/"
        }
      },
      "execution_count": 6,
      "outputs": [
        {
          "output_type": "stream",
          "name": "stdout",
          "text": [
            "Vokabular: {'dog', 'the', 'fox', 'quick', 'brown', 'over', 'lazy', 'black', 'jumps'}\n",
            "Vektor Satz 1: [1, 2, 1, 1, 1, 1, 1, 0, 1]\n",
            "Vektor Satz 2: [1, 2, 1, 1, 1, 1, 0, 1, 1]\n",
            "Satz 1: The quick brown fox jumps over the lazy dog.\n",
            "Satz 2: The quick black dog jumps over the brown fox\n",
            "Ähnlichkeit: 0.9090909090909091\n"
          ]
        }
      ]
    },
    {
      "cell_type": "markdown",
      "source": [
        "In spaCy gibt die Möglichkeit Wörter und Sätze direkt in Vektoren darzustellen, da die spaCy-Modelle bereits Vektordarstellungen bereitstellen. Diese Vektoren zählen aber nicht die im Satz enthaltenen Wörter, sondern verwenden neuronale Netze um Wörter in Vektoren darzustellen.\n",
        "\n",
        "Falls Sie die Code-Zellen oben nicht ausgeführt haben, dann führen Sie bitte die folgenden Code-Zellen aus um die spaCy-Modelle und Programmbibliothek zu laden. Die verschiedenen vortrainierten Modelle in spaCy finden sie [hier](https://spacy.io/models/en).\n",
        "\n"
      ],
      "metadata": {
        "id": "KchEAcYuNKRi"
      }
    },
    {
      "cell_type": "code",
      "source": [
        "!python -m spacy download de_core_news_sm\n",
        "!python -m spacy download en_core_web_sm"
      ],
      "metadata": {
        "id": "L589-bFgORK9",
        "colab": {
          "base_uri": "https://localhost:8080/"
        },
        "outputId": "f6aff0da-5c57-44ae-978e-5c54b54cd635"
      },
      "execution_count": 7,
      "outputs": [
        {
          "output_type": "stream",
          "name": "stdout",
          "text": [
            "Collecting de-core-news-sm==3.7.0\n",
            "  Downloading https://github.com/explosion/spacy-models/releases/download/de_core_news_sm-3.7.0/de_core_news_sm-3.7.0-py3-none-any.whl (14.6 MB)\n",
            "\u001b[2K     \u001b[90m━━━━━━━━━━━━━━━━━━━━━━━━━━━━━━━━━━━━━━━━\u001b[0m \u001b[32m14.6/14.6 MB\u001b[0m \u001b[31m26.9 MB/s\u001b[0m eta \u001b[36m0:00:00\u001b[0m\n",
            "\u001b[?25hRequirement already satisfied: spacy<3.8.0,>=3.7.0 in /usr/local/lib/python3.10/dist-packages (from de-core-news-sm==3.7.0) (3.7.4)\n",
            "Requirement already satisfied: spacy-legacy<3.1.0,>=3.0.11 in /usr/local/lib/python3.10/dist-packages (from spacy<3.8.0,>=3.7.0->de-core-news-sm==3.7.0) (3.0.12)\n",
            "Requirement already satisfied: spacy-loggers<2.0.0,>=1.0.0 in /usr/local/lib/python3.10/dist-packages (from spacy<3.8.0,>=3.7.0->de-core-news-sm==3.7.0) (1.0.5)\n",
            "Requirement already satisfied: murmurhash<1.1.0,>=0.28.0 in /usr/local/lib/python3.10/dist-packages (from spacy<3.8.0,>=3.7.0->de-core-news-sm==3.7.0) (1.0.10)\n",
            "Requirement already satisfied: cymem<2.1.0,>=2.0.2 in /usr/local/lib/python3.10/dist-packages (from spacy<3.8.0,>=3.7.0->de-core-news-sm==3.7.0) (2.0.8)\n",
            "Requirement already satisfied: preshed<3.1.0,>=3.0.2 in /usr/local/lib/python3.10/dist-packages (from spacy<3.8.0,>=3.7.0->de-core-news-sm==3.7.0) (3.0.9)\n",
            "Requirement already satisfied: thinc<8.3.0,>=8.2.2 in /usr/local/lib/python3.10/dist-packages (from spacy<3.8.0,>=3.7.0->de-core-news-sm==3.7.0) (8.2.3)\n",
            "Requirement already satisfied: wasabi<1.2.0,>=0.9.1 in /usr/local/lib/python3.10/dist-packages (from spacy<3.8.0,>=3.7.0->de-core-news-sm==3.7.0) (1.1.2)\n",
            "Requirement already satisfied: srsly<3.0.0,>=2.4.3 in /usr/local/lib/python3.10/dist-packages (from spacy<3.8.0,>=3.7.0->de-core-news-sm==3.7.0) (2.4.8)\n",
            "Requirement already satisfied: catalogue<2.1.0,>=2.0.6 in /usr/local/lib/python3.10/dist-packages (from spacy<3.8.0,>=3.7.0->de-core-news-sm==3.7.0) (2.0.10)\n",
            "Requirement already satisfied: weasel<0.4.0,>=0.1.0 in /usr/local/lib/python3.10/dist-packages (from spacy<3.8.0,>=3.7.0->de-core-news-sm==3.7.0) (0.3.4)\n",
            "Requirement already satisfied: typer<0.10.0,>=0.3.0 in /usr/local/lib/python3.10/dist-packages (from spacy<3.8.0,>=3.7.0->de-core-news-sm==3.7.0) (0.9.4)\n",
            "Requirement already satisfied: smart-open<7.0.0,>=5.2.1 in /usr/local/lib/python3.10/dist-packages (from spacy<3.8.0,>=3.7.0->de-core-news-sm==3.7.0) (6.4.0)\n",
            "Requirement already satisfied: tqdm<5.0.0,>=4.38.0 in /usr/local/lib/python3.10/dist-packages (from spacy<3.8.0,>=3.7.0->de-core-news-sm==3.7.0) (4.66.4)\n",
            "Requirement already satisfied: requests<3.0.0,>=2.13.0 in /usr/local/lib/python3.10/dist-packages (from spacy<3.8.0,>=3.7.0->de-core-news-sm==3.7.0) (2.31.0)\n",
            "Requirement already satisfied: pydantic!=1.8,!=1.8.1,<3.0.0,>=1.7.4 in /usr/local/lib/python3.10/dist-packages (from spacy<3.8.0,>=3.7.0->de-core-news-sm==3.7.0) (2.7.1)\n",
            "Requirement already satisfied: jinja2 in /usr/local/lib/python3.10/dist-packages (from spacy<3.8.0,>=3.7.0->de-core-news-sm==3.7.0) (3.1.4)\n",
            "Requirement already satisfied: setuptools in /usr/local/lib/python3.10/dist-packages (from spacy<3.8.0,>=3.7.0->de-core-news-sm==3.7.0) (67.7.2)\n",
            "Requirement already satisfied: packaging>=20.0 in /usr/local/lib/python3.10/dist-packages (from spacy<3.8.0,>=3.7.0->de-core-news-sm==3.7.0) (24.0)\n",
            "Requirement already satisfied: langcodes<4.0.0,>=3.2.0 in /usr/local/lib/python3.10/dist-packages (from spacy<3.8.0,>=3.7.0->de-core-news-sm==3.7.0) (3.4.0)\n",
            "Requirement already satisfied: numpy>=1.19.0 in /usr/local/lib/python3.10/dist-packages (from spacy<3.8.0,>=3.7.0->de-core-news-sm==3.7.0) (1.25.2)\n",
            "Requirement already satisfied: language-data>=1.2 in /usr/local/lib/python3.10/dist-packages (from langcodes<4.0.0,>=3.2.0->spacy<3.8.0,>=3.7.0->de-core-news-sm==3.7.0) (1.2.0)\n",
            "Requirement already satisfied: annotated-types>=0.4.0 in /usr/local/lib/python3.10/dist-packages (from pydantic!=1.8,!=1.8.1,<3.0.0,>=1.7.4->spacy<3.8.0,>=3.7.0->de-core-news-sm==3.7.0) (0.6.0)\n",
            "Requirement already satisfied: pydantic-core==2.18.2 in /usr/local/lib/python3.10/dist-packages (from pydantic!=1.8,!=1.8.1,<3.0.0,>=1.7.4->spacy<3.8.0,>=3.7.0->de-core-news-sm==3.7.0) (2.18.2)\n",
            "Requirement already satisfied: typing-extensions>=4.6.1 in /usr/local/lib/python3.10/dist-packages (from pydantic!=1.8,!=1.8.1,<3.0.0,>=1.7.4->spacy<3.8.0,>=3.7.0->de-core-news-sm==3.7.0) (4.11.0)\n",
            "Requirement already satisfied: charset-normalizer<4,>=2 in /usr/local/lib/python3.10/dist-packages (from requests<3.0.0,>=2.13.0->spacy<3.8.0,>=3.7.0->de-core-news-sm==3.7.0) (3.3.2)\n",
            "Requirement already satisfied: idna<4,>=2.5 in /usr/local/lib/python3.10/dist-packages (from requests<3.0.0,>=2.13.0->spacy<3.8.0,>=3.7.0->de-core-news-sm==3.7.0) (3.7)\n",
            "Requirement already satisfied: urllib3<3,>=1.21.1 in /usr/local/lib/python3.10/dist-packages (from requests<3.0.0,>=2.13.0->spacy<3.8.0,>=3.7.0->de-core-news-sm==3.7.0) (2.0.7)\n",
            "Requirement already satisfied: certifi>=2017.4.17 in /usr/local/lib/python3.10/dist-packages (from requests<3.0.0,>=2.13.0->spacy<3.8.0,>=3.7.0->de-core-news-sm==3.7.0) (2024.2.2)\n",
            "Requirement already satisfied: blis<0.8.0,>=0.7.8 in /usr/local/lib/python3.10/dist-packages (from thinc<8.3.0,>=8.2.2->spacy<3.8.0,>=3.7.0->de-core-news-sm==3.7.0) (0.7.11)\n",
            "Requirement already satisfied: confection<1.0.0,>=0.0.1 in /usr/local/lib/python3.10/dist-packages (from thinc<8.3.0,>=8.2.2->spacy<3.8.0,>=3.7.0->de-core-news-sm==3.7.0) (0.1.4)\n",
            "Requirement already satisfied: click<9.0.0,>=7.1.1 in /usr/local/lib/python3.10/dist-packages (from typer<0.10.0,>=0.3.0->spacy<3.8.0,>=3.7.0->de-core-news-sm==3.7.0) (8.1.7)\n",
            "Requirement already satisfied: cloudpathlib<0.17.0,>=0.7.0 in /usr/local/lib/python3.10/dist-packages (from weasel<0.4.0,>=0.1.0->spacy<3.8.0,>=3.7.0->de-core-news-sm==3.7.0) (0.16.0)\n",
            "Requirement already satisfied: MarkupSafe>=2.0 in /usr/local/lib/python3.10/dist-packages (from jinja2->spacy<3.8.0,>=3.7.0->de-core-news-sm==3.7.0) (2.1.5)\n",
            "Requirement already satisfied: marisa-trie>=0.7.7 in /usr/local/lib/python3.10/dist-packages (from language-data>=1.2->langcodes<4.0.0,>=3.2.0->spacy<3.8.0,>=3.7.0->de-core-news-sm==3.7.0) (1.1.1)\n",
            "\u001b[38;5;2m✔ Download and installation successful\u001b[0m\n",
            "You can now load the package via spacy.load('de_core_news_sm')\n",
            "\u001b[38;5;3m⚠ Restart to reload dependencies\u001b[0m\n",
            "If you are in a Jupyter or Colab notebook, you may need to restart Python in\n",
            "order to load all the package's dependencies. You can do this by selecting the\n",
            "'Restart kernel' or 'Restart runtime' option.\n",
            "Collecting en-core-web-sm==3.7.1\n",
            "  Downloading https://github.com/explosion/spacy-models/releases/download/en_core_web_sm-3.7.1/en_core_web_sm-3.7.1-py3-none-any.whl (12.8 MB)\n",
            "\u001b[2K     \u001b[90m━━━━━━━━━━━━━━━━━━━━━━━━━━━━━━━━━━━━━━━━\u001b[0m \u001b[32m12.8/12.8 MB\u001b[0m \u001b[31m44.9 MB/s\u001b[0m eta \u001b[36m0:00:00\u001b[0m\n",
            "\u001b[?25hRequirement already satisfied: spacy<3.8.0,>=3.7.2 in /usr/local/lib/python3.10/dist-packages (from en-core-web-sm==3.7.1) (3.7.4)\n",
            "Requirement already satisfied: spacy-legacy<3.1.0,>=3.0.11 in /usr/local/lib/python3.10/dist-packages (from spacy<3.8.0,>=3.7.2->en-core-web-sm==3.7.1) (3.0.12)\n",
            "Requirement already satisfied: spacy-loggers<2.0.0,>=1.0.0 in /usr/local/lib/python3.10/dist-packages (from spacy<3.8.0,>=3.7.2->en-core-web-sm==3.7.1) (1.0.5)\n",
            "Requirement already satisfied: murmurhash<1.1.0,>=0.28.0 in /usr/local/lib/python3.10/dist-packages (from spacy<3.8.0,>=3.7.2->en-core-web-sm==3.7.1) (1.0.10)\n",
            "Requirement already satisfied: cymem<2.1.0,>=2.0.2 in /usr/local/lib/python3.10/dist-packages (from spacy<3.8.0,>=3.7.2->en-core-web-sm==3.7.1) (2.0.8)\n",
            "Requirement already satisfied: preshed<3.1.0,>=3.0.2 in /usr/local/lib/python3.10/dist-packages (from spacy<3.8.0,>=3.7.2->en-core-web-sm==3.7.1) (3.0.9)\n",
            "Requirement already satisfied: thinc<8.3.0,>=8.2.2 in /usr/local/lib/python3.10/dist-packages (from spacy<3.8.0,>=3.7.2->en-core-web-sm==3.7.1) (8.2.3)\n",
            "Requirement already satisfied: wasabi<1.2.0,>=0.9.1 in /usr/local/lib/python3.10/dist-packages (from spacy<3.8.0,>=3.7.2->en-core-web-sm==3.7.1) (1.1.2)\n",
            "Requirement already satisfied: srsly<3.0.0,>=2.4.3 in /usr/local/lib/python3.10/dist-packages (from spacy<3.8.0,>=3.7.2->en-core-web-sm==3.7.1) (2.4.8)\n",
            "Requirement already satisfied: catalogue<2.1.0,>=2.0.6 in /usr/local/lib/python3.10/dist-packages (from spacy<3.8.0,>=3.7.2->en-core-web-sm==3.7.1) (2.0.10)\n",
            "Requirement already satisfied: weasel<0.4.0,>=0.1.0 in /usr/local/lib/python3.10/dist-packages (from spacy<3.8.0,>=3.7.2->en-core-web-sm==3.7.1) (0.3.4)\n",
            "Requirement already satisfied: typer<0.10.0,>=0.3.0 in /usr/local/lib/python3.10/dist-packages (from spacy<3.8.0,>=3.7.2->en-core-web-sm==3.7.1) (0.9.4)\n",
            "Requirement already satisfied: smart-open<7.0.0,>=5.2.1 in /usr/local/lib/python3.10/dist-packages (from spacy<3.8.0,>=3.7.2->en-core-web-sm==3.7.1) (6.4.0)\n",
            "Requirement already satisfied: tqdm<5.0.0,>=4.38.0 in /usr/local/lib/python3.10/dist-packages (from spacy<3.8.0,>=3.7.2->en-core-web-sm==3.7.1) (4.66.4)\n",
            "Requirement already satisfied: requests<3.0.0,>=2.13.0 in /usr/local/lib/python3.10/dist-packages (from spacy<3.8.0,>=3.7.2->en-core-web-sm==3.7.1) (2.31.0)\n",
            "Requirement already satisfied: pydantic!=1.8,!=1.8.1,<3.0.0,>=1.7.4 in /usr/local/lib/python3.10/dist-packages (from spacy<3.8.0,>=3.7.2->en-core-web-sm==3.7.1) (2.7.1)\n",
            "Requirement already satisfied: jinja2 in /usr/local/lib/python3.10/dist-packages (from spacy<3.8.0,>=3.7.2->en-core-web-sm==3.7.1) (3.1.4)\n",
            "Requirement already satisfied: setuptools in /usr/local/lib/python3.10/dist-packages (from spacy<3.8.0,>=3.7.2->en-core-web-sm==3.7.1) (67.7.2)\n",
            "Requirement already satisfied: packaging>=20.0 in /usr/local/lib/python3.10/dist-packages (from spacy<3.8.0,>=3.7.2->en-core-web-sm==3.7.1) (24.0)\n",
            "Requirement already satisfied: langcodes<4.0.0,>=3.2.0 in /usr/local/lib/python3.10/dist-packages (from spacy<3.8.0,>=3.7.2->en-core-web-sm==3.7.1) (3.4.0)\n",
            "Requirement already satisfied: numpy>=1.19.0 in /usr/local/lib/python3.10/dist-packages (from spacy<3.8.0,>=3.7.2->en-core-web-sm==3.7.1) (1.25.2)\n",
            "Requirement already satisfied: language-data>=1.2 in /usr/local/lib/python3.10/dist-packages (from langcodes<4.0.0,>=3.2.0->spacy<3.8.0,>=3.7.2->en-core-web-sm==3.7.1) (1.2.0)\n",
            "Requirement already satisfied: annotated-types>=0.4.0 in /usr/local/lib/python3.10/dist-packages (from pydantic!=1.8,!=1.8.1,<3.0.0,>=1.7.4->spacy<3.8.0,>=3.7.2->en-core-web-sm==3.7.1) (0.6.0)\n",
            "Requirement already satisfied: pydantic-core==2.18.2 in /usr/local/lib/python3.10/dist-packages (from pydantic!=1.8,!=1.8.1,<3.0.0,>=1.7.4->spacy<3.8.0,>=3.7.2->en-core-web-sm==3.7.1) (2.18.2)\n",
            "Requirement already satisfied: typing-extensions>=4.6.1 in /usr/local/lib/python3.10/dist-packages (from pydantic!=1.8,!=1.8.1,<3.0.0,>=1.7.4->spacy<3.8.0,>=3.7.2->en-core-web-sm==3.7.1) (4.11.0)\n",
            "Requirement already satisfied: charset-normalizer<4,>=2 in /usr/local/lib/python3.10/dist-packages (from requests<3.0.0,>=2.13.0->spacy<3.8.0,>=3.7.2->en-core-web-sm==3.7.1) (3.3.2)\n",
            "Requirement already satisfied: idna<4,>=2.5 in /usr/local/lib/python3.10/dist-packages (from requests<3.0.0,>=2.13.0->spacy<3.8.0,>=3.7.2->en-core-web-sm==3.7.1) (3.7)\n",
            "Requirement already satisfied: urllib3<3,>=1.21.1 in /usr/local/lib/python3.10/dist-packages (from requests<3.0.0,>=2.13.0->spacy<3.8.0,>=3.7.2->en-core-web-sm==3.7.1) (2.0.7)\n",
            "Requirement already satisfied: certifi>=2017.4.17 in /usr/local/lib/python3.10/dist-packages (from requests<3.0.0,>=2.13.0->spacy<3.8.0,>=3.7.2->en-core-web-sm==3.7.1) (2024.2.2)\n",
            "Requirement already satisfied: blis<0.8.0,>=0.7.8 in /usr/local/lib/python3.10/dist-packages (from thinc<8.3.0,>=8.2.2->spacy<3.8.0,>=3.7.2->en-core-web-sm==3.7.1) (0.7.11)\n",
            "Requirement already satisfied: confection<1.0.0,>=0.0.1 in /usr/local/lib/python3.10/dist-packages (from thinc<8.3.0,>=8.2.2->spacy<3.8.0,>=3.7.2->en-core-web-sm==3.7.1) (0.1.4)\n",
            "Requirement already satisfied: click<9.0.0,>=7.1.1 in /usr/local/lib/python3.10/dist-packages (from typer<0.10.0,>=0.3.0->spacy<3.8.0,>=3.7.2->en-core-web-sm==3.7.1) (8.1.7)\n",
            "Requirement already satisfied: cloudpathlib<0.17.0,>=0.7.0 in /usr/local/lib/python3.10/dist-packages (from weasel<0.4.0,>=0.1.0->spacy<3.8.0,>=3.7.2->en-core-web-sm==3.7.1) (0.16.0)\n",
            "Requirement already satisfied: MarkupSafe>=2.0 in /usr/local/lib/python3.10/dist-packages (from jinja2->spacy<3.8.0,>=3.7.2->en-core-web-sm==3.7.1) (2.1.5)\n",
            "Requirement already satisfied: marisa-trie>=0.7.7 in /usr/local/lib/python3.10/dist-packages (from language-data>=1.2->langcodes<4.0.0,>=3.2.0->spacy<3.8.0,>=3.7.2->en-core-web-sm==3.7.1) (1.1.1)\n",
            "\u001b[38;5;2m✔ Download and installation successful\u001b[0m\n",
            "You can now load the package via spacy.load('en_core_web_sm')\n",
            "\u001b[38;5;3m⚠ Restart to reload dependencies\u001b[0m\n",
            "If you are in a Jupyter or Colab notebook, you may need to restart Python in\n",
            "order to load all the package's dependencies. You can do this by selecting the\n",
            "'Restart kernel' or 'Restart runtime' option.\n"
          ]
        }
      ]
    },
    {
      "cell_type": "code",
      "source": [
        "import spacy\n",
        "nlp = spacy.load(\"de_core_news_sm\")"
      ],
      "metadata": {
        "id": "TI145lWMOa5Q"
      },
      "execution_count": 8,
      "outputs": []
    },
    {
      "cell_type": "markdown",
      "source": [
        "Dann kann spaCy direkt verwendet werden um Vektoren zu erstellen."
      ],
      "metadata": {
        "id": "H8_e3wVDOf0V"
      }
    },
    {
      "cell_type": "code",
      "source": [
        "nlp(\"Tor\").vector"
      ],
      "metadata": {
        "id": "d1ZvQbT9OfOT",
        "colab": {
          "base_uri": "https://localhost:8080/"
        },
        "outputId": "7eaaaf94-cea9-4ee5-e305-2a5a0e837e50"
      },
      "execution_count": 9,
      "outputs": [
        {
          "output_type": "execute_result",
          "data": {
            "text/plain": [
              "array([-0.3866541 ,  1.4864721 ,  2.2627044 ,  4.373131  , -1.6397545 ,\n",
              "       -2.8576338 ,  2.5421398 , -0.7178341 , -2.7548869 ,  0.19877231,\n",
              "       -0.26690227, -3.2499797 , -0.07209927,  2.0492404 , -0.7643546 ,\n",
              "        1.7343645 ,  0.22650325, -0.83428836, -2.9469306 , -1.2546612 ,\n",
              "       -1.8757616 ,  2.1498652 ,  1.8170998 ,  0.20399499, -0.5866957 ,\n",
              "       -1.9459215 ,  1.3294091 , -0.9072165 , -2.5966775 ,  2.5521505 ,\n",
              "       -2.0311794 ,  2.155278  ,  1.3379633 ,  1.2373964 ,  2.5194373 ,\n",
              "       -0.6857495 ,  0.05040181, -1.9798384 ,  5.075095  , -0.82962084,\n",
              "       -0.92588013,  1.675473  ,  1.8220042 ,  1.330482  ,  0.8856053 ,\n",
              "       -1.5321779 , -3.3709543 ,  1.2826461 ,  2.538719  ,  1.0055033 ,\n",
              "       -2.0600889 ,  5.955442  ,  4.1726956 , -0.7843386 , -2.3304086 ,\n",
              "       -0.6533785 ,  4.5863867 , -0.8016248 ,  1.7923348 ,  0.18133982,\n",
              "        1.9425712 , -0.80694014, -3.6014707 ,  2.6962233 , -1.848644  ,\n",
              "        0.72477007, -1.69417   , -2.723751  , -0.86200726, -1.165538  ,\n",
              "       -1.1034281 ,  1.9890578 ,  2.5929217 ,  4.5354996 , -1.6411192 ,\n",
              "       -0.16857083,  0.25530475, -3.3407946 , -0.716102  ,  1.177947  ,\n",
              "        2.2548842 ,  0.12220758, -0.4473123 ,  1.476311  ,  2.544104  ,\n",
              "       -4.242005  , -1.2533964 , -2.61982   , -2.2740047 ,  0.43111736,\n",
              "       -0.1598612 , -4.8384724 ,  1.2839706 ,  0.4749887 ,  2.1376636 ,\n",
              "        0.53397715], dtype=float32)"
            ]
          },
          "metadata": {},
          "execution_count": 9
        }
      ]
    },
    {
      "cell_type": "markdown",
      "source": [
        "Dasselbe funktionert auch für Sätze."
      ],
      "metadata": {
        "id": "WxlNBScwOo3F"
      }
    },
    {
      "cell_type": "code",
      "source": [
        "nlp(sentence1_de).vector"
      ],
      "metadata": {
        "id": "GrVEiuniOqfA",
        "colab": {
          "base_uri": "https://localhost:8080/"
        },
        "outputId": "639e1512-b52e-4b2c-dfd9-aff757aae4ea"
      },
      "execution_count": 10,
      "outputs": [
        {
          "output_type": "execute_result",
          "data": {
            "text/plain": [
              "array([ 6.41115129e-01,  1.69784844e+00,  2.25234461e+00, -1.66279221e+00,\n",
              "        3.07252584e-03, -1.58689749e+00,  1.86330330e+00,  2.70263582e-01,\n",
              "        3.71635497e-01,  7.56297529e-01,  8.37871969e-01, -8.59534740e-01,\n",
              "       -3.80256623e-01,  8.57793033e-01, -1.66008875e-01,  1.77732155e-01,\n",
              "        1.01046002e+00,  5.52570939e-01, -2.72214442e-01,  5.91154933e-01,\n",
              "        1.06508382e-01,  1.19520259e+00,  1.14360559e+00,  6.82378769e-01,\n",
              "       -2.02420309e-01, -2.06527543e+00,  4.56403285e-01, -2.20843434e+00,\n",
              "        7.19399273e-01,  1.75958824e+00, -1.04212485e-01,  1.13594663e+00,\n",
              "       -1.26479137e+00,  1.86921561e+00,  2.25447714e-02, -8.54451284e-02,\n",
              "       -3.95407975e-01, -6.39230851e-03,  3.38072032e-01,  7.61056364e-01,\n",
              "       -3.36528254e+00,  2.24123716e+00,  5.24074912e-01, -2.39245579e-01,\n",
              "        1.39904785e+00,  4.45788682e-01, -5.28940320e-01, -2.81037837e-01,\n",
              "       -1.04931939e+00,  8.00705910e-01, -1.29143798e+00,  1.01043296e+00,\n",
              "       -4.35058683e-01, -1.04120028e+00,  8.60447466e-01, -1.43244565e+00,\n",
              "        7.23470986e-01,  7.60673404e-01,  8.78705308e-02, -7.35489845e-01,\n",
              "       -1.29188132e+00, -1.47238791e+00,  1.25921261e+00, -2.27606803e-01,\n",
              "       -1.72182187e-01,  4.27573979e-01,  4.38030303e-01, -1.56538451e+00,\n",
              "       -3.47076386e-01, -2.43044391e-01,  6.99042976e-01,  1.05783892e+00,\n",
              "       -3.08939785e-01,  5.02528131e-01,  4.64271277e-01, -1.26515079e+00,\n",
              "       -1.38322151e+00, -1.63514626e+00,  3.92649353e-01, -2.24264547e-01,\n",
              "       -9.68414903e-01, -1.04466867e+00, -5.65280199e-01,  3.01590204e-01,\n",
              "        1.57205582e+00,  1.15279663e+00,  9.42450106e-01, -5.17260134e-01,\n",
              "       -2.29104614e+00,  8.18334222e-01, -7.09115326e-01, -7.65309706e-02,\n",
              "        3.64298439e+00,  6.62566602e-01, -1.03110325e+00,  4.14195865e-01],\n",
              "      dtype=float32)"
            ]
          },
          "metadata": {},
          "execution_count": 10
        }
      ]
    },
    {
      "cell_type": "markdown",
      "source": [
        "Um nun Sätze zu vergleichen, können in spaCy enthaltene Funktionen verwendet werden."
      ],
      "metadata": {
        "id": "3QQteiSoPCP_"
      }
    },
    {
      "cell_type": "code",
      "source": [
        "doc1 = nlp(sentence1_de)\n",
        "doc2 = nlp(sentence2_de)\n",
        "\n",
        "similarity = doc1.similarity(doc2)\n",
        "print(similarity)"
      ],
      "metadata": {
        "id": "xWCDlyKbPGsa",
        "colab": {
          "base_uri": "https://localhost:8080/"
        },
        "outputId": "9a3a24c5-5675-437c-f24d-c98e72cc8288"
      },
      "execution_count": 11,
      "outputs": [
        {
          "output_type": "stream",
          "name": "stdout",
          "text": [
            "0.920619389592944\n"
          ]
        },
        {
          "output_type": "stream",
          "name": "stderr",
          "text": [
            "<ipython-input-11-f3972b392b67>:4: UserWarning: [W007] The model you're using has no word vectors loaded, so the result of the Doc.similarity method will be based on the tagger, parser and NER, which may not give useful similarity judgements. This may happen if you're using one of the small models, e.g. `en_core_web_sm`, which don't ship with word vectors and only use context-sensitive tensors. You can always add your own word vectors, or use one of the larger models instead if available.\n",
            "  similarity = doc1.similarity(doc2)\n"
          ]
        }
      ]
    },
    {
      "cell_type": "markdown",
      "source": [
        "Oder wir verwenden die Vektordarstellungen in unserer `cosine_similarity`-Funktion. Das Ergebnis ist dasselbe."
      ],
      "metadata": {
        "id": "h968FxRtPXxt"
      }
    },
    {
      "cell_type": "code",
      "source": [
        "similarity = cosine_similarity(nlp(sentence1_de).vector, nlp(sentence2_de).vector)\n",
        "print(similarity)"
      ],
      "metadata": {
        "id": "-W8ZJRm4PXFl",
        "colab": {
          "base_uri": "https://localhost:8080/"
        },
        "outputId": "f2b9cdbe-e46c-48ab-d212-190db03e69cf"
      },
      "execution_count": 12,
      "outputs": [
        {
          "output_type": "stream",
          "name": "stdout",
          "text": [
            "0.9206193825144211\n"
          ]
        }
      ]
    },
    {
      "cell_type": "markdown",
      "source": [
        "👋 ⚒ **Aufgaben** 👋 ⚒ <br>\n",
        "Berechnen Sie die Kosinus-Ähnlichkeit auf den beiden englischen Beispielsätzen mithilfe von spaCy. Achtung: Dazu muss das richtige Modelle in spaCy geladen werden."
      ],
      "metadata": {
        "id": "Lw44GsdbPpuL"
      }
    },
    {
      "cell_type": "code",
      "source": [
        "nlp = spacy.load(\"en_core_web_sm\")"
      ],
      "metadata": {
        "id": "iwkNpls-PRI_"
      },
      "execution_count": 15,
      "outputs": []
    },
    {
      "cell_type": "code",
      "source": [
        "# Fügen Sie hier Ihren Code hier ein\n",
        "doc1 = nlp(sentence1_en)\n",
        "doc2 = nlp(sentence2_en)\n",
        "\n",
        "similarity = doc1.similarity(doc2)\n",
        "print(similarity)"
      ],
      "metadata": {
        "id": "eKhUPqk4QjU3",
        "colab": {
          "base_uri": "https://localhost:8080/"
        },
        "outputId": "215c3689-508b-4177-af7f-9360ca67c014"
      },
      "execution_count": 16,
      "outputs": [
        {
          "output_type": "stream",
          "name": "stdout",
          "text": [
            "0.9004637547273742\n"
          ]
        },
        {
          "output_type": "stream",
          "name": "stderr",
          "text": [
            "<ipython-input-16-a1f4b18e6e05>:5: UserWarning: [W007] The model you're using has no word vectors loaded, so the result of the Doc.similarity method will be based on the tagger, parser and NER, which may not give useful similarity judgements. This may happen if you're using one of the small models, e.g. `en_core_web_sm`, which don't ship with word vectors and only use context-sensitive tensors. You can always add your own word vectors, or use one of the larger models instead if available.\n",
            "  similarity = doc1.similarity(doc2)\n"
          ]
        }
      ]
    },
    {
      "cell_type": "markdown",
      "source": [
        "## **Lektion 12: Sentence Similarity mit Hugging Face 🤗**\n",
        "\n",
        "[Hugging Face](https://huggingface.co/) 🤗 ist eine Platform für maschinelles Lernen, Computerlinguistik und Data Science. NLP-Expert*innen und -Begeisterte teilen auf Hugging Face vortrainierte Modelle, Datensätze, Code und Informationen.\n",
        "\n",
        "Die Platform selbst bietet einheitliche Methoden um Modelle und Datensätze in Python zu laden und zu verwenden. Um Hugging Face in Google Colab nutzen zu können müssen wir zwei Bibliotheken von Hugging Face installieren."
      ],
      "metadata": {
        "id": "QxZ0uvu7Q1HP"
      }
    },
    {
      "cell_type": "code",
      "source": [
        "!pip install -U sentence-transformers\n",
        "!pip install datasets"
      ],
      "metadata": {
        "id": "7YjHCJkhXNBx",
        "colab": {
          "base_uri": "https://localhost:8080/"
        },
        "outputId": "173dc3bb-f1e3-4f47-ea19-2e87cd436376"
      },
      "execution_count": 17,
      "outputs": [
        {
          "output_type": "stream",
          "name": "stdout",
          "text": [
            "Collecting sentence-transformers\n",
            "  Downloading sentence_transformers-2.7.0-py3-none-any.whl (171 kB)\n",
            "\u001b[2K     \u001b[90m━━━━━━━━━━━━━━━━━━━━━━━━━━━━━━━━━━━━━━━━\u001b[0m \u001b[32m171.5/171.5 kB\u001b[0m \u001b[31m3.5 MB/s\u001b[0m eta \u001b[36m0:00:00\u001b[0m\n",
            "\u001b[?25hRequirement already satisfied: transformers<5.0.0,>=4.34.0 in /usr/local/lib/python3.10/dist-packages (from sentence-transformers) (4.40.2)\n",
            "Requirement already satisfied: tqdm in /usr/local/lib/python3.10/dist-packages (from sentence-transformers) (4.66.4)\n",
            "Requirement already satisfied: torch>=1.11.0 in /usr/local/lib/python3.10/dist-packages (from sentence-transformers) (2.2.1+cu121)\n",
            "Requirement already satisfied: numpy in /usr/local/lib/python3.10/dist-packages (from sentence-transformers) (1.25.2)\n",
            "Requirement already satisfied: scikit-learn in /usr/local/lib/python3.10/dist-packages (from sentence-transformers) (1.2.2)\n",
            "Requirement already satisfied: scipy in /usr/local/lib/python3.10/dist-packages (from sentence-transformers) (1.11.4)\n",
            "Requirement already satisfied: huggingface-hub>=0.15.1 in /usr/local/lib/python3.10/dist-packages (from sentence-transformers) (0.20.3)\n",
            "Requirement already satisfied: Pillow in /usr/local/lib/python3.10/dist-packages (from sentence-transformers) (9.4.0)\n",
            "Requirement already satisfied: filelock in /usr/local/lib/python3.10/dist-packages (from huggingface-hub>=0.15.1->sentence-transformers) (3.14.0)\n",
            "Requirement already satisfied: fsspec>=2023.5.0 in /usr/local/lib/python3.10/dist-packages (from huggingface-hub>=0.15.1->sentence-transformers) (2023.6.0)\n",
            "Requirement already satisfied: requests in /usr/local/lib/python3.10/dist-packages (from huggingface-hub>=0.15.1->sentence-transformers) (2.31.0)\n",
            "Requirement already satisfied: pyyaml>=5.1 in /usr/local/lib/python3.10/dist-packages (from huggingface-hub>=0.15.1->sentence-transformers) (6.0.1)\n",
            "Requirement already satisfied: typing-extensions>=3.7.4.3 in /usr/local/lib/python3.10/dist-packages (from huggingface-hub>=0.15.1->sentence-transformers) (4.11.0)\n",
            "Requirement already satisfied: packaging>=20.9 in /usr/local/lib/python3.10/dist-packages (from huggingface-hub>=0.15.1->sentence-transformers) (24.0)\n",
            "Requirement already satisfied: sympy in /usr/local/lib/python3.10/dist-packages (from torch>=1.11.0->sentence-transformers) (1.12)\n",
            "Requirement already satisfied: networkx in /usr/local/lib/python3.10/dist-packages (from torch>=1.11.0->sentence-transformers) (3.3)\n",
            "Requirement already satisfied: jinja2 in /usr/local/lib/python3.10/dist-packages (from torch>=1.11.0->sentence-transformers) (3.1.4)\n",
            "Collecting nvidia-cuda-nvrtc-cu12==12.1.105 (from torch>=1.11.0->sentence-transformers)\n",
            "  Using cached nvidia_cuda_nvrtc_cu12-12.1.105-py3-none-manylinux1_x86_64.whl (23.7 MB)\n",
            "Collecting nvidia-cuda-runtime-cu12==12.1.105 (from torch>=1.11.0->sentence-transformers)\n",
            "  Using cached nvidia_cuda_runtime_cu12-12.1.105-py3-none-manylinux1_x86_64.whl (823 kB)\n",
            "Collecting nvidia-cuda-cupti-cu12==12.1.105 (from torch>=1.11.0->sentence-transformers)\n",
            "  Using cached nvidia_cuda_cupti_cu12-12.1.105-py3-none-manylinux1_x86_64.whl (14.1 MB)\n",
            "Collecting nvidia-cudnn-cu12==8.9.2.26 (from torch>=1.11.0->sentence-transformers)\n",
            "  Using cached nvidia_cudnn_cu12-8.9.2.26-py3-none-manylinux1_x86_64.whl (731.7 MB)\n",
            "Collecting nvidia-cublas-cu12==12.1.3.1 (from torch>=1.11.0->sentence-transformers)\n",
            "  Using cached nvidia_cublas_cu12-12.1.3.1-py3-none-manylinux1_x86_64.whl (410.6 MB)\n",
            "Collecting nvidia-cufft-cu12==11.0.2.54 (from torch>=1.11.0->sentence-transformers)\n",
            "  Using cached nvidia_cufft_cu12-11.0.2.54-py3-none-manylinux1_x86_64.whl (121.6 MB)\n",
            "Collecting nvidia-curand-cu12==10.3.2.106 (from torch>=1.11.0->sentence-transformers)\n",
            "  Using cached nvidia_curand_cu12-10.3.2.106-py3-none-manylinux1_x86_64.whl (56.5 MB)\n",
            "Collecting nvidia-cusolver-cu12==11.4.5.107 (from torch>=1.11.0->sentence-transformers)\n",
            "  Using cached nvidia_cusolver_cu12-11.4.5.107-py3-none-manylinux1_x86_64.whl (124.2 MB)\n",
            "Collecting nvidia-cusparse-cu12==12.1.0.106 (from torch>=1.11.0->sentence-transformers)\n",
            "  Using cached nvidia_cusparse_cu12-12.1.0.106-py3-none-manylinux1_x86_64.whl (196.0 MB)\n",
            "Collecting nvidia-nccl-cu12==2.19.3 (from torch>=1.11.0->sentence-transformers)\n",
            "  Using cached nvidia_nccl_cu12-2.19.3-py3-none-manylinux1_x86_64.whl (166.0 MB)\n",
            "Collecting nvidia-nvtx-cu12==12.1.105 (from torch>=1.11.0->sentence-transformers)\n",
            "  Using cached nvidia_nvtx_cu12-12.1.105-py3-none-manylinux1_x86_64.whl (99 kB)\n",
            "Requirement already satisfied: triton==2.2.0 in /usr/local/lib/python3.10/dist-packages (from torch>=1.11.0->sentence-transformers) (2.2.0)\n",
            "Collecting nvidia-nvjitlink-cu12 (from nvidia-cusolver-cu12==11.4.5.107->torch>=1.11.0->sentence-transformers)\n",
            "  Using cached nvidia_nvjitlink_cu12-12.4.127-py3-none-manylinux2014_x86_64.whl (21.1 MB)\n",
            "Requirement already satisfied: regex!=2019.12.17 in /usr/local/lib/python3.10/dist-packages (from transformers<5.0.0,>=4.34.0->sentence-transformers) (2023.12.25)\n",
            "Requirement already satisfied: tokenizers<0.20,>=0.19 in /usr/local/lib/python3.10/dist-packages (from transformers<5.0.0,>=4.34.0->sentence-transformers) (0.19.1)\n",
            "Requirement already satisfied: safetensors>=0.4.1 in /usr/local/lib/python3.10/dist-packages (from transformers<5.0.0,>=4.34.0->sentence-transformers) (0.4.3)\n",
            "Requirement already satisfied: joblib>=1.1.1 in /usr/local/lib/python3.10/dist-packages (from scikit-learn->sentence-transformers) (1.4.2)\n",
            "Requirement already satisfied: threadpoolctl>=2.0.0 in /usr/local/lib/python3.10/dist-packages (from scikit-learn->sentence-transformers) (3.5.0)\n",
            "Requirement already satisfied: MarkupSafe>=2.0 in /usr/local/lib/python3.10/dist-packages (from jinja2->torch>=1.11.0->sentence-transformers) (2.1.5)\n",
            "Requirement already satisfied: charset-normalizer<4,>=2 in /usr/local/lib/python3.10/dist-packages (from requests->huggingface-hub>=0.15.1->sentence-transformers) (3.3.2)\n",
            "Requirement already satisfied: idna<4,>=2.5 in /usr/local/lib/python3.10/dist-packages (from requests->huggingface-hub>=0.15.1->sentence-transformers) (3.7)\n",
            "Requirement already satisfied: urllib3<3,>=1.21.1 in /usr/local/lib/python3.10/dist-packages (from requests->huggingface-hub>=0.15.1->sentence-transformers) (2.0.7)\n",
            "Requirement already satisfied: certifi>=2017.4.17 in /usr/local/lib/python3.10/dist-packages (from requests->huggingface-hub>=0.15.1->sentence-transformers) (2024.2.2)\n",
            "Requirement already satisfied: mpmath>=0.19 in /usr/local/lib/python3.10/dist-packages (from sympy->torch>=1.11.0->sentence-transformers) (1.3.0)\n",
            "Installing collected packages: nvidia-nvtx-cu12, nvidia-nvjitlink-cu12, nvidia-nccl-cu12, nvidia-curand-cu12, nvidia-cufft-cu12, nvidia-cuda-runtime-cu12, nvidia-cuda-nvrtc-cu12, nvidia-cuda-cupti-cu12, nvidia-cublas-cu12, nvidia-cusparse-cu12, nvidia-cudnn-cu12, nvidia-cusolver-cu12, sentence-transformers\n",
            "Successfully installed nvidia-cublas-cu12-12.1.3.1 nvidia-cuda-cupti-cu12-12.1.105 nvidia-cuda-nvrtc-cu12-12.1.105 nvidia-cuda-runtime-cu12-12.1.105 nvidia-cudnn-cu12-8.9.2.26 nvidia-cufft-cu12-11.0.2.54 nvidia-curand-cu12-10.3.2.106 nvidia-cusolver-cu12-11.4.5.107 nvidia-cusparse-cu12-12.1.0.106 nvidia-nccl-cu12-2.19.3 nvidia-nvjitlink-cu12-12.4.127 nvidia-nvtx-cu12-12.1.105 sentence-transformers-2.7.0\n",
            "Collecting datasets\n",
            "  Downloading datasets-2.19.1-py3-none-any.whl (542 kB)\n",
            "\u001b[2K     \u001b[90m━━━━━━━━━━━━━━━━━━━━━━━━━━━━━━━━━━━━━━━━\u001b[0m \u001b[32m542.0/542.0 kB\u001b[0m \u001b[31m7.8 MB/s\u001b[0m eta \u001b[36m0:00:00\u001b[0m\n",
            "\u001b[?25hRequirement already satisfied: filelock in /usr/local/lib/python3.10/dist-packages (from datasets) (3.14.0)\n",
            "Requirement already satisfied: numpy>=1.17 in /usr/local/lib/python3.10/dist-packages (from datasets) (1.25.2)\n",
            "Requirement already satisfied: pyarrow>=12.0.0 in /usr/local/lib/python3.10/dist-packages (from datasets) (14.0.2)\n",
            "Requirement already satisfied: pyarrow-hotfix in /usr/local/lib/python3.10/dist-packages (from datasets) (0.6)\n",
            "Collecting dill<0.3.9,>=0.3.0 (from datasets)\n",
            "  Downloading dill-0.3.8-py3-none-any.whl (116 kB)\n",
            "\u001b[2K     \u001b[90m━━━━━━━━━━━━━━━━━━━━━━━━━━━━━━━━━━━━━━━━\u001b[0m \u001b[32m116.3/116.3 kB\u001b[0m \u001b[31m12.3 MB/s\u001b[0m eta \u001b[36m0:00:00\u001b[0m\n",
            "\u001b[?25hRequirement already satisfied: pandas in /usr/local/lib/python3.10/dist-packages (from datasets) (2.0.3)\n",
            "Requirement already satisfied: requests>=2.19.0 in /usr/local/lib/python3.10/dist-packages (from datasets) (2.31.0)\n",
            "Requirement already satisfied: tqdm>=4.62.1 in /usr/local/lib/python3.10/dist-packages (from datasets) (4.66.4)\n",
            "Collecting xxhash (from datasets)\n",
            "  Downloading xxhash-3.4.1-cp310-cp310-manylinux_2_17_x86_64.manylinux2014_x86_64.whl (194 kB)\n",
            "\u001b[2K     \u001b[90m━━━━━━━━━━━━━━━━━━━━━━━━━━━━━━━━━━━━━━━━\u001b[0m \u001b[32m194.1/194.1 kB\u001b[0m \u001b[31m20.5 MB/s\u001b[0m eta \u001b[36m0:00:00\u001b[0m\n",
            "\u001b[?25hCollecting multiprocess (from datasets)\n",
            "  Downloading multiprocess-0.70.16-py310-none-any.whl (134 kB)\n",
            "\u001b[2K     \u001b[90m━━━━━━━━━━━━━━━━━━━━━━━━━━━━━━━━━━━━━━━━\u001b[0m \u001b[32m134.8/134.8 kB\u001b[0m \u001b[31m14.7 MB/s\u001b[0m eta \u001b[36m0:00:00\u001b[0m\n",
            "\u001b[?25hRequirement already satisfied: fsspec[http]<=2024.3.1,>=2023.1.0 in /usr/local/lib/python3.10/dist-packages (from datasets) (2023.6.0)\n",
            "Requirement already satisfied: aiohttp in /usr/local/lib/python3.10/dist-packages (from datasets) (3.9.5)\n",
            "Collecting huggingface-hub>=0.21.2 (from datasets)\n",
            "  Downloading huggingface_hub-0.23.0-py3-none-any.whl (401 kB)\n",
            "\u001b[2K     \u001b[90m━━━━━━━━━━━━━━━━━━━━━━━━━━━━━━━━━━━━━━━━\u001b[0m \u001b[32m401.2/401.2 kB\u001b[0m \u001b[31m18.5 MB/s\u001b[0m eta \u001b[36m0:00:00\u001b[0m\n",
            "\u001b[?25hRequirement already satisfied: packaging in /usr/local/lib/python3.10/dist-packages (from datasets) (24.0)\n",
            "Requirement already satisfied: pyyaml>=5.1 in /usr/local/lib/python3.10/dist-packages (from datasets) (6.0.1)\n",
            "Requirement already satisfied: aiosignal>=1.1.2 in /usr/local/lib/python3.10/dist-packages (from aiohttp->datasets) (1.3.1)\n",
            "Requirement already satisfied: attrs>=17.3.0 in /usr/local/lib/python3.10/dist-packages (from aiohttp->datasets) (23.2.0)\n",
            "Requirement already satisfied: frozenlist>=1.1.1 in /usr/local/lib/python3.10/dist-packages (from aiohttp->datasets) (1.4.1)\n",
            "Requirement already satisfied: multidict<7.0,>=4.5 in /usr/local/lib/python3.10/dist-packages (from aiohttp->datasets) (6.0.5)\n",
            "Requirement already satisfied: yarl<2.0,>=1.0 in /usr/local/lib/python3.10/dist-packages (from aiohttp->datasets) (1.9.4)\n",
            "Requirement already satisfied: async-timeout<5.0,>=4.0 in /usr/local/lib/python3.10/dist-packages (from aiohttp->datasets) (4.0.3)\n",
            "Requirement already satisfied: typing-extensions>=3.7.4.3 in /usr/local/lib/python3.10/dist-packages (from huggingface-hub>=0.21.2->datasets) (4.11.0)\n",
            "Requirement already satisfied: charset-normalizer<4,>=2 in /usr/local/lib/python3.10/dist-packages (from requests>=2.19.0->datasets) (3.3.2)\n",
            "Requirement already satisfied: idna<4,>=2.5 in /usr/local/lib/python3.10/dist-packages (from requests>=2.19.0->datasets) (3.7)\n",
            "Requirement already satisfied: urllib3<3,>=1.21.1 in /usr/local/lib/python3.10/dist-packages (from requests>=2.19.0->datasets) (2.0.7)\n",
            "Requirement already satisfied: certifi>=2017.4.17 in /usr/local/lib/python3.10/dist-packages (from requests>=2.19.0->datasets) (2024.2.2)\n",
            "Requirement already satisfied: python-dateutil>=2.8.2 in /usr/local/lib/python3.10/dist-packages (from pandas->datasets) (2.8.2)\n",
            "Requirement already satisfied: pytz>=2020.1 in /usr/local/lib/python3.10/dist-packages (from pandas->datasets) (2023.4)\n",
            "Requirement already satisfied: tzdata>=2022.1 in /usr/local/lib/python3.10/dist-packages (from pandas->datasets) (2024.1)\n",
            "Requirement already satisfied: six>=1.5 in /usr/local/lib/python3.10/dist-packages (from python-dateutil>=2.8.2->pandas->datasets) (1.16.0)\n",
            "Installing collected packages: xxhash, dill, multiprocess, huggingface-hub, datasets\n",
            "  Attempting uninstall: huggingface-hub\n",
            "    Found existing installation: huggingface-hub 0.20.3\n",
            "    Uninstalling huggingface-hub-0.20.3:\n",
            "      Successfully uninstalled huggingface-hub-0.20.3\n",
            "Successfully installed datasets-2.19.1 dill-0.3.8 huggingface-hub-0.23.0 multiprocess-0.70.16 xxhash-3.4.1\n"
          ]
        }
      ]
    },
    {
      "cell_type": "markdown",
      "source": [
        "Der große Unterschied zu den vorherigen Methoden ist, dass wir mithilfe von Hugging Face die Vektordarstellung von großen vortrainierten Modellen abrufen können."
      ],
      "metadata": {
        "id": "l8-IqDFwXOwI"
      }
    },
    {
      "cell_type": "code",
      "source": [
        "from sentence_transformers import SentenceTransformer, util\n",
        "\n",
        "model = SentenceTransformer('sentence-transformers/stsb-xlm-r-multilingual')\n",
        "\n",
        "# Vektordarstellung der beiden Sätze abrufen\n",
        "embedding_1= model.encode(sentence1_en)\n",
        "embedding_2 = model.encode(sentence2_en)\n",
        "\n",
        "cos_sim = util.pytorch_cos_sim(embedding_1, embedding_2)\n",
        "print(\"Die Kosinus-Ähnlichkeit ist:\", cos_sim.item())"
      ],
      "metadata": {
        "id": "E6MTPvKvWyeY",
        "colab": {
          "base_uri": "https://localhost:8080/"
        },
        "outputId": "c3939195-e6cf-4a08-8553-d77939937c1b"
      },
      "execution_count": 19,
      "outputs": [
        {
          "output_type": "stream",
          "name": "stderr",
          "text": [
            "/usr/local/lib/python3.10/dist-packages/huggingface_hub/file_download.py:1132: FutureWarning: `resume_download` is deprecated and will be removed in version 1.0.0. Downloads always resume when possible. If you want to force a new download, use `force_download=True`.\n",
            "  warnings.warn(\n"
          ]
        },
        {
          "output_type": "stream",
          "name": "stdout",
          "text": [
            "Die Kosinus-Ähnlichkeit ist: 0.8094106316566467\n"
          ]
        }
      ]
    },
    {
      "cell_type": "markdown",
      "source": [
        "Mithilfe von Hugging Face können wir auch bereits existierende Datensätze laden und verwenden, z. B.[Glue](https://huggingface.co/datasets/nyu-mll/glue) mit vielen verschiedenen Tasks einschließlich Semantic Textual Similarity."
      ],
      "metadata": {
        "id": "PH4_VO0lbMhp"
      }
    },
    {
      "cell_type": "code",
      "source": [
        "from datasets import load_dataset\n",
        "\n",
        "dataset = load_dataset(\"nyu-mll/glue\", \"stsb\")\n",
        "\n",
        "print(dataset)"
      ],
      "metadata": {
        "id": "inrZ7K09bb2s",
        "colab": {
          "base_uri": "https://localhost:8080/",
          "height": 484,
          "referenced_widgets": [
            "efa401942cf5493f9b142372fa8c5c20",
            "b311b912e8f94475a02d0cc8d4c121fb",
            "48ed1f6a6eeb47a49345e8501cedbc2d",
            "8b45f615867445a0be8c2da5cfb918c0",
            "dd911cd2d30346129d0678ea2c1d9b06",
            "e97d8fda91234957945a75e858a64cf1",
            "5a0670b6075a46419849045b9678164b",
            "e0041d886da64ea5adc59bfbec48a56c",
            "13f682e49b8344b9b2696340126e323f",
            "8dc063306186482d84d59d0c62e08ca0",
            "b1e9f4623470435397b8833f7a2b1924",
            "6895b0af67cb48aabe2200bb898e03ae",
            "7b6abdfa22a346be8b5b126b1ea01f3c",
            "336c7f4b19764f7f857c3eef30284273",
            "68fb033ee6374cc5b6277deb74eb98d9",
            "aa1ccd025ce14d419aa7bef37b69d401",
            "c9e4ea56ef6d4ab2bcf6405e840a0dc9",
            "b4b638d011214b679713d207e5455fcb",
            "4a1d02a2c8414dbf88f5607e3876a109",
            "eecf161ef52c4be5b6d7ba8f98324295",
            "66e5dd5eaba445a583424cf3a9ebd21c",
            "a90bffb913e84d49b888fbc437654b44",
            "dae3d640118e470dbe7bec33d1dbb96e",
            "302e40ed60074daaa946619d6041befd",
            "b89a117bde0343888f983c739e346738",
            "5679e4d99e4643019a878eb5a43267fe",
            "606eef4ef02844f4a4084f5c7d5aea49",
            "e74a58104b974799b9560168a0cca486",
            "6d55ab888c3840628f0e6ffab16679a9",
            "890e01bf987f450590d27b27b933a4fc",
            "d3827be5b43f4241a59e6ac623fe7fe2",
            "b758f55798724a3ea5e877145eb2db7d",
            "3c0d5cd3f15d447b8ece0b4841bdc5a7",
            "f5213f108ce6459a9a299da0634b031f",
            "5e2d5941ff5d47a7b891c18ba3f5d70a",
            "2440cbbd55f94a64ab061cf32b9e9894",
            "510dd5f774134e49b2bd14f93ae120d7",
            "7dcbae8687ad4c60bf36ae05bcc90843",
            "ca089158deae454eac6962bb87b82557",
            "36fc9924835241249d9b8533fb6fae69",
            "0a94fe311d3547abb0295705df02c6ec",
            "f821bc7075d44a538da5373bdb9d799a",
            "5298a88b96e64014951c796d9d7c976a",
            "06d2f74470b94885a41c55a921628798",
            "369da89bd46c4cb88c8c64494279d225",
            "7382005d22474a219484d0bf126f8ac0",
            "845fd9094f554daa8edee76048324966",
            "b62dd53ae8274216a5368c001e5ff698",
            "589ee148a58e4e5c95526fe5bcbce969",
            "2be814f5fb5645059c08779de5ccdb6a",
            "188394d90df44611b15c9c5984e492ce",
            "a6965d969fcb42d49aef551de868a9a5",
            "1486d3b18ac44d73913cb13dd6d000ba",
            "6c828ea2e86b4931928d1cee1ab90de4",
            "ebd99a7b517f42ddb977f44bdff6a1f9",
            "5a83766d59fa489fa411249ea516d6ab",
            "c99e04c307d04956aaa5160d825c7665",
            "c2cefc84c117442c8a9641900790b677",
            "31bf277e4dbb4088930da3def17666b9",
            "1f46e8186256439d9c601c4cf0b35289",
            "c12ba371d2d1446a83114110fb3383a7",
            "ccfadb01800442a49250834b2d65c3b1",
            "edf2251e8ccf43e3abb95bd453b6b132",
            "7c96ce2319dc4e90bee484f20dc94316",
            "c2ce8e16aba44b6aa32b83784d06d2ed",
            "3b23e658ebd941858efba37645e750f2",
            "1ddb7c42142d482fb6d0849a56b06d11",
            "50e1e60468a844bca2f4e42d32c5cab8",
            "766713629daa448b97b3cf5115e4bb94",
            "e7bf9c5150c9460493def03457334a98",
            "cb6ddd755aea463dbbe09b0819ea4250",
            "6a53490778014287a993937b1194728f",
            "9f8046647223443d9d584dea214afede",
            "a7f03c768ede46aeaac2e36bd9cfb489",
            "bbaf3dc4dced41d0b986acf989a7ed63",
            "ece39796707b4df0816603abc04edb3f",
            "af862847efa84a788793128a5c9e2cc8"
          ]
        },
        "outputId": "26b60f37-4e6c-426e-a898-ba4ae2551c0a"
      },
      "execution_count": 20,
      "outputs": [
        {
          "output_type": "display_data",
          "data": {
            "text/plain": [
              "Downloading readme:   0%|          | 0.00/35.3k [00:00<?, ?B/s]"
            ],
            "application/vnd.jupyter.widget-view+json": {
              "version_major": 2,
              "version_minor": 0,
              "model_id": "efa401942cf5493f9b142372fa8c5c20"
            }
          },
          "metadata": {}
        },
        {
          "output_type": "display_data",
          "data": {
            "text/plain": [
              "Downloading data:   0%|          | 0.00/502k [00:00<?, ?B/s]"
            ],
            "application/vnd.jupyter.widget-view+json": {
              "version_major": 2,
              "version_minor": 0,
              "model_id": "6895b0af67cb48aabe2200bb898e03ae"
            }
          },
          "metadata": {}
        },
        {
          "output_type": "display_data",
          "data": {
            "text/plain": [
              "Downloading data:   0%|          | 0.00/151k [00:00<?, ?B/s]"
            ],
            "application/vnd.jupyter.widget-view+json": {
              "version_major": 2,
              "version_minor": 0,
              "model_id": "dae3d640118e470dbe7bec33d1dbb96e"
            }
          },
          "metadata": {}
        },
        {
          "output_type": "display_data",
          "data": {
            "text/plain": [
              "Downloading data:   0%|          | 0.00/114k [00:00<?, ?B/s]"
            ],
            "application/vnd.jupyter.widget-view+json": {
              "version_major": 2,
              "version_minor": 0,
              "model_id": "f5213f108ce6459a9a299da0634b031f"
            }
          },
          "metadata": {}
        },
        {
          "output_type": "display_data",
          "data": {
            "text/plain": [
              "Generating train split:   0%|          | 0/5749 [00:00<?, ? examples/s]"
            ],
            "application/vnd.jupyter.widget-view+json": {
              "version_major": 2,
              "version_minor": 0,
              "model_id": "369da89bd46c4cb88c8c64494279d225"
            }
          },
          "metadata": {}
        },
        {
          "output_type": "display_data",
          "data": {
            "text/plain": [
              "Generating validation split:   0%|          | 0/1500 [00:00<?, ? examples/s]"
            ],
            "application/vnd.jupyter.widget-view+json": {
              "version_major": 2,
              "version_minor": 0,
              "model_id": "5a83766d59fa489fa411249ea516d6ab"
            }
          },
          "metadata": {}
        },
        {
          "output_type": "display_data",
          "data": {
            "text/plain": [
              "Generating test split:   0%|          | 0/1379 [00:00<?, ? examples/s]"
            ],
            "application/vnd.jupyter.widget-view+json": {
              "version_major": 2,
              "version_minor": 0,
              "model_id": "1ddb7c42142d482fb6d0849a56b06d11"
            }
          },
          "metadata": {}
        },
        {
          "output_type": "stream",
          "name": "stdout",
          "text": [
            "DatasetDict({\n",
            "    train: Dataset({\n",
            "        features: ['sentence1', 'sentence2', 'label', 'idx'],\n",
            "        num_rows: 5749\n",
            "    })\n",
            "    validation: Dataset({\n",
            "        features: ['sentence1', 'sentence2', 'label', 'idx'],\n",
            "        num_rows: 1500\n",
            "    })\n",
            "    test: Dataset({\n",
            "        features: ['sentence1', 'sentence2', 'label', 'idx'],\n",
            "        num_rows: 1379\n",
            "    })\n",
            "})\n"
          ]
        }
      ]
    },
    {
      "cell_type": "markdown",
      "source": [
        "Dann können die einzelnen drei Teile des Datensatzes `train`, `validation`, `test` direkt angesprochen werden und wie ein Key eines Dictionarys behandelt werden.\n",
        "\n"
      ],
      "metadata": {
        "id": "sFzN4raPdDF-"
      }
    },
    {
      "cell_type": "code",
      "source": [
        "print(dataset['train'][10])"
      ],
      "metadata": {
        "id": "nXzIL3EIdDef",
        "colab": {
          "base_uri": "https://localhost:8080/"
        },
        "outputId": "13db7602-74a5-4fcf-b0c5-3df0dfbbc933"
      },
      "execution_count": 29,
      "outputs": [
        {
          "output_type": "stream",
          "name": "stdout",
          "text": [
            "{'sentence1': 'The man hit the other man with a stick.', 'sentence2': 'The man spanked the other man with a stick.', 'label': 4.199999809265137, 'idx': 10}\n"
          ]
        }
      ]
    },
    {
      "cell_type": "markdown",
      "source": [
        "Und über diesen Datentypen kann auch iteriert werden. Die Funktion `select(range(10))`dient hier der Auswahl von 10 Beispielen.  "
      ],
      "metadata": {
        "id": "hDj8BHtXha6e"
      }
    },
    {
      "cell_type": "code",
      "source": [
        "for line in dataset['train'].select(range(10)):\n",
        "  print(line)"
      ],
      "metadata": {
        "id": "jyrtsZ7WhdLK",
        "colab": {
          "base_uri": "https://localhost:8080/"
        },
        "outputId": "00ad5418-78f2-4d2c-d5c5-381b9198bc4c"
      },
      "execution_count": 30,
      "outputs": [
        {
          "output_type": "stream",
          "name": "stdout",
          "text": [
            "{'sentence1': 'A plane is taking off.', 'sentence2': 'An air plane is taking off.', 'label': 5.0, 'idx': 0}\n",
            "{'sentence1': 'A man is playing a large flute.', 'sentence2': 'A man is playing a flute.', 'label': 3.799999952316284, 'idx': 1}\n",
            "{'sentence1': 'A man is spreading shreded cheese on a pizza.', 'sentence2': 'A man is spreading shredded cheese on an uncooked pizza.', 'label': 3.799999952316284, 'idx': 2}\n",
            "{'sentence1': 'Three men are playing chess.', 'sentence2': 'Two men are playing chess.', 'label': 2.5999999046325684, 'idx': 3}\n",
            "{'sentence1': 'A man is playing the cello.', 'sentence2': 'A man seated is playing the cello.', 'label': 4.25, 'idx': 4}\n",
            "{'sentence1': 'Some men are fighting.', 'sentence2': 'Two men are fighting.', 'label': 4.25, 'idx': 5}\n",
            "{'sentence1': 'A man is smoking.', 'sentence2': 'A man is skating.', 'label': 0.5, 'idx': 6}\n",
            "{'sentence1': 'The man is playing the piano.', 'sentence2': 'The man is playing the guitar.', 'label': 1.600000023841858, 'idx': 7}\n",
            "{'sentence1': 'A man is playing on a guitar and singing.', 'sentence2': 'A woman is playing an acoustic guitar and singing.', 'label': 2.200000047683716, 'idx': 8}\n",
            "{'sentence1': 'A person is throwing a cat on to the ceiling.', 'sentence2': 'A person throws a cat on the ceiling.', 'label': 5.0, 'idx': 9}\n"
          ]
        }
      ]
    },
    {
      "cell_type": "markdown",
      "source": [
        "👋 ⚒ **Aufgaben** 👋 ⚒ <br>\n",
        "Berechnen Sie die Kosinus-Ähnlichkeit auf den ersten 10 Beispielen auf dem Datensatz und vergleichen Sie wie weit der Wert vom Goldstandard im Datensatz ist. Achtung: Der Goldstandard liegt im Wertebereich von 0 (vollkommen unterschiedlich) bis zu 5 (inhaltlich äquivalent).  "
      ],
      "metadata": {
        "id": "sinXnrzehtAs"
      }
    },
    {
      "cell_type": "code",
      "source": [
        "# Fügen Sie hier Ihren Code hier ein\n",
        "for line in dataset['train'].select(range(10)):\n",
        "  doc1_sts = nlp(line[\"sentence1\"])\n",
        "  doct2_sts = nlp(line[\"sentence2\"])\n",
        "\n",
        "  similarity = doc1_sts.similarity(doct2_sts)\n",
        "  glue_sim = line[\"label\"]\n",
        "  print(line[\"sentence1\"], line[\"sentence2\"])\n",
        "  print(similarity, glue_sim)\n"
      ],
      "metadata": {
        "id": "JJNwgxGYjWaM",
        "colab": {
          "base_uri": "https://localhost:8080/"
        },
        "outputId": "f03e8164-f196-49a0-b9a4-29dae504c810"
      },
      "execution_count": 41,
      "outputs": [
        {
          "output_type": "stream",
          "name": "stdout",
          "text": [
            "A plane is taking off. An air plane is taking off.\n",
            "0.9231937196328954 5.0\n",
            "A man is playing a large flute. A man is playing a flute.\n",
            "0.9461598569757113 3.799999952316284\n",
            "A man is spreading shreded cheese on a pizza. A man is spreading shredded cheese on an uncooked pizza.\n",
            "0.9431200892939484 3.799999952316284\n",
            "Three men are playing chess. Two men are playing chess.\n",
            "0.9889959511973437 2.5999999046325684\n",
            "A man is playing the cello. A man seated is playing the cello.\n",
            "0.8987378067993862 4.25\n",
            "Some men are fighting. Two men are fighting.\n",
            "0.888563850953388 4.25\n",
            "A man is smoking. A man is skating.\n",
            "0.9655664610940068 0.5\n",
            "The man is playing the piano. The man is playing the guitar.\n",
            "0.9580573140421392 1.600000023841858\n",
            "A man is playing on a guitar and singing. A woman is playing an acoustic guitar and singing.\n",
            "0.919173429100247 2.200000047683716\n",
            "A person is throwing a cat on to the ceiling. A person throws a cat on the ceiling.\n",
            "0.891119146577079 5.0\n"
          ]
        },
        {
          "output_type": "stream",
          "name": "stderr",
          "text": [
            "<ipython-input-41-682996a1f775>:6: UserWarning: [W007] The model you're using has no word vectors loaded, so the result of the Doc.similarity method will be based on the tagger, parser and NER, which may not give useful similarity judgements. This may happen if you're using one of the small models, e.g. `en_core_web_sm`, which don't ship with word vectors and only use context-sensitive tensors. You can always add your own word vectors, or use one of the larger models instead if available.\n",
            "  similarity = doc1_sts.similarity(doct2_sts)\n"
          ]
        }
      ]
    }
  ]
}