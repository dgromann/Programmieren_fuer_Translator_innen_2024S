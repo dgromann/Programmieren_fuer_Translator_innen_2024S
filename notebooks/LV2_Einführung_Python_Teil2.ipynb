{
  "nbformat": 4,
  "nbformat_minor": 0,
  "metadata": {
    "colab": {
      "provenance": [],
      "authorship_tag": "ABX9TyNlMPN+j723DoxT51yTOK33",
      "include_colab_link": true
    },
    "kernelspec": {
      "name": "python3",
      "display_name": "Python 3"
    },
    "language_info": {
      "name": "python"
    }
  },
  "cells": [
    {
      "cell_type": "markdown",
      "metadata": {
        "id": "view-in-github",
        "colab_type": "text"
      },
      "source": [
        "<a href=\"https://colab.research.google.com/github/dgromann/Programmieren_fuer_Translator_innen_2024S/blob/main/notebooks/LV2_Einf%C3%BChrung_Python_Teil2.ipynb\" target=\"_parent\"><img src=\"https://colab.research.google.com/assets/colab-badge.svg\" alt=\"Open In Colab\"/></a>"
      ]
    },
    {
      "cell_type": "markdown",
      "source": [
        "# **2024S: Einführung ins Programmieren für Translator:innen, Übung (UE), 340273-1**\n",
        "\n"
      ],
      "metadata": {
        "id": "ZFnaUInsMcfD"
      }
    },
    {
      "cell_type": "markdown",
      "source": [
        "### **Speichern Sie dieses Notebook**\n",
        "\n",
        "Dieses Notebook können Sie jederzeit und in jedem Browser erneut von GitHub (bzw. dem direkten Link in Moodle) öffnen. Um jedoch Ihre eigenen Lösungen und Ihren Code zu speichern, wählen Sie bitte **Datei** bzw. **File** und eine der Speicheroptionen. Die einfachste Speicheroption ist in Google Drive, da dadurch Änderungen im Notebook automatisch im Hintergrund gespeichert werden.\n",
        "\n",
        "Für die Abgabe der praktischen Übungen müssen Sie jedoch das Jupyter-Notebook als .ipynb Datei herunterladen. Dazu klicken Sie auf **Datei** oder **File** und **Herunterladen** oder **Download** und wählen das Format .ipynb aus."
      ],
      "metadata": {
        "id": "4V4rO3rAMl5E"
      }
    },
    {
      "cell_type": "markdown",
      "source": [
        "### **Notation des Notebooks**\n",
        "\n",
        "Fragen und praktische Aufgaben werden hier als ❓**Frage**❓ bzw. 👋 ⚒ **Aufgabe** 👋 ⚒ gekennzeichnet. ❓**Fragen**❓ fordern Sie dazu auf Überlegungen anzustellen bevor Sie etwas praktisch testen. 👋 ⚒ **Aufgaben** 👋 ⚒ erfordern das aktive Schreiben von Code in der grauen Code-Zelle nach der Beschreibung der Aufgabe.\n"
      ],
      "metadata": {
        "id": "3oFTRxflMmWR"
      }
    },
    {
      "cell_type": "markdown",
      "source": [
        "-----------\n",
        "\n",
        "## **Lektion 3: Bedingungen**\n",
        "\n",
        "Die sogenannte `if`-Anweisung überprüft ob eine Bedingung erfüllt wird. Die Bedingung steht in derselben Zeile nach dem `if`. Alle Zeilen die nach der Zeile mit dem `if` angeführt sind werden nur ausgegeben wenn die if-Bedingung erfüllt ist."
      ],
      "metadata": {
        "id": "PhoDJeplQU5L"
      }
    },
    {
      "cell_type": "code",
      "execution_count": null,
      "metadata": {
        "id": "hNE5MU_PMT1K"
      },
      "outputs": [],
      "source": [
        "if 10 < 20:\n",
        "  print(\"Ja, 10 ist kleiner als 20.\")"
      ]
    },
    {
      "cell_type": "markdown",
      "source": [
        "Die `if`-Anweisung kann auch mit Strings verwendet werden. Im folgenden Beispiel wird auch gezeigt wie Sie überprüfen ob ein String in einem anderen String enthalten ist und wie Sie Anführungszeichen tatsächlich als Bestandteil des Strings ausgeben können."
      ],
      "metadata": {
        "id": "_OhnCdA1SIOX"
      }
    },
    {
      "cell_type": "code",
      "source": [
        "if \"t\" in \"test\":\n",
        "  print(\"Ja, das Wort test enthält den Buchstaben \\\"t\\\".\")"
      ],
      "metadata": {
        "id": "PyVdPxPHSZjl"
      },
      "execution_count": null,
      "outputs": []
    },
    {
      "cell_type": "markdown",
      "source": [
        "Auf die gleiche Weise kann überprüft werden ob ein Element in einer Liste ist.\n",
        "\n",
        "❓**Frage**❓ <br>\n",
        "Welche der folgenden Zeilen wird ausgegeben und welche nicht?"
      ],
      "metadata": {
        "id": "FzbokoqNSxte"
      }
    },
    {
      "cell_type": "code",
      "source": [
        "if \"apple\" in [\"kiwi\", \"banana\", \"orange\", \"apple\"]:\n",
        "  print(\"Ja, die Liste enthält das Element \\\"apple\\\".\")\n",
        "\n",
        "if \"kiw\" in [\"kiwi\", \"banana\", \"orange\", \"apple\"]:\n",
        "  print(\"Ja, die Liste enthält das Element \\\"kiw\\\".\")\n",
        "\n",
        "if 1.1 in [1, 2.0, 3.4, 4, 5]:\n",
        "  print(\"Ja, die Liste enthält das Element 1.1\")\n",
        "\n",
        "if 1 in [1, 2.0, 3.4, 4, 5]:\n",
        "  print(\"Ja, die Liste enthält das Element 1\")\n",
        "\n",
        "print(\"Nicht alle Zeilen werden ausgegeben.\")"
      ],
      "metadata": {
        "id": "wlo7VamLS2v3"
      },
      "execution_count": null,
      "outputs": []
    },
    {
      "cell_type": "markdown",
      "source": [
        "Bedingungen können mit `and` in einer Zeile kombiniert werden. Dann ist das Ergebnis nur wahr und der Code nach der `if`-Anweisung wird nur ausgeführt wenn beide Bedingungen rechts und links von `and` zutreffen."
      ],
      "metadata": {
        "id": "F2O4VgXpaDMk"
      }
    },
    {
      "cell_type": "code",
      "source": [
        "age = 22\n",
        "\n",
        "if age > 18 and age < 65:\n",
        "  discount = 5\n",
        "  print(\"Der Rabatt beträgt\", discount, \"Prozent\")"
      ],
      "metadata": {
        "id": "2kHSz48eaW8Y"
      },
      "execution_count": null,
      "outputs": []
    },
    {
      "cell_type": "markdown",
      "source": [
        "Es kann mit `or` in einer Zeile überprüft werden, ob eine von zwei Bedinungen zutrifft. Nur wenn eine der beiden Bedingungen zutrifft, wird der Code ausgeführt.\n"
      ],
      "metadata": {
        "id": "fk27UHzRaQC8"
      }
    },
    {
      "cell_type": "code",
      "source": [
        "age = 16\n",
        "\n",
        "if age < 18 or age > 65:\n",
        "  discount = 20\n",
        "  print(\"Der Rabatt beträgt\", discount, \"Prozent\")"
      ],
      "metadata": {
        "id": "U_xIbUgSfzY_"
      },
      "execution_count": null,
      "outputs": []
    },
    {
      "cell_type": "markdown",
      "source": [
        "👋 ⚒ **Aufgabe** 👋 ⚒ <br>\n",
        "Überprüfen Sie mithilfe von einer Bedingung ob das folgende Wort die Buchstabenfolgen `un` und `lich` beinhalten."
      ],
      "metadata": {
        "id": "6vUV_c5Fgq5W"
      }
    },
    {
      "cell_type": "code",
      "source": [
        "my_word = \"unheimlich\"\n",
        "\n",
        "# Fügen Sie hier Ihren Code hier ein\n",
        "if\n",
        "  print(\"Ja, das Wort enthält sowohl \\\"un\\\" als auch \\\"lich\\\".\")"
      ],
      "metadata": {
        "id": "AQUlGTCTgr_R"
      },
      "execution_count": null,
      "outputs": []
    },
    {
      "cell_type": "markdown",
      "source": [
        "Es können auch mehrere `if`-Anweisungen ineinander verschachtelt werden, indem die Zeilen eingerückt werden.\n",
        "\n",
        "❓**Frage**❓ <br>\n",
        "Wird in der folgenden Code-Zelle überhaupt ein Rabatt gewährt und wenn ja, wie hoch ist dieser?"
      ],
      "metadata": {
        "id": "LmuzbrofUDoh"
      }
    },
    {
      "cell_type": "code",
      "source": [
        "name = \"Max Mustermann\"\n",
        "age = 16\n",
        "customer_list = [\"Max Mustermann\", \"Hans Meier\", \"Tom Tester\", \"Susanne Schmidt\", \"Felix Faux\"]\n",
        "discount = 0\n",
        "\n",
        "if name in customer_list:\n",
        "  print(\"Es handelt sich um einen bestehenden Kunden.\")\n",
        "\n",
        "  if age > 18 and age < 65:\n",
        "    discount =  5\n",
        "\n",
        "  if age < 18 or age > 65:\n",
        "    discount = 20\n",
        "\n",
        "  print(\"Der Rabatt beträgt\", discount, \"Prozent\")\n",
        ""
      ],
      "metadata": {
        "id": "Wgolw3IbVDlu"
      },
      "execution_count": null,
      "outputs": []
    },
    {
      "cell_type": "markdown",
      "source": [
        "👋 ⚒ **Aufgabe** 👋 ⚒ <br>\n",
        "Wie kann die Bedingung angepasst werden, um zu überprüfen ob der Wert der Variable genau einem Zielwert entspricht?  "
      ],
      "metadata": {
        "id": "XO8bLsFWivFm"
      }
    },
    {
      "cell_type": "code",
      "source": [
        "age = 16\n",
        "\n",
        "# Fügen Sie hier Ihren Code hier ein\n",
        "if\n",
        "  print(\"Ja, das Alter ist exak 16.\")"
      ],
      "metadata": {
        "id": "iNDCr6O3jF2v"
      },
      "execution_count": null,
      "outputs": []
    },
    {
      "cell_type": "markdown",
      "source": [
        "Jetzt wissen Sie wie `if`-Anweisungen verwendet werden können. Manchmal wollen wir aber einem Pfad folgen, wenn die Bedingung erfüllt wird und einem anderen, wenn die Bedingung nicht erfüllt wird.\n",
        "\n",
        "❓**Frage**❓ <br>\n",
        "Wie muss die Variable `age` angepasst werden, damit der Code nach `else` ausgeführt wird?"
      ],
      "metadata": {
        "id": "GfQKp6b1jOYa"
      }
    },
    {
      "cell_type": "code",
      "source": [
        "age = 15\n",
        "\n",
        "print(\"Das Alter ist\", age)\n",
        "if age < 16:\n",
        "  print(\"Die Person darf noch nicht wählen.\")\n",
        "else:\n",
        "  print(\"Die Person darf wählen.\")"
      ],
      "metadata": {
        "id": "STMrkHIGjwsE"
      },
      "execution_count": null,
      "outputs": []
    },
    {
      "cell_type": "markdown",
      "source": [
        "## **Lektion 4: `for`-Schleifen**\n",
        "\n",
        "\n",
        "Eine `for`-Schleife iteriert über jede Form der Folge von Zeichen, Listen, Sätzen bis zu komplexeren Datentypen. Zum Beispiel:\n"
      ],
      "metadata": {
        "id": "XHpBpKWjkzfx"
      }
    },
    {
      "cell_type": "code",
      "source": [
        "# Beispiel String\n",
        "my_string = \"banana\"\n",
        "for element in my_string:\n",
        "  print(element)"
      ],
      "metadata": {
        "id": "Ck2dcyp_mUCt"
      },
      "execution_count": null,
      "outputs": []
    },
    {
      "cell_type": "markdown",
      "source": [
        "❓**Frage**❓ <br>\n",
        "Was denken Sie passiert wenn Sie die Zeile `print(\"Jedes Listenelement einzeln\")` innerhalb der`for`-Schleife ausgeben?"
      ],
      "metadata": {
        "id": "v0krkc30myvU"
      }
    },
    {
      "cell_type": "code",
      "source": [
        "# Beispiel Liste\n",
        "my_list = [\"kiwi\", \"banana\", \"orange\", \"apple\"]\n",
        "print(\"Gesamte Liste\", my_list)\n",
        "print(\"Jedes Listenelement einzeln\")\n",
        "for element in my_list:\n",
        "  print(element)"
      ],
      "metadata": {
        "id": "mEI2iSsWmXaY"
      },
      "execution_count": null,
      "outputs": []
    },
    {
      "cell_type": "markdown",
      "source": [
        "👋 ⚒ **Aufgabe** 👋 ⚒ <br>\n",
        "Wie kann jedes einzelne Wort im folgenden Satz extra ausgegeben werden?\n",
        "\n"
      ],
      "metadata": {
        "id": "vez5AT_hnoxJ"
      }
    },
    {
      "cell_type": "code",
      "source": [
        "my_sentence = \"I went to the bank to deposit my money\"\n",
        "\n",
        "# Fügen Sie hier Ihren Code hier ein"
      ],
      "metadata": {
        "id": "6ruHUd_nno-n"
      },
      "execution_count": null,
      "outputs": []
    },
    {
      "cell_type": "markdown",
      "source": [
        "Schleifen können auch mit Bedingungen kombiniert werden können.\n",
        "\n",
        "👋 ⚒ **Aufgabe** 👋 ⚒ <br>\n",
        "Geben Sie nur Wörter aus dem folgenden Satz aus, die mit dem Buchstaben \"m\" beginnen.  "
      ],
      "metadata": {
        "id": "35apjCGRoSEA"
      }
    },
    {
      "cell_type": "code",
      "source": [
        "my_sentence = \"I went to the bank to deposit my money\"\n",
        "\n",
        "# Fügen Sie hier Ihren Code hier ein"
      ],
      "metadata": {
        "id": "bzV7I1-Box9R"
      },
      "execution_count": null,
      "outputs": []
    },
    {
      "cell_type": "markdown",
      "source": [
        "Wenn Sie einen Satz, der aus einem String besteht, in eine Liste konvertiert haben, können Sie mithilfe von `set()` alle doppelt enthaltenen Elemente entfernen (deduplizieren)."
      ],
      "metadata": {
        "id": "4M3FiX_ApAjT"
      }
    },
    {
      "cell_type": "code",
      "source": [
        "my_sentence = \"Fischers Fritz fischt frische Fische, frische Fische fischt Fischers Fritz\"\n",
        "print(\"Der Satz: \", my_sentence)\n",
        "\n",
        "my_sentence_as_list = my_sentence.split()\n",
        "print(\"Als Liste: \", my_sentence_as_list)\n",
        "\n",
        "my_sentence_as_set = set(my_sentence_as_list)\n",
        "print(\"Als Set:\", my_sentence_as_set)"
      ],
      "metadata": {
        "id": "egE8394dp2BK"
      },
      "execution_count": null,
      "outputs": []
    },
    {
      "cell_type": "markdown",
      "source": [
        "Wenn Sie überprüfen möchten wieviele Elemente in zwei Listen übereinstimmen, können Sie das mit zwei `for`-Schleifen und einer Bedingung überprüfen.  Alternativ kann dafür die Funktion `intersection` verwendet, welche jedoch nur für ein `set` verfügbar ist.  "
      ],
      "metadata": {
        "id": "0YD6MyE_ryzC"
      }
    },
    {
      "cell_type": "code",
      "source": [
        "sentence1 = \"I went to the bank to deposit my money\"\n",
        "sentence2 = \"a bank is a financial institution that accepts deposits and channels the money into lending activities\"\n",
        "\n",
        "list1 = sentence1.split()\n",
        "list2 = sentence2.split()\n",
        "\n",
        "# Variante mit Schleifen und Bedingung\n",
        "overlap = []\n",
        "for elements1 in list1:\n",
        "  for elements2 in list2:\n",
        "    if elements1 == elements2:\n",
        "      overlap.append(elements1)\n",
        "print(overlap)\n",
        "\n",
        "#Variante mit intersection\n",
        "faster_overlap = set(list1).intersection(list2)\n",
        "print(faster_overlap)"
      ],
      "metadata": {
        "id": "UZBs8MnqsJp8"
      },
      "execution_count": null,
      "outputs": []
    },
    {
      "cell_type": "markdown",
      "source": [
        "👋 ⚒ **Aufgabe** 👋 ⚒ <br>\n",
        "Kombinieren Sie die Wörter aus `sentence1` mit den Elementen aus `list1`und die Wörter aus `sentence2`mit den Elementen aus `list2` (mit `+` oder `extend()`) und überprüfen Sie ob die resultierenden Listen mehr als drei übereinstimmende Elemente haben.  "
      ],
      "metadata": {
        "id": "GRS_bybrvW9K"
      }
    },
    {
      "cell_type": "code",
      "source": [
        "sentence1 = \"I have worked as a plant, where the audience had no idea I was acting\"\n",
        "sentence2 = \"an actor situated in the audience whose acting is rehearsed but seems spontaneous to the audience\"\n",
        "\n",
        "list1 = [\"actor\", \"spontaneous\"]\n",
        "list2 = [\"plant\"]"
      ],
      "metadata": {
        "id": "uzO4xSV0u2Lj"
      },
      "execution_count": null,
      "outputs": []
    },
    {
      "cell_type": "markdown",
      "source": [
        "## **Lektion 5: Pandas Teil 1**\n",
        "\n"
      ],
      "metadata": {
        "id": "JBPdQ1ewzdHc"
      }
    },
    {
      "cell_type": "markdown",
      "source": [
        "[Pandas](https://pandas.pydata.org/) ist eine Programmbibliothek in Python für Analyse, Darstellung und Verarbeitung von Daten. Um die Bibliothek zu verwenden, muss Sie wieder mit `import` importiert werden. Für unsere ersten Schritte in Pandas verwenden wir die Beispieldateien in Google Colab.\n",
        "\n",
        "Klicken Sie das Ordnersymbol in der rechten Leiste des Browsers und öffnen Sie durch einen Klick den Ordner \"sample_data\". Wir laden als Beispiel die Datei `california_housing_train.csv` mithilfe von Pandas. Dazu muss für die Datei der richtige Pfad angegeben werden, also die genaue Information auf welchem Laufwerk, in welchem Ordner und Unterordner sich die Datei befindet. Wenn Sie die Datei rechts markieren und auf die drei Punkte klicken, finden Sie die Option \"Copy path\"."
      ],
      "metadata": {
        "id": "Ng8EnZKazokT"
      }
    },
    {
      "cell_type": "code",
      "source": [
        "import pandas as pd\n",
        "\n",
        "file = \"/content/sample_data/california_housing_train.csv\"\n",
        "\n",
        "dataframe = pd.read_csv(file)"
      ],
      "metadata": {
        "id": "-UCRWV6dzmNr"
      },
      "execution_count": null,
      "outputs": []
    },
    {
      "cell_type": "markdown",
      "source": [
        "Pandas besteht ähnlich einer Tabelle aus Spalten und Indizes."
      ],
      "metadata": {
        "id": "2IryMgJ62bD8"
      }
    },
    {
      "cell_type": "code",
      "source": [
        "print(dataframe.columns)\n",
        "\n",
        "for column in dataframe.columns:\n",
        "  print(column)\n",
        "\n",
        "print(dataframe.index)"
      ],
      "metadata": {
        "id": "wvv__kkX2hHm"
      },
      "execution_count": null,
      "outputs": []
    },
    {
      "cell_type": "markdown",
      "source": [
        "Pandas verfügt über Funktionen nur die obersten oder untersten Reihen auszugeben, was besonders für sehr große Dateien hilfreich ist."
      ],
      "metadata": {
        "id": "ITc-yR3m3hOJ"
      }
    },
    {
      "cell_type": "code",
      "source": [
        "print(\"Die obersten fünf Reihen\")\n",
        "print(dataframe.head())\n",
        "print()\n",
        "\n",
        "print(\"Die untersten zehn Reihen\")\n",
        "print(dataframe.tail(10))"
      ],
      "metadata": {
        "id": "c0kVFm5M36Xb"
      },
      "execution_count": null,
      "outputs": []
    },
    {
      "cell_type": "markdown",
      "source": [
        "Pandas bietet auch eine Funktion um einen raschen statistischen Überblick über numerische Tabellen zu ermöglichen."
      ],
      "metadata": {
        "id": "k1C7K0u08WSu"
      }
    },
    {
      "cell_type": "code",
      "source": [
        "print(dataframe.describe())"
      ],
      "metadata": {
        "id": "F521h_qS8SMf"
      },
      "execution_count": null,
      "outputs": []
    },
    {
      "cell_type": "markdown",
      "source": [
        "Es kann auch nur eine bestimmte Spalte oder eine bestimmte Anzahl von Zeilen ausgegeben werden, ebenso wie eine bestimmte Anzahl von Zeilen einer bestimmten Spalte."
      ],
      "metadata": {
        "id": "mN6sqRM54sgm"
      }
    },
    {
      "cell_type": "code",
      "source": [
        "print(dataframe[\"median_income\"])\n",
        "print()\n",
        "\n",
        "print(dataframe[:10])"
      ],
      "metadata": {
        "id": "adiBHBvF42BO"
      },
      "execution_count": null,
      "outputs": []
    },
    {
      "cell_type": "code",
      "source": [
        "print(dataframe[\"median_income\"][:10])"
      ],
      "metadata": {
        "id": "ni7EjUGv7FD5"
      },
      "execution_count": null,
      "outputs": []
    },
    {
      "cell_type": "markdown",
      "source": [
        "Mithilfe der Funktion `loc` kann direkt eine bestimmter Index angesprochen werden."
      ],
      "metadata": {
        "id": "NRb5o402-e0i"
      }
    },
    {
      "cell_type": "code",
      "source": [
        "print(dataframe.loc[0])"
      ],
      "metadata": {
        "id": "HEugX1Di98Wn"
      },
      "execution_count": null,
      "outputs": []
    },
    {
      "cell_type": "markdown",
      "source": [
        "👋 ⚒ **Aufgabe** 👋 ⚒ <br>\n",
        "Geben Sie die ersten drei Reihen der Spalte \"total_rooms\" aus."
      ],
      "metadata": {
        "id": "E-uaBI1c42wG"
      }
    },
    {
      "cell_type": "code",
      "source": [
        "# Fügen Sie hier Ihren Code hier ein"
      ],
      "metadata": {
        "id": "xyBauHhR-Zgr"
      },
      "execution_count": null,
      "outputs": []
    }
  ]
}